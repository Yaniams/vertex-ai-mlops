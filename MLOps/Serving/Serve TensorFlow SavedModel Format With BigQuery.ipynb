{
 "cells": [
  {
   "cell_type": "markdown",
   "id": "f122f911",
   "metadata": {},
   "source": [
    "![tracker](https://us-central1-vertex-ai-mlops-369716.cloudfunctions.net/pixel-tracking?path=statmike%2Fvertex-ai-mlops%2FMLOps%2FServing&file=Serve+TensorFlow+SavedModel+Format+With+BigQuery.ipynb)\n",
    "<!--- header table --->\n",
    "<table align=\"left\">\n",
    "  <td style=\"text-align: center\">\n",
    "    <a href=\"https://colab.research.google.com/github/statmike/vertex-ai-mlops/blob/main/MLOps/Serving/Serve%20TensorFlow%20SavedModel%20Format%20With%20BigQuery.ipynb\">\n",
    "      <img src=\"https://cloud.google.com/ml-engine/images/colab-logo-32px.png\" alt=\"Google Colaboratory logo\">\n",
    "      <br>Run in<br>Colab\n",
    "    </a>\n",
    "  </td>\n",
    "  <td style=\"text-align: center\">\n",
    "    <a href=\"https://console.cloud.google.com/vertex-ai/colab/import/https%3A%2F%2Fraw.githubusercontent.com%2Fstatmike%2Fvertex-ai-mlops%2Fmain%2FMLOps%2FServing%2FServe%2520TensorFlow%2520SavedModel%2520Format%2520With%2520BigQuery.ipynb\">\n",
    "      <img width=\"32px\" src=\"https://lh3.googleusercontent.com/JmcxdQi-qOpctIvWKgPtrzZdJJK-J3sWE1RsfjZNwshCFgE_9fULcNpuXYTilIR2hjwN\" alt=\"Google Cloud Colab Enterprise logo\">\n",
    "      <br>Run in<br>Colab Enterprise\n",
    "    </a>\n",
    "  </td>      \n",
    "  <td style=\"text-align: center\">\n",
    "    <a href=\"https://github.com/statmike/vertex-ai-mlops/blob/main/MLOps/Serving/Serve%20TensorFlow%20SavedModel%20Format%20With%20BigQuery.ipynb\">\n",
    "      <img src=\"https://cloud.google.com/ml-engine/images/github-logo-32px.png\" alt=\"GitHub logo\">\n",
    "      <br>View on<br>GitHub\n",
    "    </a>\n",
    "  </td>\n",
    "  <td style=\"text-align: center\">\n",
    "    <a href=\"https://console.cloud.google.com/vertex-ai/workbench/deploy-notebook?download_url=https://raw.githubusercontent.com/statmike/vertex-ai-mlops/main/MLOps/Serving/Serve%20TensorFlow%20SavedModel%20Format%20With%20BigQuery.ipynb\">\n",
    "      <img src=\"https://lh3.googleusercontent.com/UiNooY4LUgW_oTvpsNhPpQzsstV5W8F7rYgxgGBD85cWJoLmrOzhVs_ksK_vgx40SHs7jCqkTkCk=e14-rj-sc0xffffff-h130-w32\" alt=\"Vertex AI logo\">\n",
    "      <br>Open in<br>Vertex AI Workbench\n",
    "    </a>\n",
    "  </td>\n",
    "</table>"
   ]
  },
  {
   "cell_type": "markdown",
   "id": "30cba717-4026-4176-b22a-fa3800a73be4",
   "metadata": {},
   "source": [
    "# Serve TensorFlow SavedModel Format With BigQuery\n",
    "\n",
    "Serve model predictions inside BigQuery for [TensorFlow SavedModel](https://www.tensorflow.org/guide/saved_model) format.\n",
    "\n",
    "BigQuery has a vast set of capabilities related to ML known as BigQuery ML (or BQML for short).\n",
    "- [BigQuery ML](https://cloud.google.com/bigquery/docs/bqml-introduction)\n",
    "- [BigQuery ML user journey for models](https://cloud.google.com/bigquery/docs/e2e-journey)\n",
    "\n",
    "> For many workflow examples with BigQuery ML check out the [Framework Workflows/BQML](../../Framework%20Workflows/BQML/readme.md) folder in this repository!\n",
    "\n",
    "With these capabilities you can train models directly in BigQuery, import model files for serving inside BigQuery, or connect to remote models for use from BigQuery.\n",
    "\n",
    "This workflow focuses on importing a model, specifically a TensorFlow SavedModel format model as covered in [this documentation page](https://cloud.google.com/bigquery/docs/reference/standard-sql/bigqueryml-syntax-create-tensorflow). \n",
    "\n",
    "There are limits to cover prior to getting started:\n",
    "- not all BigQuery ML functions will work with imported models\n",
    "- Models are limited to sizes under 450MB\n",
    "- Model files must be in GCS, int he SavedModel format, use a GraphDef version of atleast 20, only use core TensorFlow operation (no tf.contrib operations), no RaggedTensors\n",
    "- see a [full list here](https://cloud.google.com/bigquery/docs/reference/standard-sql/bigqueryml-syntax-create-tensorflow#limitations)\n",
    "\n",
    "What this workflow does:\n",
    "- Prepare the TensorFlow SavedModel files created in this repository by another workflow: [Keras With TensorFlow Overview](../../Framework%20Workflows/Keras/Keras%20With%20TensorFlow%20Overview.ipynb)\n",
    "- Setup BigQuery Dataset\n",
    "- Create Models with the imported model files\n",
    "- Serve predictions with `ML.PREDICT` function"
   ]
  },
  {
   "cell_type": "markdown",
   "id": "7d5cf661-e0d6-424a-8f91-7c464c99d4c5",
   "metadata": {
    "id": "od_UkDpvRmgD"
   },
   "source": [
    "---\n",
    "## Colab Setup\n",
    "\n",
    "When running this notebook in [Colab](https://colab.google/) or [Colab Enterprise](https://cloud.google.com/colab/docs/introduction), this section will authenticate to GCP (follow prompts in the popup) and set the current project for the session."
   ]
  },
  {
   "cell_type": "code",
   "execution_count": 6,
   "id": "6bc7fec0-3888-48f3-bfa9-49f5b70f3ed5",
   "metadata": {
    "executionInfo": {
     "elapsed": 195,
     "status": "ok",
     "timestamp": 1683726184843,
     "user": {
      "displayName": "Mike Henderson",
      "userId": "07691629187611687318"
     },
     "user_tz": 240
    },
    "id": "8UO9FnqyKBlF",
    "tags": []
   },
   "outputs": [],
   "source": [
    "PROJECT_ID = 'statmike-mlops-349915' # replace with project ID"
   ]
  },
  {
   "cell_type": "code",
   "execution_count": 7,
   "id": "c408e9ef-2536-414a-b17e-72a825f14cd9",
   "metadata": {
    "colab": {
     "base_uri": "https://localhost:8080/"
    },
    "executionInfo": {
     "elapsed": 68869,
     "status": "ok",
     "timestamp": 1683726253709,
     "user": {
      "displayName": "Mike Henderson",
      "userId": "07691629187611687318"
     },
     "user_tz": 240
    },
    "id": "N98-KK7LRkjm",
    "outputId": "09ec5008-0def-4e1a-c349-c598ee752f78",
    "tags": []
   },
   "outputs": [],
   "source": [
    "try:\n",
    "    from google.colab import auth\n",
    "    auth.authenticate_user()\n",
    "    !gcloud config set project {PROJECT_ID}\n",
    "except Exception:\n",
    "    pass"
   ]
  },
  {
   "cell_type": "markdown",
   "id": "9aa0d5dd-9f76-45bf-9810-09786d905264",
   "metadata": {},
   "source": [
    "---\n",
    "## Installs and API Enablement\n",
    "\n",
    "The clients packages may need installing in this environment. "
   ]
  },
  {
   "cell_type": "markdown",
   "id": "a6904753-9788-4c71-8b46-5a3070b9aacb",
   "metadata": {},
   "source": [
    "### Installs (If Needed)"
   ]
  },
  {
   "cell_type": "code",
   "execution_count": 8,
   "id": "7bad5fe5-ec6a-4d1c-943e-a6702177ae6e",
   "metadata": {
    "tags": []
   },
   "outputs": [],
   "source": [
    "# tuples of (import name, install name, min_version)\n",
    "packages = [\n",
    "    ('google.cloud.bigquery', 'google-cloud-bigquery'),\n",
    "    ('google.cloud.storage', 'google-cloud-storage'),\n",
    "    ('numpy', 'numpy'),\n",
    "    ('tensorflow', 'tensorflow'),\n",
    "]\n",
    "\n",
    "import importlib\n",
    "install = False\n",
    "for package in packages:\n",
    "    if not importlib.util.find_spec(package[0]):\n",
    "        print(f'installing package {package[1]}')\n",
    "        install = True\n",
    "        !pip install {package[1]} -U -q --user\n",
    "    elif len(package) == 3:\n",
    "        if importlib.metadata.version(package[0]) < package[2]:\n",
    "            print(f'updating package {package[1]}')\n",
    "            install = True\n",
    "            !pip install {package[1]} -U -q --user"
   ]
  },
  {
   "cell_type": "markdown",
   "id": "321d650c-aade-4a33-8564-947e8fcec254",
   "metadata": {},
   "source": [
    "### API Enablement"
   ]
  },
  {
   "cell_type": "code",
   "execution_count": 9,
   "id": "75802b90-082d-4fca-b7df-0016202ed4b6",
   "metadata": {
    "tags": []
   },
   "outputs": [],
   "source": [
    "!gcloud services enable aiplatform.googleapis.com"
   ]
  },
  {
   "cell_type": "markdown",
   "id": "dda7db42-c2ad-4f4a-bc74-c32dabb2b405",
   "metadata": {},
   "source": [
    "### Restart Kernel (If Installs Occured)\n",
    "\n",
    "After a kernel restart the code submission can start with the next cell after this one."
   ]
  },
  {
   "cell_type": "code",
   "execution_count": 10,
   "id": "e76a7882-5d4b-4158-a213-62b0d5ad13f1",
   "metadata": {
    "tags": []
   },
   "outputs": [],
   "source": [
    "if install:\n",
    "    import IPython\n",
    "    app = IPython.Application.instance()\n",
    "    app.kernel.do_shutdown(True)\n",
    "    IPython.display.display(IPython.display.Markdown(\"\"\"<div class=\\\"alert alert-block alert-warning\\\">\n",
    "        <b>⚠️ The kernel is going to restart. Please wait until it is finished before continuing to the next step. The previous cells do not need to be run again⚠️</b>\n",
    "        </div>\"\"\"))"
   ]
  },
  {
   "cell_type": "markdown",
   "id": "b28ddf77-ea97-4703-8db8-60d009a63e50",
   "metadata": {
    "id": "appt8-yVRtJ1"
   },
   "source": [
    "---\n",
    "## Setup"
   ]
  },
  {
   "cell_type": "markdown",
   "id": "92101d5e-20ee-4c3c-9d68-5327b5808ecd",
   "metadata": {
    "id": "63mx2EozRxFP"
   },
   "source": [
    "Inputs"
   ]
  },
  {
   "cell_type": "code",
   "execution_count": 11,
   "id": "fa208e98-2849-4d5a-aaff-9fc8f864b7c0",
   "metadata": {
    "colab": {
     "base_uri": "https://localhost:8080/",
     "height": 35
    },
    "executionInfo": {
     "elapsed": 2124,
     "status": "ok",
     "timestamp": 1683726390544,
     "user": {
      "displayName": "Mike Henderson",
      "userId": "07691629187611687318"
     },
     "user_tz": 240
    },
    "id": "xzcoXjM5Rky5",
    "outputId": "b3bdcbc1-70d5-472e-aea2-42c74a42efde",
    "tags": []
   },
   "outputs": [
    {
     "data": {
      "text/plain": [
       "'statmike-mlops-349915'"
      ]
     },
     "execution_count": 11,
     "metadata": {},
     "output_type": "execute_result"
    }
   ],
   "source": [
    "project = !gcloud config get-value project\n",
    "PROJECT_ID = project[0]\n",
    "PROJECT_ID"
   ]
  },
  {
   "cell_type": "code",
   "execution_count": 12,
   "id": "096f118a-ee93-4da1-85dc-58c55b98a037",
   "metadata": {
    "executionInfo": {
     "elapsed": 2,
     "status": "ok",
     "timestamp": 1683726390712,
     "user": {
      "displayName": "Mike Henderson",
      "userId": "07691629187611687318"
     },
     "user_tz": 240
    },
    "id": "IxWrFtqYMfku",
    "tags": []
   },
   "outputs": [],
   "source": [
    "REGION = 'us-central1'\n",
    "SERIES = 'mlops-serving'\n",
    "EXPERIMENT = 'bigquery-tensorflow'\n",
    "\n",
    "# gcs bucket name\n",
    "GCS_BUCKET = PROJECT_ID\n",
    "\n",
    "# Data source for this series of notebooks: Described above\n",
    "BQ_SOURCE = 'bigquery-public-data.ml_datasets.ulb_fraud_detection'\n",
    "\n",
    "# make this the BigQuery Project / Dataset / Table prefix to store results\n",
    "BQ_PROJECT = PROJECT_ID\n",
    "BQ_DATASET = SERIES.replace('-', '_')\n",
    "BQ_TABLE = SERIES\n",
    "BQ_REGION = REGION[0:2] # use a multi region"
   ]
  },
  {
   "cell_type": "markdown",
   "id": "9e64a864-6d64-4365-9ece-9688166bc945",
   "metadata": {
    "id": "LuajVwCiO6Yg"
   },
   "source": [
    "Packages"
   ]
  },
  {
   "cell_type": "code",
   "execution_count": 15,
   "id": "a69404fc-8fb8-4b61-ab8f-a35e65bad355",
   "metadata": {
    "executionInfo": {
     "elapsed": 17761,
     "status": "ok",
     "timestamp": 1683726409304,
     "user": {
      "displayName": "Mike Henderson",
      "userId": "07691629187611687318"
     },
     "user_tz": 240
    },
    "id": "LVC7zzSLRk2C",
    "tags": []
   },
   "outputs": [],
   "source": [
    "# import python package\n",
    "import os\n",
    "\n",
    "import tensorflow as tf\n",
    "\n",
    "# BigQuery\n",
    "from google.cloud import bigquery\n",
    "\n",
    "# gcs\n",
    "from google.cloud import storage"
   ]
  },
  {
   "cell_type": "markdown",
   "id": "f1e02c32-d233-43f6-83e1-1370f5d582e9",
   "metadata": {
    "id": "EyAVFG9TO9H-"
   },
   "source": [
    "Clients"
   ]
  },
  {
   "cell_type": "code",
   "execution_count": 16,
   "id": "1a2b384a-f757-49d8-bb29-54e3582b55c0",
   "metadata": {
    "executionInfo": {
     "elapsed": 19,
     "status": "ok",
     "timestamp": 1683726409306,
     "user": {
      "displayName": "Mike Henderson",
      "userId": "07691629187611687318"
     },
     "user_tz": 240
    },
    "id": "L0RPE13LOZce",
    "tags": []
   },
   "outputs": [],
   "source": [
    "# bigquery client\n",
    "bq = bigquery.Client(project = PROJECT_ID)\n",
    "\n",
    "# gcs client\n",
    "gcs = storage.Client(project = PROJECT_ID)\n",
    "bucket = gcs.bucket(GCS_BUCKET)"
   ]
  },
  {
   "cell_type": "markdown",
   "id": "2477b0eb-f046-4609-a840-efaad1b946fd",
   "metadata": {},
   "source": [
    "Parameters:"
   ]
  },
  {
   "cell_type": "code",
   "execution_count": 17,
   "id": "77d9432d-e055-4f84-81e2-32028479adf8",
   "metadata": {
    "tags": []
   },
   "outputs": [],
   "source": [
    "DIR = f\"files/{EXPERIMENT}\""
   ]
  },
  {
   "cell_type": "markdown",
   "id": "7ab50f01-677a-4401-a275-0e7b50a49c99",
   "metadata": {},
   "source": [
    "Environment:"
   ]
  },
  {
   "cell_type": "code",
   "execution_count": 18,
   "id": "ed4d6540-d97a-409d-9950-801b0e1121cd",
   "metadata": {
    "tags": []
   },
   "outputs": [],
   "source": [
    "if not os.path.exists(DIR):\n",
    "    os.makedirs(DIR)"
   ]
  },
  {
   "cell_type": "markdown",
   "id": "dc22de71-d15b-4dc9-aaef-6c64a57b9483",
   "metadata": {},
   "source": [
    "---\n",
    "## Model Files For Examples\n",
    "\n",
    "The TensorFlow SavedModel files used here were created in this repository by another workflow: [Keras With JAX Overview](../../Framework%20Workflows/Keras/Keras%20With%20JAX%20Overview.ipynb).  That workflow does not need to be run because the resulting model files are within this repository.  If this notebook is being used separate from a full clone of the repository then this section will fetch the files from GitHub."
   ]
  },
  {
   "cell_type": "code",
   "execution_count": 28,
   "id": "f1696f59-fae6-454a-be2e-b007a56b0ba6",
   "metadata": {
    "tags": []
   },
   "outputs": [],
   "source": [
    "local_dir = '../../Framework Workflows/Keras/files/keras-tf-overview/tensorflow'"
   ]
  },
  {
   "cell_type": "code",
   "execution_count": 29,
   "id": "e1eb1c34-f717-4557-8a73-e4b82c29d242",
   "metadata": {
    "tags": []
   },
   "outputs": [
    {
     "name": "stdout",
     "output_type": "stream",
     "text": [
      "Files Found in folder `../../Framework Workflows/Keras/files/keras-tf-overview/tensorflow`\n"
     ]
    }
   ],
   "source": [
    "if not os.path.exists(local_dir):\n",
    "    print('Retrieving files...')\n",
    "    local_dir = DIR\n",
    "    parent_dir = os.path.dirname(local_dir)\n",
    "    temp_dir = os.path.join(parent_dir, 'temp')\n",
    "    if not os.path.exists(temp_dir):\n",
    "        os.makedirs(temp_dir)\n",
    "    !git clone https://www.github.com/statmike/vertex-ai-mlops {temp_dir}/vertex-ai-mlops\n",
    "    shutil.copytree(f'{temp_dir}/vertex-ai-mlops/Framework Workflows/Keras/files/keras-tf-overview/tensorflow', local_dir)\n",
    "    shutil.rmtree(temp_dir)\n",
    "    print(f'Files are now in folder `{local_dir}`')\n",
    "else:\n",
    "    print(f'Files Found in folder `{local_dir}`')             "
   ]
  },
  {
   "cell_type": "code",
   "execution_count": 30,
   "id": "ca6c524f-98f3-4910-b430-914b319e1b42",
   "metadata": {
    "tags": []
   },
   "outputs": [
    {
     "name": "stdout",
     "output_type": "stream",
     "text": [
      "../../Framework Workflows/Keras/files/keras-tf-overview/tensorflow/embedding_model/fingerprint.pb\n",
      "../../Framework Workflows/Keras/files/keras-tf-overview/tensorflow/embedding_model/saved_model.pb\n",
      "../../Framework Workflows/Keras/files/keras-tf-overview/tensorflow/embedding_model/variables/variables.index\n",
      "../../Framework Workflows/Keras/files/keras-tf-overview/tensorflow/embedding_model/variables/variables.data-00000-of-00001\n",
      "../../Framework Workflows/Keras/files/keras-tf-overview/tensorflow/stacked_model/fingerprint.pb\n",
      "../../Framework Workflows/Keras/files/keras-tf-overview/tensorflow/stacked_model/saved_model.pb\n",
      "../../Framework Workflows/Keras/files/keras-tf-overview/tensorflow/stacked_model/variables/variables.index\n",
      "../../Framework Workflows/Keras/files/keras-tf-overview/tensorflow/stacked_model/variables/variables.data-00000-of-00001\n",
      "../../Framework Workflows/Keras/files/keras-tf-overview/tensorflow/final_model/fingerprint.pb\n",
      "../../Framework Workflows/Keras/files/keras-tf-overview/tensorflow/final_model/saved_model.pb\n",
      "../../Framework Workflows/Keras/files/keras-tf-overview/tensorflow/final_model/variables/variables.index\n",
      "../../Framework Workflows/Keras/files/keras-tf-overview/tensorflow/final_model/variables/variables.data-00000-of-00001\n"
     ]
    }
   ],
   "source": [
    "for root, _, files in os.walk(local_dir):\n",
    "    for file in files:\n",
    "        print(os.path.join(root, file))"
   ]
  },
  {
   "cell_type": "code",
   "execution_count": 32,
   "id": "170ac1bf-187e-42a0-94f3-07a7cc9b7a08",
   "metadata": {
    "tags": []
   },
   "outputs": [
    {
     "name": "stdout",
     "output_type": "stream",
     "text": [
      "Copying file://../../Framework Workflows/Keras/files/keras-tf-overview/tensorflow/embedding_model/fingerprint.pb to gs://statmike-mlops-349915/mlops-serving/bigquery-tensorflow/models/embedding_model/fingerprint.pb\n",
      "Copying file://../../Framework Workflows/Keras/files/keras-tf-overview/tensorflow/embedding_model/saved_model.pb to gs://statmike-mlops-349915/mlops-serving/bigquery-tensorflow/models/embedding_model/saved_model.pb\n",
      "Copying file://../../Framework Workflows/Keras/files/keras-tf-overview/tensorflow/embedding_model/variables/variables.index to gs://statmike-mlops-349915/mlops-serving/bigquery-tensorflow/models/embedding_model/variables/variables.index\n",
      "Copying file://../../Framework Workflows/Keras/files/keras-tf-overview/tensorflow/embedding_model/variables/variables.data-00000-of-00001 to gs://statmike-mlops-349915/mlops-serving/bigquery-tensorflow/models/embedding_model/variables/variables.data-00000-of-00001\n",
      "Copying file://../../Framework Workflows/Keras/files/keras-tf-overview/tensorflow/stacked_model/fingerprint.pb to gs://statmike-mlops-349915/mlops-serving/bigquery-tensorflow/models/stacked_model/fingerprint.pb\n",
      "Copying file://../../Framework Workflows/Keras/files/keras-tf-overview/tensorflow/stacked_model/saved_model.pb to gs://statmike-mlops-349915/mlops-serving/bigquery-tensorflow/models/stacked_model/saved_model.pb\n",
      "Copying file://../../Framework Workflows/Keras/files/keras-tf-overview/tensorflow/stacked_model/variables/variables.index to gs://statmike-mlops-349915/mlops-serving/bigquery-tensorflow/models/stacked_model/variables/variables.index\n",
      "Copying file://../../Framework Workflows/Keras/files/keras-tf-overview/tensorflow/stacked_model/variables/variables.data-00000-of-00001 to gs://statmike-mlops-349915/mlops-serving/bigquery-tensorflow/models/stacked_model/variables/variables.data-00000-of-00001\n",
      "Copying file://../../Framework Workflows/Keras/files/keras-tf-overview/tensorflow/final_model/fingerprint.pb to gs://statmike-mlops-349915/mlops-serving/bigquery-tensorflow/models/final_model/fingerprint.pb\n",
      "Copying file://../../Framework Workflows/Keras/files/keras-tf-overview/tensorflow/final_model/saved_model.pb to gs://statmike-mlops-349915/mlops-serving/bigquery-tensorflow/models/final_model/saved_model.pb\n",
      "Copying file://../../Framework Workflows/Keras/files/keras-tf-overview/tensorflow/final_model/variables/variables.index to gs://statmike-mlops-349915/mlops-serving/bigquery-tensorflow/models/final_model/variables/variables.index\n",
      "Copying file://../../Framework Workflows/Keras/files/keras-tf-overview/tensorflow/final_model/variables/variables.data-00000-of-00001 to gs://statmike-mlops-349915/mlops-serving/bigquery-tensorflow/models/final_model/variables/variables.data-00000-of-00001\n",
      "  Completed files 12/12 | 320.7kiB/320.7kiB                                    \n",
      "\n",
      "Average throughput: 6.2MiB/s\n"
     ]
    }
   ],
   "source": [
    "!gcloud storage cp -r '{local_dir}' gs://{GCS_BUCKET}/{SERIES}/{EXPERIMENT}/models"
   ]
  },
  {
   "cell_type": "code",
   "execution_count": 33,
   "id": "9ec57a7a-a38a-497d-a71e-f03126c080b9",
   "metadata": {
    "tags": []
   },
   "outputs": [],
   "source": [
    "def get_signature(uri):\n",
    "    loaded_model = tf.saved_model.load(uri)\n",
    "    signatures = loaded_model.signatures\n",
    "    print(f\"Available Signatures for: {uri}\")\n",
    "    for signature_name, signature_fn in signatures.items():\n",
    "        print(f\"\\nSignature Name: {signature_name}\")\n",
    "        print(\"\\nInputs:\")\n",
    "        if hasattr(signature_fn, 'structured_input_signature') and signature_fn.structured_input_signature:\n",
    "            for input_name, input_spec in signature_fn.structured_input_signature[1].items():\n",
    "                print(f\"  {input_name}:\")\n",
    "                print(f\"    dtype: {input_spec.dtype}\")\n",
    "                print(f\"    shape: {input_spec.shape}\")\n",
    "        else:\n",
    "            print(\"  No structured input signature available.\")\n",
    "        print(\"\\nOutputs:\")\n",
    "        if hasattr(signature_fn, \"structured_outputs\") and signature_fn.structured_outputs:\n",
    "            for output_name, output_spec in signature_fn.structured_outputs.items():\n",
    "                print(f\"  {output_name}:\")\n",
    "                print(f\"    dtype: {output_spec.dtype}\")\n",
    "                print(f\"    shape: {output_spec.shape}\")\n",
    "        else:\n",
    "            print(\"  No structured output signature available.\")\n",
    "            \n",
    "    def check_xla(signatures):\n",
    "        try:\n",
    "            concrete_func = signatures[tf.saved_model.DEFAULT_SERVING_SIGNATURE_DEF_KEY]\n",
    "            graph_def = concrete_func.graph.as_graph_def()\n",
    "            \n",
    "            def _check_node(node):\n",
    "                if \"XlaCallModule\" in node.op:\n",
    "                    return True\n",
    "                for attr in node.attr.values():\n",
    "                    if attr.func:\n",
    "                        func_name = attr.func.name\n",
    "                        for func in graph_def.library.function:\n",
    "                            if func.signature.name == func_name:\n",
    "                                for func_node in func.node_def:\n",
    "                                    if _check_node(func_node):\n",
    "                                        return True\n",
    "                return False\n",
    "            \n",
    "            for node in graph_def.node:\n",
    "                if _check_node(node):\n",
    "                    return True\n",
    "            return False\n",
    "        except Exception as e:\n",
    "            print(f'Error checking XLA: {e}')\n",
    "            return None\n",
    "\n",
    "    has_xla = check_xla(signatures)\n",
    "        \n",
    "    if has_xla:\n",
    "        print('XLA Detected - Conversion Required for BQML.')\n",
    "    else:\n",
    "        print('XLA Not Detected - Model Should Work With BQML')\n",
    "            \n",
    "    print('\\n\\n')\n",
    "    \n",
    "    return has_xla"
   ]
  },
  {
   "cell_type": "code",
   "execution_count": 34,
   "id": "9bd3df40-eb78-460c-af58-56dbef404638",
   "metadata": {
    "tags": []
   },
   "outputs": [
    {
     "data": {
      "text/plain": [
       "['mlops-serving/bigquery-tensorflow/models/embedding_model/fingerprint.pb',\n",
       " 'mlops-serving/bigquery-tensorflow/models/embedding_model/saved_model.pb',\n",
       " 'mlops-serving/bigquery-tensorflow/models/embedding_model/variables/variables.data-00000-of-00001',\n",
       " 'mlops-serving/bigquery-tensorflow/models/embedding_model/variables/variables.index',\n",
       " 'mlops-serving/bigquery-tensorflow/models/final_model/fingerprint.pb',\n",
       " 'mlops-serving/bigquery-tensorflow/models/final_model/saved_model.pb',\n",
       " 'mlops-serving/bigquery-tensorflow/models/final_model/variables/variables.data-00000-of-00001',\n",
       " 'mlops-serving/bigquery-tensorflow/models/final_model/variables/variables.index',\n",
       " 'mlops-serving/bigquery-tensorflow/models/stacked_model/fingerprint.pb',\n",
       " 'mlops-serving/bigquery-tensorflow/models/stacked_model/saved_model.pb',\n",
       " 'mlops-serving/bigquery-tensorflow/models/stacked_model/variables/variables.data-00000-of-00001',\n",
       " 'mlops-serving/bigquery-tensorflow/models/stacked_model/variables/variables.index']"
      ]
     },
     "execution_count": 34,
     "metadata": {},
     "output_type": "execute_result"
    }
   ],
   "source": [
    "[blob.name for blob in bucket.list_blobs(prefix = f'{SERIES}/{EXPERIMENT}/models')]"
   ]
  },
  {
   "cell_type": "code",
   "execution_count": 35,
   "id": "a6cc16b2-7780-4906-b6a8-f3694a6a5fd2",
   "metadata": {
    "tags": []
   },
   "outputs": [
    {
     "name": "stdout",
     "output_type": "stream",
     "text": [
      "Available Signatures for: gs://statmike-mlops-349915/mlops-serving/bigquery-tensorflow/models/embedding_model\n",
      "\n",
      "Signature Name: serve\n",
      "\n",
      "Inputs:\n",
      "  keras_tensor_95:\n",
      "    dtype: <dtype: 'float32'>\n",
      "    shape: (None, 30)\n",
      "\n",
      "Outputs:\n",
      "  output_0:\n",
      "    dtype: <dtype: 'float32'>\n",
      "    shape: (None, 4)\n",
      "\n",
      "Signature Name: serving_default\n",
      "\n",
      "Inputs:\n",
      "  keras_tensor_95:\n",
      "    dtype: <dtype: 'float32'>\n",
      "    shape: (None, 30)\n",
      "\n",
      "Outputs:\n",
      "  output_0:\n",
      "    dtype: <dtype: 'float32'>\n",
      "    shape: (None, 4)\n",
      "XLA Not Detected - Model Should Work With BQML\n",
      "\n",
      "\n",
      "\n",
      "Available Signatures for: gs://statmike-mlops-349915/mlops-serving/bigquery-tensorflow/models/final_model\n",
      "\n",
      "Signature Name: serve\n",
      "\n",
      "Inputs:\n",
      "  input_layer:\n",
      "    dtype: <dtype: 'float32'>\n",
      "    shape: (None, 30)\n",
      "\n",
      "Outputs:\n",
      "  normalized_reconstruction:\n",
      "    dtype: <dtype: 'float32'>\n",
      "    shape: (None, 30)\n",
      "  encoded:\n",
      "    dtype: <dtype: 'float32'>\n",
      "    shape: (None, 4)\n",
      "  denormalized_reconstruction:\n",
      "    dtype: <dtype: 'float32'>\n",
      "    shape: (None, 30)\n",
      "  normalized_RMSE:\n",
      "    dtype: <dtype: 'float32'>\n",
      "    shape: (None,)\n",
      "  normalized_MSLE:\n",
      "    dtype: <dtype: 'float32'>\n",
      "    shape: (None,)\n",
      "  denormalized_MAE:\n",
      "    dtype: <dtype: 'float32'>\n",
      "    shape: (None,)\n",
      "  denormalized_MSLE:\n",
      "    dtype: <dtype: 'float32'>\n",
      "    shape: (None,)\n",
      "  normalized_MAE:\n",
      "    dtype: <dtype: 'float32'>\n",
      "    shape: (None,)\n",
      "  normalized_MSE:\n",
      "    dtype: <dtype: 'float32'>\n",
      "    shape: (None,)\n",
      "  denormalized_MSE:\n",
      "    dtype: <dtype: 'float32'>\n",
      "    shape: (None,)\n",
      "  normalized_reconstruction_errors:\n",
      "    dtype: <dtype: 'float32'>\n",
      "    shape: (None, 30)\n",
      "  denormalized_RMSE:\n",
      "    dtype: <dtype: 'float32'>\n",
      "    shape: (None,)\n",
      "  denormalized_reconstruction_errors:\n",
      "    dtype: <dtype: 'float32'>\n",
      "    shape: (None, 30)\n",
      "\n",
      "Signature Name: serving_default\n",
      "\n",
      "Inputs:\n",
      "  input_layer:\n",
      "    dtype: <dtype: 'float32'>\n",
      "    shape: (None, 30)\n",
      "\n",
      "Outputs:\n",
      "  normalized_reconstruction:\n",
      "    dtype: <dtype: 'float32'>\n",
      "    shape: (None, 30)\n",
      "  encoded:\n",
      "    dtype: <dtype: 'float32'>\n",
      "    shape: (None, 4)\n",
      "  denormalized_reconstruction:\n",
      "    dtype: <dtype: 'float32'>\n",
      "    shape: (None, 30)\n",
      "  normalized_RMSE:\n",
      "    dtype: <dtype: 'float32'>\n",
      "    shape: (None,)\n",
      "  normalized_MSLE:\n",
      "    dtype: <dtype: 'float32'>\n",
      "    shape: (None,)\n",
      "  denormalized_MAE:\n",
      "    dtype: <dtype: 'float32'>\n",
      "    shape: (None,)\n",
      "  denormalized_MSLE:\n",
      "    dtype: <dtype: 'float32'>\n",
      "    shape: (None,)\n",
      "  normalized_MAE:\n",
      "    dtype: <dtype: 'float32'>\n",
      "    shape: (None,)\n",
      "  normalized_MSE:\n",
      "    dtype: <dtype: 'float32'>\n",
      "    shape: (None,)\n",
      "  denormalized_MSE:\n",
      "    dtype: <dtype: 'float32'>\n",
      "    shape: (None,)\n",
      "  normalized_reconstruction_errors:\n",
      "    dtype: <dtype: 'float32'>\n",
      "    shape: (None, 30)\n",
      "  denormalized_RMSE:\n",
      "    dtype: <dtype: 'float32'>\n",
      "    shape: (None,)\n",
      "  denormalized_reconstruction_errors:\n",
      "    dtype: <dtype: 'float32'>\n",
      "    shape: (None, 30)\n",
      "XLA Not Detected - Model Should Work With BQML\n",
      "\n",
      "\n",
      "\n",
      "Available Signatures for: gs://statmike-mlops-349915/mlops-serving/bigquery-tensorflow/models/stacked_model\n",
      "\n",
      "Signature Name: serve\n",
      "\n",
      "Inputs:\n",
      "  keras_tensor_10:\n",
      "    dtype: <dtype: 'float32'>\n",
      "    shape: (None, 30)\n",
      "\n",
      "Outputs:\n",
      "  output_0:\n",
      "    dtype: <dtype: 'float32'>\n",
      "    shape: (None, 30)\n",
      "\n",
      "Signature Name: serving_default\n",
      "\n",
      "Inputs:\n",
      "  keras_tensor_10:\n",
      "    dtype: <dtype: 'float32'>\n",
      "    shape: (None, 30)\n",
      "\n",
      "Outputs:\n",
      "  output_0:\n",
      "    dtype: <dtype: 'float32'>\n",
      "    shape: (None, 30)\n",
      "XLA Not Detected - Model Should Work With BQML\n",
      "\n",
      "\n",
      "\n"
     ]
    }
   ],
   "source": [
    "models = []\n",
    "for blob in bucket.list_blobs(prefix = f'{SERIES}/{EXPERIMENT}/models'):\n",
    "    if blob.name.endswith('saved_model.pb'):\n",
    "        uri = f\"gs://{bucket.name}/{blob.name.split('/saved_model.pb')[0]}\"\n",
    "        has_xla = get_signature(uri)\n",
    "        if has_xla:\n",
    "            print('Model has XLA and will not work with BQML.')\n",
    "        else:\n",
    "            models.append(uri)"
   ]
  },
  {
   "cell_type": "code",
   "execution_count": null,
   "id": "19813452-ebe0-4d31-9998-be2733828990",
   "metadata": {},
   "outputs": [],
   "source": []
  },
  {
   "cell_type": "code",
   "execution_count": null,
   "id": "62427d35-3e69-42c6-8f51-ca545a23d270",
   "metadata": {},
   "outputs": [],
   "source": []
  },
  {
   "cell_type": "code",
   "execution_count": null,
   "id": "fe487122-c21e-496b-adf0-1ffb5e17ad28",
   "metadata": {},
   "outputs": [],
   "source": []
  },
  {
   "cell_type": "code",
   "execution_count": null,
   "id": "79c2094d-f75e-4842-a8af-517521967de3",
   "metadata": {},
   "outputs": [],
   "source": []
  },
  {
   "cell_type": "markdown",
   "id": "a7b5472a-98f1-4bec-b80e-5e5eb6515ac1",
   "metadata": {},
   "source": [
    "---\n",
    "## BigQuery Model Import"
   ]
  },
  {
   "cell_type": "markdown",
   "id": "ecf4f675-979d-4c4c-97a2-40fc212e9490",
   "metadata": {},
   "source": [
    "### Create/Recall Dataset"
   ]
  },
  {
   "cell_type": "code",
   "execution_count": 36,
   "id": "a6dcd91f-fa4d-4cfa-94cc-92e2175f32bf",
   "metadata": {
    "tags": []
   },
   "outputs": [],
   "source": [
    "dataset = bigquery.Dataset(f\"{BQ_PROJECT}.{BQ_DATASET}\")\n",
    "dataset.location = BQ_REGION\n",
    "bq_dataset = bq.create_dataset(dataset, exists_ok = True)"
   ]
  },
  {
   "cell_type": "markdown",
   "id": "3c919aa3-6a8e-4738-9519-7f4d7d796fa9",
   "metadata": {},
   "source": [
    "### Create/Recall Table With Preparation For ML\n",
    "\n",
    "Copy the data from the source while adding columns:\n",
    "- `transaction_id` as a unique identify for the row\n",
    "    - Use the `GENERATE_UUID()` function\n",
    "- `splits` column to randomly assign rows to 'TRAIN\", \"VALIDATE\" and \"TEST\" groups\n",
    "    - stratified sampling within the levels of `class` by first assigning row numbers within the levels of `class` then using the with a CASE statment to assign the `splits` level."
   ]
  },
  {
   "cell_type": "code",
   "execution_count": 37,
   "id": "db962852-cb4c-436b-a8de-aea409e7bafa",
   "metadata": {
    "tags": []
   },
   "outputs": [
    {
     "data": {
      "text/plain": [
       "11.4"
      ]
     },
     "execution_count": 37,
     "metadata": {},
     "output_type": "execute_result"
    }
   ],
   "source": [
    "job = bq.query(f\"\"\"\n",
    "CREATE OR REPLACE TABLE\n",
    "#CREATE TABLE IF NOT EXISTS \n",
    "    `{BQ_PROJECT}.{BQ_DATASET}.{BQ_TABLE}` AS\n",
    "WITH\n",
    "    add_id AS (\n",
    "        SELECT *,\n",
    "            GENERATE_UUID() transaction_id,\n",
    "            ROW_NUMBER() OVER (PARTITION BY class ORDER BY RAND()) as rn\n",
    "            FROM `{BQ_SOURCE}`\n",
    "    )\n",
    "SELECT * EXCEPT(rn),\n",
    "    CASE \n",
    "        WHEN rn <= 0.8 * COUNT(*) OVER (PARTITION BY class) THEN 'TRAIN'\n",
    "        WHEN rn <= 0.9 * COUNT(*) OVER (PARTITION BY class) THEN 'VALIDATE'\n",
    "        ELSE 'TEST'\n",
    "    END AS splits\n",
    "FROM add_id\n",
    "\"\"\")\n",
    "job.result()\n",
    "(job.ended-job.started).total_seconds()"
   ]
  },
  {
   "cell_type": "code",
   "execution_count": 38,
   "id": "5e900c1a-a3f5-436e-9455-0e2f08506faa",
   "metadata": {
    "tags": []
   },
   "outputs": [
    {
     "data": {
      "text/html": [
       "<div>\n",
       "<style scoped>\n",
       "    .dataframe tbody tr th:only-of-type {\n",
       "        vertical-align: middle;\n",
       "    }\n",
       "\n",
       "    .dataframe tbody tr th {\n",
       "        vertical-align: top;\n",
       "    }\n",
       "\n",
       "    .dataframe thead th {\n",
       "        text-align: right;\n",
       "    }\n",
       "</style>\n",
       "<table border=\"1\" class=\"dataframe\">\n",
       "  <thead>\n",
       "    <tr style=\"text-align: right;\">\n",
       "      <th></th>\n",
       "      <th>Time</th>\n",
       "      <th>V1</th>\n",
       "      <th>V2</th>\n",
       "      <th>V3</th>\n",
       "      <th>V4</th>\n",
       "      <th>V5</th>\n",
       "      <th>V6</th>\n",
       "      <th>V7</th>\n",
       "      <th>V8</th>\n",
       "      <th>V9</th>\n",
       "      <th>...</th>\n",
       "      <th>V23</th>\n",
       "      <th>V24</th>\n",
       "      <th>V25</th>\n",
       "      <th>V26</th>\n",
       "      <th>V27</th>\n",
       "      <th>V28</th>\n",
       "      <th>Amount</th>\n",
       "      <th>Class</th>\n",
       "      <th>transaction_id</th>\n",
       "      <th>splits</th>\n",
       "    </tr>\n",
       "  </thead>\n",
       "  <tbody>\n",
       "    <tr>\n",
       "      <th>0</th>\n",
       "      <td>64268.0</td>\n",
       "      <td>1.316193</td>\n",
       "      <td>-0.009926</td>\n",
       "      <td>-0.137555</td>\n",
       "      <td>0.587167</td>\n",
       "      <td>-0.308887</td>\n",
       "      <td>-0.799481</td>\n",
       "      <td>0.042878</td>\n",
       "      <td>-0.080183</td>\n",
       "      <td>0.612074</td>\n",
       "      <td>...</td>\n",
       "      <td>-0.136149</td>\n",
       "      <td>-0.126894</td>\n",
       "      <td>0.639381</td>\n",
       "      <td>0.595106</td>\n",
       "      <td>-0.070506</td>\n",
       "      <td>-0.010366</td>\n",
       "      <td>0.0</td>\n",
       "      <td>0</td>\n",
       "      <td>12495373-62f2-4681-a61c-cb767b6f0117</td>\n",
       "      <td>TEST</td>\n",
       "    </tr>\n",
       "    <tr>\n",
       "      <th>1</th>\n",
       "      <td>6538.0</td>\n",
       "      <td>1.139435</td>\n",
       "      <td>0.666018</td>\n",
       "      <td>0.999076</td>\n",
       "      <td>2.620147</td>\n",
       "      <td>-0.194133</td>\n",
       "      <td>-0.265980</td>\n",
       "      <td>-0.103196</td>\n",
       "      <td>-0.046573</td>\n",
       "      <td>0.311083</td>\n",
       "      <td>...</td>\n",
       "      <td>0.069927</td>\n",
       "      <td>0.454127</td>\n",
       "      <td>0.307426</td>\n",
       "      <td>-0.167981</td>\n",
       "      <td>-0.036667</td>\n",
       "      <td>0.010581</td>\n",
       "      <td>0.0</td>\n",
       "      <td>0</td>\n",
       "      <td>126d9ace-632e-4f3a-877f-d2fa019c45d8</td>\n",
       "      <td>TEST</td>\n",
       "    </tr>\n",
       "    <tr>\n",
       "      <th>2</th>\n",
       "      <td>85326.0</td>\n",
       "      <td>1.285768</td>\n",
       "      <td>-0.051961</td>\n",
       "      <td>0.174061</td>\n",
       "      <td>-0.254305</td>\n",
       "      <td>-0.434910</td>\n",
       "      <td>-0.701094</td>\n",
       "      <td>-0.133313</td>\n",
       "      <td>-0.022129</td>\n",
       "      <td>0.125110</td>\n",
       "      <td>...</td>\n",
       "      <td>0.072654</td>\n",
       "      <td>0.024097</td>\n",
       "      <td>0.151693</td>\n",
       "      <td>0.853730</td>\n",
       "      <td>-0.097822</td>\n",
       "      <td>-0.012016</td>\n",
       "      <td>0.0</td>\n",
       "      <td>0</td>\n",
       "      <td>455897e1-27ca-449b-9e62-4248ff2dc31c</td>\n",
       "      <td>TEST</td>\n",
       "    </tr>\n",
       "    <tr>\n",
       "      <th>3</th>\n",
       "      <td>151032.0</td>\n",
       "      <td>-0.396177</td>\n",
       "      <td>1.625048</td>\n",
       "      <td>1.922579</td>\n",
       "      <td>4.122399</td>\n",
       "      <td>0.764063</td>\n",
       "      <td>1.739775</td>\n",
       "      <td>0.275174</td>\n",
       "      <td>0.424435</td>\n",
       "      <td>-1.666776</td>\n",
       "      <td>...</td>\n",
       "      <td>-0.137620</td>\n",
       "      <td>-0.111399</td>\n",
       "      <td>0.012638</td>\n",
       "      <td>0.098132</td>\n",
       "      <td>0.352989</td>\n",
       "      <td>0.157917</td>\n",
       "      <td>0.0</td>\n",
       "      <td>0</td>\n",
       "      <td>deec0d75-5535-4b2c-9f2f-55d2ef3a757f</td>\n",
       "      <td>TEST</td>\n",
       "    </tr>\n",
       "    <tr>\n",
       "      <th>4</th>\n",
       "      <td>67443.0</td>\n",
       "      <td>1.263510</td>\n",
       "      <td>0.102121</td>\n",
       "      <td>-0.005493</td>\n",
       "      <td>0.486423</td>\n",
       "      <td>-0.130838</td>\n",
       "      <td>-0.508774</td>\n",
       "      <td>0.090794</td>\n",
       "      <td>-0.066110</td>\n",
       "      <td>0.009589</td>\n",
       "      <td>...</td>\n",
       "      <td>-0.153878</td>\n",
       "      <td>0.058095</td>\n",
       "      <td>0.661726</td>\n",
       "      <td>0.559488</td>\n",
       "      <td>-0.059897</td>\n",
       "      <td>-0.014047</td>\n",
       "      <td>0.0</td>\n",
       "      <td>0</td>\n",
       "      <td>9dc517d6-aa8f-4b9d-8a05-bd7fee582b68</td>\n",
       "      <td>TEST</td>\n",
       "    </tr>\n",
       "  </tbody>\n",
       "</table>\n",
       "<p>5 rows × 33 columns</p>\n",
       "</div>"
      ],
      "text/plain": [
       "       Time        V1        V2        V3        V4        V5        V6  \\\n",
       "0   64268.0  1.316193 -0.009926 -0.137555  0.587167 -0.308887 -0.799481   \n",
       "1    6538.0  1.139435  0.666018  0.999076  2.620147 -0.194133 -0.265980   \n",
       "2   85326.0  1.285768 -0.051961  0.174061 -0.254305 -0.434910 -0.701094   \n",
       "3  151032.0 -0.396177  1.625048  1.922579  4.122399  0.764063  1.739775   \n",
       "4   67443.0  1.263510  0.102121 -0.005493  0.486423 -0.130838 -0.508774   \n",
       "\n",
       "         V7        V8        V9  ...       V23       V24       V25       V26  \\\n",
       "0  0.042878 -0.080183  0.612074  ... -0.136149 -0.126894  0.639381  0.595106   \n",
       "1 -0.103196 -0.046573  0.311083  ...  0.069927  0.454127  0.307426 -0.167981   \n",
       "2 -0.133313 -0.022129  0.125110  ...  0.072654  0.024097  0.151693  0.853730   \n",
       "3  0.275174  0.424435 -1.666776  ... -0.137620 -0.111399  0.012638  0.098132   \n",
       "4  0.090794 -0.066110  0.009589  ... -0.153878  0.058095  0.661726  0.559488   \n",
       "\n",
       "        V27       V28  Amount  Class                        transaction_id  \\\n",
       "0 -0.070506 -0.010366     0.0      0  12495373-62f2-4681-a61c-cb767b6f0117   \n",
       "1 -0.036667  0.010581     0.0      0  126d9ace-632e-4f3a-877f-d2fa019c45d8   \n",
       "2 -0.097822 -0.012016     0.0      0  455897e1-27ca-449b-9e62-4248ff2dc31c   \n",
       "3  0.352989  0.157917     0.0      0  deec0d75-5535-4b2c-9f2f-55d2ef3a757f   \n",
       "4 -0.059897 -0.014047     0.0      0  9dc517d6-aa8f-4b9d-8a05-bd7fee582b68   \n",
       "\n",
       "   splits  \n",
       "0    TEST  \n",
       "1    TEST  \n",
       "2    TEST  \n",
       "3    TEST  \n",
       "4    TEST  \n",
       "\n",
       "[5 rows x 33 columns]"
      ]
     },
     "execution_count": 38,
     "metadata": {},
     "output_type": "execute_result"
    }
   ],
   "source": [
    "raw_sample = bq.query(f'SELECT * FROM `{BQ_PROJECT}.{BQ_DATASET}.{BQ_TABLE}` LIMIT 5').to_dataframe()\n",
    "raw_sample"
   ]
  },
  {
   "cell_type": "markdown",
   "id": "88374b7b-142f-4afa-950a-fccffcf0192a",
   "metadata": {},
   "source": [
    "### Add A Column For Feature Array\n",
    "\n",
    "Combine all the features into a single column, an array of floats, for easier inference."
   ]
  },
  {
   "cell_type": "code",
   "execution_count": 39,
   "id": "b68ff74e-fbac-44b5-8f0f-075703662d8c",
   "metadata": {
    "tags": []
   },
   "outputs": [
    {
     "data": {
      "text/plain": [
       "['Time',\n",
       " 'V1',\n",
       " 'V2',\n",
       " 'V3',\n",
       " 'V4',\n",
       " 'V5',\n",
       " 'V6',\n",
       " 'V7',\n",
       " 'V8',\n",
       " 'V9',\n",
       " 'V10',\n",
       " 'V11',\n",
       " 'V12',\n",
       " 'V13',\n",
       " 'V14',\n",
       " 'V15',\n",
       " 'V16',\n",
       " 'V17',\n",
       " 'V18',\n",
       " 'V19',\n",
       " 'V20',\n",
       " 'V21',\n",
       " 'V22',\n",
       " 'V23',\n",
       " 'V24',\n",
       " 'V25',\n",
       " 'V26',\n",
       " 'V27',\n",
       " 'V28',\n",
       " 'Amount']"
      ]
     },
     "execution_count": 39,
     "metadata": {},
     "output_type": "execute_result"
    }
   ],
   "source": [
    "feature_columns = [col for col in raw_sample.columns if col not in ['splits', 'transaction_id', 'Class']]\n",
    "feature_columns"
   ]
  },
  {
   "cell_type": "code",
   "execution_count": 40,
   "id": "d937189e-ff96-4270-b59f-41b8b15ab055",
   "metadata": {
    "tags": []
   },
   "outputs": [
    {
     "data": {
      "text/plain": [
       "12.389"
      ]
     },
     "execution_count": 40,
     "metadata": {},
     "output_type": "execute_result"
    }
   ],
   "source": [
    "query = f\"\"\"\n",
    "CREATE OR REPLACE TABLE `{BQ_PROJECT}.{BQ_DATASET}.{BQ_TABLE}` AS\n",
    "SELECT\n",
    "    t.*, # EXCEPT(features_array),\n",
    "    ARRAY[\n",
    "        {', '.join(feature_columns)}\n",
    "    ] AS features_array\n",
    "FROM\n",
    "    `{BQ_PROJECT}.{BQ_DATASET}.{BQ_TABLE}` AS t;\n",
    "\"\"\"\n",
    "\n",
    "job = bq.query(query)\n",
    "job.result()\n",
    "(job.ended - job.started).total_seconds()"
   ]
  },
  {
   "cell_type": "markdown",
   "id": "b2cb14eb-dace-4f6b-8669-c741fe96d3ad",
   "metadata": {},
   "source": [
    "### Review the number of records for each level of `Class` for each of the data splits:"
   ]
  },
  {
   "cell_type": "code",
   "execution_count": 41,
   "id": "c32dcf5b-0ce9-456e-ab2f-9a845d978da2",
   "metadata": {
    "tags": []
   },
   "outputs": [
    {
     "data": {
      "text/html": [
       "<div>\n",
       "<style scoped>\n",
       "    .dataframe tbody tr th:only-of-type {\n",
       "        vertical-align: middle;\n",
       "    }\n",
       "\n",
       "    .dataframe tbody tr th {\n",
       "        vertical-align: top;\n",
       "    }\n",
       "\n",
       "    .dataframe thead th {\n",
       "        text-align: right;\n",
       "    }\n",
       "</style>\n",
       "<table border=\"1\" class=\"dataframe\">\n",
       "  <thead>\n",
       "    <tr style=\"text-align: right;\">\n",
       "      <th></th>\n",
       "      <th>splits</th>\n",
       "      <th>class</th>\n",
       "      <th>count</th>\n",
       "      <th>percentage</th>\n",
       "    </tr>\n",
       "  </thead>\n",
       "  <tbody>\n",
       "    <tr>\n",
       "      <th>0</th>\n",
       "      <td>TEST</td>\n",
       "      <td>1</td>\n",
       "      <td>50</td>\n",
       "      <td>10.16</td>\n",
       "    </tr>\n",
       "    <tr>\n",
       "      <th>1</th>\n",
       "      <td>TRAIN</td>\n",
       "      <td>1</td>\n",
       "      <td>393</td>\n",
       "      <td>79.88</td>\n",
       "    </tr>\n",
       "    <tr>\n",
       "      <th>2</th>\n",
       "      <td>VALIDATE</td>\n",
       "      <td>1</td>\n",
       "      <td>49</td>\n",
       "      <td>9.96</td>\n",
       "    </tr>\n",
       "    <tr>\n",
       "      <th>3</th>\n",
       "      <td>TEST</td>\n",
       "      <td>0</td>\n",
       "      <td>28432</td>\n",
       "      <td>10.00</td>\n",
       "    </tr>\n",
       "    <tr>\n",
       "      <th>4</th>\n",
       "      <td>TRAIN</td>\n",
       "      <td>0</td>\n",
       "      <td>227452</td>\n",
       "      <td>80.00</td>\n",
       "    </tr>\n",
       "    <tr>\n",
       "      <th>5</th>\n",
       "      <td>VALIDATE</td>\n",
       "      <td>0</td>\n",
       "      <td>28431</td>\n",
       "      <td>10.00</td>\n",
       "    </tr>\n",
       "  </tbody>\n",
       "</table>\n",
       "</div>"
      ],
      "text/plain": [
       "     splits  class   count  percentage\n",
       "0      TEST      1      50       10.16\n",
       "1     TRAIN      1     393       79.88\n",
       "2  VALIDATE      1      49        9.96\n",
       "3      TEST      0   28432       10.00\n",
       "4     TRAIN      0  227452       80.00\n",
       "5  VALIDATE      0   28431       10.00"
      ]
     },
     "execution_count": 41,
     "metadata": {},
     "output_type": "execute_result"
    }
   ],
   "source": [
    "bq.query(f\"\"\"\n",
    "SELECT splits, class,\n",
    "    count(*) as count,\n",
    "    ROUND(count(*) * 100.0 / SUM(count(*)) OVER (PARTITION BY class), 2) AS percentage\n",
    "FROM `{BQ_PROJECT}.{BQ_DATASET}.{BQ_TABLE}`\n",
    "GROUP BY splits, class\n",
    "\"\"\").to_dataframe()"
   ]
  },
  {
   "cell_type": "markdown",
   "id": "d723a989-0c74-43c0-9b20-b42ff209a47d",
   "metadata": {},
   "source": [
    "### Create The Models"
   ]
  },
  {
   "cell_type": "code",
   "execution_count": 42,
   "id": "93462abf-d514-4f0d-a0f4-5a3a740c7347",
   "metadata": {
    "tags": []
   },
   "outputs": [
    {
     "data": {
      "text/plain": [
       "['gs://statmike-mlops-349915/mlops-serving/bigquery-tensorflow/models/embedding_model',\n",
       " 'gs://statmike-mlops-349915/mlops-serving/bigquery-tensorflow/models/final_model',\n",
       " 'gs://statmike-mlops-349915/mlops-serving/bigquery-tensorflow/models/stacked_model']"
      ]
     },
     "execution_count": 42,
     "metadata": {},
     "output_type": "execute_result"
    }
   ],
   "source": [
    "models"
   ]
  },
  {
   "cell_type": "code",
   "execution_count": 43,
   "id": "e15001de-9964-40ad-bf84-c6d11fff8733",
   "metadata": {
    "tags": []
   },
   "outputs": [
    {
     "name": "stdout",
     "output_type": "stream",
     "text": [
      "Created BigQuery Model:\n",
      "\tName: statmike-mlops-349915.mlops_serving.mlops-serving-bigquery-tensorflow-embedding_model\n",
      "\tGCS URI: gs://statmike-mlops-349915/mlops-serving/bigquery-tensorflow/models/embedding_model\n",
      "\tTime (seconds): 11.048\n",
      "Created BigQuery Model:\n",
      "\tName: statmike-mlops-349915.mlops_serving.mlops-serving-bigquery-tensorflow-final_model\n",
      "\tGCS URI: gs://statmike-mlops-349915/mlops-serving/bigquery-tensorflow/models/final_model\n",
      "\tTime (seconds): 13.186\n",
      "Created BigQuery Model:\n",
      "\tName: statmike-mlops-349915.mlops_serving.mlops-serving-bigquery-tensorflow-stacked_model\n",
      "\tGCS URI: gs://statmike-mlops-349915/mlops-serving/bigquery-tensorflow/models/stacked_model\n",
      "\tTime (seconds): 11.892\n"
     ]
    }
   ],
   "source": [
    "bq_models = []\n",
    "for model in models:\n",
    "    bq_model = f\"{BQ_PROJECT}.{BQ_DATASET}.{SERIES}-{EXPERIMENT}-{model.split('/')[-1]}\"\n",
    "    job = bq.query(f\"\"\"\n",
    "    CREATE OR REPLACE MODEL `{bq_model}`\n",
    "        OPTIONS(\n",
    "            MODEL_TYPE = 'TENSORFLOW',\n",
    "            MODEL_PATH = '{model}/*'\n",
    "        )\n",
    "    \"\"\")\n",
    "    job.result()\n",
    "    bq_models.append(bq_model)\n",
    "    print(f\"Created BigQuery Model:\\n\\tName: {bq_model}\\n\\tGCS URI: {model}\\n\\tTime (seconds): {(job.ended-job.started).total_seconds()}\")"
   ]
  },
  {
   "cell_type": "code",
   "execution_count": 44,
   "id": "11749f20-418a-4ff3-ac8d-64912fb83de0",
   "metadata": {
    "tags": []
   },
   "outputs": [
    {
     "data": {
      "text/plain": [
       "['statmike-mlops-349915.mlops_serving.mlops-serving-bigquery-tensorflow-embedding_model',\n",
       " 'statmike-mlops-349915.mlops_serving.mlops-serving-bigquery-tensorflow-final_model',\n",
       " 'statmike-mlops-349915.mlops_serving.mlops-serving-bigquery-tensorflow-stacked_model']"
      ]
     },
     "execution_count": 44,
     "metadata": {},
     "output_type": "execute_result"
    }
   ],
   "source": [
    "bq_models"
   ]
  },
  {
   "cell_type": "markdown",
   "id": "88ab1f6e-2aee-411b-8416-8c7679a14530",
   "metadata": {},
   "source": [
    "### Predictions With ML.PREDICT"
   ]
  },
  {
   "cell_type": "code",
   "execution_count": 46,
   "id": "1f9b2049-009e-4dec-ab59-85e60f50b62a",
   "metadata": {
    "tags": []
   },
   "outputs": [
    {
     "data": {
      "text/html": [
       "<div>\n",
       "<style scoped>\n",
       "    .dataframe tbody tr th:only-of-type {\n",
       "        vertical-align: middle;\n",
       "    }\n",
       "\n",
       "    .dataframe tbody tr th {\n",
       "        vertical-align: top;\n",
       "    }\n",
       "\n",
       "    .dataframe thead th {\n",
       "        text-align: right;\n",
       "    }\n",
       "</style>\n",
       "<table border=\"1\" class=\"dataframe\">\n",
       "  <thead>\n",
       "    <tr style=\"text-align: right;\">\n",
       "      <th></th>\n",
       "      <th>output_0</th>\n",
       "      <th>keras_tensor_95</th>\n",
       "    </tr>\n",
       "  </thead>\n",
       "  <tbody>\n",
       "    <tr>\n",
       "      <th>0</th>\n",
       "      <td>[0.0, 0.0, 0.022413315251469612, 0.00342315738...</td>\n",
       "      <td>[17230.0, -0.469326705102944, 1.11145278248281...</td>\n",
       "    </tr>\n",
       "    <tr>\n",
       "      <th>1</th>\n",
       "      <td>[0.0875319167971611, 0.0, 0.010229881852865219...</td>\n",
       "      <td>[93904.0, -11.3206331107815, 7.191950142623599...</td>\n",
       "    </tr>\n",
       "    <tr>\n",
       "      <th>2</th>\n",
       "      <td>[0.004252964165061712, 0.0, 0.0146360481157898...</td>\n",
       "      <td>[76575.0, -5.62246941906299, 3.48062317879011,...</td>\n",
       "    </tr>\n",
       "    <tr>\n",
       "      <th>3</th>\n",
       "      <td>[0.0, 0.0, 0.02239852584898472, 0.003396582556...</td>\n",
       "      <td>[48380.0, -2.79077103894771, -1.46426898705405...</td>\n",
       "    </tr>\n",
       "    <tr>\n",
       "      <th>4</th>\n",
       "      <td>[0.2401971071958542, 0.0, 0.019970163702964783...</td>\n",
       "      <td>[157207.0, 1.17075621526687, 2.50103820829712,...</td>\n",
       "    </tr>\n",
       "    <tr>\n",
       "      <th>5</th>\n",
       "      <td>[0.000820515095256269, 0.0, 0.0209587011486291...</td>\n",
       "      <td>[58222.0, -1.32278906321956, 1.55276821126964,...</td>\n",
       "    </tr>\n",
       "    <tr>\n",
       "      <th>6</th>\n",
       "      <td>[0.2842050790786743, 0.0, 0.018399760127067566...</td>\n",
       "      <td>[93879.0, -12.8336314219519, 7.50878980635543,...</td>\n",
       "    </tr>\n",
       "    <tr>\n",
       "      <th>7</th>\n",
       "      <td>[0.081075519323349, 0.0, 0.012033868581056595,...</td>\n",
       "      <td>[102676.0, -5.5521221713523605, 5.678133912586...</td>\n",
       "    </tr>\n",
       "    <tr>\n",
       "      <th>8</th>\n",
       "      <td>[0.004610396455973387, 0.0, 0.0137983886525034...</td>\n",
       "      <td>[55760.0, -6.00342167645829, -3.93073139597263...</td>\n",
       "    </tr>\n",
       "    <tr>\n",
       "      <th>9</th>\n",
       "      <td>[0.08628396689891815, 0.0, 0.01322791166603565...</td>\n",
       "      <td>[144839.0, -6.4233064564522095, 1.658514508760...</td>\n",
       "    </tr>\n",
       "  </tbody>\n",
       "</table>\n",
       "</div>"
      ],
      "text/plain": [
       "                                            output_0  \\\n",
       "0  [0.0, 0.0, 0.022413315251469612, 0.00342315738...   \n",
       "1  [0.0875319167971611, 0.0, 0.010229881852865219...   \n",
       "2  [0.004252964165061712, 0.0, 0.0146360481157898...   \n",
       "3  [0.0, 0.0, 0.02239852584898472, 0.003396582556...   \n",
       "4  [0.2401971071958542, 0.0, 0.019970163702964783...   \n",
       "5  [0.000820515095256269, 0.0, 0.0209587011486291...   \n",
       "6  [0.2842050790786743, 0.0, 0.018399760127067566...   \n",
       "7  [0.081075519323349, 0.0, 0.012033868581056595,...   \n",
       "8  [0.004610396455973387, 0.0, 0.0137983886525034...   \n",
       "9  [0.08628396689891815, 0.0, 0.01322791166603565...   \n",
       "\n",
       "                                     keras_tensor_95  \n",
       "0  [17230.0, -0.469326705102944, 1.11145278248281...  \n",
       "1  [93904.0, -11.3206331107815, 7.191950142623599...  \n",
       "2  [76575.0, -5.62246941906299, 3.48062317879011,...  \n",
       "3  [48380.0, -2.79077103894771, -1.46426898705405...  \n",
       "4  [157207.0, 1.17075621526687, 2.50103820829712,...  \n",
       "5  [58222.0, -1.32278906321956, 1.55276821126964,...  \n",
       "6  [93879.0, -12.8336314219519, 7.50878980635543,...  \n",
       "7  [102676.0, -5.5521221713523605, 5.678133912586...  \n",
       "8  [55760.0, -6.00342167645829, -3.93073139597263...  \n",
       "9  [144839.0, -6.4233064564522095, 1.658514508760...  "
      ]
     },
     "execution_count": 46,
     "metadata": {},
     "output_type": "execute_result"
    }
   ],
   "source": [
    "bq.query(f\"\"\"\n",
    "SELECT *\n",
    "FROM ML.PREDICT (MODEL `{bq_models[0]}`,(\n",
    "    SELECT features_array as keras_tensor_95\n",
    "    FROM `{BQ_PROJECT}.{BQ_DATASET}.{BQ_TABLE}`\n",
    "    WHERE splits = 'TEST' and class = 1\n",
    "    LIMIT 10)\n",
    "  )\n",
    "\"\"\").to_dataframe()"
   ]
  },
  {
   "cell_type": "code",
   "execution_count": 48,
   "id": "5a08a7dd-fd11-49fc-ba18-b47df43735d0",
   "metadata": {
    "tags": []
   },
   "outputs": [
    {
     "data": {
      "text/html": [
       "<div>\n",
       "<style scoped>\n",
       "    .dataframe tbody tr th:only-of-type {\n",
       "        vertical-align: middle;\n",
       "    }\n",
       "\n",
       "    .dataframe tbody tr th {\n",
       "        vertical-align: top;\n",
       "    }\n",
       "\n",
       "    .dataframe thead th {\n",
       "        text-align: right;\n",
       "    }\n",
       "</style>\n",
       "<table border=\"1\" class=\"dataframe\">\n",
       "  <thead>\n",
       "    <tr style=\"text-align: right;\">\n",
       "      <th></th>\n",
       "      <th>denormalized_MAE</th>\n",
       "      <th>denormalized_MSE</th>\n",
       "      <th>denormalized_MSLE</th>\n",
       "      <th>denormalized_RMSE</th>\n",
       "      <th>denormalized_reconstruction</th>\n",
       "      <th>denormalized_reconstruction_errors</th>\n",
       "      <th>encoded</th>\n",
       "      <th>normalized_MAE</th>\n",
       "      <th>normalized_MSE</th>\n",
       "      <th>normalized_MSLE</th>\n",
       "      <th>normalized_RMSE</th>\n",
       "      <th>normalized_reconstruction</th>\n",
       "      <th>normalized_reconstruction_errors</th>\n",
       "      <th>input_layer</th>\n",
       "    </tr>\n",
       "  </thead>\n",
       "  <tbody>\n",
       "    <tr>\n",
       "      <th>0</th>\n",
       "      <td>1563.083374</td>\n",
       "      <td>7.318019e+07</td>\n",
       "      <td>0.270502</td>\n",
       "      <td>8554.541992</td>\n",
       "      <td>[64085.15234375, -0.3804877996444702, 0.129616...</td>\n",
       "      <td>[-46855.15234375, -0.08883890509605408, 0.9818...</td>\n",
       "      <td>[0.0, 0.0, 0.022413315251469612, 0.00342315738...</td>\n",
       "      <td>0.657085</td>\n",
       "      <td>1.072581</td>\n",
       "      <td>0.120190</td>\n",
       "      <td>1.035655</td>\n",
       "      <td>[-0.6486759781837463, -0.20184414088726044, 0....</td>\n",
       "      <td>[-0.986429750919342, -0.04600934684276581, 0.5...</td>\n",
       "      <td>[17230.0, -0.469326705102944, 1.11145278248281...</td>\n",
       "    </tr>\n",
       "    <tr>\n",
       "      <th>1</th>\n",
       "      <td>229.564148</td>\n",
       "      <td>1.495882e+06</td>\n",
       "      <td>0.594617</td>\n",
       "      <td>1223.062744</td>\n",
       "      <td>[100602.8203125, -0.11010782420635223, 0.10655...</td>\n",
       "      <td>[-6698.8203125, -11.210525512695312, 7.0853958...</td>\n",
       "      <td>[0.0875319167971611, 0.0, 0.010229881852865219...</td>\n",
       "      <td>5.581712</td>\n",
       "      <td>71.346283</td>\n",
       "      <td>0.513062</td>\n",
       "      <td>8.446672</td>\n",
       "      <td>[0.12012144178152084, -0.0618152916431427, 0.0...</td>\n",
       "      <td>[-0.14102862775325775, -5.805891513824463, 4.3...</td>\n",
       "      <td>[93904.0, -11.3206331107815, 7.191950142623599...</td>\n",
       "    </tr>\n",
       "    <tr>\n",
       "      <th>2</th>\n",
       "      <td>426.424347</td>\n",
       "      <td>5.216996e+06</td>\n",
       "      <td>0.503197</td>\n",
       "      <td>2284.074219</td>\n",
       "      <td>[64066.16796875, -0.38061726093292236, 0.12962...</td>\n",
       "      <td>[12508.83203125, -5.241852283477783, 3.3509967...</td>\n",
       "      <td>[0.004252964165061712, 0.0, 0.0146360481157898...</td>\n",
       "      <td>2.938603</td>\n",
       "      <td>18.778042</td>\n",
       "      <td>0.322880</td>\n",
       "      <td>4.333364</td>\n",
       "      <td>[-0.6490756273269653, -0.20191118121147156, 0....</td>\n",
       "      <td>[0.263345330953598, -2.7147367000579834, 2.042...</td>\n",
       "      <td>[76575.0, -5.62246941906299, 3.48062317879011,...</td>\n",
       "    </tr>\n",
       "    <tr>\n",
       "      <th>3</th>\n",
       "      <td>530.228638</td>\n",
       "      <td>8.220026e+06</td>\n",
       "      <td>0.262495</td>\n",
       "      <td>2867.058838</td>\n",
       "      <td>[64082.4375, -0.38050615787506104, 0.129617974...</td>\n",
       "      <td>[-15702.4375, -2.4102649688720703, -1.59388697...</td>\n",
       "      <td>[0.0, 0.0, 0.02239852584898472, 0.003396582556...</td>\n",
       "      <td>0.692246</td>\n",
       "      <td>0.728761</td>\n",
       "      <td>0.135286</td>\n",
       "      <td>0.853675</td>\n",
       "      <td>[-0.6487330794334412, -0.2018536478281021, 0.0...</td>\n",
       "      <td>[-0.3305795192718506, -1.248267650604248, -0.9...</td>\n",
       "      <td>[48380.0, -2.79077103894771, -1.46426898705405...</td>\n",
       "    </tr>\n",
       "    <tr>\n",
       "      <th>4</th>\n",
       "      <td>1044.545410</td>\n",
       "      <td>3.260151e+07</td>\n",
       "      <td>0.329652</td>\n",
       "      <td>5709.773438</td>\n",
       "      <td>[125933.2890625, 0.39107441902160645, 0.039849...</td>\n",
       "      <td>[31273.7109375, 0.7796818017959595, 2.46118927...</td>\n",
       "      <td>[0.2401971071958542, 0.0, 0.019970163702964783...</td>\n",
       "      <td>1.589731</td>\n",
       "      <td>5.848005</td>\n",
       "      <td>0.249205</td>\n",
       "      <td>2.418265</td>\n",
       "      <td>[0.6533974409103394, 0.197745218873024, 0.0291...</td>\n",
       "      <td>[0.6583976745605469, 0.403794527053833, 1.4999...</td>\n",
       "      <td>[157207.0, 1.17075621526687, 2.50103820829712,...</td>\n",
       "    </tr>\n",
       "    <tr>\n",
       "      <th>5</th>\n",
       "      <td>205.554947</td>\n",
       "      <td>1.152827e+06</td>\n",
       "      <td>0.443736</td>\n",
       "      <td>1073.697998</td>\n",
       "      <td>[64097.7109375, -0.3804031014442444, 0.1296100...</td>\n",
       "      <td>[-5875.7109375, -0.9423859715461731, 1.4231581...</td>\n",
       "      <td>[0.000820515095256269, 0.0, 0.0209587011486291...</td>\n",
       "      <td>1.598017</td>\n",
       "      <td>4.700675</td>\n",
       "      <td>0.276829</td>\n",
       "      <td>2.168104</td>\n",
       "      <td>[-0.6484115719795227, -0.20180027186870575, 0....</td>\n",
       "      <td>[-0.1236998438835144, -0.48805832862854004, 0....</td>\n",
       "      <td>[58222.0, -1.32278906321956, 1.55276821126964,...</td>\n",
       "    </tr>\n",
       "    <tr>\n",
       "      <th>6</th>\n",
       "      <td>1293.982910</td>\n",
       "      <td>4.953072e+07</td>\n",
       "      <td>0.824960</td>\n",
       "      <td>7037.806152</td>\n",
       "      <td>[132426.53125, 0.5373673439025879, 0.019872020...</td>\n",
       "      <td>[-38547.53125, -13.37099838256836, 7.488917827...</td>\n",
       "      <td>[0.2842050790786743, 0.0, 0.018399760127067566...</td>\n",
       "      <td>6.062381</td>\n",
       "      <td>69.605370</td>\n",
       "      <td>0.671706</td>\n",
       "      <td>8.342983</td>\n",
       "      <td>[0.7900980114936829, 0.27350980043411255, 0.01...</td>\n",
       "      <td>[-0.8115315437316895, -6.924793243408203, 4.56...</td>\n",
       "      <td>[93879.0, -12.8336314219519, 7.50878980635543,...</td>\n",
       "    </tr>\n",
       "    <tr>\n",
       "      <th>7</th>\n",
       "      <td>175.153061</td>\n",
       "      <td>8.498958e+05</td>\n",
       "      <td>0.708146</td>\n",
       "      <td>921.897888</td>\n",
       "      <td>[97627.5859375, -0.13214048743247986, 0.108434...</td>\n",
       "      <td>[5048.4140625, -5.419981479644775, 5.569699764...</td>\n",
       "      <td>[0.081075519323349, 0.0, 0.012033868581056595,...</td>\n",
       "      <td>3.494400</td>\n",
       "      <td>23.353994</td>\n",
       "      <td>0.555087</td>\n",
       "      <td>4.832597</td>\n",
       "      <td>[0.057484500110149384, -0.07322593033313751, 0...</td>\n",
       "      <td>[0.1062830314040184, -2.8069894313812256, 3.39...</td>\n",
       "      <td>[102676.0, -5.5521221713523605, 5.678133912586...</td>\n",
       "    </tr>\n",
       "    <tr>\n",
       "      <th>8</th>\n",
       "      <td>288.617859</td>\n",
       "      <td>2.315222e+06</td>\n",
       "      <td>0.433717</td>\n",
       "      <td>1521.585449</td>\n",
       "      <td>[64089.0703125, -0.38046208024024963, 0.129614...</td>\n",
       "      <td>[-8329.0703125, -5.622959613800049, -4.0603461...</td>\n",
       "      <td>[0.004610396455973387, 0.0, 0.0137983886525034...</td>\n",
       "      <td>1.404835</td>\n",
       "      <td>3.395441</td>\n",
       "      <td>0.271386</td>\n",
       "      <td>1.842672</td>\n",
       "      <td>[-0.6485934853553772, -0.20183081924915314, 0....</td>\n",
       "      <td>[-0.17534983158111572, -2.9121110439300537, -2...</td>\n",
       "      <td>[55760.0, -6.00342167645829, -3.93073139597263...</td>\n",
       "    </tr>\n",
       "    <tr>\n",
       "      <th>9</th>\n",
       "      <td>1502.083374</td>\n",
       "      <td>6.740504e+07</td>\n",
       "      <td>0.592218</td>\n",
       "      <td>8210.057617</td>\n",
       "      <td>[99870.671875, -0.11552933603525162, 0.1070169...</td>\n",
       "      <td>[44968.328125, -6.307776927947998, 1.551497578...</td>\n",
       "      <td>[0.08628396689891815, 0.0, 0.01322791166603565...</td>\n",
       "      <td>2.510792</td>\n",
       "      <td>10.531478</td>\n",
       "      <td>0.308755</td>\n",
       "      <td>3.245224</td>\n",
       "      <td>[0.10470771044492722, -0.06462307274341583, 0....</td>\n",
       "      <td>[0.9467068910598755, -3.266775608062744, 0.945...</td>\n",
       "      <td>[144839.0, -6.4233064564522095, 1.658514508760...</td>\n",
       "    </tr>\n",
       "  </tbody>\n",
       "</table>\n",
       "</div>"
      ],
      "text/plain": [
       "   denormalized_MAE  denormalized_MSE  denormalized_MSLE  denormalized_RMSE  \\\n",
       "0       1563.083374      7.318019e+07           0.270502        8554.541992   \n",
       "1        229.564148      1.495882e+06           0.594617        1223.062744   \n",
       "2        426.424347      5.216996e+06           0.503197        2284.074219   \n",
       "3        530.228638      8.220026e+06           0.262495        2867.058838   \n",
       "4       1044.545410      3.260151e+07           0.329652        5709.773438   \n",
       "5        205.554947      1.152827e+06           0.443736        1073.697998   \n",
       "6       1293.982910      4.953072e+07           0.824960        7037.806152   \n",
       "7        175.153061      8.498958e+05           0.708146         921.897888   \n",
       "8        288.617859      2.315222e+06           0.433717        1521.585449   \n",
       "9       1502.083374      6.740504e+07           0.592218        8210.057617   \n",
       "\n",
       "                         denormalized_reconstruction  \\\n",
       "0  [64085.15234375, -0.3804877996444702, 0.129616...   \n",
       "1  [100602.8203125, -0.11010782420635223, 0.10655...   \n",
       "2  [64066.16796875, -0.38061726093292236, 0.12962...   \n",
       "3  [64082.4375, -0.38050615787506104, 0.129617974...   \n",
       "4  [125933.2890625, 0.39107441902160645, 0.039849...   \n",
       "5  [64097.7109375, -0.3804031014442444, 0.1296100...   \n",
       "6  [132426.53125, 0.5373673439025879, 0.019872020...   \n",
       "7  [97627.5859375, -0.13214048743247986, 0.108434...   \n",
       "8  [64089.0703125, -0.38046208024024963, 0.129614...   \n",
       "9  [99870.671875, -0.11552933603525162, 0.1070169...   \n",
       "\n",
       "                  denormalized_reconstruction_errors  \\\n",
       "0  [-46855.15234375, -0.08883890509605408, 0.9818...   \n",
       "1  [-6698.8203125, -11.210525512695312, 7.0853958...   \n",
       "2  [12508.83203125, -5.241852283477783, 3.3509967...   \n",
       "3  [-15702.4375, -2.4102649688720703, -1.59388697...   \n",
       "4  [31273.7109375, 0.7796818017959595, 2.46118927...   \n",
       "5  [-5875.7109375, -0.9423859715461731, 1.4231581...   \n",
       "6  [-38547.53125, -13.37099838256836, 7.488917827...   \n",
       "7  [5048.4140625, -5.419981479644775, 5.569699764...   \n",
       "8  [-8329.0703125, -5.622959613800049, -4.0603461...   \n",
       "9  [44968.328125, -6.307776927947998, 1.551497578...   \n",
       "\n",
       "                                             encoded  normalized_MAE  \\\n",
       "0  [0.0, 0.0, 0.022413315251469612, 0.00342315738...        0.657085   \n",
       "1  [0.0875319167971611, 0.0, 0.010229881852865219...        5.581712   \n",
       "2  [0.004252964165061712, 0.0, 0.0146360481157898...        2.938603   \n",
       "3  [0.0, 0.0, 0.02239852584898472, 0.003396582556...        0.692246   \n",
       "4  [0.2401971071958542, 0.0, 0.019970163702964783...        1.589731   \n",
       "5  [0.000820515095256269, 0.0, 0.0209587011486291...        1.598017   \n",
       "6  [0.2842050790786743, 0.0, 0.018399760127067566...        6.062381   \n",
       "7  [0.081075519323349, 0.0, 0.012033868581056595,...        3.494400   \n",
       "8  [0.004610396455973387, 0.0, 0.0137983886525034...        1.404835   \n",
       "9  [0.08628396689891815, 0.0, 0.01322791166603565...        2.510792   \n",
       "\n",
       "   normalized_MSE  normalized_MSLE  normalized_RMSE  \\\n",
       "0        1.072581         0.120190         1.035655   \n",
       "1       71.346283         0.513062         8.446672   \n",
       "2       18.778042         0.322880         4.333364   \n",
       "3        0.728761         0.135286         0.853675   \n",
       "4        5.848005         0.249205         2.418265   \n",
       "5        4.700675         0.276829         2.168104   \n",
       "6       69.605370         0.671706         8.342983   \n",
       "7       23.353994         0.555087         4.832597   \n",
       "8        3.395441         0.271386         1.842672   \n",
       "9       10.531478         0.308755         3.245224   \n",
       "\n",
       "                           normalized_reconstruction  \\\n",
       "0  [-0.6486759781837463, -0.20184414088726044, 0....   \n",
       "1  [0.12012144178152084, -0.0618152916431427, 0.0...   \n",
       "2  [-0.6490756273269653, -0.20191118121147156, 0....   \n",
       "3  [-0.6487330794334412, -0.2018536478281021, 0.0...   \n",
       "4  [0.6533974409103394, 0.197745218873024, 0.0291...   \n",
       "5  [-0.6484115719795227, -0.20180027186870575, 0....   \n",
       "6  [0.7900980114936829, 0.27350980043411255, 0.01...   \n",
       "7  [0.057484500110149384, -0.07322593033313751, 0...   \n",
       "8  [-0.6485934853553772, -0.20183081924915314, 0....   \n",
       "9  [0.10470771044492722, -0.06462307274341583, 0....   \n",
       "\n",
       "                    normalized_reconstruction_errors  \\\n",
       "0  [-0.986429750919342, -0.04600934684276581, 0.5...   \n",
       "1  [-0.14102862775325775, -5.805891513824463, 4.3...   \n",
       "2  [0.263345330953598, -2.7147367000579834, 2.042...   \n",
       "3  [-0.3305795192718506, -1.248267650604248, -0.9...   \n",
       "4  [0.6583976745605469, 0.403794527053833, 1.4999...   \n",
       "5  [-0.1236998438835144, -0.48805832862854004, 0....   \n",
       "6  [-0.8115315437316895, -6.924793243408203, 4.56...   \n",
       "7  [0.1062830314040184, -2.8069894313812256, 3.39...   \n",
       "8  [-0.17534983158111572, -2.9121110439300537, -2...   \n",
       "9  [0.9467068910598755, -3.266775608062744, 0.945...   \n",
       "\n",
       "                                         input_layer  \n",
       "0  [17230.0, -0.469326705102944, 1.11145278248281...  \n",
       "1  [93904.0, -11.3206331107815, 7.191950142623599...  \n",
       "2  [76575.0, -5.62246941906299, 3.48062317879011,...  \n",
       "3  [48380.0, -2.79077103894771, -1.46426898705405...  \n",
       "4  [157207.0, 1.17075621526687, 2.50103820829712,...  \n",
       "5  [58222.0, -1.32278906321956, 1.55276821126964,...  \n",
       "6  [93879.0, -12.8336314219519, 7.50878980635543,...  \n",
       "7  [102676.0, -5.5521221713523605, 5.678133912586...  \n",
       "8  [55760.0, -6.00342167645829, -3.93073139597263...  \n",
       "9  [144839.0, -6.4233064564522095, 1.658514508760...  "
      ]
     },
     "execution_count": 48,
     "metadata": {},
     "output_type": "execute_result"
    }
   ],
   "source": [
    "bq.query(f\"\"\"\n",
    "SELECT *\n",
    "FROM ML.PREDICT (MODEL `{bq_models[1]}`,(\n",
    "    SELECT features_array as input_layer\n",
    "    FROM `{BQ_PROJECT}.{BQ_DATASET}.{BQ_TABLE}`\n",
    "    WHERE splits = 'TEST' and class = 1\n",
    "    LIMIT 10)\n",
    "  )\n",
    "\"\"\").to_dataframe()"
   ]
  },
  {
   "cell_type": "code",
   "execution_count": 49,
   "id": "34f90dff-64da-4e8f-94d1-9353fc5a150d",
   "metadata": {
    "tags": []
   },
   "outputs": [
    {
     "data": {
      "text/html": [
       "<div>\n",
       "<style scoped>\n",
       "    .dataframe tbody tr th:only-of-type {\n",
       "        vertical-align: middle;\n",
       "    }\n",
       "\n",
       "    .dataframe tbody tr th {\n",
       "        vertical-align: top;\n",
       "    }\n",
       "\n",
       "    .dataframe thead th {\n",
       "        text-align: right;\n",
       "    }\n",
       "</style>\n",
       "<table border=\"1\" class=\"dataframe\">\n",
       "  <thead>\n",
       "    <tr style=\"text-align: right;\">\n",
       "      <th></th>\n",
       "      <th>output_0</th>\n",
       "      <th>keras_tensor_10</th>\n",
       "    </tr>\n",
       "  </thead>\n",
       "  <tbody>\n",
       "    <tr>\n",
       "      <th>0</th>\n",
       "      <td>[64085.15234375, -0.3804877996444702, 0.129616...</td>\n",
       "      <td>[17230.0, -0.469326705102944, 1.11145278248281...</td>\n",
       "    </tr>\n",
       "    <tr>\n",
       "      <th>1</th>\n",
       "      <td>[100602.828125, -0.11010780185461044, 0.106554...</td>\n",
       "      <td>[93904.0, -11.3206331107815, 7.191950142623599...</td>\n",
       "    </tr>\n",
       "    <tr>\n",
       "      <th>2</th>\n",
       "      <td>[64066.16796875, -0.38061726093292236, 0.12962...</td>\n",
       "      <td>[76575.0, -5.62246941906299, 3.48062317879011,...</td>\n",
       "    </tr>\n",
       "    <tr>\n",
       "      <th>3</th>\n",
       "      <td>[64082.4375, -0.38050615787506104, 0.129617974...</td>\n",
       "      <td>[48380.0, -2.79077103894771, -1.46426898705405...</td>\n",
       "    </tr>\n",
       "    <tr>\n",
       "      <th>4</th>\n",
       "      <td>[125933.2890625, 0.39107441902160645, 0.039849...</td>\n",
       "      <td>[157207.0, 1.17075621526687, 2.50103820829712,...</td>\n",
       "    </tr>\n",
       "    <tr>\n",
       "      <th>5</th>\n",
       "      <td>[64097.7109375, -0.3804031014442444, 0.1296100...</td>\n",
       "      <td>[58222.0, -1.32278906321956, 1.55276821126964,...</td>\n",
       "    </tr>\n",
       "    <tr>\n",
       "      <th>6</th>\n",
       "      <td>[132426.53125, 0.5373673439025879, 0.019872032...</td>\n",
       "      <td>[93879.0, -12.8336314219519, 7.50878980635543,...</td>\n",
       "    </tr>\n",
       "    <tr>\n",
       "      <th>7</th>\n",
       "      <td>[97627.5859375, -0.13214048743247986, 0.108434...</td>\n",
       "      <td>[102676.0, -5.5521221713523605, 5.678133912586...</td>\n",
       "    </tr>\n",
       "    <tr>\n",
       "      <th>8</th>\n",
       "      <td>[64089.0703125, -0.38046208024024963, 0.129614...</td>\n",
       "      <td>[55760.0, -6.00342167645829, -3.93073139597263...</td>\n",
       "    </tr>\n",
       "    <tr>\n",
       "      <th>9</th>\n",
       "      <td>[99870.671875, -0.11552933603525162, 0.1070169...</td>\n",
       "      <td>[144839.0, -6.4233064564522095, 1.658514508760...</td>\n",
       "    </tr>\n",
       "  </tbody>\n",
       "</table>\n",
       "</div>"
      ],
      "text/plain": [
       "                                            output_0  \\\n",
       "0  [64085.15234375, -0.3804877996444702, 0.129616...   \n",
       "1  [100602.828125, -0.11010780185461044, 0.106554...   \n",
       "2  [64066.16796875, -0.38061726093292236, 0.12962...   \n",
       "3  [64082.4375, -0.38050615787506104, 0.129617974...   \n",
       "4  [125933.2890625, 0.39107441902160645, 0.039849...   \n",
       "5  [64097.7109375, -0.3804031014442444, 0.1296100...   \n",
       "6  [132426.53125, 0.5373673439025879, 0.019872032...   \n",
       "7  [97627.5859375, -0.13214048743247986, 0.108434...   \n",
       "8  [64089.0703125, -0.38046208024024963, 0.129614...   \n",
       "9  [99870.671875, -0.11552933603525162, 0.1070169...   \n",
       "\n",
       "                                     keras_tensor_10  \n",
       "0  [17230.0, -0.469326705102944, 1.11145278248281...  \n",
       "1  [93904.0, -11.3206331107815, 7.191950142623599...  \n",
       "2  [76575.0, -5.62246941906299, 3.48062317879011,...  \n",
       "3  [48380.0, -2.79077103894771, -1.46426898705405...  \n",
       "4  [157207.0, 1.17075621526687, 2.50103820829712,...  \n",
       "5  [58222.0, -1.32278906321956, 1.55276821126964,...  \n",
       "6  [93879.0, -12.8336314219519, 7.50878980635543,...  \n",
       "7  [102676.0, -5.5521221713523605, 5.678133912586...  \n",
       "8  [55760.0, -6.00342167645829, -3.93073139597263...  \n",
       "9  [144839.0, -6.4233064564522095, 1.658514508760...  "
      ]
     },
     "execution_count": 49,
     "metadata": {},
     "output_type": "execute_result"
    }
   ],
   "source": [
    "bq.query(f\"\"\"\n",
    "SELECT *\n",
    "FROM ML.PREDICT (MODEL `{bq_models[2]}`,(\n",
    "    SELECT features_array as keras_tensor_10\n",
    "    FROM `{BQ_PROJECT}.{BQ_DATASET}.{BQ_TABLE}`\n",
    "    WHERE splits = 'TEST' and class = 1\n",
    "    LIMIT 10)\n",
    "  )\n",
    "\"\"\").to_dataframe()"
   ]
  },
  {
   "cell_type": "code",
   "execution_count": null,
   "id": "ea826dfa-eef6-4089-9204-589b6a931edf",
   "metadata": {},
   "outputs": [],
   "source": []
  },
  {
   "cell_type": "code",
   "execution_count": null,
   "id": "ae2d1c2c-49bd-466c-8d45-bc7c2e65287a",
   "metadata": {},
   "outputs": [],
   "source": []
  }
 ],
 "metadata": {
  "environment": {
   "kernel": "conda-base-py",
   "name": "workbench-notebooks.m125",
   "type": "gcloud",
   "uri": "us-docker.pkg.dev/deeplearning-platform-release/gcr.io/workbench-notebooks:m125"
  },
  "kernelspec": {
   "display_name": "Python 3 (ipykernel) (Local)",
   "language": "python",
   "name": "conda-base-py"
  },
  "language_info": {
   "codemirror_mode": {
    "name": "ipython",
    "version": 3
   },
   "file_extension": ".py",
   "mimetype": "text/x-python",
   "name": "python",
   "nbconvert_exporter": "python",
   "pygments_lexer": "ipython3",
   "version": "3.10.15"
  }
 },
 "nbformat": 4,
 "nbformat_minor": 5
}
