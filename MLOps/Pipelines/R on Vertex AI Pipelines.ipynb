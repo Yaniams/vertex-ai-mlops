{
 "cells": [
  {
   "cell_type": "markdown",
   "id": "b064a157-7ce6-49f2-8b12-fb701d1447f5",
   "metadata": {},
   "source": [
    "# R on Vertex AI Pipelines\n",
    "\n",
    "Run an R script in a Vertex AI Pipeline use KFP components."
   ]
  },
  {
   "cell_type": "code",
   "execution_count": null,
   "id": "ce0d09b8-fdd1-4139-bed6-b9b27776b278",
   "metadata": {},
   "outputs": [],
   "source": []
  },
  {
   "cell_type": "code",
   "execution_count": 4,
   "id": "5cd7f0e3-7fb1-46dc-bde1-4594dcde35e6",
   "metadata": {
    "tags": []
   },
   "outputs": [],
   "source": [
    "r_file = '../../08 - R/code/train.R'"
   ]
  },
  {
   "cell_type": "code",
   "execution_count": 5,
   "id": "3cc21fe2-3baf-4c94-8c6c-4a4b6782a2d9",
   "metadata": {
    "tags": []
   },
   "outputs": [],
   "source": [
    "with open(r_file, 'r') as file:\n",
    "    r_script = file.read()"
   ]
  },
  {
   "cell_type": "code",
   "execution_count": 6,
   "id": "cc2e1261-eaad-4d2b-82f5-0c2b02574d12",
   "metadata": {
    "tags": []
   },
   "outputs": [
    {
     "name": "stdout",
     "output_type": "stream",
     "text": [
      "# library import\n",
      "library(bigrquery)\n",
      "library(dplyr)\n",
      "\n",
      "# inputs\n",
      "args <- commandArgs(trailingOnly = TRUE)\n",
      "bq_project <- args[1]\n",
      "bq_dataset <- args[2]\n",
      "bq_table <- args[3]\n",
      "var_target <- args[4]\n",
      "var_omit <- args[5]\n",
      "\n",
      "# data source\n",
      "get_data <- function(s){\n",
      "    \n",
      "    # query for table\n",
      "    query <- sprintf('\n",
      "        SELECT * EXCEPT(%s)\n",
      "        FROM `%s.%s.%s`\n",
      "        WHERE splits = \"%s\"\n",
      "    ', var_omit, bq_project, bq_dataset, bq_table, s)\n",
      "    \n",
      "    # connect to table\n",
      "    table <- bq_project_query(bq_project, query)\n",
      "    \n",
      "    # load table to dataframe\n",
      "    return(bq_table_download(table, n_max = Inf))\n",
      "\n",
      "}\n",
      "train <- get_data(\"TRAIN\")\n",
      "test <- get_data(\"TEST\")\n",
      "\n",
      "# logistic regression model\n",
      "model_exp = paste0(var_target, \"~ .\")\n",
      "\n",
      "model <- glm(\n",
      "    as.formula(model_exp),\n",
      "    data = train,\n",
      "    family = binomial)\n",
      "\n",
      "# predictions for evaluation\n",
      "preds <- predict(model, test, type = \"response\")\n",
      "\n",
      "# evaluate\n",
      "actual <- test[, var_target]\n",
      "names(actual) <- 'actual'\n",
      "pred <- tibble(round(preds))\n",
      "names(pred) <- 'pred'\n",
      "results <- cbind(actual, pred)\n",
      "cm <- table(results)\n",
      "\n",
      "# save model to file\n",
      "saveRDS(model, \"model.rds\")\n",
      "\n",
      "# get GCS fusemount location to save file to:\n",
      "path <- sub('gs://', '/gcs/', Sys.getenv('AIP_MODEL_DIR'))\n",
      "#system2('cp', c('model.rds', path))\n",
      "\n",
      "# copy model file to GCS\n",
      "system2('gsutil', c('cp', 'model.rds', Sys.getenv('AIP_MODEL_DIR')))\n",
      "\n"
     ]
    }
   ],
   "source": [
    "print(r_script)"
   ]
  },
  {
   "cell_type": "markdown",
   "id": "00e28707-d9f3-4a74-a2f9-8eef1ae241fb",
   "metadata": {},
   "source": [
    "add some more output to the script:\n",
    "writeLines(paste('project:\", bq_project, 'dataset:', bq_dataset))"
   ]
  },
  {
   "cell_type": "code",
   "execution_count": 9,
   "id": "c1905360-45cf-47d7-b98c-6fbe05c7d064",
   "metadata": {
    "colab": {
     "base_uri": "https://localhost:8080/",
     "height": 35
    },
    "executionInfo": {
     "elapsed": 2124,
     "status": "ok",
     "timestamp": 1683726390544,
     "user": {
      "displayName": "Mike Henderson",
      "userId": "07691629187611687318"
     },
     "user_tz": 240
    },
    "id": "xzcoXjM5Rky5",
    "outputId": "b3bdcbc1-70d5-472e-aea2-42c74a42efde",
    "tags": []
   },
   "outputs": [
    {
     "data": {
      "text/plain": [
       "'statmike-mlops-349915'"
      ]
     },
     "execution_count": 9,
     "metadata": {},
     "output_type": "execute_result"
    }
   ],
   "source": [
    "project = !gcloud config get-value project\n",
    "PROJECT_ID = project[0]\n",
    "PROJECT_ID"
   ]
  },
  {
   "cell_type": "code",
   "execution_count": 10,
   "id": "7475544d-2b29-44f3-8d3a-4ba4cea3984d",
   "metadata": {
    "executionInfo": {
     "elapsed": 2,
     "status": "ok",
     "timestamp": 1683726390712,
     "user": {
      "displayName": "Mike Henderson",
      "userId": "07691629187611687318"
     },
     "user_tz": 240
    },
    "id": "IxWrFtqYMfku",
    "tags": []
   },
   "outputs": [],
   "source": [
    "REGION = 'us-central1'\n",
    "EXPERIMENT = 'frameworks'\n",
    "SERIES = 'r-pipeline'\n",
    "\n",
    "# gcs bucket\n",
    "GCS_BUCKET = PROJECT_ID"
   ]
  },
  {
   "cell_type": "code",
   "execution_count": 25,
   "id": "d84199bc-9413-4b59-9696-7ed7f30c0753",
   "metadata": {},
   "outputs": [],
   "source": [
    "import os, typing\n",
    "from google.cloud import aiplatform\n",
    "import kfp"
   ]
  },
  {
   "cell_type": "code",
   "execution_count": 12,
   "id": "cacbf6da-c5af-4511-b8a1-ff0d84180da1",
   "metadata": {},
   "outputs": [],
   "source": [
    "# vertex ai clients\n",
    "aiplatform.init(project = PROJECT_ID, location = REGION)"
   ]
  },
  {
   "cell_type": "code",
   "execution_count": 15,
   "id": "74bcc07b-fb53-42b1-a61e-58820c8c8cb7",
   "metadata": {
    "tags": []
   },
   "outputs": [],
   "source": [
    "DIR = f\"temp/{SERIES}-{EXPERIMENT}\""
   ]
  },
  {
   "cell_type": "code",
   "execution_count": 16,
   "id": "1b660c17-0281-48d7-b612-c96bd843556e",
   "metadata": {
    "tags": []
   },
   "outputs": [
    {
     "data": {
      "text/plain": [
       "'1026793852137-compute@developer.gserviceaccount.com'"
      ]
     },
     "execution_count": 16,
     "metadata": {},
     "output_type": "execute_result"
    }
   ],
   "source": [
    "SERVICE_ACCOUNT = !gcloud config list --format='value(core.account)' \n",
    "SERVICE_ACCOUNT = SERVICE_ACCOUNT[0]\n",
    "SERVICE_ACCOUNT"
   ]
  },
  {
   "cell_type": "markdown",
   "id": "8aa1d6b9-510e-490b-a78f-bdc6101a96d2",
   "metadata": {},
   "source": [
    "environment:\n",
    "- make a local folder for temporary storage"
   ]
  },
  {
   "cell_type": "code",
   "execution_count": 19,
   "id": "4bdf9775-1387-4927-9cfa-de7bb7a5eda5",
   "metadata": {
    "tags": []
   },
   "outputs": [],
   "source": [
    "if not os.path.exists(DIR):\n",
    "    os.makedirs(DIR)"
   ]
  },
  {
   "cell_type": "code",
   "execution_count": 20,
   "id": "69d7e296-cd09-4300-91f2-26773e02752e",
   "metadata": {},
   "outputs": [],
   "source": [
    "kfp.local.init(\n",
    "    runner = kfp.local.DockerRunner(),\n",
    "    pipeline_root = DIR\n",
    ")"
   ]
  },
  {
   "cell_type": "code",
   "execution_count": 56,
   "id": "8cf51c65-8938-419a-980f-13d8eb012389",
   "metadata": {
    "tags": []
   },
   "outputs": [],
   "source": [
    "@kfp.dsl.container_component\n",
    "def r_container(\n",
    "    r_script: str,\n",
    "    r_args: str,\n",
    "    r_libs: str\n",
    "):\n",
    "    install_command = ''\n",
    "    if r_libs:\n",
    "        install_command = f\"\"\"R -e \"install.packages(c({r_libs}), repos=\\'http://cran.us.r-project.org\\')\" && \"\"\"\n",
    "\n",
    "    script_args = ''\n",
    "    if r_args:\n",
    "        script_args = r_args \n",
    "\n",
    "    return kfp.dsl.ContainerSpec(\n",
    "        image='r-base:latest',\n",
    "        command=['sh', '-c'],\n",
    "        args=[\n",
    "            f\"\"\"\n",
    "            {install_command} \\\\\n",
    "            Rscript -e '{r_script}' -- {script_args}\n",
    "            \"\"\"\n",
    "        ]\n",
    "    )"
   ]
  },
  {
   "cell_type": "code",
   "execution_count": 57,
   "id": "878c0118-ce62-4e0e-8f98-ea745db21f7f",
   "metadata": {
    "tags": []
   },
   "outputs": [],
   "source": [
    "@kfp.dsl.pipeline(\n",
    "    name = f'{SERIES}-{EXPERIMENT}',\n",
    ")\n",
    "def r_pipeline(\n",
    "    bq_project: str,\n",
    "    bq_dataset: str,\n",
    "    bq_table: str,\n",
    "    var_target: str,\n",
    "    var_omit: str,\n",
    "    r_script: str\n",
    "):\n",
    "    \n",
    "    r_job = r_container(\n",
    "        r_script = r_script,\n",
    "        r_args = f\"{bq_project} {bq_dataset} {bq_table} {var_target} {var_omit}\",\n",
    "        r_libs = \"'dplyr', 'bigrquery'\"\n",
    "    )"
   ]
  },
  {
   "cell_type": "code",
   "execution_count": 58,
   "id": "373d0d68-9934-42eb-abcb-a93900209ec5",
   "metadata": {},
   "outputs": [],
   "source": [
    "kfp.compiler.Compiler().compile(\n",
    "    pipeline_func = r_pipeline,\n",
    "    package_path = f'{DIR}/{SERIES}-{EXPERIMENT}.yaml'\n",
    ")"
   ]
  },
  {
   "cell_type": "code",
   "execution_count": 59,
   "id": "bd55ad44-c44f-4d0f-ba2b-9a0fc5abef28",
   "metadata": {},
   "outputs": [
    {
     "name": "stdout",
     "output_type": "stream",
     "text": [
      "02:13:09.124 - INFO - Running pipeline: \u001b[95m'r-pipeline-frameworks'\u001b[0m\n",
      "--------------------------------------------------------------------------------\n",
      "02:13:09.128 - INFO - Executing task \u001b[96m'r-container'\u001b[0m\n",
      "02:13:09.129 - INFO - Streamed logs:\n",
      "\n",
      "    Found image 'r-base:latest'\n",
      "\n",
      "    \n",
      "    R version 4.4.3 (2025-02-28) -- \"Trophy Case\"\n",
      "    Copyright (C) 2025 The R Foundation for Statistical Computing\n",
      "    Platform: x86_64-pc-linux-gnu\n",
      "    \n",
      "    R is free software and comes with ABSOLUTELY NO WARRANTY.\n",
      "    You are welcome to redistribute it under certain conditions.\n",
      "    Type 'license()' or 'licence()' for distribution details.\n",
      "    \n",
      "      Natural language support but running in an English locale\n",
      "    \n",
      "    R is a collaborative project with many contributors.\n",
      "    Type 'contributors()' for more information and\n",
      "    'citation()' on how to cite R or R packages in publications.\n",
      "    \n",
      "    Type 'demo()' for some demos, 'help()' for on-line help, or\n",
      "    'help.start()' for an HTML browser interface to help.\n",
      "    Type 'q()' to quit R.\n",
      "    \n",
      "    > install.packages(c('dplyr', 'bigrquery'), repos='http://cran.us.r-project.org')\n",
      "    Installing packages into ‘/usr/local/lib/R/site-library’\n",
      "    (as ‘lib’ is unspecified)\n",
      "    Warning: unable to access index for repository http://cran.us.r-project.org/src/contrib:\n",
      "      cannot open URL 'http://cran.us.r-project.org/src/contrib/PACKAGES'\n",
      "    Warning message:\n",
      "    packages ‘dplyr’, ‘bigrquery’ are not available for this version of R\n",
      "    \n",
      "    Versions of these packages for your version of R might be available elsewhere,\n",
      "    see the ideas at\n",
      "    https://cran.r-project.org/doc/manuals/r-patched/R-admin.html#Installing-packages \n",
      "    > \n",
      "    > \n",
      "    Error in library(bigrquery) : there is no package called ‘bigrquery’\n",
      "    Execution halted\n",
      "    sh: 20: Syntax error: \"(\" unexpected\n",
      "02:16:11.063 - ERROR - Task \u001b[96m'r-container'\u001b[0m finished with status \u001b[91mFAILURE\u001b[0m\n",
      "--------------------------------------------------------------------------------\n"
     ]
    },
    {
     "ename": "RuntimeError",
     "evalue": "Pipeline \u001b[95m'r-pipeline-frameworks'\u001b[0m finished with status \u001b[91mFAILURE\u001b[0m. Inner task failed: \u001b[96m'r-container'\u001b[0m.",
     "output_type": "error",
     "traceback": [
      "\u001b[0;31m---------------------------------------------------------------------------\u001b[0m",
      "\u001b[0;31mRuntimeError\u001b[0m                              Traceback (most recent call last)",
      "Cell \u001b[0;32mIn[59], line 1\u001b[0m\n\u001b[0;32m----> 1\u001b[0m test_pipeline \u001b[38;5;241m=\u001b[39m \u001b[43mr_pipeline\u001b[49m\u001b[43m(\u001b[49m\n\u001b[1;32m      2\u001b[0m \u001b[43m    \u001b[49m\u001b[43mbq_project\u001b[49m\u001b[43m \u001b[49m\u001b[38;5;241;43m=\u001b[39;49m\u001b[43m \u001b[49m\u001b[43mPROJECT_ID\u001b[49m\u001b[43m,\u001b[49m\n\u001b[1;32m      3\u001b[0m \u001b[43m    \u001b[49m\u001b[43mbq_dataset\u001b[49m\u001b[43m \u001b[49m\u001b[38;5;241;43m=\u001b[39;49m\u001b[43m \u001b[49m\u001b[43mSERIES\u001b[49m\u001b[43m,\u001b[49m\n\u001b[1;32m      4\u001b[0m \u001b[43m    \u001b[49m\u001b[43mbq_table\u001b[49m\u001b[43m \u001b[49m\u001b[38;5;241;43m=\u001b[39;49m\u001b[43m \u001b[49m\u001b[43mEXPERIMENT\u001b[49m\u001b[43m,\u001b[49m\n\u001b[1;32m      5\u001b[0m \u001b[43m    \u001b[49m\u001b[43mvar_target\u001b[49m\u001b[43m \u001b[49m\u001b[38;5;241;43m=\u001b[39;49m\u001b[43m \u001b[49m\u001b[38;5;124;43m'\u001b[39;49m\u001b[38;5;124;43mClass\u001b[39;49m\u001b[38;5;124;43m'\u001b[39;49m\u001b[43m,\u001b[49m\n\u001b[1;32m      6\u001b[0m \u001b[43m    \u001b[49m\u001b[43mvar_omit\u001b[49m\u001b[43m \u001b[49m\u001b[38;5;241;43m=\u001b[39;49m\u001b[43m \u001b[49m\u001b[38;5;124;43m'\u001b[39;49m\u001b[38;5;124;43mtransaction_id\u001b[39;49m\u001b[38;5;124;43m'\u001b[39;49m\u001b[43m,\u001b[49m\n\u001b[1;32m      7\u001b[0m \u001b[43m    \u001b[49m\u001b[43mr_script\u001b[49m\u001b[43m \u001b[49m\u001b[38;5;241;43m=\u001b[39;49m\u001b[43m \u001b[49m\u001b[43mr_script\u001b[49m\n\u001b[1;32m      8\u001b[0m \u001b[43m)\u001b[49m\n",
      "File \u001b[0;32m~/.local/lib/python3.10/site-packages/kfp/dsl/base_component.py:101\u001b[0m, in \u001b[0;36mBaseComponent.__call__\u001b[0;34m(self, *args, **kwargs)\u001b[0m\n\u001b[1;32m     94\u001b[0m     arguments \u001b[38;5;241m=\u001b[39m \u001b[38;5;124m'\u001b[39m\u001b[38;5;124m, \u001b[39m\u001b[38;5;124m'\u001b[39m\u001b[38;5;241m.\u001b[39mjoin(\n\u001b[1;32m     95\u001b[0m         arg_name\u001b[38;5;241m.\u001b[39mreplace(\u001b[38;5;124m'\u001b[39m\u001b[38;5;124m-\u001b[39m\u001b[38;5;124m'\u001b[39m, \u001b[38;5;124m'\u001b[39m\u001b[38;5;124m_\u001b[39m\u001b[38;5;124m'\u001b[39m) \u001b[38;5;28;01mfor\u001b[39;00m arg_name \u001b[38;5;129;01min\u001b[39;00m missing_arguments)\n\u001b[1;32m     97\u001b[0m     \u001b[38;5;28;01mraise\u001b[39;00m \u001b[38;5;167;01mTypeError\u001b[39;00m(\n\u001b[1;32m     98\u001b[0m         \u001b[38;5;124mf\u001b[39m\u001b[38;5;124m'\u001b[39m\u001b[38;5;132;01m{\u001b[39;00m\u001b[38;5;28mself\u001b[39m\u001b[38;5;241m.\u001b[39mname\u001b[38;5;132;01m}\u001b[39;00m\u001b[38;5;124m() missing \u001b[39m\u001b[38;5;132;01m{\u001b[39;00m\u001b[38;5;28mlen\u001b[39m(missing_arguments)\u001b[38;5;132;01m}\u001b[39;00m\u001b[38;5;124m required \u001b[39m\u001b[38;5;124m'\u001b[39m\n\u001b[1;32m     99\u001b[0m         \u001b[38;5;124mf\u001b[39m\u001b[38;5;124m'\u001b[39m\u001b[38;5;132;01m{\u001b[39;00margument_or_arguments\u001b[38;5;132;01m}\u001b[39;00m\u001b[38;5;124m: \u001b[39m\u001b[38;5;132;01m{\u001b[39;00marguments\u001b[38;5;132;01m}\u001b[39;00m\u001b[38;5;124m.\u001b[39m\u001b[38;5;124m'\u001b[39m)\n\u001b[0;32m--> 101\u001b[0m \u001b[38;5;28;01mreturn\u001b[39;00m \u001b[43mpipeline_task\u001b[49m\u001b[38;5;241;43m.\u001b[39;49m\u001b[43mPipelineTask\u001b[49m\u001b[43m(\u001b[49m\n\u001b[1;32m    102\u001b[0m \u001b[43m    \u001b[49m\u001b[43mcomponent_spec\u001b[49m\u001b[38;5;241;43m=\u001b[39;49m\u001b[38;5;28;43mself\u001b[39;49m\u001b[38;5;241;43m.\u001b[39;49m\u001b[43mcomponent_spec\u001b[49m\u001b[43m,\u001b[49m\n\u001b[1;32m    103\u001b[0m \u001b[43m    \u001b[49m\u001b[43margs\u001b[49m\u001b[38;5;241;43m=\u001b[39;49m\u001b[43mtask_inputs\u001b[49m\u001b[43m,\u001b[49m\n\u001b[1;32m    104\u001b[0m \u001b[43m    \u001b[49m\u001b[43mexecute_locally\u001b[49m\u001b[38;5;241;43m=\u001b[39;49m\u001b[43mpipeline_context\u001b[49m\u001b[38;5;241;43m.\u001b[39;49m\u001b[43mPipeline\u001b[49m\u001b[38;5;241;43m.\u001b[39;49m\u001b[43mget_default_pipeline\u001b[49m\u001b[43m(\u001b[49m\u001b[43m)\u001b[49m\u001b[43m \u001b[49m\u001b[38;5;129;43;01mis\u001b[39;49;00m\n\u001b[1;32m    105\u001b[0m \u001b[43m    \u001b[49m\u001b[38;5;28;43;01mNone\u001b[39;49;00m\u001b[43m,\u001b[49m\n\u001b[1;32m    106\u001b[0m \u001b[43m    \u001b[49m\u001b[43mexecution_caching_default\u001b[49m\u001b[38;5;241;43m=\u001b[39;49m\u001b[43mpipeline_context\u001b[49m\u001b[38;5;241;43m.\u001b[39;49m\u001b[43mPipeline\u001b[49m\n\u001b[1;32m    107\u001b[0m \u001b[43m    \u001b[49m\u001b[38;5;241;43m.\u001b[39;49m\u001b[43mget_execution_caching_default\u001b[49m\u001b[43m(\u001b[49m\u001b[43m)\u001b[49m\u001b[43m,\u001b[49m\n\u001b[1;32m    108\u001b[0m \u001b[43m\u001b[49m\u001b[43m)\u001b[49m\n",
      "File \u001b[0;32m~/.local/lib/python3.10/site-packages/kfp/dsl/pipeline_task.py:187\u001b[0m, in \u001b[0;36mPipelineTask.__init__\u001b[0;34m(self, component_spec, args, execute_locally, execution_caching_default, execution_cache_key)\u001b[0m\n\u001b[1;32m    178\u001b[0m \u001b[38;5;28mself\u001b[39m\u001b[38;5;241m.\u001b[39m_channel_inputs \u001b[38;5;241m=\u001b[39m [\n\u001b[1;32m    179\u001b[0m     value \u001b[38;5;28;01mfor\u001b[39;00m _, value \u001b[38;5;129;01min\u001b[39;00m args\u001b[38;5;241m.\u001b[39mitems()\n\u001b[1;32m    180\u001b[0m     \u001b[38;5;28;01mif\u001b[39;00m \u001b[38;5;28misinstance\u001b[39m(value, pipeline_channel\u001b[38;5;241m.\u001b[39mPipelineChannel)\n\u001b[0;32m   (...)\u001b[0m\n\u001b[1;32m    183\u001b[0m     \u001b[38;5;28;01mif\u001b[39;00m \u001b[38;5;129;01mnot\u001b[39;00m \u001b[38;5;28misinstance\u001b[39m(value, pipeline_channel\u001b[38;5;241m.\u001b[39mPipelineChannel)\n\u001b[1;32m    184\u001b[0m ])\n\u001b[1;32m    186\u001b[0m \u001b[38;5;28;01mif\u001b[39;00m execute_locally:\n\u001b[0;32m--> 187\u001b[0m     \u001b[38;5;28;43mself\u001b[39;49m\u001b[38;5;241;43m.\u001b[39;49m\u001b[43m_execute_locally\u001b[49m\u001b[43m(\u001b[49m\u001b[43margs\u001b[49m\u001b[38;5;241;43m=\u001b[39;49m\u001b[43margs\u001b[49m\u001b[43m)\u001b[49m\n",
      "File \u001b[0;32m~/.local/lib/python3.10/site-packages/kfp/dsl/pipeline_task.py:197\u001b[0m, in \u001b[0;36mPipelineTask._execute_locally\u001b[0;34m(self, args)\u001b[0m\n\u001b[1;32m    194\u001b[0m \u001b[38;5;28;01mfrom\u001b[39;00m\u001b[38;5;250m \u001b[39m\u001b[38;5;21;01mkfp\u001b[39;00m\u001b[38;5;21;01m.\u001b[39;00m\u001b[38;5;21;01mlocal\u001b[39;00m\u001b[38;5;250m \u001b[39m\u001b[38;5;28;01mimport\u001b[39;00m task_dispatcher\n\u001b[1;32m    196\u001b[0m \u001b[38;5;28;01mif\u001b[39;00m \u001b[38;5;28mself\u001b[39m\u001b[38;5;241m.\u001b[39mpipeline_spec \u001b[38;5;129;01mis\u001b[39;00m \u001b[38;5;129;01mnot\u001b[39;00m \u001b[38;5;28;01mNone\u001b[39;00m:\n\u001b[0;32m--> 197\u001b[0m     \u001b[38;5;28mself\u001b[39m\u001b[38;5;241m.\u001b[39m_outputs \u001b[38;5;241m=\u001b[39m \u001b[43mpipeline_orchestrator\u001b[49m\u001b[38;5;241;43m.\u001b[39;49m\u001b[43mrun_local_pipeline\u001b[49m\u001b[43m(\u001b[49m\n\u001b[1;32m    198\u001b[0m \u001b[43m        \u001b[49m\u001b[43mpipeline_spec\u001b[49m\u001b[38;5;241;43m=\u001b[39;49m\u001b[38;5;28;43mself\u001b[39;49m\u001b[38;5;241;43m.\u001b[39;49m\u001b[43mpipeline_spec\u001b[49m\u001b[43m,\u001b[49m\n\u001b[1;32m    199\u001b[0m \u001b[43m        \u001b[49m\u001b[43marguments\u001b[49m\u001b[38;5;241;43m=\u001b[39;49m\u001b[43margs\u001b[49m\u001b[43m,\u001b[49m\n\u001b[1;32m    200\u001b[0m \u001b[43m    \u001b[49m\u001b[43m)\u001b[49m\n\u001b[1;32m    201\u001b[0m \u001b[38;5;28;01melif\u001b[39;00m \u001b[38;5;28mself\u001b[39m\u001b[38;5;241m.\u001b[39mcomponent_spec \u001b[38;5;129;01mis\u001b[39;00m \u001b[38;5;129;01mnot\u001b[39;00m \u001b[38;5;28;01mNone\u001b[39;00m:\n\u001b[1;32m    202\u001b[0m     \u001b[38;5;28mself\u001b[39m\u001b[38;5;241m.\u001b[39m_outputs \u001b[38;5;241m=\u001b[39m task_dispatcher\u001b[38;5;241m.\u001b[39mrun_single_task(\n\u001b[1;32m    203\u001b[0m         pipeline_spec\u001b[38;5;241m=\u001b[39m\u001b[38;5;28mself\u001b[39m\u001b[38;5;241m.\u001b[39mcomponent_spec\u001b[38;5;241m.\u001b[39mto_pipeline_spec(),\n\u001b[1;32m    204\u001b[0m         arguments\u001b[38;5;241m=\u001b[39margs,\n\u001b[1;32m    205\u001b[0m     )\n",
      "File \u001b[0;32m~/.local/lib/python3.10/site-packages/kfp/local/pipeline_orchestrator.py:43\u001b[0m, in \u001b[0;36mrun_local_pipeline\u001b[0;34m(pipeline_spec, arguments)\u001b[0m\n\u001b[1;32m     41\u001b[0m \u001b[38;5;66;03m# validate and access all global state in this function, not downstream\u001b[39;00m\n\u001b[1;32m     42\u001b[0m config\u001b[38;5;241m.\u001b[39mLocalExecutionConfig\u001b[38;5;241m.\u001b[39mvalidate()\n\u001b[0;32m---> 43\u001b[0m \u001b[38;5;28;01mreturn\u001b[39;00m \u001b[43m_run_local_pipeline_implementation\u001b[49m\u001b[43m(\u001b[49m\n\u001b[1;32m     44\u001b[0m \u001b[43m    \u001b[49m\u001b[43mpipeline_spec\u001b[49m\u001b[38;5;241;43m=\u001b[39;49m\u001b[43mpipeline_spec\u001b[49m\u001b[43m,\u001b[49m\n\u001b[1;32m     45\u001b[0m \u001b[43m    \u001b[49m\u001b[43marguments\u001b[49m\u001b[38;5;241;43m=\u001b[39;49m\u001b[43marguments\u001b[49m\u001b[43m,\u001b[49m\n\u001b[1;32m     46\u001b[0m \u001b[43m    \u001b[49m\u001b[43mraise_on_error\u001b[49m\u001b[38;5;241;43m=\u001b[39;49m\u001b[43mconfig\u001b[49m\u001b[38;5;241;43m.\u001b[39;49m\u001b[43mLocalExecutionConfig\u001b[49m\u001b[38;5;241;43m.\u001b[39;49m\u001b[43minstance\u001b[49m\u001b[38;5;241;43m.\u001b[39;49m\u001b[43mraise_on_error\u001b[49m\u001b[43m,\u001b[49m\n\u001b[1;32m     47\u001b[0m \u001b[43m    \u001b[49m\u001b[43mpipeline_root\u001b[49m\u001b[38;5;241;43m=\u001b[39;49m\u001b[43mconfig\u001b[49m\u001b[38;5;241;43m.\u001b[39;49m\u001b[43mLocalExecutionConfig\u001b[49m\u001b[38;5;241;43m.\u001b[39;49m\u001b[43minstance\u001b[49m\u001b[38;5;241;43m.\u001b[39;49m\u001b[43mpipeline_root\u001b[49m\u001b[43m,\u001b[49m\n\u001b[1;32m     48\u001b[0m \u001b[43m    \u001b[49m\u001b[43mrunner\u001b[49m\u001b[38;5;241;43m=\u001b[39;49m\u001b[43mconfig\u001b[49m\u001b[38;5;241;43m.\u001b[39;49m\u001b[43mLocalExecutionConfig\u001b[49m\u001b[38;5;241;43m.\u001b[39;49m\u001b[43minstance\u001b[49m\u001b[38;5;241;43m.\u001b[39;49m\u001b[43mrunner\u001b[49m\u001b[43m,\u001b[49m\n\u001b[1;32m     49\u001b[0m \u001b[43m\u001b[49m\u001b[43m)\u001b[49m\n",
      "File \u001b[0;32m~/.local/lib/python3.10/site-packages/kfp/local/pipeline_orchestrator.py:108\u001b[0m, in \u001b[0;36m_run_local_pipeline_implementation\u001b[0;34m(pipeline_spec, arguments, raise_on_error, pipeline_root, runner)\u001b[0m\n\u001b[1;32m    106\u001b[0m     \u001b[38;5;28;01mreturn\u001b[39;00m outputs\n\u001b[1;32m    107\u001b[0m \u001b[38;5;28;01melif\u001b[39;00m dag_status \u001b[38;5;241m==\u001b[39m status\u001b[38;5;241m.\u001b[39mStatus\u001b[38;5;241m.\u001b[39mFAILURE:\n\u001b[0;32m--> 108\u001b[0m     \u001b[43mlog_and_maybe_raise_for_failure\u001b[49m\u001b[43m(\u001b[49m\n\u001b[1;32m    109\u001b[0m \u001b[43m        \u001b[49m\u001b[43mpipeline_name\u001b[49m\u001b[38;5;241;43m=\u001b[39;49m\u001b[43mpipeline_name\u001b[49m\u001b[43m,\u001b[49m\n\u001b[1;32m    110\u001b[0m \u001b[43m        \u001b[49m\u001b[43mfail_stack\u001b[49m\u001b[38;5;241;43m=\u001b[39;49m\u001b[43mfail_stack\u001b[49m\u001b[43m,\u001b[49m\n\u001b[1;32m    111\u001b[0m \u001b[43m        \u001b[49m\u001b[43mraise_on_error\u001b[49m\u001b[38;5;241;43m=\u001b[39;49m\u001b[43mraise_on_error\u001b[49m\u001b[43m,\u001b[49m\n\u001b[1;32m    112\u001b[0m \u001b[43m    \u001b[49m\u001b[43m)\u001b[49m\n\u001b[1;32m    113\u001b[0m     \u001b[38;5;28;01mreturn\u001b[39;00m {}\n\u001b[1;32m    114\u001b[0m \u001b[38;5;28;01melse\u001b[39;00m:\n",
      "File \u001b[0;32m~/.local/lib/python3.10/site-packages/kfp/local/pipeline_orchestrator.py:137\u001b[0m, in \u001b[0;36mlog_and_maybe_raise_for_failure\u001b[0;34m(pipeline_name, raise_on_error, fail_stack)\u001b[0m\n\u001b[1;32m    135\u001b[0m msg \u001b[38;5;241m=\u001b[39m \u001b[38;5;124mf\u001b[39m\u001b[38;5;124m'\u001b[39m\u001b[38;5;124mPipeline \u001b[39m\u001b[38;5;132;01m{\u001b[39;00mpipeline_name_with_color\u001b[38;5;132;01m}\u001b[39;00m\u001b[38;5;124m finished with status \u001b[39m\u001b[38;5;132;01m{\u001b[39;00mstatus_with_color\u001b[38;5;132;01m}\u001b[39;00m\u001b[38;5;124m. Inner task failed: \u001b[39m\u001b[38;5;132;01m{\u001b[39;00mtask_chain_with_color\u001b[38;5;132;01m}\u001b[39;00m\u001b[38;5;124m.\u001b[39m\u001b[38;5;124m'\u001b[39m\n\u001b[1;32m    136\u001b[0m \u001b[38;5;28;01mif\u001b[39;00m raise_on_error:\n\u001b[0;32m--> 137\u001b[0m     \u001b[38;5;28;01mraise\u001b[39;00m \u001b[38;5;167;01mRuntimeError\u001b[39;00m(msg)\n\u001b[1;32m    138\u001b[0m \u001b[38;5;28;01mwith\u001b[39;00m logging_utils\u001b[38;5;241m.\u001b[39mlocal_logger_context():\n\u001b[1;32m    139\u001b[0m     logging\u001b[38;5;241m.\u001b[39merror(msg)\n",
      "\u001b[0;31mRuntimeError\u001b[0m: Pipeline \u001b[95m'r-pipeline-frameworks'\u001b[0m finished with status \u001b[91mFAILURE\u001b[0m. Inner task failed: \u001b[96m'r-container'\u001b[0m."
     ]
    }
   ],
   "source": [
    "test_pipeline = r_pipeline(\n",
    "    bq_project = PROJECT_ID,\n",
    "    bq_dataset = SERIES,\n",
    "    bq_table = EXPERIMENT,\n",
    "    var_target = 'Class',\n",
    "    var_omit = 'transaction_id',\n",
    "    r_script = r_script\n",
    ")"
   ]
  },
  {
   "cell_type": "code",
   "execution_count": null,
   "id": "42b2b2e4-b684-4999-b41c-cc58ed573539",
   "metadata": {},
   "outputs": [],
   "source": []
  },
  {
   "cell_type": "code",
   "execution_count": null,
   "id": "550fb704-fad3-4120-8ec2-845562e4456b",
   "metadata": {},
   "outputs": [],
   "source": []
  },
  {
   "cell_type": "code",
   "execution_count": null,
   "id": "37b3adfa-cd9d-40da-b161-8e34dc5776a9",
   "metadata": {},
   "outputs": [],
   "source": []
  },
  {
   "cell_type": "code",
   "execution_count": null,
   "id": "f3ce1993-7e07-4655-857d-61bb7dad47de",
   "metadata": {},
   "outputs": [],
   "source": []
  }
 ],
 "metadata": {
  "environment": {
   "kernel": "conda-base-py",
   "name": "workbench-notebooks.m128",
   "type": "gcloud",
   "uri": "us-docker.pkg.dev/deeplearning-platform-release/gcr.io/workbench-notebooks:m128"
  },
  "kernelspec": {
   "display_name": "Python 3 (ipykernel) (Local)",
   "language": "python",
   "name": "conda-base-py"
  },
  "language_info": {
   "codemirror_mode": {
    "name": "ipython",
    "version": 3
   },
   "file_extension": ".py",
   "mimetype": "text/x-python",
   "name": "python",
   "nbconvert_exporter": "python",
   "pygments_lexer": "ipython3",
   "version": "3.10.16"
  }
 },
 "nbformat": 4,
 "nbformat_minor": 5
}
