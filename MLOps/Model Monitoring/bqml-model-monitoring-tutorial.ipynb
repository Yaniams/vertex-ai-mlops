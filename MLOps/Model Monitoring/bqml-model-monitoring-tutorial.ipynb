{
 "cells": [
  {
   "cell_type": "markdown",
   "metadata": {},
   "source": [
    "![tracker](https://us-central1-vertex-ai-mlops-369716.cloudfunctions.net/pixel-tracking?path=statmike%2Fvertex-ai-mlops%2FMLOps%2FModel+Monitoring&file=bqml-model-monitoring-tutorial.ipynb)\n",
    "<!--- header table --->\n",
    "<table align=\"left\">\n",
    "  <td style=\"text-align: center\">\n",
    "    <a href=\"https://colab.research.google.com/github/statmike/vertex-ai-mlops/blob/main/MLOps/Model%20Monitoring/bqml-model-monitoring-tutorial.ipynb\">\n",
    "      <img src=\"https://cloud.google.com/ml-engine/images/colab-logo-32px.png\" alt=\"Google Colaboratory logo\">\n",
    "      <br>Run in<br>Colab\n",
    "    </a>\n",
    "  </td>\n",
    "  <td style=\"text-align: center\">\n",
    "    <a href=\"https://console.cloud.google.com/vertex-ai/colab/import/https%3A%2F%2Fraw.githubusercontent.com%2Fstatmike%2Fvertex-ai-mlops%2Fmain%2FMLOps%2FModel%2520Monitoring%2Fbqml-model-monitoring-tutorial.ipynb\">\n",
    "      <img width=\"32px\" src=\"https://lh3.googleusercontent.com/JmcxdQi-qOpctIvWKgPtrzZdJJK-J3sWE1RsfjZNwshCFgE_9fULcNpuXYTilIR2hjwN\" alt=\"Google Cloud Colab Enterprise logo\">\n",
    "      <br>Run in<br>Colab Enterprise\n",
    "    </a>\n",
    "  </td>      \n",
    "  <td style=\"text-align: center\">\n",
    "    <a href=\"https://github.com/statmike/vertex-ai-mlops/blob/main/MLOps/Model%20Monitoring/bqml-model-monitoring-tutorial.ipynb\">\n",
    "      <img src=\"https://cloud.google.com/ml-engine/images/github-logo-32px.png\" alt=\"GitHub logo\">\n",
    "      <br>View on<br>GitHub\n",
    "    </a>\n",
    "  </td>\n",
    "  <td style=\"text-align: center\">\n",
    "    <a href=\"https://console.cloud.google.com/vertex-ai/workbench/deploy-notebook?download_url=https://raw.githubusercontent.com/statmike/vertex-ai-mlops/main/MLOps/Model%20Monitoring/bqml-model-monitoring-tutorial.ipynb\">\n",
    "      <img src=\"https://lh3.googleusercontent.com/UiNooY4LUgW_oTvpsNhPpQzsstV5W8F7rYgxgGBD85cWJoLmrOzhVs_ksK_vgx40SHs7jCqkTkCk=e14-rj-sc0xffffff-h130-w32\" alt=\"Vertex AI logo\">\n",
    "      <br>Open in<br>Vertex AI Workbench\n",
    "    </a>\n",
    "  </td>\n",
    "</table>"
   ]
  },
  {
   "cell_type": "markdown",
   "metadata": {
    "id": "jwgBsT4ZeFWn"
   },
   "source": [
    "---\n",
    "\n",
    "**File Move Notices**\n",
    "\n",
    "This file moved locations:\n",
    "- On 09/08/2024 (mm/dd/yyyy)\n",
    "\t- From: `Model Monitoring/bqml-model-monitoring-tutorial.ipynb`\n",
    "\t- To: `MLOps/Model Monitoring/bqml-model-monitoring-tutorial.ipynb`\n",
    "---\n",
    "<!---end of move notices--->\n",
    "\n",
    "# BigQuery ML (BQML) - Model Monitoring Tutorial \n",
    "\n",
    "This notebook provides an in-depth look at model monitoring with BigQuery ML that accompanies the [blog announcing these features](https://cloud.google.com/blog/products/data-analytics/monitor-ml-model-skew-and-drift-in-bigquery). It complements the introductory notebook, ['BigQuery ML (BQML) - Model Monitoring Introduction'](./bqml-model-monitoring-introduction.ipynb), and delves deeper into various monitoring techniques and tools.\n",
    "\n",
    "**Key Areas Covered:**\n",
    "\n",
    "* **Data Preparation and Understanding:**\n",
    "    * Employing `ML.DESCRIBE_DATA` to analyze feature distributions and identify potential data quality issues.\n",
    "    * Splitting data into training, evaluation, and test sets while preserving data balance.\n",
    "* **Model Training and Evaluation:**\n",
    "    * Training a random forest model using `CREATE MODEL` with the `TRANSFORM` clause for incorporating feature engineering.\n",
    "    * Evaluating model performance using `ML.EVALUATE` and `ML.CONFUSION_MATRIX` on different data splits.\n",
    "* **Model Serving and Data Drift Simulation:**\n",
    "    * Generating predictions with `ML.PREDICT` and simulating data drift over time to represent real-world scenarios.\n",
    "* **Model Monitoring Techniques:**\n",
    "    * Implementing `ML.VALIDATE_DATA_SKEW` to detect changes between training and serving data distributions.\n",
    "    * Using `ML.VALIDATE_DATA_DRIFT` to identify gradual shifts in the serving data distribution over time.\n",
    "    * Understanding the metrics used for monitoring: L-infinity distance and Jensen-Shannon divergence.\n",
    "* **TensorFlow Data Validation (TFDV) Integration:**\n",
    "    * Leveraging `ML.TFDV_DESCRIBE` and `ML.TFDV_VALIDATE` to generate descriptive statistics and detect anomalies.\n",
    "    * Visualizing feature distributions using `tfdv.visualize_statistics` for comparative analysis.\n",
    "* **Monitoring Feature Attributions and Drift:**\n",
    "    * Employing `ML.EXPLAIN_PREDICT` to obtain feature attributions and understand feature importance for predictions.\n",
    "    * Monitoring drift in feature attributions over time to gain insights into model behavior changes. \n",
    "* **Continuous Monitoring and Automation:**\n",
    "    * Building a BigQuery SQL job using procedural language to automate skew and drift detection.\n",
    "    * Incorporating alerting mechanisms and model retraining when anomalies are detected.\n",
    "    * Discussing options for automating monitoring jobs:\n",
    "        * BigQuery Scheduled Queries\n",
    "        * Dataform\n",
    "        * Workflows\n",
    "        * Cloud Composer\n",
    "        * Vertex AI Pipelines\n",
    "* **Model Monitoring for Online Inference with Vertex AI:**\n",
    "    * Deploying the trained BigQuery ML model to Vertex AI for online predictions. \n",
    "    * Enabling request-response logging to BigQuery for continuous monitoring of online predictions.\n",
    "\n",
    "**Target Audience:**\n",
    "\n",
    "This tutorial is designed for data scientists, machine learning engineers, and individuals with a basic understanding of BigQuery, SQL, and machine learning concepts who want to delve deeper into model monitoring with BigQuery ML. \n"
   ]
  },
  {
   "cell_type": "markdown",
   "metadata": {
    "id": "J_-1oCZ7oQe_"
   },
   "source": [
    "---\n",
    "## Colab Setup\n",
    "\n",
    "When running this notebook in [Colab](https://colab.google/) or [Colab Enterprise](https://cloud.google.com/colab/docs/introduction), this section will authenticate to GCP (follow prompts in the popup) and set the current project for the session."
   ]
  },
  {
   "cell_type": "code",
   "execution_count": 1,
   "metadata": {
    "executionInfo": {
     "elapsed": 178,
     "status": "ok",
     "timestamp": 1710716382256,
     "user": {
      "displayName": "Mike Henderson",
      "userId": "07691629187611687318"
     },
     "user_tz": 240
    },
    "id": "bUeb3Vz9c-cz",
    "tags": []
   },
   "outputs": [],
   "source": [
    "PROJECT_ID = 'statmike-mlops-349915' # replace with project ID"
   ]
  },
  {
   "cell_type": "code",
   "execution_count": 2,
   "metadata": {
    "colab": {
     "base_uri": "https://localhost:8080/"
    },
    "executionInfo": {
     "elapsed": 1769,
     "status": "ok",
     "timestamp": 1710716384851,
     "user": {
      "displayName": "Mike Henderson",
      "userId": "07691629187611687318"
     },
     "user_tz": 240
    },
    "id": "ztC0h14fc-fr",
    "outputId": "16d1144f-1671-4919-edba-31bc197ffc7b",
    "tags": []
   },
   "outputs": [
    {
     "name": "stdout",
     "output_type": "stream",
     "text": [
      "Not a Colab Environment\n"
     ]
    }
   ],
   "source": [
    "try:\n",
    "    from google.colab import auth\n",
    "    auth.authenticate_user(project_id = PROJECT_ID)\n",
    "    print('Colab authorized to GCP')\n",
    "except Exception:\n",
    "    print('Not a Colab Environment')\n",
    "    pass"
   ]
  },
  {
   "cell_type": "markdown",
   "metadata": {},
   "source": [
    "---\n",
    "## Installs\n",
    "\n",
    "The list `packages` contains tuples of package import names and install names.  If the import name is not found then the install name is used to install quitely for the current user."
   ]
  },
  {
   "cell_type": "code",
   "execution_count": 3,
   "metadata": {
    "tags": []
   },
   "outputs": [],
   "source": [
    "# tuples of (import name, install name, min_version)\n",
    "packages = [\n",
    "    ('tensorflow_data_validation', 'tensorflow-data-validation'),\n",
    "    ('tensorflow_metadata', 'tensorflow-metadata'),\n",
    "    ('google.cloud.aiplatform', 'google-cloud-aiplatform'),\n",
    "    ('google.cloud.bigquery', 'google-cloud-bigquery'),\n",
    "    ('google.cloud.bigquery_datatransfer', 'google-cloud-bigquery-datatransfer'),\n",
    "    ('numpy', 'numpy'),\n",
    "    ('pandas', 'pandas')\n",
    "]\n",
    "\n",
    "import importlib\n",
    "install = False\n",
    "for package in packages:\n",
    "    if not importlib.util.find_spec(package[0]):\n",
    "        print(f'installing package {package[1]}')\n",
    "        install = True\n",
    "        !pip install {package[1]} -U -q --user\n",
    "    elif len(package) == 3:\n",
    "        if importlib.metadata.version(package[0]) < package[2]:\n",
    "            print(f'updating package {package[1]}')\n",
    "            install = True\n",
    "            !pip install {package[1]} -U -q --user"
   ]
  },
  {
   "cell_type": "markdown",
   "metadata": {},
   "source": [
    "### API Enablement"
   ]
  },
  {
   "cell_type": "code",
   "execution_count": 4,
   "metadata": {
    "tags": []
   },
   "outputs": [],
   "source": [
    "!gcloud services enable aiplatform.googleapis.com"
   ]
  },
  {
   "cell_type": "markdown",
   "metadata": {},
   "source": [
    "### Restart Kernel (If Installs Occured)\n",
    "After a kernel restart the code submission can start with the next cell after this one."
   ]
  },
  {
   "cell_type": "code",
   "execution_count": 5,
   "metadata": {
    "tags": []
   },
   "outputs": [],
   "source": [
    "if install:\n",
    "    import IPython\n",
    "    app = IPython.Application.instance()\n",
    "    app.kernel.do_shutdown(True)\n",
    "    IPython.display.display(IPython.display.Markdown(\"\"\"<div class=\\\"alert alert-block alert-warning\\\">\n",
    "        <b>⚠️ The kernel is going to restart. Please wait until it is finished before continuing to the next step. The previous cells do not need to be run again⚠️</b>\n",
    "        </div>\"\"\"))"
   ]
  },
  {
   "cell_type": "markdown",
   "metadata": {
    "id": "yt5uZFvRoWLp"
   },
   "source": [
    "---\n",
    "## Setup"
   ]
  },
  {
   "cell_type": "markdown",
   "metadata": {},
   "source": [
    "Packages:"
   ]
  },
  {
   "cell_type": "code",
   "execution_count": 6,
   "metadata": {
    "tags": []
   },
   "outputs": [],
   "source": [
    "import json"
   ]
  },
  {
   "cell_type": "markdown",
   "metadata": {},
   "source": [
    "Clients:"
   ]
  },
  {
   "cell_type": "code",
   "execution_count": 7,
   "metadata": {
    "colab": {
     "base_uri": "https://localhost:8080/"
    },
    "executionInfo": {
     "elapsed": 159,
     "status": "ok",
     "timestamp": 1710716582376,
     "user": {
      "displayName": "Mike Henderson",
      "userId": "07691629187611687318"
     },
     "user_tz": 240
    },
    "id": "14nUE43Oc-ip",
    "outputId": "55b2c2b1-b6ad-42cc-b3cc-d6e3afcaa071",
    "tags": []
   },
   "outputs": [
    {
     "name": "stdout",
     "output_type": "stream",
     "text": [
      "The google.cloud.bigquery extension is already loaded. To reload it, use:\n",
      "  %reload_ext google.cloud.bigquery\n"
     ]
    }
   ],
   "source": [
    "%load_ext google.cloud.bigquery"
   ]
  },
  {
   "cell_type": "markdown",
   "metadata": {},
   "source": [
    "Prepare the code below for your environment.\n",
    "\n",
    "This notebook takes advantage of the [BigQuery IPython magic](https://cloud.google.com/python/docs/reference/bigquery/latest/magics) for legibility and ease of copy/pasting to BigQuery SQL editor.  If this notebook is being used from an environment that can run notebooks it needs further preparation: Colab, Colab Enterprise, Vertex AI Workbench Instances, or BigQuery Studio with a Python Notebook.  The SQL code in these cells uses the fully qualified [BigQuery table](https://cloud.google.com/bigquery/docs/tables-intro) names in the form `projectname.datasetname.tablename`.  Prepare for your environment by:\n",
    "- Edit > Find\n",
    "    - Find: `statmike-mlops-349915`\n",
    "    - Replace: `<your project id>`\n",
    "    - Replace All"
   ]
  },
  {
   "cell_type": "markdown",
   "metadata": {},
   "source": [
    "---\n",
    "## BigQuery Source Data\n",
    "\n",
    "This project will uses the following data source as a tutorial.  It is good for examples like this because it is small, has few columns, but contains categorial and numerical data types.\n",
    "\n",
    "The source table is a BigQuery Public Dataset table.  The following cell uses the [BigQuery IPython magic](https://cloud.google.com/python/docs/reference/bigquery/latest/magics) to retrieve 5 rows of the table for review.  This data is known as [Palmer Penguins](https://allisonhorst.github.io/palmerpenguins/) data: \n",
    "\n",
    "```\n",
    "@Manual{,\n",
    "  title = {palmerpenguins: Palmer Archipelago (Antarctica) penguin data},\n",
    "  author = {Allison Marie Horst and Alison Presmanes Hill and Kristen B Gorman},\n",
    "  year = {2020},\n",
    "  note = {R package version 0.1.0},\n",
    "  doi = {10.5281/zenodo.3960218},\n",
    "  url = {https://allisonhorst.github.io/palmerpenguins/},\n",
    "}\n",
    "```\n",
    "\n",
    "\n",
    "There are 334 observations of 4 numerical features (culman length, culmen depth, flipper length, body mass) and 2  categorical features (island, sex) that represent 3 species of penguins."
   ]
  },
  {
   "cell_type": "code",
   "execution_count": 8,
   "metadata": {
    "tags": []
   },
   "outputs": [
    {
     "data": {
      "application/vnd.jupyter.widget-view+json": {
       "model_id": "c9372a616d264cafbeb27052c13e8b8d",
       "version_major": 2,
       "version_minor": 0
      },
      "text/plain": [
       "Query is running:   0%|          |"
      ]
     },
     "metadata": {},
     "output_type": "display_data"
    },
    {
     "data": {
      "application/vnd.jupyter.widget-view+json": {
       "model_id": "d1f4b43dd5bf4b35a42fad907e01b3be",
       "version_major": 2,
       "version_minor": 0
      },
      "text/plain": [
       "Downloading:   0%|          |"
      ]
     },
     "metadata": {},
     "output_type": "display_data"
    },
    {
     "data": {
      "text/html": [
       "<div>\n",
       "<style scoped>\n",
       "    .dataframe tbody tr th:only-of-type {\n",
       "        vertical-align: middle;\n",
       "    }\n",
       "\n",
       "    .dataframe tbody tr th {\n",
       "        vertical-align: top;\n",
       "    }\n",
       "\n",
       "    .dataframe thead th {\n",
       "        text-align: right;\n",
       "    }\n",
       "</style>\n",
       "<table border=\"1\" class=\"dataframe\">\n",
       "  <thead>\n",
       "    <tr style=\"text-align: right;\">\n",
       "      <th></th>\n",
       "      <th>species</th>\n",
       "      <th>island</th>\n",
       "      <th>culmen_length_mm</th>\n",
       "      <th>culmen_depth_mm</th>\n",
       "      <th>flipper_length_mm</th>\n",
       "      <th>body_mass_g</th>\n",
       "      <th>sex</th>\n",
       "    </tr>\n",
       "  </thead>\n",
       "  <tbody>\n",
       "    <tr>\n",
       "      <th>0</th>\n",
       "      <td>Adelie Penguin (Pygoscelis adeliae)</td>\n",
       "      <td>Dream</td>\n",
       "      <td>36.6</td>\n",
       "      <td>18.4</td>\n",
       "      <td>184.0</td>\n",
       "      <td>3475.0</td>\n",
       "      <td>FEMALE</td>\n",
       "    </tr>\n",
       "    <tr>\n",
       "      <th>1</th>\n",
       "      <td>Adelie Penguin (Pygoscelis adeliae)</td>\n",
       "      <td>Dream</td>\n",
       "      <td>39.8</td>\n",
       "      <td>19.1</td>\n",
       "      <td>184.0</td>\n",
       "      <td>4650.0</td>\n",
       "      <td>MALE</td>\n",
       "    </tr>\n",
       "    <tr>\n",
       "      <th>2</th>\n",
       "      <td>Adelie Penguin (Pygoscelis adeliae)</td>\n",
       "      <td>Dream</td>\n",
       "      <td>40.9</td>\n",
       "      <td>18.9</td>\n",
       "      <td>184.0</td>\n",
       "      <td>3900.0</td>\n",
       "      <td>MALE</td>\n",
       "    </tr>\n",
       "    <tr>\n",
       "      <th>3</th>\n",
       "      <td>Chinstrap penguin (Pygoscelis antarctica)</td>\n",
       "      <td>Dream</td>\n",
       "      <td>46.5</td>\n",
       "      <td>17.9</td>\n",
       "      <td>192.0</td>\n",
       "      <td>3500.0</td>\n",
       "      <td>FEMALE</td>\n",
       "    </tr>\n",
       "    <tr>\n",
       "      <th>4</th>\n",
       "      <td>Adelie Penguin (Pygoscelis adeliae)</td>\n",
       "      <td>Dream</td>\n",
       "      <td>37.3</td>\n",
       "      <td>16.8</td>\n",
       "      <td>192.0</td>\n",
       "      <td>3000.0</td>\n",
       "      <td>FEMALE</td>\n",
       "    </tr>\n",
       "  </tbody>\n",
       "</table>\n",
       "</div>"
      ],
      "text/plain": [
       "                                     species island  culmen_length_mm  \\\n",
       "0        Adelie Penguin (Pygoscelis adeliae)  Dream              36.6   \n",
       "1        Adelie Penguin (Pygoscelis adeliae)  Dream              39.8   \n",
       "2        Adelie Penguin (Pygoscelis adeliae)  Dream              40.9   \n",
       "3  Chinstrap penguin (Pygoscelis antarctica)  Dream              46.5   \n",
       "4        Adelie Penguin (Pygoscelis adeliae)  Dream              37.3   \n",
       "\n",
       "   culmen_depth_mm  flipper_length_mm  body_mass_g     sex  \n",
       "0             18.4              184.0       3475.0  FEMALE  \n",
       "1             19.1              184.0       4650.0    MALE  \n",
       "2             18.9              184.0       3900.0    MALE  \n",
       "3             17.9              192.0       3500.0  FEMALE  \n",
       "4             16.8              192.0       3000.0  FEMALE  "
      ]
     },
     "execution_count": 8,
     "metadata": {},
     "output_type": "execute_result"
    }
   ],
   "source": [
    "%%bigquery\n",
    "SELECT *\n",
    "FROM `bigquery-public-data.ml_datasets.penguins`\n",
    "LIMIT 5"
   ]
  },
  {
   "cell_type": "markdown",
   "metadata": {},
   "source": [
    "---\n",
    "## **Goal: Train, Serve, And Monitor A Model**\n",
    "\n",
    "**Train A Model**\n",
    "\n",
    "In this workflow our goal is to train and operationalize a machine leanring model that can classify unidentified penguins into the correct `species` using only measurements (`culmen_length_mm`, `culmen_depth_mm`, `flipper_length_mm`, `body_mass_g`), location (`island`) and gender (`sex`).  That means serving predictions, monitoring features, and potentially retraining the model.\n",
    "\n",
    "**Operationalize The Model**\n",
    "\n",
    "Taking a trained model to production introduces challenges. The model needs to be regularly evaluated to understand it's performance once put into production. This can be challenging as actual values used to assess the accuracy of predictions may arrive later than the predictions. Continuous monitoring bridges this gap with early signals in two key ways. First, monitoring the distributions of each of the models features for shift (called **skew**) from the training data to the current data. Then, also monitoring for any gradual **drift** in the distribution over time. Setting thresholds and getting alerts for features on each of this distribution changes gives early signals that the model needs to be carefully considered for evaluation and re-training to ensure effectiveness. If the evaluation can be automated then this can even extend to **continuous training**. "
   ]
  },
  {
   "cell_type": "markdown",
   "metadata": {},
   "source": [
    "---\n",
    "## Data Preparation"
   ]
  },
  {
   "cell_type": "markdown",
   "metadata": {
    "tags": []
   },
   "source": [
    "### Understand The Data Source With `ML.DESCRIBE_DATA`\n",
    "\n",
    "Reviewing a few records, like above, gives a good sense of how the data is arranged. Before proceeding with machine learning techniques it is important to understand more about these raw columns.  Are they ready to use a features in a model or is some form of feature engineering needed first?  For this, the distribution of values is an important starting point.  \n",
    "\n",
    "While SQL could be used to look at the distribution, it would be a time consuming process and requires different techniques for different data types like numerical, string, boolean, dates, times, array and struct version of these, and arrays of structs.\n",
    "\n",
    "To make this process fast and simple, the new [`ML.DESCRIBE_DATA`](https://cloud.google.com/bigquery/docs/reference/standard-sql/bigqueryml-syntax-describe-data)\n",
    "\n",
    "function is used to get a single row for each column the describes the data distribution:"
   ]
  },
  {
   "cell_type": "code",
   "execution_count": 9,
   "metadata": {
    "tags": []
   },
   "outputs": [
    {
     "data": {
      "application/vnd.jupyter.widget-view+json": {
       "model_id": "084c7162ebea4dce88116c21d4e095f2",
       "version_major": 2,
       "version_minor": 0
      },
      "text/plain": [
       "Query is running:   0%|          |"
      ]
     },
     "metadata": {},
     "output_type": "display_data"
    },
    {
     "data": {
      "application/vnd.jupyter.widget-view+json": {
       "model_id": "ba4812283cac4558adaac203557511c8",
       "version_major": 2,
       "version_minor": 0
      },
      "text/plain": [
       "Downloading:   0%|          |"
      ]
     },
     "metadata": {},
     "output_type": "display_data"
    },
    {
     "data": {
      "text/html": [
       "<div>\n",
       "<style scoped>\n",
       "    .dataframe tbody tr th:only-of-type {\n",
       "        vertical-align: middle;\n",
       "    }\n",
       "\n",
       "    .dataframe tbody tr th {\n",
       "        vertical-align: top;\n",
       "    }\n",
       "\n",
       "    .dataframe thead th {\n",
       "        text-align: right;\n",
       "    }\n",
       "</style>\n",
       "<table border=\"1\" class=\"dataframe\">\n",
       "  <thead>\n",
       "    <tr style=\"text-align: right;\">\n",
       "      <th></th>\n",
       "      <th>name</th>\n",
       "      <th>num_rows</th>\n",
       "      <th>num_nulls</th>\n",
       "      <th>num_zeros</th>\n",
       "      <th>min</th>\n",
       "      <th>max</th>\n",
       "      <th>mean</th>\n",
       "      <th>stddev</th>\n",
       "      <th>median</th>\n",
       "      <th>quantiles</th>\n",
       "      <th>unique</th>\n",
       "      <th>avg_string_length</th>\n",
       "      <th>num_values</th>\n",
       "      <th>top_values</th>\n",
       "      <th>min_array_length</th>\n",
       "      <th>max_array_length</th>\n",
       "      <th>avg_array_length</th>\n",
       "      <th>total_array_length</th>\n",
       "      <th>array_length_quantiles</th>\n",
       "      <th>dimension</th>\n",
       "    </tr>\n",
       "  </thead>\n",
       "  <tbody>\n",
       "    <tr>\n",
       "      <th>0</th>\n",
       "      <td>body_mass_g</td>\n",
       "      <td>344</td>\n",
       "      <td>2</td>\n",
       "      <td>0</td>\n",
       "      <td>2700</td>\n",
       "      <td>6300</td>\n",
       "      <td>4201.754386</td>\n",
       "      <td>800.781229</td>\n",
       "      <td>4000.0</td>\n",
       "      <td>[2700.0, 4000.0, 6300.0]</td>\n",
       "      <td>&lt;NA&gt;</td>\n",
       "      <td>NaN</td>\n",
       "      <td>342</td>\n",
       "      <td>[]</td>\n",
       "      <td>&lt;NA&gt;</td>\n",
       "      <td>&lt;NA&gt;</td>\n",
       "      <td>NaN</td>\n",
       "      <td>&lt;NA&gt;</td>\n",
       "      <td>[]</td>\n",
       "      <td>&lt;NA&gt;</td>\n",
       "    </tr>\n",
       "    <tr>\n",
       "      <th>1</th>\n",
       "      <td>culmen_depth_mm</td>\n",
       "      <td>344</td>\n",
       "      <td>2</td>\n",
       "      <td>0</td>\n",
       "      <td>13.1</td>\n",
       "      <td>21.5</td>\n",
       "      <td>17.151170</td>\n",
       "      <td>1.971904</td>\n",
       "      <td>17.3</td>\n",
       "      <td>[13.1, 17.3, 21.5]</td>\n",
       "      <td>&lt;NA&gt;</td>\n",
       "      <td>NaN</td>\n",
       "      <td>342</td>\n",
       "      <td>[]</td>\n",
       "      <td>&lt;NA&gt;</td>\n",
       "      <td>&lt;NA&gt;</td>\n",
       "      <td>NaN</td>\n",
       "      <td>&lt;NA&gt;</td>\n",
       "      <td>[]</td>\n",
       "      <td>&lt;NA&gt;</td>\n",
       "    </tr>\n",
       "    <tr>\n",
       "      <th>2</th>\n",
       "      <td>culmen_length_mm</td>\n",
       "      <td>344</td>\n",
       "      <td>2</td>\n",
       "      <td>0</td>\n",
       "      <td>32.1</td>\n",
       "      <td>59.6</td>\n",
       "      <td>43.921930</td>\n",
       "      <td>5.451596</td>\n",
       "      <td>44.4</td>\n",
       "      <td>[32.1, 44.4, 59.6]</td>\n",
       "      <td>&lt;NA&gt;</td>\n",
       "      <td>NaN</td>\n",
       "      <td>342</td>\n",
       "      <td>[]</td>\n",
       "      <td>&lt;NA&gt;</td>\n",
       "      <td>&lt;NA&gt;</td>\n",
       "      <td>NaN</td>\n",
       "      <td>&lt;NA&gt;</td>\n",
       "      <td>[]</td>\n",
       "      <td>&lt;NA&gt;</td>\n",
       "    </tr>\n",
       "    <tr>\n",
       "      <th>3</th>\n",
       "      <td>flipper_length_mm</td>\n",
       "      <td>344</td>\n",
       "      <td>2</td>\n",
       "      <td>0</td>\n",
       "      <td>172</td>\n",
       "      <td>231</td>\n",
       "      <td>200.915205</td>\n",
       "      <td>14.041141</td>\n",
       "      <td>197.0</td>\n",
       "      <td>[172.0, 197.0, 231.0]</td>\n",
       "      <td>&lt;NA&gt;</td>\n",
       "      <td>NaN</td>\n",
       "      <td>342</td>\n",
       "      <td>[]</td>\n",
       "      <td>&lt;NA&gt;</td>\n",
       "      <td>&lt;NA&gt;</td>\n",
       "      <td>NaN</td>\n",
       "      <td>&lt;NA&gt;</td>\n",
       "      <td>[]</td>\n",
       "      <td>&lt;NA&gt;</td>\n",
       "    </tr>\n",
       "    <tr>\n",
       "      <th>4</th>\n",
       "      <td>island</td>\n",
       "      <td>344</td>\n",
       "      <td>0</td>\n",
       "      <td>&lt;NA&gt;</td>\n",
       "      <td>Biscoe</td>\n",
       "      <td>Torgersen</td>\n",
       "      <td>NaN</td>\n",
       "      <td>NaN</td>\n",
       "      <td>NaN</td>\n",
       "      <td>[]</td>\n",
       "      <td>3</td>\n",
       "      <td>6.093023</td>\n",
       "      <td>344</td>\n",
       "      <td>[{'value': 'Biscoe', 'count': 168}]</td>\n",
       "      <td>&lt;NA&gt;</td>\n",
       "      <td>&lt;NA&gt;</td>\n",
       "      <td>NaN</td>\n",
       "      <td>&lt;NA&gt;</td>\n",
       "      <td>[]</td>\n",
       "      <td>&lt;NA&gt;</td>\n",
       "    </tr>\n",
       "    <tr>\n",
       "      <th>5</th>\n",
       "      <td>sex</td>\n",
       "      <td>344</td>\n",
       "      <td>10</td>\n",
       "      <td>&lt;NA&gt;</td>\n",
       "      <td>.</td>\n",
       "      <td>MALE</td>\n",
       "      <td>NaN</td>\n",
       "      <td>NaN</td>\n",
       "      <td>NaN</td>\n",
       "      <td>[]</td>\n",
       "      <td>3</td>\n",
       "      <td>4.979042</td>\n",
       "      <td>334</td>\n",
       "      <td>[{'value': 'MALE', 'count': 168}]</td>\n",
       "      <td>&lt;NA&gt;</td>\n",
       "      <td>&lt;NA&gt;</td>\n",
       "      <td>NaN</td>\n",
       "      <td>&lt;NA&gt;</td>\n",
       "      <td>[]</td>\n",
       "      <td>&lt;NA&gt;</td>\n",
       "    </tr>\n",
       "    <tr>\n",
       "      <th>6</th>\n",
       "      <td>species</td>\n",
       "      <td>344</td>\n",
       "      <td>0</td>\n",
       "      <td>&lt;NA&gt;</td>\n",
       "      <td>Adelie Penguin (Pygoscelis adeliae)</td>\n",
       "      <td>Gentoo penguin (Pygoscelis papua)</td>\n",
       "      <td>NaN</td>\n",
       "      <td>NaN</td>\n",
       "      <td>NaN</td>\n",
       "      <td>[]</td>\n",
       "      <td>3</td>\n",
       "      <td>35.465116</td>\n",
       "      <td>344</td>\n",
       "      <td>[{'value': 'Adelie Penguin (Pygoscelis adeliae...</td>\n",
       "      <td>&lt;NA&gt;</td>\n",
       "      <td>&lt;NA&gt;</td>\n",
       "      <td>NaN</td>\n",
       "      <td>&lt;NA&gt;</td>\n",
       "      <td>[]</td>\n",
       "      <td>&lt;NA&gt;</td>\n",
       "    </tr>\n",
       "  </tbody>\n",
       "</table>\n",
       "</div>"
      ],
      "text/plain": [
       "                name  num_rows  num_nulls  num_zeros  \\\n",
       "0        body_mass_g       344          2          0   \n",
       "1    culmen_depth_mm       344          2          0   \n",
       "2   culmen_length_mm       344          2          0   \n",
       "3  flipper_length_mm       344          2          0   \n",
       "4             island       344          0       <NA>   \n",
       "5                sex       344         10       <NA>   \n",
       "6            species       344          0       <NA>   \n",
       "\n",
       "                                   min                                max  \\\n",
       "0                                 2700                               6300   \n",
       "1                                 13.1                               21.5   \n",
       "2                                 32.1                               59.6   \n",
       "3                                  172                                231   \n",
       "4                               Biscoe                          Torgersen   \n",
       "5                                    .                               MALE   \n",
       "6  Adelie Penguin (Pygoscelis adeliae)  Gentoo penguin (Pygoscelis papua)   \n",
       "\n",
       "          mean      stddev  median                 quantiles  unique  \\\n",
       "0  4201.754386  800.781229  4000.0  [2700.0, 4000.0, 6300.0]    <NA>   \n",
       "1    17.151170    1.971904    17.3        [13.1, 17.3, 21.5]    <NA>   \n",
       "2    43.921930    5.451596    44.4        [32.1, 44.4, 59.6]    <NA>   \n",
       "3   200.915205   14.041141   197.0     [172.0, 197.0, 231.0]    <NA>   \n",
       "4          NaN         NaN     NaN                        []       3   \n",
       "5          NaN         NaN     NaN                        []       3   \n",
       "6          NaN         NaN     NaN                        []       3   \n",
       "\n",
       "   avg_string_length  num_values  \\\n",
       "0                NaN         342   \n",
       "1                NaN         342   \n",
       "2                NaN         342   \n",
       "3                NaN         342   \n",
       "4           6.093023         344   \n",
       "5           4.979042         334   \n",
       "6          35.465116         344   \n",
       "\n",
       "                                          top_values  min_array_length  \\\n",
       "0                                                 []              <NA>   \n",
       "1                                                 []              <NA>   \n",
       "2                                                 []              <NA>   \n",
       "3                                                 []              <NA>   \n",
       "4                [{'value': 'Biscoe', 'count': 168}]              <NA>   \n",
       "5                  [{'value': 'MALE', 'count': 168}]              <NA>   \n",
       "6  [{'value': 'Adelie Penguin (Pygoscelis adeliae...              <NA>   \n",
       "\n",
       "   max_array_length  avg_array_length  total_array_length  \\\n",
       "0              <NA>               NaN                <NA>   \n",
       "1              <NA>               NaN                <NA>   \n",
       "2              <NA>               NaN                <NA>   \n",
       "3              <NA>               NaN                <NA>   \n",
       "4              <NA>               NaN                <NA>   \n",
       "5              <NA>               NaN                <NA>   \n",
       "6              <NA>               NaN                <NA>   \n",
       "\n",
       "  array_length_quantiles  dimension  \n",
       "0                     []       <NA>  \n",
       "1                     []       <NA>  \n",
       "2                     []       <NA>  \n",
       "3                     []       <NA>  \n",
       "4                     []       <NA>  \n",
       "5                     []       <NA>  \n",
       "6                     []       <NA>  "
      ]
     },
     "execution_count": 9,
     "metadata": {},
     "output_type": "execute_result"
    }
   ],
   "source": [
    "%%bigquery\n",
    "SELECT *\n",
    "FROM ML.DESCRIBE_DATA(\n",
    "  TABLE `bigquery-public-data.ml_datasets.penguins`\n",
    ")"
   ]
  },
  {
   "cell_type": "markdown",
   "metadata": {},
   "source": [
    "Some observations:\n",
    "- All columns have `num_rows` and `num_nulls`\n",
    "- Numerical columns have `min`, `max`, `stddev`, `median`, and `quantiles` showing the distribution of the data in the column\n",
    "- Categorical (string) columns have `min`, `max` values representing the class levels and a `unique` column show how many class levels\n",
    "\n",
    "Data quality observation:\n",
    "- The column `sex` has both missing values (10 indicated in `num_nulls`) as well as a `min` values of `.`.  This appears to be a data quality issue that needs fixing."
   ]
  },
  {
   "cell_type": "markdown",
   "metadata": {
    "tags": []
   },
   "source": [
    "### Create A BigQuery Dataset\n",
    "\n",
    "Create a new [BigQuery Dataset](https://cloud.google.com/bigquery/docs/datasets) as a working location for this workflow:"
   ]
  },
  {
   "cell_type": "code",
   "execution_count": 10,
   "metadata": {
    "tags": []
   },
   "outputs": [
    {
     "data": {
      "application/vnd.jupyter.widget-view+json": {
       "model_id": "d171ed8e79fa4190b797ae8cfb6e9568",
       "version_major": 2,
       "version_minor": 0
      },
      "text/plain": [
       "Query is running:   0%|          |"
      ]
     },
     "metadata": {},
     "output_type": "display_data"
    },
    {
     "data": {
      "text/html": [
       "<div>\n",
       "<style scoped>\n",
       "    .dataframe tbody tr th:only-of-type {\n",
       "        vertical-align: middle;\n",
       "    }\n",
       "\n",
       "    .dataframe tbody tr th {\n",
       "        vertical-align: top;\n",
       "    }\n",
       "\n",
       "    .dataframe thead th {\n",
       "        text-align: right;\n",
       "    }\n",
       "</style>\n",
       "<table border=\"1\" class=\"dataframe\">\n",
       "  <thead>\n",
       "    <tr style=\"text-align: right;\">\n",
       "      <th></th>\n",
       "    </tr>\n",
       "  </thead>\n",
       "  <tbody>\n",
       "  </tbody>\n",
       "</table>\n",
       "</div>"
      ],
      "text/plain": [
       "Empty DataFrame\n",
       "Columns: []\n",
       "Index: []"
      ]
     },
     "execution_count": 10,
     "metadata": {},
     "output_type": "execute_result"
    }
   ],
   "source": [
    "%%bigquery\n",
    "CREATE SCHEMA IF NOT EXISTS `statmike-mlops-349915.bqml_model_monitoring`\n",
    "    OPTIONS(\n",
    "        location = 'US'\n",
    "    )"
   ]
  },
  {
   "cell_type": "markdown",
   "metadata": {},
   "source": [
    "### Prepare The Source Data\n",
    "\n",
    "Make a copy of the table source in the new BigQuery dataset with fixes applied to the data quality issue identified for the `sex` column with values of `.`.\n",
    "\n",
    "> Note: A copy is being made in this case because the source project is `bigquery-public` which is not editable."
   ]
  },
  {
   "cell_type": "code",
   "execution_count": 11,
   "metadata": {
    "tags": []
   },
   "outputs": [
    {
     "data": {
      "application/vnd.jupyter.widget-view+json": {
       "model_id": "e8105047e7e547308c93d5638deda373",
       "version_major": 2,
       "version_minor": 0
      },
      "text/plain": [
       "Query is running:   0%|          |"
      ]
     },
     "metadata": {},
     "output_type": "display_data"
    },
    {
     "data": {
      "text/html": [
       "<div>\n",
       "<style scoped>\n",
       "    .dataframe tbody tr th:only-of-type {\n",
       "        vertical-align: middle;\n",
       "    }\n",
       "\n",
       "    .dataframe tbody tr th {\n",
       "        vertical-align: top;\n",
       "    }\n",
       "\n",
       "    .dataframe thead th {\n",
       "        text-align: right;\n",
       "    }\n",
       "</style>\n",
       "<table border=\"1\" class=\"dataframe\">\n",
       "  <thead>\n",
       "    <tr style=\"text-align: right;\">\n",
       "      <th></th>\n",
       "    </tr>\n",
       "  </thead>\n",
       "  <tbody>\n",
       "  </tbody>\n",
       "</table>\n",
       "</div>"
      ],
      "text/plain": [
       "Empty DataFrame\n",
       "Columns: []\n",
       "Index: []"
      ]
     },
     "execution_count": 11,
     "metadata": {},
     "output_type": "execute_result"
    }
   ],
   "source": [
    "%%bigquery\n",
    "CREATE OR REPLACE TABLE `statmike-mlops-349915.bqml_model_monitoring.training` AS\n",
    "    SELECT * EXCEPT(sex),\n",
    "        CASE WHEN sex = '.' THEN NULL ELSE sex END AS sex\n",
    "    FROM `bigquery-public-data.ml_datasets.penguins`"
   ]
  },
  {
   "cell_type": "markdown",
   "metadata": {},
   "source": [
    "### Split The Data\n",
    "\n",
    "Depending on the ML technique, it may be desired to split the data into partitions for training, evaluation, and testing (in this case monitoring examples). \n",
    "\n",
    "The following cell creates a version with a new column column named `splits` with values [`TRAIN`, `EVAL`, `TEST`].  The data is first grouped (stratified) by the values of `species` and `island` to preserve any imbalance across the groups. "
   ]
  },
  {
   "cell_type": "code",
   "execution_count": 12,
   "metadata": {
    "tags": []
   },
   "outputs": [
    {
     "data": {
      "application/vnd.jupyter.widget-view+json": {
       "model_id": "3910f4913cf84050a4a222ea7b49421f",
       "version_major": 2,
       "version_minor": 0
      },
      "text/plain": [
       "Query is running:   0%|          |"
      ]
     },
     "metadata": {},
     "output_type": "display_data"
    },
    {
     "data": {
      "text/html": [
       "<div>\n",
       "<style scoped>\n",
       "    .dataframe tbody tr th:only-of-type {\n",
       "        vertical-align: middle;\n",
       "    }\n",
       "\n",
       "    .dataframe tbody tr th {\n",
       "        vertical-align: top;\n",
       "    }\n",
       "\n",
       "    .dataframe thead th {\n",
       "        text-align: right;\n",
       "    }\n",
       "</style>\n",
       "<table border=\"1\" class=\"dataframe\">\n",
       "  <thead>\n",
       "    <tr style=\"text-align: right;\">\n",
       "      <th></th>\n",
       "    </tr>\n",
       "  </thead>\n",
       "  <tbody>\n",
       "  </tbody>\n",
       "</table>\n",
       "</div>"
      ],
      "text/plain": [
       "Empty DataFrame\n",
       "Columns: []\n",
       "Index: []"
      ]
     },
     "execution_count": 12,
     "metadata": {},
     "output_type": "execute_result"
    }
   ],
   "source": [
    "%%bigquery\n",
    "CREATE OR REPLACE TABLE `statmike-mlops-349915.bqml_model_monitoring.training_split` AS\n",
    "    WITH\n",
    "        # randomized numbering within groups (species, island)\n",
    "        RANDOM AS (\n",
    "            SELECT *,\n",
    "                ROW_NUMBER() OVER (PARTITION BY species, island ORDER BY RAND()) AS sequence\n",
    "            FROM `statmike-mlops-349915.bqml_model_monitoring.training`\n",
    "        ),\n",
    "        # get group sizes\n",
    "        GROUP_SIZES AS (\n",
    "            SELECT species, island, COUNT(*) AS count\n",
    "            FROM `statmike-mlops-349915.bqml_model_monitoring.training`\n",
    "            GROUP BY species, island\n",
    "        )\n",
    "    SELECT\n",
    "        * EXCEPT(sequence, count),\n",
    "        CASE\n",
    "            WHEN sequence <= CEIL(.2 * count) AND species is not Null THEN 'TEST'\n",
    "            WHEN sequence <= CEIL(.3 * count) THEN 'EVAL'\n",
    "            ELSE 'TRAIN'\n",
    "        END AS splits\n",
    "    FROM RANDOM\n",
    "    LEFT OUTER JOIN GROUP_SIZES USING(species, island)"
   ]
  },
  {
   "cell_type": "markdown",
   "metadata": {},
   "source": [
    "Review the data by `splits`:"
   ]
  },
  {
   "cell_type": "code",
   "execution_count": 13,
   "metadata": {
    "tags": []
   },
   "outputs": [
    {
     "data": {
      "application/vnd.jupyter.widget-view+json": {
       "model_id": "ad8df990d07b479c9e894991141a31e6",
       "version_major": 2,
       "version_minor": 0
      },
      "text/plain": [
       "Query is running:   0%|          |"
      ]
     },
     "metadata": {},
     "output_type": "display_data"
    },
    {
     "data": {
      "application/vnd.jupyter.widget-view+json": {
       "model_id": "160686feed444c02b6b8cfdbcd03bdd3",
       "version_major": 2,
       "version_minor": 0
      },
      "text/plain": [
       "Downloading:   0%|          |"
      ]
     },
     "metadata": {},
     "output_type": "display_data"
    },
    {
     "data": {
      "text/html": [
       "<div>\n",
       "<style scoped>\n",
       "    .dataframe tbody tr th:only-of-type {\n",
       "        vertical-align: middle;\n",
       "    }\n",
       "\n",
       "    .dataframe tbody tr th {\n",
       "        vertical-align: top;\n",
       "    }\n",
       "\n",
       "    .dataframe thead th {\n",
       "        text-align: right;\n",
       "    }\n",
       "</style>\n",
       "<table border=\"1\" class=\"dataframe\">\n",
       "  <thead>\n",
       "    <tr style=\"text-align: right;\">\n",
       "      <th></th>\n",
       "      <th>species</th>\n",
       "      <th>island</th>\n",
       "      <th>count</th>\n",
       "      <th>TRAIN_PCT</th>\n",
       "      <th>EVAL_PCT</th>\n",
       "      <th>TEST_PCT</th>\n",
       "    </tr>\n",
       "  </thead>\n",
       "  <tbody>\n",
       "    <tr>\n",
       "      <th>0</th>\n",
       "      <td>Gentoo penguin (Pygoscelis papua)</td>\n",
       "      <td>Biscoe</td>\n",
       "      <td>124</td>\n",
       "      <td>69.354839</td>\n",
       "      <td>10.483871</td>\n",
       "      <td>20.161290</td>\n",
       "    </tr>\n",
       "    <tr>\n",
       "      <th>1</th>\n",
       "      <td>Adelie Penguin (Pygoscelis adeliae)</td>\n",
       "      <td>Biscoe</td>\n",
       "      <td>44</td>\n",
       "      <td>68.181818</td>\n",
       "      <td>11.363636</td>\n",
       "      <td>20.454545</td>\n",
       "    </tr>\n",
       "    <tr>\n",
       "      <th>2</th>\n",
       "      <td>Adelie Penguin (Pygoscelis adeliae)</td>\n",
       "      <td>Dream</td>\n",
       "      <td>56</td>\n",
       "      <td>69.642857</td>\n",
       "      <td>8.928571</td>\n",
       "      <td>21.428571</td>\n",
       "    </tr>\n",
       "    <tr>\n",
       "      <th>3</th>\n",
       "      <td>Chinstrap penguin (Pygoscelis antarctica)</td>\n",
       "      <td>Dream</td>\n",
       "      <td>68</td>\n",
       "      <td>69.117647</td>\n",
       "      <td>10.294118</td>\n",
       "      <td>20.588235</td>\n",
       "    </tr>\n",
       "    <tr>\n",
       "      <th>4</th>\n",
       "      <td>Adelie Penguin (Pygoscelis adeliae)</td>\n",
       "      <td>Torgersen</td>\n",
       "      <td>52</td>\n",
       "      <td>69.230769</td>\n",
       "      <td>9.615385</td>\n",
       "      <td>21.153846</td>\n",
       "    </tr>\n",
       "  </tbody>\n",
       "</table>\n",
       "</div>"
      ],
      "text/plain": [
       "                                     species     island  count  TRAIN_PCT  \\\n",
       "0          Gentoo penguin (Pygoscelis papua)     Biscoe    124  69.354839   \n",
       "1        Adelie Penguin (Pygoscelis adeliae)     Biscoe     44  68.181818   \n",
       "2        Adelie Penguin (Pygoscelis adeliae)      Dream     56  69.642857   \n",
       "3  Chinstrap penguin (Pygoscelis antarctica)      Dream     68  69.117647   \n",
       "4        Adelie Penguin (Pygoscelis adeliae)  Torgersen     52  69.230769   \n",
       "\n",
       "    EVAL_PCT   TEST_PCT  \n",
       "0  10.483871  20.161290  \n",
       "1  11.363636  20.454545  \n",
       "2   8.928571  21.428571  \n",
       "3  10.294118  20.588235  \n",
       "4   9.615385  21.153846  "
      ]
     },
     "execution_count": 13,
     "metadata": {},
     "output_type": "execute_result"
    }
   ],
   "source": [
    "%%bigquery\n",
    "SELECT species, island,\n",
    "    COUNT(*) as count,\n",
    "    100 * COUNTIF(splits = 'TRAIN')/COUNT(*) AS TRAIN_PCT,\n",
    "    100 * COUNTIF(splits = 'EVAL')/COUNT(*) AS EVAL_PCT,\n",
    "    100 * COUNTIF(splits = 'TEST')/COUNT(*) AS TEST_PCT\n",
    "FROM `statmike-mlops-349915.bqml_model_monitoring.training_split`\n",
    "GROUP BY species, island"
   ]
  },
  {
   "cell_type": "markdown",
   "metadata": {},
   "source": [
    "### Review the Training Split With: `ML.DESCRIBE_DATA`\n",
    "\n",
    "Use [`ML.DESCRIBE_DATA`](https://cloud.google.com/bigquery/docs/reference/standard-sql/bigqueryml-syntax-describe-data) to first review the training split of the source data.  This time, some of the additional parameters of the function are useful:\n",
    "- `top_k`: get the top 3 most frequent categories for string columns (default = 1)\n",
    "- `num_quantiles`: get 4 quantiles for numerical columns (default = 2)"
   ]
  },
  {
   "cell_type": "code",
   "execution_count": 14,
   "metadata": {
    "tags": []
   },
   "outputs": [
    {
     "data": {
      "application/vnd.jupyter.widget-view+json": {
       "model_id": "b19709ecbd1147ec89cd31fec37e33ef",
       "version_major": 2,
       "version_minor": 0
      },
      "text/plain": [
       "Query is running:   0%|          |"
      ]
     },
     "metadata": {},
     "output_type": "display_data"
    },
    {
     "data": {
      "application/vnd.jupyter.widget-view+json": {
       "model_id": "6ecee537fb1f410cab961f0bb2d9fd21",
       "version_major": 2,
       "version_minor": 0
      },
      "text/plain": [
       "Downloading:   0%|          |"
      ]
     },
     "metadata": {},
     "output_type": "display_data"
    },
    {
     "data": {
      "text/html": [
       "<div>\n",
       "<style scoped>\n",
       "    .dataframe tbody tr th:only-of-type {\n",
       "        vertical-align: middle;\n",
       "    }\n",
       "\n",
       "    .dataframe tbody tr th {\n",
       "        vertical-align: top;\n",
       "    }\n",
       "\n",
       "    .dataframe thead th {\n",
       "        text-align: right;\n",
       "    }\n",
       "</style>\n",
       "<table border=\"1\" class=\"dataframe\">\n",
       "  <thead>\n",
       "    <tr style=\"text-align: right;\">\n",
       "      <th></th>\n",
       "      <th>name</th>\n",
       "      <th>num_rows</th>\n",
       "      <th>num_nulls</th>\n",
       "      <th>num_zeros</th>\n",
       "      <th>min</th>\n",
       "      <th>max</th>\n",
       "      <th>mean</th>\n",
       "      <th>stddev</th>\n",
       "      <th>median</th>\n",
       "      <th>quantiles</th>\n",
       "      <th>unique</th>\n",
       "      <th>avg_string_length</th>\n",
       "      <th>num_values</th>\n",
       "      <th>top_values</th>\n",
       "      <th>min_array_length</th>\n",
       "      <th>max_array_length</th>\n",
       "      <th>avg_array_length</th>\n",
       "      <th>total_array_length</th>\n",
       "      <th>array_length_quantiles</th>\n",
       "      <th>dimension</th>\n",
       "    </tr>\n",
       "  </thead>\n",
       "  <tbody>\n",
       "    <tr>\n",
       "      <th>0</th>\n",
       "      <td>body_mass_g</td>\n",
       "      <td>238</td>\n",
       "      <td>2</td>\n",
       "      <td>0</td>\n",
       "      <td>2700</td>\n",
       "      <td>6050</td>\n",
       "      <td>4185.699153</td>\n",
       "      <td>781.929409</td>\n",
       "      <td>4000.0</td>\n",
       "      <td>[2700.0, 3550.0, 4000.0, 4750.0, 6050.0]</td>\n",
       "      <td>&lt;NA&gt;</td>\n",
       "      <td>NaN</td>\n",
       "      <td>236</td>\n",
       "      <td>[]</td>\n",
       "      <td>&lt;NA&gt;</td>\n",
       "      <td>&lt;NA&gt;</td>\n",
       "      <td>NaN</td>\n",
       "      <td>&lt;NA&gt;</td>\n",
       "      <td>[]</td>\n",
       "      <td>&lt;NA&gt;</td>\n",
       "    </tr>\n",
       "    <tr>\n",
       "      <th>1</th>\n",
       "      <td>culmen_depth_mm</td>\n",
       "      <td>238</td>\n",
       "      <td>2</td>\n",
       "      <td>0</td>\n",
       "      <td>13.3</td>\n",
       "      <td>21.5</td>\n",
       "      <td>17.094068</td>\n",
       "      <td>1.914122</td>\n",
       "      <td>17.3</td>\n",
       "      <td>[13.3, 15.5, 17.3, 18.5, 21.5]</td>\n",
       "      <td>&lt;NA&gt;</td>\n",
       "      <td>NaN</td>\n",
       "      <td>236</td>\n",
       "      <td>[]</td>\n",
       "      <td>&lt;NA&gt;</td>\n",
       "      <td>&lt;NA&gt;</td>\n",
       "      <td>NaN</td>\n",
       "      <td>&lt;NA&gt;</td>\n",
       "      <td>[]</td>\n",
       "      <td>&lt;NA&gt;</td>\n",
       "    </tr>\n",
       "    <tr>\n",
       "      <th>2</th>\n",
       "      <td>culmen_length_mm</td>\n",
       "      <td>238</td>\n",
       "      <td>2</td>\n",
       "      <td>0</td>\n",
       "      <td>34</td>\n",
       "      <td>59.6</td>\n",
       "      <td>43.988136</td>\n",
       "      <td>5.398841</td>\n",
       "      <td>44.1</td>\n",
       "      <td>[34.0, 39.5, 44.1, 47.7, 59.6]</td>\n",
       "      <td>&lt;NA&gt;</td>\n",
       "      <td>NaN</td>\n",
       "      <td>236</td>\n",
       "      <td>[]</td>\n",
       "      <td>&lt;NA&gt;</td>\n",
       "      <td>&lt;NA&gt;</td>\n",
       "      <td>NaN</td>\n",
       "      <td>&lt;NA&gt;</td>\n",
       "      <td>[]</td>\n",
       "      <td>&lt;NA&gt;</td>\n",
       "    </tr>\n",
       "    <tr>\n",
       "      <th>3</th>\n",
       "      <td>flipper_length_mm</td>\n",
       "      <td>238</td>\n",
       "      <td>2</td>\n",
       "      <td>0</td>\n",
       "      <td>174</td>\n",
       "      <td>231</td>\n",
       "      <td>201.084746</td>\n",
       "      <td>13.894930</td>\n",
       "      <td>198.0</td>\n",
       "      <td>[174.0, 190.0, 198.0, 214.0, 231.0]</td>\n",
       "      <td>&lt;NA&gt;</td>\n",
       "      <td>NaN</td>\n",
       "      <td>236</td>\n",
       "      <td>[]</td>\n",
       "      <td>&lt;NA&gt;</td>\n",
       "      <td>&lt;NA&gt;</td>\n",
       "      <td>NaN</td>\n",
       "      <td>&lt;NA&gt;</td>\n",
       "      <td>[]</td>\n",
       "      <td>&lt;NA&gt;</td>\n",
       "    </tr>\n",
       "    <tr>\n",
       "      <th>4</th>\n",
       "      <td>island</td>\n",
       "      <td>238</td>\n",
       "      <td>0</td>\n",
       "      <td>&lt;NA&gt;</td>\n",
       "      <td>Biscoe</td>\n",
       "      <td>Torgersen</td>\n",
       "      <td>NaN</td>\n",
       "      <td>NaN</td>\n",
       "      <td>NaN</td>\n",
       "      <td>[]</td>\n",
       "      <td>3</td>\n",
       "      <td>6.092437</td>\n",
       "      <td>238</td>\n",
       "      <td>[{'value': 'Biscoe', 'count': 116}, {'value': ...</td>\n",
       "      <td>&lt;NA&gt;</td>\n",
       "      <td>&lt;NA&gt;</td>\n",
       "      <td>NaN</td>\n",
       "      <td>&lt;NA&gt;</td>\n",
       "      <td>[]</td>\n",
       "      <td>&lt;NA&gt;</td>\n",
       "    </tr>\n",
       "    <tr>\n",
       "      <th>5</th>\n",
       "      <td>sex</td>\n",
       "      <td>238</td>\n",
       "      <td>8</td>\n",
       "      <td>&lt;NA&gt;</td>\n",
       "      <td>FEMALE</td>\n",
       "      <td>MALE</td>\n",
       "      <td>NaN</td>\n",
       "      <td>NaN</td>\n",
       "      <td>NaN</td>\n",
       "      <td>[]</td>\n",
       "      <td>2</td>\n",
       "      <td>5.034783</td>\n",
       "      <td>230</td>\n",
       "      <td>[{'value': 'FEMALE', 'count': 119}, {'value': ...</td>\n",
       "      <td>&lt;NA&gt;</td>\n",
       "      <td>&lt;NA&gt;</td>\n",
       "      <td>NaN</td>\n",
       "      <td>&lt;NA&gt;</td>\n",
       "      <td>[]</td>\n",
       "      <td>&lt;NA&gt;</td>\n",
       "    </tr>\n",
       "    <tr>\n",
       "      <th>6</th>\n",
       "      <td>species</td>\n",
       "      <td>238</td>\n",
       "      <td>0</td>\n",
       "      <td>&lt;NA&gt;</td>\n",
       "      <td>Adelie Penguin (Pygoscelis adeliae)</td>\n",
       "      <td>Gentoo penguin (Pygoscelis papua)</td>\n",
       "      <td>NaN</td>\n",
       "      <td>NaN</td>\n",
       "      <td>NaN</td>\n",
       "      <td>[]</td>\n",
       "      <td>3</td>\n",
       "      <td>35.462185</td>\n",
       "      <td>238</td>\n",
       "      <td>[{'value': 'Adelie Penguin (Pygoscelis adeliae...</td>\n",
       "      <td>&lt;NA&gt;</td>\n",
       "      <td>&lt;NA&gt;</td>\n",
       "      <td>NaN</td>\n",
       "      <td>&lt;NA&gt;</td>\n",
       "      <td>[]</td>\n",
       "      <td>&lt;NA&gt;</td>\n",
       "    </tr>\n",
       "  </tbody>\n",
       "</table>\n",
       "</div>"
      ],
      "text/plain": [
       "                name  num_rows  num_nulls  num_zeros  \\\n",
       "0        body_mass_g       238          2          0   \n",
       "1    culmen_depth_mm       238          2          0   \n",
       "2   culmen_length_mm       238          2          0   \n",
       "3  flipper_length_mm       238          2          0   \n",
       "4             island       238          0       <NA>   \n",
       "5                sex       238          8       <NA>   \n",
       "6            species       238          0       <NA>   \n",
       "\n",
       "                                   min                                max  \\\n",
       "0                                 2700                               6050   \n",
       "1                                 13.3                               21.5   \n",
       "2                                   34                               59.6   \n",
       "3                                  174                                231   \n",
       "4                               Biscoe                          Torgersen   \n",
       "5                               FEMALE                               MALE   \n",
       "6  Adelie Penguin (Pygoscelis adeliae)  Gentoo penguin (Pygoscelis papua)   \n",
       "\n",
       "          mean      stddev  median                                 quantiles  \\\n",
       "0  4185.699153  781.929409  4000.0  [2700.0, 3550.0, 4000.0, 4750.0, 6050.0]   \n",
       "1    17.094068    1.914122    17.3            [13.3, 15.5, 17.3, 18.5, 21.5]   \n",
       "2    43.988136    5.398841    44.1            [34.0, 39.5, 44.1, 47.7, 59.6]   \n",
       "3   201.084746   13.894930   198.0       [174.0, 190.0, 198.0, 214.0, 231.0]   \n",
       "4          NaN         NaN     NaN                                        []   \n",
       "5          NaN         NaN     NaN                                        []   \n",
       "6          NaN         NaN     NaN                                        []   \n",
       "\n",
       "   unique  avg_string_length  num_values  \\\n",
       "0    <NA>                NaN         236   \n",
       "1    <NA>                NaN         236   \n",
       "2    <NA>                NaN         236   \n",
       "3    <NA>                NaN         236   \n",
       "4       3           6.092437         238   \n",
       "5       2           5.034783         230   \n",
       "6       3          35.462185         238   \n",
       "\n",
       "                                          top_values  min_array_length  \\\n",
       "0                                                 []              <NA>   \n",
       "1                                                 []              <NA>   \n",
       "2                                                 []              <NA>   \n",
       "3                                                 []              <NA>   \n",
       "4  [{'value': 'Biscoe', 'count': 116}, {'value': ...              <NA>   \n",
       "5  [{'value': 'FEMALE', 'count': 119}, {'value': ...              <NA>   \n",
       "6  [{'value': 'Adelie Penguin (Pygoscelis adeliae...              <NA>   \n",
       "\n",
       "   max_array_length  avg_array_length  total_array_length  \\\n",
       "0              <NA>               NaN                <NA>   \n",
       "1              <NA>               NaN                <NA>   \n",
       "2              <NA>               NaN                <NA>   \n",
       "3              <NA>               NaN                <NA>   \n",
       "4              <NA>               NaN                <NA>   \n",
       "5              <NA>               NaN                <NA>   \n",
       "6              <NA>               NaN                <NA>   \n",
       "\n",
       "  array_length_quantiles  dimension  \n",
       "0                     []       <NA>  \n",
       "1                     []       <NA>  \n",
       "2                     []       <NA>  \n",
       "3                     []       <NA>  \n",
       "4                     []       <NA>  \n",
       "5                     []       <NA>  \n",
       "6                     []       <NA>  "
      ]
     },
     "execution_count": 14,
     "metadata": {},
     "output_type": "execute_result"
    }
   ],
   "source": [
    "%%bigquery\n",
    "SELECT *\n",
    "FROM ML.DESCRIBE_DATA(\n",
    "    (\n",
    "        SELECT * EXCEPT(splits)\n",
    "        FROM `statmike-mlops-349915.bqml_model_monitoring.training_split`\n",
    "        WHERE splits = 'TRAIN'\n",
    "    ),\n",
    "    STRUCT(3 AS top_k, 4 AS num_quantiles)\n",
    ")"
   ]
  },
  {
   "cell_type": "markdown",
   "metadata": {
    "tags": []
   },
   "source": [
    "---\n",
    "## Model Training\n",
    "\n",
    "Create a model trained to classify `species` for the traning records.  Here, directly in BigQuery, the [`CREATE MODEL` statement for random forest](https://cloud.google.com/bigquery/docs/reference/standard-sql/bigqueryml-syntax-create-random-forest) is used.  This uses the `TRANSFORM` clause within the model to embed user specified transfomations within the model for use during serving and model monitoring which will both be show later in this introduction.\n",
    "\n",
    "From reviewing the training data above, the following transformations will be tried:\n",
    "- Apply [`ML.ROBUST_SCALER`](https://cloud.google.com/bigquery/docs/reference/standard-sql/bigqueryml-syntax-robust-scaler) to `body_mass_g`\n",
    "- Apply [`ML.STANDARD_SCALER`](https://cloud.google.com/bigquery/docs/reference/standard-sql/bigqueryml-syntax-standard-scaler) to `culmen_depth_mm` and `culmen_length_mm`\n",
    "- Apply [`ML.QUANTILE_BUCKATIZE`](https://cloud.google.com/bigquery/docs/reference/standard-sql/bigqueryml-syntax-quantile-bucketize) to `flipper_length_mm`\n",
    "- Apply [`ML.IMPUTER`](https://cloud.google.com/bigquery/docs/reference/standard-sql/bigqueryml-syntax-imputer) to `island`, and `sex`"
   ]
  },
  {
   "cell_type": "code",
   "execution_count": 15,
   "metadata": {
    "tags": []
   },
   "outputs": [
    {
     "data": {
      "application/vnd.jupyter.widget-view+json": {
       "model_id": "6624a4af9a0842bea40217b652a992c0",
       "version_major": 2,
       "version_minor": 0
      },
      "text/plain": [
       "Query is running:   0%|          |"
      ]
     },
     "metadata": {},
     "output_type": "display_data"
    },
    {
     "data": {
      "text/html": [
       "<div>\n",
       "<style scoped>\n",
       "    .dataframe tbody tr th:only-of-type {\n",
       "        vertical-align: middle;\n",
       "    }\n",
       "\n",
       "    .dataframe tbody tr th {\n",
       "        vertical-align: top;\n",
       "    }\n",
       "\n",
       "    .dataframe thead th {\n",
       "        text-align: right;\n",
       "    }\n",
       "</style>\n",
       "<table border=\"1\" class=\"dataframe\">\n",
       "  <thead>\n",
       "    <tr style=\"text-align: right;\">\n",
       "      <th></th>\n",
       "    </tr>\n",
       "  </thead>\n",
       "  <tbody>\n",
       "  </tbody>\n",
       "</table>\n",
       "</div>"
      ],
      "text/plain": [
       "Empty DataFrame\n",
       "Columns: []\n",
       "Index: []"
      ]
     },
     "execution_count": 15,
     "metadata": {},
     "output_type": "execute_result"
    }
   ],
   "source": [
    "%%bigquery\n",
    "CREATE OR REPLACE MODEL `statmike-mlops-349915.bqml_model_monitoring.classify_species_rf`\n",
    "    TRANSFORM(\n",
    "        ML.ROBUST_SCALER(body_mass_g) OVER() AS body_mass_g,\n",
    "        ML.STANDARD_SCALER(culmen_length_mm) OVER() AS culmen_length_mm,\n",
    "        ML.STANDARD_SCALER(culmen_depth_mm) OVER() AS culmen_depth_mm,\n",
    "        ML.QUANTILE_BUCKETIZE(flipper_length_mm, 3) OVER() AS flipper_length_mm,\n",
    "        ML.IMPUTER(sex, 'most_frequent') OVER() AS sex,\n",
    "        ML.IMPUTER(island, 'most_frequent') OVER() AS island,\n",
    "        species, split\n",
    "    )\n",
    "    OPTIONS(\n",
    "        MODEL_TYPE = 'RANDOM_FOREST_CLASSIFIER',\n",
    "        INPUT_LABEL_COLS = ['species'],\n",
    "        \n",
    "        # data specifics\n",
    "        DATA_SPLIT_METHOD = 'CUSTOM',\n",
    "        DATA_SPLIT_COL = 'split',\n",
    "        \n",
    "        # model specifics\n",
    "        AUTO_CLASS_WEIGHTS = FALSE,\n",
    "        NUM_PARALLEL_TREE= 150,\n",
    "        TREE_METHOD = 'HIST',\n",
    "        SUBSAMPLE = 0.85,\n",
    "        COLSAMPLE_BYTREE = 0.9,\n",
    "        ENABLE_GLOBAL_EXPLAIN = TRUE,\n",
    "        \n",
    "        # register model in Vertex AI For Online Serving\n",
    "        MODEL_REGISTRY = 'VERTEX_AI',\n",
    "        VERTEX_AI_MODEL_ID = 'classify_species_rf'\n",
    "    )\n",
    "AS\n",
    "    SELECT * EXCEPT(splits),\n",
    "        CASE WHEN splits = 'TRAIN' THEN FALSE\n",
    "        ELSE TRUE END AS split\n",
    "    FROM `statmike-mlops-349915.bqml_model_monitoring.training_split`\n",
    "    WHERE splits != 'TEST'"
   ]
  },
  {
   "cell_type": "code",
   "execution_count": 16,
   "metadata": {
    "tags": []
   },
   "outputs": [
    {
     "data": {
      "application/vnd.jupyter.widget-view+json": {
       "model_id": "ed4894fe48fd4ae39c93948afb2acbb9",
       "version_major": 2,
       "version_minor": 0
      },
      "text/plain": [
       "Query is running:   0%|          |"
      ]
     },
     "metadata": {},
     "output_type": "display_data"
    },
    {
     "data": {
      "application/vnd.jupyter.widget-view+json": {
       "model_id": "2e77bc8fc5c640058e309edf8f7198f3",
       "version_major": 2,
       "version_minor": 0
      },
      "text/plain": [
       "Downloading:   0%|          |"
      ]
     },
     "metadata": {},
     "output_type": "display_data"
    },
    {
     "data": {
      "text/html": [
       "<div>\n",
       "<style scoped>\n",
       "    .dataframe tbody tr th:only-of-type {\n",
       "        vertical-align: middle;\n",
       "    }\n",
       "\n",
       "    .dataframe tbody tr th {\n",
       "        vertical-align: top;\n",
       "    }\n",
       "\n",
       "    .dataframe thead th {\n",
       "        text-align: right;\n",
       "    }\n",
       "</style>\n",
       "<table border=\"1\" class=\"dataframe\">\n",
       "  <thead>\n",
       "    <tr style=\"text-align: right;\">\n",
       "      <th></th>\n",
       "      <th>training_run</th>\n",
       "      <th>iteration</th>\n",
       "      <th>loss</th>\n",
       "      <th>eval_loss</th>\n",
       "      <th>learning_rate</th>\n",
       "      <th>duration_ms</th>\n",
       "    </tr>\n",
       "  </thead>\n",
       "  <tbody>\n",
       "    <tr>\n",
       "      <th>0</th>\n",
       "      <td>0</td>\n",
       "      <td>1</td>\n",
       "      <td>0.256516</td>\n",
       "      <td>0.258287</td>\n",
       "      <td>1.0</td>\n",
       "      <td>618282</td>\n",
       "    </tr>\n",
       "  </tbody>\n",
       "</table>\n",
       "</div>"
      ],
      "text/plain": [
       "   training_run  iteration      loss  eval_loss  learning_rate  duration_ms\n",
       "0             0          1  0.256516   0.258287            1.0       618282"
      ]
     },
     "execution_count": 16,
     "metadata": {},
     "output_type": "execute_result"
    }
   ],
   "source": [
    "%%bigquery\n",
    "SELECT *\n",
    "FROM ML.TRAINING_INFO(MODEL `statmike-mlops-349915.bqml_model_monitoring.classify_species_rf`)\n",
    "ORDER BY iteration"
   ]
  },
  {
   "cell_type": "markdown",
   "metadata": {},
   "source": [
    "### Evaluation With `ML.EVALUATE`\n",
    "\n",
    "BigQuery ML models can be directly evaluated with the [`ML.EVALUATE` function](https://cloud.google.com/bigquery/docs/reference/standard-sql/bigqueryml-syntax-evaluate).  The evaluation of the model on evaluation data specified during training can be done by just specifying the model.  To evaluate the model on new data, like a `TEST` split or even the `TRAIN` split, the records can be specified with a query statement as seen in the following evaluations.\n",
    "\n",
    "> An evaluation split with 10% of records was created above.  This set would normally be used for tuning model hyperparameters, like `BATCH_SIZE`, `DROPOUT`, `HIDDEN_UNITS`, `LEARN_RATE`, and/or `OPTIMIZER` in the case of the DNN used here.  This could also be done directly in the BigQuery `CREATE MODEL` statement with [hyperparameter tuning](https://cloud.google.com/bigquery/docs/hp-tuning-overview)."
   ]
  },
  {
   "cell_type": "code",
   "execution_count": 17,
   "metadata": {
    "tags": []
   },
   "outputs": [
    {
     "data": {
      "application/vnd.jupyter.widget-view+json": {
       "model_id": "e68afca2e2c64ce5874762c054a7a598",
       "version_major": 2,
       "version_minor": 0
      },
      "text/plain": [
       "Query is running:   0%|          |"
      ]
     },
     "metadata": {},
     "output_type": "display_data"
    },
    {
     "data": {
      "application/vnd.jupyter.widget-view+json": {
       "model_id": "3c48b4dde3394761ae3507642b6fad87",
       "version_major": 2,
       "version_minor": 0
      },
      "text/plain": [
       "Downloading:   0%|          |"
      ]
     },
     "metadata": {},
     "output_type": "display_data"
    },
    {
     "data": {
      "text/html": [
       "<div>\n",
       "<style scoped>\n",
       "    .dataframe tbody tr th:only-of-type {\n",
       "        vertical-align: middle;\n",
       "    }\n",
       "\n",
       "    .dataframe tbody tr th {\n",
       "        vertical-align: top;\n",
       "    }\n",
       "\n",
       "    .dataframe thead th {\n",
       "        text-align: right;\n",
       "    }\n",
       "</style>\n",
       "<table border=\"1\" class=\"dataframe\">\n",
       "  <thead>\n",
       "    <tr style=\"text-align: right;\">\n",
       "      <th></th>\n",
       "      <th>precision</th>\n",
       "      <th>recall</th>\n",
       "      <th>accuracy</th>\n",
       "      <th>f1_score</th>\n",
       "      <th>log_loss</th>\n",
       "      <th>roc_auc</th>\n",
       "    </tr>\n",
       "  </thead>\n",
       "  <tbody>\n",
       "    <tr>\n",
       "      <th>0</th>\n",
       "      <td>1.0</td>\n",
       "      <td>1.0</td>\n",
       "      <td>1.0</td>\n",
       "      <td>1.0</td>\n",
       "      <td>0.278766</td>\n",
       "      <td>1.0</td>\n",
       "    </tr>\n",
       "  </tbody>\n",
       "</table>\n",
       "</div>"
      ],
      "text/plain": [
       "   precision  recall  accuracy  f1_score  log_loss  roc_auc\n",
       "0        1.0     1.0       1.0       1.0  0.278766      1.0"
      ]
     },
     "execution_count": 17,
     "metadata": {},
     "output_type": "execute_result"
    }
   ],
   "source": [
    "%%bigquery\n",
    "SELECT *\n",
    "FROM ML.EVALUATE (\n",
    "    MODEL `statmike-mlops-349915.bqml_model_monitoring.classify_species_rf`\n",
    ")"
   ]
  },
  {
   "cell_type": "markdown",
   "metadata": {},
   "source": [
    "### Evaluate The Model: Training Data Split (`TRAIN`)\n",
    "\n",
    "Evaluating the model on the training data is good for setting a baseline for the likely best possible performance of the model.  "
   ]
  },
  {
   "cell_type": "code",
   "execution_count": 18,
   "metadata": {
    "tags": []
   },
   "outputs": [
    {
     "data": {
      "application/vnd.jupyter.widget-view+json": {
       "model_id": "c64c23c5924e42288d008167e9e5f373",
       "version_major": 2,
       "version_minor": 0
      },
      "text/plain": [
       "Query is running:   0%|          |"
      ]
     },
     "metadata": {},
     "output_type": "display_data"
    },
    {
     "data": {
      "application/vnd.jupyter.widget-view+json": {
       "model_id": "be211a787c3c4beb84d5844cd83b8898",
       "version_major": 2,
       "version_minor": 0
      },
      "text/plain": [
       "Downloading:   0%|          |"
      ]
     },
     "metadata": {},
     "output_type": "display_data"
    },
    {
     "data": {
      "text/html": [
       "<div>\n",
       "<style scoped>\n",
       "    .dataframe tbody tr th:only-of-type {\n",
       "        vertical-align: middle;\n",
       "    }\n",
       "\n",
       "    .dataframe tbody tr th {\n",
       "        vertical-align: top;\n",
       "    }\n",
       "\n",
       "    .dataframe thead th {\n",
       "        text-align: right;\n",
       "    }\n",
       "</style>\n",
       "<table border=\"1\" class=\"dataframe\">\n",
       "  <thead>\n",
       "    <tr style=\"text-align: right;\">\n",
       "      <th></th>\n",
       "      <th>precision</th>\n",
       "      <th>recall</th>\n",
       "      <th>accuracy</th>\n",
       "      <th>f1_score</th>\n",
       "      <th>log_loss</th>\n",
       "      <th>roc_auc</th>\n",
       "    </tr>\n",
       "  </thead>\n",
       "  <tbody>\n",
       "    <tr>\n",
       "      <th>0</th>\n",
       "      <td>0.996855</td>\n",
       "      <td>0.996124</td>\n",
       "      <td>0.995798</td>\n",
       "      <td>0.996471</td>\n",
       "      <td>0.268676</td>\n",
       "      <td>1.0</td>\n",
       "    </tr>\n",
       "  </tbody>\n",
       "</table>\n",
       "</div>"
      ],
      "text/plain": [
       "   precision    recall  accuracy  f1_score  log_loss  roc_auc\n",
       "0   0.996855  0.996124  0.995798  0.996471  0.268676      1.0"
      ]
     },
     "execution_count": 18,
     "metadata": {},
     "output_type": "execute_result"
    }
   ],
   "source": [
    "%%bigquery\n",
    "SELECT *\n",
    "FROM ML.EVALUATE (\n",
    "    MODEL `statmike-mlops-349915.bqml_model_monitoring.classify_species_rf`,\n",
    "    (\n",
    "        SELECT *\n",
    "        FROM `statmike-mlops-349915.bqml_model_monitoring.training_split`\n",
    "        WHERE splits = 'TRAIN'\n",
    "    )\n",
    ")"
   ]
  },
  {
   "cell_type": "markdown",
   "metadata": {},
   "source": [
    "### Evaluate The Model: `TEST` Data Split\n",
    "\n",
    "Evaluating the model on the `TEST` split is a good gauge of performance in general as it represents data the model was not exposed to during training: "
   ]
  },
  {
   "cell_type": "code",
   "execution_count": 19,
   "metadata": {
    "tags": []
   },
   "outputs": [
    {
     "data": {
      "application/vnd.jupyter.widget-view+json": {
       "model_id": "b0cb865ea524486e91feca6468d77848",
       "version_major": 2,
       "version_minor": 0
      },
      "text/plain": [
       "Query is running:   0%|          |"
      ]
     },
     "metadata": {},
     "output_type": "display_data"
    },
    {
     "data": {
      "application/vnd.jupyter.widget-view+json": {
       "model_id": "82d4a07b7fd2461ca2b1bc9d8d7394bb",
       "version_major": 2,
       "version_minor": 0
      },
      "text/plain": [
       "Downloading:   0%|          |"
      ]
     },
     "metadata": {},
     "output_type": "display_data"
    },
    {
     "data": {
      "text/html": [
       "<div>\n",
       "<style scoped>\n",
       "    .dataframe tbody tr th:only-of-type {\n",
       "        vertical-align: middle;\n",
       "    }\n",
       "\n",
       "    .dataframe tbody tr th {\n",
       "        vertical-align: top;\n",
       "    }\n",
       "\n",
       "    .dataframe thead th {\n",
       "        text-align: right;\n",
       "    }\n",
       "</style>\n",
       "<table border=\"1\" class=\"dataframe\">\n",
       "  <thead>\n",
       "    <tr style=\"text-align: right;\">\n",
       "      <th></th>\n",
       "      <th>precision</th>\n",
       "      <th>recall</th>\n",
       "      <th>accuracy</th>\n",
       "      <th>f1_score</th>\n",
       "      <th>log_loss</th>\n",
       "      <th>roc_auc</th>\n",
       "    </tr>\n",
       "  </thead>\n",
       "  <tbody>\n",
       "    <tr>\n",
       "      <th>0</th>\n",
       "      <td>0.989899</td>\n",
       "      <td>0.97619</td>\n",
       "      <td>0.985915</td>\n",
       "      <td>0.982526</td>\n",
       "      <td>0.328058</td>\n",
       "      <td>0.993469</td>\n",
       "    </tr>\n",
       "  </tbody>\n",
       "</table>\n",
       "</div>"
      ],
      "text/plain": [
       "   precision   recall  accuracy  f1_score  log_loss   roc_auc\n",
       "0   0.989899  0.97619  0.985915  0.982526  0.328058  0.993469"
      ]
     },
     "execution_count": 19,
     "metadata": {},
     "output_type": "execute_result"
    }
   ],
   "source": [
    "%%bigquery\n",
    "SELECT *\n",
    "FROM ML.EVALUATE (\n",
    "    MODEL `statmike-mlops-349915.bqml_model_monitoring.classify_species_rf`,\n",
    "    (\n",
    "        SELECT *\n",
    "        FROM `statmike-mlops-349915.bqml_model_monitoring.training_split`\n",
    "        WHERE splits = 'TEST'\n",
    "    )\n",
    ")"
   ]
  },
  {
   "cell_type": "markdown",
   "metadata": {},
   "source": [
    "### Evaluate The Classification Performance with `ML.CONFUSION_MATRIX`\n",
    "\n",
    "This model is a classification model and reviewing the true versus predicted classification categories can be done with the [`ML.CONFUSION_MATRIX` function](https://cloud.google.com/bigquery/docs/reference/standard-sql/bigqueryml-syntax-confusion)."
   ]
  },
  {
   "cell_type": "code",
   "execution_count": 20,
   "metadata": {
    "tags": []
   },
   "outputs": [
    {
     "data": {
      "application/vnd.jupyter.widget-view+json": {
       "model_id": "7c8a8360137d4b6ea546b8dc8fdcef9a",
       "version_major": 2,
       "version_minor": 0
      },
      "text/plain": [
       "Query is running:   0%|          |"
      ]
     },
     "metadata": {},
     "output_type": "display_data"
    },
    {
     "data": {
      "application/vnd.jupyter.widget-view+json": {
       "model_id": "13a04465e3be477aa9f10be0da213878",
       "version_major": 2,
       "version_minor": 0
      },
      "text/plain": [
       "Downloading:   0%|          |"
      ]
     },
     "metadata": {},
     "output_type": "display_data"
    },
    {
     "data": {
      "text/html": [
       "<div>\n",
       "<style scoped>\n",
       "    .dataframe tbody tr th:only-of-type {\n",
       "        vertical-align: middle;\n",
       "    }\n",
       "\n",
       "    .dataframe tbody tr th {\n",
       "        vertical-align: top;\n",
       "    }\n",
       "\n",
       "    .dataframe thead th {\n",
       "        text-align: right;\n",
       "    }\n",
       "</style>\n",
       "<table border=\"1\" class=\"dataframe\">\n",
       "  <thead>\n",
       "    <tr style=\"text-align: right;\">\n",
       "      <th></th>\n",
       "      <th>expected_label</th>\n",
       "      <th>Adelie Penguin _Pygoscelis adeliae_</th>\n",
       "      <th>Chinstrap penguin _Pygoscelis antarctica_</th>\n",
       "      <th>Gentoo penguin _Pygoscelis papua_</th>\n",
       "    </tr>\n",
       "  </thead>\n",
       "  <tbody>\n",
       "    <tr>\n",
       "      <th>0</th>\n",
       "      <td>Adelie Penguin (Pygoscelis adeliae)</td>\n",
       "      <td>15</td>\n",
       "      <td>0</td>\n",
       "      <td>0</td>\n",
       "    </tr>\n",
       "    <tr>\n",
       "      <th>1</th>\n",
       "      <td>Chinstrap penguin (Pygoscelis antarctica)</td>\n",
       "      <td>0</td>\n",
       "      <td>7</td>\n",
       "      <td>0</td>\n",
       "    </tr>\n",
       "    <tr>\n",
       "      <th>2</th>\n",
       "      <td>Gentoo penguin (Pygoscelis papua)</td>\n",
       "      <td>0</td>\n",
       "      <td>0</td>\n",
       "      <td>13</td>\n",
       "    </tr>\n",
       "  </tbody>\n",
       "</table>\n",
       "</div>"
      ],
      "text/plain": [
       "                              expected_label  \\\n",
       "0        Adelie Penguin (Pygoscelis adeliae)   \n",
       "1  Chinstrap penguin (Pygoscelis antarctica)   \n",
       "2          Gentoo penguin (Pygoscelis papua)   \n",
       "\n",
       "   Adelie Penguin _Pygoscelis adeliae_  \\\n",
       "0                                   15   \n",
       "1                                    0   \n",
       "2                                    0   \n",
       "\n",
       "   Chinstrap penguin _Pygoscelis antarctica_  \\\n",
       "0                                          0   \n",
       "1                                          7   \n",
       "2                                          0   \n",
       "\n",
       "   Gentoo penguin _Pygoscelis papua_  \n",
       "0                                  0  \n",
       "1                                  0  \n",
       "2                                 13  "
      ]
     },
     "execution_count": 20,
     "metadata": {},
     "output_type": "execute_result"
    }
   ],
   "source": [
    "%%bigquery\n",
    "SELECT *\n",
    "FROM ML.CONFUSION_MATRIX (\n",
    "    MODEL `statmike-mlops-349915.bqml_model_monitoring.classify_species_rf`\n",
    ")"
   ]
  },
  {
   "cell_type": "code",
   "execution_count": 21,
   "metadata": {
    "tags": []
   },
   "outputs": [
    {
     "data": {
      "application/vnd.jupyter.widget-view+json": {
       "model_id": "0eef8a3f4d0e47a19db3c187eec699b1",
       "version_major": 2,
       "version_minor": 0
      },
      "text/plain": [
       "Query is running:   0%|          |"
      ]
     },
     "metadata": {},
     "output_type": "display_data"
    },
    {
     "data": {
      "application/vnd.jupyter.widget-view+json": {
       "model_id": "d044f094d7454b11ac2d3623e935ec42",
       "version_major": 2,
       "version_minor": 0
      },
      "text/plain": [
       "Downloading:   0%|          |"
      ]
     },
     "metadata": {},
     "output_type": "display_data"
    },
    {
     "data": {
      "text/html": [
       "<div>\n",
       "<style scoped>\n",
       "    .dataframe tbody tr th:only-of-type {\n",
       "        vertical-align: middle;\n",
       "    }\n",
       "\n",
       "    .dataframe tbody tr th {\n",
       "        vertical-align: top;\n",
       "    }\n",
       "\n",
       "    .dataframe thead th {\n",
       "        text-align: right;\n",
       "    }\n",
       "</style>\n",
       "<table border=\"1\" class=\"dataframe\">\n",
       "  <thead>\n",
       "    <tr style=\"text-align: right;\">\n",
       "      <th></th>\n",
       "      <th>expected_label</th>\n",
       "      <th>Adelie Penguin _Pygoscelis adeliae_</th>\n",
       "      <th>Chinstrap penguin _Pygoscelis antarctica_</th>\n",
       "      <th>Gentoo penguin _Pygoscelis papua_</th>\n",
       "    </tr>\n",
       "  </thead>\n",
       "  <tbody>\n",
       "    <tr>\n",
       "      <th>0</th>\n",
       "      <td>Adelie Penguin (Pygoscelis adeliae)</td>\n",
       "      <td>105</td>\n",
       "      <td>0</td>\n",
       "      <td>0</td>\n",
       "    </tr>\n",
       "    <tr>\n",
       "      <th>1</th>\n",
       "      <td>Chinstrap penguin (Pygoscelis antarctica)</td>\n",
       "      <td>0</td>\n",
       "      <td>47</td>\n",
       "      <td>0</td>\n",
       "    </tr>\n",
       "    <tr>\n",
       "      <th>2</th>\n",
       "      <td>Gentoo penguin (Pygoscelis papua)</td>\n",
       "      <td>1</td>\n",
       "      <td>0</td>\n",
       "      <td>85</td>\n",
       "    </tr>\n",
       "  </tbody>\n",
       "</table>\n",
       "</div>"
      ],
      "text/plain": [
       "                              expected_label  \\\n",
       "0        Adelie Penguin (Pygoscelis adeliae)   \n",
       "1  Chinstrap penguin (Pygoscelis antarctica)   \n",
       "2          Gentoo penguin (Pygoscelis papua)   \n",
       "\n",
       "   Adelie Penguin _Pygoscelis adeliae_  \\\n",
       "0                                  105   \n",
       "1                                    0   \n",
       "2                                    1   \n",
       "\n",
       "   Chinstrap penguin _Pygoscelis antarctica_  \\\n",
       "0                                          0   \n",
       "1                                         47   \n",
       "2                                          0   \n",
       "\n",
       "   Gentoo penguin _Pygoscelis papua_  \n",
       "0                                  0  \n",
       "1                                  0  \n",
       "2                                 85  "
      ]
     },
     "execution_count": 21,
     "metadata": {},
     "output_type": "execute_result"
    }
   ],
   "source": [
    "%%bigquery\n",
    "SELECT *\n",
    "FROM ML.CONFUSION_MATRIX (\n",
    "    MODEL `statmike-mlops-349915.bqml_model_monitoring.classify_species_rf`,\n",
    "    (\n",
    "        SELECT *\n",
    "        FROM `statmike-mlops-349915.bqml_model_monitoring.training_split`\n",
    "        WHERE splits = 'TRAIN'\n",
    "    )\n",
    ")"
   ]
  },
  {
   "cell_type": "code",
   "execution_count": 22,
   "metadata": {
    "tags": []
   },
   "outputs": [
    {
     "data": {
      "application/vnd.jupyter.widget-view+json": {
       "model_id": "f1b10eb7ae04436fa62ed45a43653bf0",
       "version_major": 2,
       "version_minor": 0
      },
      "text/plain": [
       "Query is running:   0%|          |"
      ]
     },
     "metadata": {},
     "output_type": "display_data"
    },
    {
     "data": {
      "application/vnd.jupyter.widget-view+json": {
       "model_id": "4355121d45cb4eed8680b16b389a11de",
       "version_major": 2,
       "version_minor": 0
      },
      "text/plain": [
       "Downloading:   0%|          |"
      ]
     },
     "metadata": {},
     "output_type": "display_data"
    },
    {
     "data": {
      "text/html": [
       "<div>\n",
       "<style scoped>\n",
       "    .dataframe tbody tr th:only-of-type {\n",
       "        vertical-align: middle;\n",
       "    }\n",
       "\n",
       "    .dataframe tbody tr th {\n",
       "        vertical-align: top;\n",
       "    }\n",
       "\n",
       "    .dataframe thead th {\n",
       "        text-align: right;\n",
       "    }\n",
       "</style>\n",
       "<table border=\"1\" class=\"dataframe\">\n",
       "  <thead>\n",
       "    <tr style=\"text-align: right;\">\n",
       "      <th></th>\n",
       "      <th>expected_label</th>\n",
       "      <th>Adelie Penguin _Pygoscelis adeliae_</th>\n",
       "      <th>Chinstrap penguin _Pygoscelis antarctica_</th>\n",
       "      <th>Gentoo penguin _Pygoscelis papua_</th>\n",
       "    </tr>\n",
       "  </thead>\n",
       "  <tbody>\n",
       "    <tr>\n",
       "      <th>0</th>\n",
       "      <td>Adelie Penguin (Pygoscelis adeliae)</td>\n",
       "      <td>32</td>\n",
       "      <td>0</td>\n",
       "      <td>0</td>\n",
       "    </tr>\n",
       "    <tr>\n",
       "      <th>1</th>\n",
       "      <td>Chinstrap penguin (Pygoscelis antarctica)</td>\n",
       "      <td>1</td>\n",
       "      <td>13</td>\n",
       "      <td>0</td>\n",
       "    </tr>\n",
       "    <tr>\n",
       "      <th>2</th>\n",
       "      <td>Gentoo penguin (Pygoscelis papua)</td>\n",
       "      <td>0</td>\n",
       "      <td>0</td>\n",
       "      <td>25</td>\n",
       "    </tr>\n",
       "  </tbody>\n",
       "</table>\n",
       "</div>"
      ],
      "text/plain": [
       "                              expected_label  \\\n",
       "0        Adelie Penguin (Pygoscelis adeliae)   \n",
       "1  Chinstrap penguin (Pygoscelis antarctica)   \n",
       "2          Gentoo penguin (Pygoscelis papua)   \n",
       "\n",
       "   Adelie Penguin _Pygoscelis adeliae_  \\\n",
       "0                                   32   \n",
       "1                                    1   \n",
       "2                                    0   \n",
       "\n",
       "   Chinstrap penguin _Pygoscelis antarctica_  \\\n",
       "0                                          0   \n",
       "1                                         13   \n",
       "2                                          0   \n",
       "\n",
       "   Gentoo penguin _Pygoscelis papua_  \n",
       "0                                  0  \n",
       "1                                  0  \n",
       "2                                 25  "
      ]
     },
     "execution_count": 22,
     "metadata": {},
     "output_type": "execute_result"
    }
   ],
   "source": [
    "%%bigquery\n",
    "SELECT *\n",
    "FROM ML.CONFUSION_MATRIX (\n",
    "    MODEL `statmike-mlops-349915.bqml_model_monitoring.classify_species_rf`,\n",
    "    (\n",
    "        SELECT *\n",
    "        FROM `statmike-mlops-349915.bqml_model_monitoring.training_split`\n",
    "        WHERE splits = 'TEST'\n",
    "    )\n",
    ")"
   ]
  },
  {
   "cell_type": "markdown",
   "metadata": {
    "tags": []
   },
   "source": [
    "---\n",
    "## Model Serving\n",
    "\n",
    "Once a version of the model is trusted to serve predictions we can put it into use.  At first, this means creating and using predictions from the model.  This is quickly followed by important considerations:\n",
    "\n",
    ">Has the system that is being measured, that creates the data, or that records the data changed in a way that could impact the models ability to correctly predict/classify?\n",
    "\n",
    "It seems like a good idea to continously run evaluations to make sure the model accuracy does not degrade - and it is.  There can be a lag between new data and knowing the actual outcome which makes using using evaluations to monitor models a potentially reactive, or late signal.  To overcome this we can also monitor the model.  More on this later on below."
   ]
  },
  {
   "cell_type": "markdown",
   "metadata": {},
   "source": [
    "### Predictions With `ML.PREDICT`\n",
    "\n",
    "Use [`ML.PREDICT`](https://cloud.google.com/bigquery/docs/reference/standard-sql/bigqueryml-syntax-predict) to serve predictions with the model directly in BigQuery."
   ]
  },
  {
   "cell_type": "code",
   "execution_count": 23,
   "metadata": {
    "tags": []
   },
   "outputs": [
    {
     "data": {
      "application/vnd.jupyter.widget-view+json": {
       "model_id": "448b764c9b184b229b4749e266497b1f",
       "version_major": 2,
       "version_minor": 0
      },
      "text/plain": [
       "Query is running:   0%|          |"
      ]
     },
     "metadata": {},
     "output_type": "display_data"
    },
    {
     "data": {
      "application/vnd.jupyter.widget-view+json": {
       "model_id": "250d4a7f1c864559b4095f312454c2bc",
       "version_major": 2,
       "version_minor": 0
      },
      "text/plain": [
       "Downloading:   0%|          |"
      ]
     },
     "metadata": {},
     "output_type": "display_data"
    },
    {
     "data": {
      "text/html": [
       "<div>\n",
       "<style scoped>\n",
       "    .dataframe tbody tr th:only-of-type {\n",
       "        vertical-align: middle;\n",
       "    }\n",
       "\n",
       "    .dataframe tbody tr th {\n",
       "        vertical-align: top;\n",
       "    }\n",
       "\n",
       "    .dataframe thead th {\n",
       "        text-align: right;\n",
       "    }\n",
       "</style>\n",
       "<table border=\"1\" class=\"dataframe\">\n",
       "  <thead>\n",
       "    <tr style=\"text-align: right;\">\n",
       "      <th></th>\n",
       "      <th>predicted_species</th>\n",
       "      <th>predicted_species_probs</th>\n",
       "      <th>species</th>\n",
       "      <th>island</th>\n",
       "      <th>culmen_length_mm</th>\n",
       "      <th>culmen_depth_mm</th>\n",
       "      <th>flipper_length_mm</th>\n",
       "      <th>body_mass_g</th>\n",
       "      <th>sex</th>\n",
       "      <th>splits</th>\n",
       "    </tr>\n",
       "  </thead>\n",
       "  <tbody>\n",
       "    <tr>\n",
       "      <th>0</th>\n",
       "      <td>Adelie Penguin (Pygoscelis adeliae)</td>\n",
       "      <td>[{'label': 'Gentoo penguin (Pygoscelis papua)'...</td>\n",
       "      <td>Gentoo penguin (Pygoscelis papua)</td>\n",
       "      <td>Biscoe</td>\n",
       "      <td>NaN</td>\n",
       "      <td>NaN</td>\n",
       "      <td>NaN</td>\n",
       "      <td>NaN</td>\n",
       "      <td>None</td>\n",
       "      <td>TRAIN</td>\n",
       "    </tr>\n",
       "    <tr>\n",
       "      <th>1</th>\n",
       "      <td>Adelie Penguin (Pygoscelis adeliae)</td>\n",
       "      <td>[{'label': 'Gentoo penguin (Pygoscelis papua)'...</td>\n",
       "      <td>Adelie Penguin (Pygoscelis adeliae)</td>\n",
       "      <td>Biscoe</td>\n",
       "      <td>37.9</td>\n",
       "      <td>18.6</td>\n",
       "      <td>172.0</td>\n",
       "      <td>3150.0</td>\n",
       "      <td>FEMALE</td>\n",
       "      <td>TEST</td>\n",
       "    </tr>\n",
       "    <tr>\n",
       "      <th>2</th>\n",
       "      <td>Adelie Penguin (Pygoscelis adeliae)</td>\n",
       "      <td>[{'label': 'Gentoo penguin (Pygoscelis papua)'...</td>\n",
       "      <td>Adelie Penguin (Pygoscelis adeliae)</td>\n",
       "      <td>Biscoe</td>\n",
       "      <td>37.8</td>\n",
       "      <td>18.3</td>\n",
       "      <td>174.0</td>\n",
       "      <td>3400.0</td>\n",
       "      <td>FEMALE</td>\n",
       "      <td>TRAIN</td>\n",
       "    </tr>\n",
       "    <tr>\n",
       "      <th>3</th>\n",
       "      <td>Adelie Penguin (Pygoscelis adeliae)</td>\n",
       "      <td>[{'label': 'Gentoo penguin (Pygoscelis papua)'...</td>\n",
       "      <td>Adelie Penguin (Pygoscelis adeliae)</td>\n",
       "      <td>Biscoe</td>\n",
       "      <td>40.5</td>\n",
       "      <td>18.9</td>\n",
       "      <td>180.0</td>\n",
       "      <td>3950.0</td>\n",
       "      <td>MALE</td>\n",
       "      <td>TRAIN</td>\n",
       "    </tr>\n",
       "    <tr>\n",
       "      <th>4</th>\n",
       "      <td>Adelie Penguin (Pygoscelis adeliae)</td>\n",
       "      <td>[{'label': 'Gentoo penguin (Pygoscelis papua)'...</td>\n",
       "      <td>Adelie Penguin (Pygoscelis adeliae)</td>\n",
       "      <td>Biscoe</td>\n",
       "      <td>37.7</td>\n",
       "      <td>18.7</td>\n",
       "      <td>180.0</td>\n",
       "      <td>3600.0</td>\n",
       "      <td>MALE</td>\n",
       "      <td>TEST</td>\n",
       "    </tr>\n",
       "  </tbody>\n",
       "</table>\n",
       "</div>"
      ],
      "text/plain": [
       "                     predicted_species  \\\n",
       "0  Adelie Penguin (Pygoscelis adeliae)   \n",
       "1  Adelie Penguin (Pygoscelis adeliae)   \n",
       "2  Adelie Penguin (Pygoscelis adeliae)   \n",
       "3  Adelie Penguin (Pygoscelis adeliae)   \n",
       "4  Adelie Penguin (Pygoscelis adeliae)   \n",
       "\n",
       "                             predicted_species_probs  \\\n",
       "0  [{'label': 'Gentoo penguin (Pygoscelis papua)'...   \n",
       "1  [{'label': 'Gentoo penguin (Pygoscelis papua)'...   \n",
       "2  [{'label': 'Gentoo penguin (Pygoscelis papua)'...   \n",
       "3  [{'label': 'Gentoo penguin (Pygoscelis papua)'...   \n",
       "4  [{'label': 'Gentoo penguin (Pygoscelis papua)'...   \n",
       "\n",
       "                               species  island  culmen_length_mm  \\\n",
       "0    Gentoo penguin (Pygoscelis papua)  Biscoe               NaN   \n",
       "1  Adelie Penguin (Pygoscelis adeliae)  Biscoe              37.9   \n",
       "2  Adelie Penguin (Pygoscelis adeliae)  Biscoe              37.8   \n",
       "3  Adelie Penguin (Pygoscelis adeliae)  Biscoe              40.5   \n",
       "4  Adelie Penguin (Pygoscelis adeliae)  Biscoe              37.7   \n",
       "\n",
       "   culmen_depth_mm  flipper_length_mm  body_mass_g     sex splits  \n",
       "0              NaN                NaN          NaN    None  TRAIN  \n",
       "1             18.6              172.0       3150.0  FEMALE   TEST  \n",
       "2             18.3              174.0       3400.0  FEMALE  TRAIN  \n",
       "3             18.9              180.0       3950.0    MALE  TRAIN  \n",
       "4             18.7              180.0       3600.0    MALE   TEST  "
      ]
     },
     "execution_count": 23,
     "metadata": {},
     "output_type": "execute_result"
    }
   ],
   "source": [
    "%%bigquery\n",
    "SELECT *\n",
    "FROM ML.PREDICT(\n",
    "    MODEL `statmike-mlops-349915.bqml_model_monitoring.classify_species_rf`,\n",
    "    (\n",
    "        SELECT *\n",
    "        FROM `statmike-mlops-349915.bqml_model_monitoring.training_split`\n",
    "        LIMIT 5\n",
    "    )\n",
    ")"
   ]
  },
  {
   "cell_type": "markdown",
   "metadata": {
    "tags": []
   },
   "source": [
    "---\n",
    "## Serving Data\n",
    "\n",
    "The data source for training and evaluation represents what is known about a system at a point-in-time.  In real world systems measurements can change for many reasons, for example:\n",
    "- training/serving skew due to measurement and data systems:\n",
    "    - the tool used for measurement may change resulting is slight shifts and variations\n",
    "    - the system reporting results might be updated and introduce errors like rearranging the order or parameters and format of the results\n",
    "    - the data processing systems might have changes that alter the calculations of measurements\n",
    "- the system, environment, or subjects being measured may:\n",
    "    - change behaviors\n",
    "    - short-term even forces change\n",
    "    - have environmental changes that impact them\n",
    "    - have seasonal changes that were not represented in the training data\n",
    "    - change in general due to upstream causes"
   ]
  },
  {
   "cell_type": "markdown",
   "metadata": {},
   "source": [
    "### Introduce Changes Over Time\n",
    "\n",
    "To illustrate the impact of change over time, the following code creates a new set of data from the test split.  It creates a series of changes to measurements for each of the past 30 days.  In each case, the values of the parameters `flipper_length_mm` and `body_mass_g` are allowed to slightly increase which can accumulate over the timespan. This might mimic a potential growth season for the penguins that might not have been represented in the training data.\n",
    "\n",
    "This table of serving data could be sourced form where your features are coming from.  In the case of an online model, like [Vertex AI Prediction Endpoints](https://cloud.google.com/vertex-ai/docs/predictions/overview), then [prediction request could be logged to BigQuery](https://cloud.google.com/vertex-ai/docs/predictions/online-prediction-logging#enabling-and-disabling) for use in the model monitoring tasks below.  This online serving pattern is covered later in this tutorial."
   ]
  },
  {
   "cell_type": "code",
   "execution_count": 24,
   "metadata": {
    "tags": []
   },
   "outputs": [
    {
     "data": {
      "application/vnd.jupyter.widget-view+json": {
       "model_id": "8d6bad27a2634d71a0546a4a816d6190",
       "version_major": 2,
       "version_minor": 0
      },
      "text/plain": [
       "Query is running:   0%|          |"
      ]
     },
     "metadata": {},
     "output_type": "display_data"
    },
    {
     "data": {
      "text/html": [
       "<div>\n",
       "<style scoped>\n",
       "    .dataframe tbody tr th:only-of-type {\n",
       "        vertical-align: middle;\n",
       "    }\n",
       "\n",
       "    .dataframe tbody tr th {\n",
       "        vertical-align: top;\n",
       "    }\n",
       "\n",
       "    .dataframe thead th {\n",
       "        text-align: right;\n",
       "    }\n",
       "</style>\n",
       "<table border=\"1\" class=\"dataframe\">\n",
       "  <thead>\n",
       "    <tr style=\"text-align: right;\">\n",
       "      <th></th>\n",
       "    </tr>\n",
       "  </thead>\n",
       "  <tbody>\n",
       "  </tbody>\n",
       "</table>\n",
       "</div>"
      ],
      "text/plain": [
       "Empty DataFrame\n",
       "Columns: []\n",
       "Index: []"
      ]
     },
     "execution_count": 24,
     "metadata": {},
     "output_type": "execute_result"
    }
   ],
   "source": [
    "%%bigquery\n",
    "DECLARE counter INT64 DEFAULT 30;\n",
    "\n",
    "# actual data as starting point - add entity_id, and feature_timestamp:\n",
    "CREATE OR REPLACE TABLE `statmike-mlops-349915.bqml_model_monitoring.serving` AS\n",
    "    SELECT * EXCEPT(flipper_length_mm, body_mass_g),\n",
    "    TIMESTAMP_SUB(TIMESTAMP(CURRENT_DATE()), INTERVAL counter DAY) AS instance_timestamp,\n",
    "    flipper_length_mm as flipper_length_mm,\n",
    "    body_mass_g as body_mass_g\n",
    "    FROM `statmike-mlops-349915.bqml_model_monitoring.training`\n",
    "    WHERE RAND() <= 0.20;\n",
    "\n",
    "LOOP\n",
    "    SET counter = counter - 1;\n",
    "    IF counter < 0 THEN LEAVE;\n",
    "    END IF;\n",
    "    INSERT `statmike-mlops-349915.bqml_model_monitoring.serving`\n",
    "        SELECT * EXCEPT(instance_timestamp, flipper_length_mm, body_mass_g),\n",
    "            TIMESTAMP_ADD(instance_timestamp, INTERVAL 1 DAY) AS instance_timestamp,\n",
    "            CASE\n",
    "                WHEN RAND() >= 0.75 THEN flipper_length_mm\n",
    "                ELSE flipper_length_mm + 6*(RAND()-0.1)\n",
    "            END AS flipper_length_mm,\n",
    "            CASE\n",
    "                WHEN RAND() >= 0.75 THEN body_mass_g\n",
    "                ELSE body_mass_g + 120*(RAND()-0.1)\n",
    "            END AS body_mass_g,\n",
    "        FROM `statmike-mlops-349915.bqml_model_monitoring.serving`\n",
    "        WHERE instance_timestamp >= (SELECT MAX(instance_timestamp) FROM `statmike-mlops-349915.bqml_model_monitoring.serving`);\n",
    "END LOOP;"
   ]
  },
  {
   "cell_type": "code",
   "execution_count": 25,
   "metadata": {
    "tags": []
   },
   "outputs": [
    {
     "data": {
      "application/vnd.jupyter.widget-view+json": {
       "model_id": "6f5b1775ae744660bbcc347e287d343c",
       "version_major": 2,
       "version_minor": 0
      },
      "text/plain": [
       "Query is running:   0%|          |"
      ]
     },
     "metadata": {},
     "output_type": "display_data"
    },
    {
     "data": {
      "application/vnd.jupyter.widget-view+json": {
       "model_id": "bfc06792f796447eba8ac6c40db3da46",
       "version_major": 2,
       "version_minor": 0
      },
      "text/plain": [
       "Downloading:   0%|          |"
      ]
     },
     "metadata": {},
     "output_type": "display_data"
    }
   ],
   "source": [
    "%%bigquery serve\n",
    "SELECT\n",
    "    DATE(instance_timestamp) AS DATE,\n",
    "    AVG(flipper_length_mm) AS flipper_length_mm,\n",
    "    AVG(body_mass_g) AS body_mass_g\n",
    "FROM `statmike-mlops-349915.bqml_model_monitoring.serving`\n",
    "GROUP BY DATE\n",
    "ORDER BY DATE"
   ]
  },
  {
   "cell_type": "code",
   "execution_count": 26,
   "metadata": {
    "tags": []
   },
   "outputs": [],
   "source": [
    "serve.set_index('DATE', inplace = True)"
   ]
  },
  {
   "cell_type": "code",
   "execution_count": 27,
   "metadata": {
    "tags": []
   },
   "outputs": [],
   "source": [
    "#serve"
   ]
  },
  {
   "cell_type": "code",
   "execution_count": 28,
   "metadata": {
    "tags": []
   },
   "outputs": [
    {
     "data": {
      "text/plain": [
       "<Axes: xlabel='DATE'>"
      ]
     },
     "execution_count": 28,
     "metadata": {},
     "output_type": "execute_result"
    },
    {
     "data": {
      "image/png": "[encoded data removed]",
      "text/plain": [
       "<Figure size 800x400 with 1 Axes>"
      ]
     },
     "metadata": {},
     "output_type": "display_data"
    }
   ],
   "source": [
    "serve['flipper_length_mm'].plot(legend = True, figsize = (8, 4))"
   ]
  },
  {
   "cell_type": "code",
   "execution_count": 29,
   "metadata": {
    "tags": []
   },
   "outputs": [
    {
     "data": {
      "text/plain": [
       "<Axes: xlabel='DATE'>"
      ]
     },
     "execution_count": 29,
     "metadata": {},
     "output_type": "execute_result"
    },
    {
     "data": {
      "image/png": "[encoded data removed]",
      "text/plain": [
       "<Figure size 800x400 with 1 Axes>"
      ]
     },
     "metadata": {},
     "output_type": "display_data"
    }
   ],
   "source": [
    "serve['body_mass_g'].plot(legend = True, figsize = (8, 4))"
   ]
  },
  {
   "cell_type": "markdown",
   "metadata": {
    "tags": []
   },
   "source": [
    "---\n",
    "## Monitoring With Evaluations\n",
    "\n",
    "It might seem like ongoing model evaluations are a great solution to model monitoring.  If the actual known values are available immediately then this could be possible to use for monitoring.  However, detecting a change in evaluation metrics means the model has realized a degradation.  It is a lagging signal.  To be more proactive we should monitor the inputs to the model, the features.  More on that in the next section.\n",
    "\n",
    "First, look at the evaluation metrics for the most recent days data which has the cumulative change of the past 30 days introduced above.  In this case, the actual known values is known. This may not be possible in many real-world examples where the actual known values are:\n",
    "- delayed by minutes, hours, days, or even longer\n",
    "- not always known for all instances\n",
    "- potentially in a different status that can change over a period of time before being confirmed as final\n",
    "\n",
    "In reviewing the evaluation for the most recent instances here, the `precision` has dropped and the `log_loss` has increased drastically.  The confusion matrix shows Chinstrap penguins's are now being misclassified much more often than when the model was trained.  \n",
    "\n",
    "The question becomes \"How soon could this have been noticed?\"."
   ]
  },
  {
   "cell_type": "code",
   "execution_count": 30,
   "metadata": {
    "tags": []
   },
   "outputs": [
    {
     "data": {
      "application/vnd.jupyter.widget-view+json": {
       "model_id": "aa6de0cf87e642f0a6da2ca7b1571de9",
       "version_major": 2,
       "version_minor": 0
      },
      "text/plain": [
       "Query is running:   0%|          |"
      ]
     },
     "metadata": {},
     "output_type": "display_data"
    },
    {
     "data": {
      "application/vnd.jupyter.widget-view+json": {
       "model_id": "f8d81f9f9f3944e5bdba0fcfef010a55",
       "version_major": 2,
       "version_minor": 0
      },
      "text/plain": [
       "Downloading:   0%|          |"
      ]
     },
     "metadata": {},
     "output_type": "display_data"
    },
    {
     "data": {
      "text/html": [
       "<div>\n",
       "<style scoped>\n",
       "    .dataframe tbody tr th:only-of-type {\n",
       "        vertical-align: middle;\n",
       "    }\n",
       "\n",
       "    .dataframe tbody tr th {\n",
       "        vertical-align: top;\n",
       "    }\n",
       "\n",
       "    .dataframe thead th {\n",
       "        text-align: right;\n",
       "    }\n",
       "</style>\n",
       "<table border=\"1\" class=\"dataframe\">\n",
       "  <thead>\n",
       "    <tr style=\"text-align: right;\">\n",
       "      <th></th>\n",
       "      <th>precision</th>\n",
       "      <th>recall</th>\n",
       "      <th>accuracy</th>\n",
       "      <th>f1_score</th>\n",
       "      <th>log_loss</th>\n",
       "      <th>roc_auc</th>\n",
       "    </tr>\n",
       "  </thead>\n",
       "  <tbody>\n",
       "    <tr>\n",
       "      <th>0</th>\n",
       "      <td>0.835648</td>\n",
       "      <td>0.7475</td>\n",
       "      <td>0.745763</td>\n",
       "      <td>0.743566</td>\n",
       "      <td>0.625091</td>\n",
       "      <td>0.991283</td>\n",
       "    </tr>\n",
       "  </tbody>\n",
       "</table>\n",
       "</div>"
      ],
      "text/plain": [
       "   precision  recall  accuracy  f1_score  log_loss   roc_auc\n",
       "0   0.835648  0.7475  0.745763  0.743566  0.625091  0.991283"
      ]
     },
     "execution_count": 30,
     "metadata": {},
     "output_type": "execute_result"
    }
   ],
   "source": [
    "%%bigquery\n",
    "SELECT *\n",
    "FROM ML.EVALUATE (\n",
    "    MODEL `statmike-mlops-349915.bqml_model_monitoring.classify_species_rf`,\n",
    "    (\n",
    "        SELECT *\n",
    "        FROM `statmike-mlops-349915.bqml_model_monitoring.serving`\n",
    "        WHERE DATE(instance_timestamp) >= CURRENT_DATE()\n",
    "    )\n",
    ")"
   ]
  },
  {
   "cell_type": "code",
   "execution_count": 31,
   "metadata": {
    "tags": []
   },
   "outputs": [
    {
     "data": {
      "application/vnd.jupyter.widget-view+json": {
       "model_id": "2823b3590bdb4247b1c48a40c66b6b9e",
       "version_major": 2,
       "version_minor": 0
      },
      "text/plain": [
       "Query is running:   0%|          |"
      ]
     },
     "metadata": {},
     "output_type": "display_data"
    },
    {
     "data": {
      "application/vnd.jupyter.widget-view+json": {
       "model_id": "34ae34e3f8be440fa18bad6b20d33415",
       "version_major": 2,
       "version_minor": 0
      },
      "text/plain": [
       "Downloading:   0%|          |"
      ]
     },
     "metadata": {},
     "output_type": "display_data"
    },
    {
     "data": {
      "text/html": [
       "<div>\n",
       "<style scoped>\n",
       "    .dataframe tbody tr th:only-of-type {\n",
       "        vertical-align: middle;\n",
       "    }\n",
       "\n",
       "    .dataframe tbody tr th {\n",
       "        vertical-align: top;\n",
       "    }\n",
       "\n",
       "    .dataframe thead th {\n",
       "        text-align: right;\n",
       "    }\n",
       "</style>\n",
       "<table border=\"1\" class=\"dataframe\">\n",
       "  <thead>\n",
       "    <tr style=\"text-align: right;\">\n",
       "      <th></th>\n",
       "      <th>expected_label</th>\n",
       "      <th>Adelie Penguin _Pygoscelis adeliae_</th>\n",
       "      <th>Chinstrap penguin _Pygoscelis antarctica_</th>\n",
       "      <th>Gentoo penguin _Pygoscelis papua_</th>\n",
       "    </tr>\n",
       "  </thead>\n",
       "  <tbody>\n",
       "    <tr>\n",
       "      <th>0</th>\n",
       "      <td>Adelie Penguin (Pygoscelis adeliae)</td>\n",
       "      <td>17</td>\n",
       "      <td>0</td>\n",
       "      <td>8</td>\n",
       "    </tr>\n",
       "    <tr>\n",
       "      <th>1</th>\n",
       "      <td>Chinstrap penguin (Pygoscelis antarctica)</td>\n",
       "      <td>1</td>\n",
       "      <td>9</td>\n",
       "      <td>6</td>\n",
       "    </tr>\n",
       "    <tr>\n",
       "      <th>2</th>\n",
       "      <td>Gentoo penguin (Pygoscelis papua)</td>\n",
       "      <td>0</td>\n",
       "      <td>0</td>\n",
       "      <td>18</td>\n",
       "    </tr>\n",
       "  </tbody>\n",
       "</table>\n",
       "</div>"
      ],
      "text/plain": [
       "                              expected_label  \\\n",
       "0        Adelie Penguin (Pygoscelis adeliae)   \n",
       "1  Chinstrap penguin (Pygoscelis antarctica)   \n",
       "2          Gentoo penguin (Pygoscelis papua)   \n",
       "\n",
       "   Adelie Penguin _Pygoscelis adeliae_  \\\n",
       "0                                   17   \n",
       "1                                    1   \n",
       "2                                    0   \n",
       "\n",
       "   Chinstrap penguin _Pygoscelis antarctica_  \\\n",
       "0                                          0   \n",
       "1                                          9   \n",
       "2                                          0   \n",
       "\n",
       "   Gentoo penguin _Pygoscelis papua_  \n",
       "0                                  8  \n",
       "1                                  6  \n",
       "2                                 18  "
      ]
     },
     "execution_count": 31,
     "metadata": {},
     "output_type": "execute_result"
    }
   ],
   "source": [
    "%%bigquery\n",
    "SELECT *\n",
    "FROM ML.CONFUSION_MATRIX (\n",
    "    MODEL `statmike-mlops-349915.bqml_model_monitoring.classify_species_rf`,\n",
    "    (\n",
    "        SELECT *\n",
    "        FROM `statmike-mlops-349915.bqml_model_monitoring.serving`\n",
    "        WHERE DATE(instance_timestamp) >= CURRENT_DATE()\n",
    "    )\n",
    ")"
   ]
  },
  {
   "cell_type": "markdown",
   "metadata": {},
   "source": [
    "### Evaluations: Over Time\n",
    "\n",
    "In this case, we know the actual identification of the `species` and are measuring the same penguins daily.  Reviewing the evaluations daily could give a good sense of how the model is performing on a daily basis.\n",
    "\n",
    "The result of the daily evaluations below shows that the log_loss starts to increase immediately and it takes more than a week for a noticable impact on precision/recall/accuracy/f1_score. \n",
    "\n",
    "What if the actual values where only known after a lag of days or weeks?  How quickly would evaluations be able to indicate the model's accuracy is possibly questionable?  The answer is a different approach - Model Monitoring.  This is covered in the section that follows."
   ]
  },
  {
   "cell_type": "code",
   "execution_count": 32,
   "metadata": {
    "tags": []
   },
   "outputs": [
    {
     "data": {
      "application/vnd.jupyter.widget-view+json": {
       "model_id": "f234f981c675442c9e5c79681b88122b",
       "version_major": 2,
       "version_minor": 0
      },
      "text/plain": [
       "Query is running:   0%|          |"
      ]
     },
     "metadata": {},
     "output_type": "display_data"
    },
    {
     "data": {
      "application/vnd.jupyter.widget-view+json": {
       "model_id": "934a6f8900f545519b647ab6bf130af7",
       "version_major": 2,
       "version_minor": 0
      },
      "text/plain": [
       "Downloading:   0%|          |"
      ]
     },
     "metadata": {},
     "output_type": "display_data"
    }
   ],
   "source": [
    "%%bigquery evaluations\n",
    "DECLARE counter INT64 DEFAULT 30;\n",
    "DECLARE result STRUCT<precision FLOAT64, recall FLOAT64, accuracy FLOAT64, f1_score FLOAT64, log_loss FLOAT64, roc_auc FLOAT64, eval_date DATE>;\n",
    "DECLARE results ARRAY<STRUCT<precision FLOAT64, recall FLOAT64, accuracy FLOAT64, f1_score FLOAT64, log_loss FLOAT64, roc_auc FLOAT64, eval_date DATE>> DEFAULT [];\n",
    "LOOP\n",
    "    IF counter < 0 THEN LEAVE;\n",
    "    END IF;\n",
    "    SET result = (\n",
    "            SELECT AS STRUCT precision, recall, accuracy, f1_score, log_loss, roc_auc, DATE_SUB(CURRENT_DATE(), INTERVAL counter DAY) AS eval_date\n",
    "            FROM ML.EVALUATE (\n",
    "                MODEL `statmike-mlops-349915.bqml_model_monitoring.classify_species_rf`,\n",
    "                (\n",
    "                    SELECT *\n",
    "                    FROM `statmike-mlops-349915.bqml_model_monitoring.serving`\n",
    "                    WHERE DATE(instance_timestamp) = DATE_SUB(CURRENT_DATE(), INTERVAL counter DAY)\n",
    "                )\n",
    "            )\n",
    "    );\n",
    "    SET results = ARRAY_CONCAT(results,[result]);\n",
    "    SET counter = counter - 1;\n",
    "END LOOP;\n",
    "SELECT * FROM UNNEST(results);"
   ]
  },
  {
   "cell_type": "code",
   "execution_count": 33,
   "metadata": {
    "tags": []
   },
   "outputs": [
    {
     "data": {
      "text/html": [
       "<div>\n",
       "<style scoped>\n",
       "    .dataframe tbody tr th:only-of-type {\n",
       "        vertical-align: middle;\n",
       "    }\n",
       "\n",
       "    .dataframe tbody tr th {\n",
       "        vertical-align: top;\n",
       "    }\n",
       "\n",
       "    .dataframe thead th {\n",
       "        text-align: right;\n",
       "    }\n",
       "</style>\n",
       "<table border=\"1\" class=\"dataframe\">\n",
       "  <thead>\n",
       "    <tr style=\"text-align: right;\">\n",
       "      <th></th>\n",
       "      <th>precision</th>\n",
       "      <th>recall</th>\n",
       "      <th>accuracy</th>\n",
       "      <th>f1_score</th>\n",
       "      <th>log_loss</th>\n",
       "      <th>roc_auc</th>\n",
       "      <th>eval_date</th>\n",
       "    </tr>\n",
       "  </thead>\n",
       "  <tbody>\n",
       "    <tr>\n",
       "      <th>0</th>\n",
       "      <td>0.987179</td>\n",
       "      <td>0.979167</td>\n",
       "      <td>0.983051</td>\n",
       "      <td>0.982711</td>\n",
       "      <td>0.307707</td>\n",
       "      <td>0.994336</td>\n",
       "      <td>2025-02-06</td>\n",
       "    </tr>\n",
       "    <tr>\n",
       "      <th>1</th>\n",
       "      <td>0.987179</td>\n",
       "      <td>0.979167</td>\n",
       "      <td>0.983051</td>\n",
       "      <td>0.982711</td>\n",
       "      <td>0.305303</td>\n",
       "      <td>0.993936</td>\n",
       "      <td>2025-02-07</td>\n",
       "    </tr>\n",
       "    <tr>\n",
       "      <th>2</th>\n",
       "      <td>0.987179</td>\n",
       "      <td>0.979167</td>\n",
       "      <td>0.983051</td>\n",
       "      <td>0.982711</td>\n",
       "      <td>0.309474</td>\n",
       "      <td>0.990890</td>\n",
       "      <td>2025-02-08</td>\n",
       "    </tr>\n",
       "    <tr>\n",
       "      <th>3</th>\n",
       "      <td>0.987179</td>\n",
       "      <td>0.979167</td>\n",
       "      <td>0.983051</td>\n",
       "      <td>0.982711</td>\n",
       "      <td>0.319644</td>\n",
       "      <td>0.989188</td>\n",
       "      <td>2025-02-09</td>\n",
       "    </tr>\n",
       "    <tr>\n",
       "      <th>4</th>\n",
       "      <td>0.987179</td>\n",
       "      <td>0.979167</td>\n",
       "      <td>0.983051</td>\n",
       "      <td>0.982711</td>\n",
       "      <td>0.335180</td>\n",
       "      <td>0.989588</td>\n",
       "      <td>2025-02-10</td>\n",
       "    </tr>\n",
       "    <tr>\n",
       "      <th>5</th>\n",
       "      <td>0.987179</td>\n",
       "      <td>0.979167</td>\n",
       "      <td>0.983051</td>\n",
       "      <td>0.982711</td>\n",
       "      <td>0.336852</td>\n",
       "      <td>0.989505</td>\n",
       "      <td>2025-02-11</td>\n",
       "    </tr>\n",
       "    <tr>\n",
       "      <th>6</th>\n",
       "      <td>0.987179</td>\n",
       "      <td>0.979167</td>\n",
       "      <td>0.983051</td>\n",
       "      <td>0.982711</td>\n",
       "      <td>0.348023</td>\n",
       "      <td>0.993241</td>\n",
       "      <td>2025-02-12</td>\n",
       "    </tr>\n",
       "    <tr>\n",
       "      <th>7</th>\n",
       "      <td>0.969123</td>\n",
       "      <td>0.965833</td>\n",
       "      <td>0.966102</td>\n",
       "      <td>0.966905</td>\n",
       "      <td>0.370705</td>\n",
       "      <td>0.990973</td>\n",
       "      <td>2025-02-13</td>\n",
       "    </tr>\n",
       "    <tr>\n",
       "      <th>8</th>\n",
       "      <td>0.969123</td>\n",
       "      <td>0.965833</td>\n",
       "      <td>0.966102</td>\n",
       "      <td>0.966905</td>\n",
       "      <td>0.404082</td>\n",
       "      <td>0.988892</td>\n",
       "      <td>2025-02-14</td>\n",
       "    </tr>\n",
       "    <tr>\n",
       "      <th>9</th>\n",
       "      <td>0.969123</td>\n",
       "      <td>0.965833</td>\n",
       "      <td>0.966102</td>\n",
       "      <td>0.966905</td>\n",
       "      <td>0.421449</td>\n",
       "      <td>0.989058</td>\n",
       "      <td>2025-02-15</td>\n",
       "    </tr>\n",
       "    <tr>\n",
       "      <th>10</th>\n",
       "      <td>0.969123</td>\n",
       "      <td>0.965833</td>\n",
       "      <td>0.966102</td>\n",
       "      <td>0.966905</td>\n",
       "      <td>0.445415</td>\n",
       "      <td>0.988176</td>\n",
       "      <td>2025-02-16</td>\n",
       "    </tr>\n",
       "    <tr>\n",
       "      <th>11</th>\n",
       "      <td>0.969123</td>\n",
       "      <td>0.965833</td>\n",
       "      <td>0.966102</td>\n",
       "      <td>0.966905</td>\n",
       "      <td>0.452717</td>\n",
       "      <td>0.989141</td>\n",
       "      <td>2025-02-17</td>\n",
       "    </tr>\n",
       "    <tr>\n",
       "      <th>12</th>\n",
       "      <td>0.952778</td>\n",
       "      <td>0.952500</td>\n",
       "      <td>0.949153</td>\n",
       "      <td>0.951295</td>\n",
       "      <td>0.467423</td>\n",
       "      <td>0.988742</td>\n",
       "      <td>2025-02-18</td>\n",
       "    </tr>\n",
       "    <tr>\n",
       "      <th>13</th>\n",
       "      <td>0.924901</td>\n",
       "      <td>0.918333</td>\n",
       "      <td>0.915254</td>\n",
       "      <td>0.916667</td>\n",
       "      <td>0.481504</td>\n",
       "      <td>0.990210</td>\n",
       "      <td>2025-02-19</td>\n",
       "    </tr>\n",
       "    <tr>\n",
       "      <th>14</th>\n",
       "      <td>0.924901</td>\n",
       "      <td>0.918333</td>\n",
       "      <td>0.915254</td>\n",
       "      <td>0.916667</td>\n",
       "      <td>0.499081</td>\n",
       "      <td>0.988928</td>\n",
       "      <td>2025-02-20</td>\n",
       "    </tr>\n",
       "    <tr>\n",
       "      <th>15</th>\n",
       "      <td>0.891515</td>\n",
       "      <td>0.863333</td>\n",
       "      <td>0.864407</td>\n",
       "      <td>0.862656</td>\n",
       "      <td>0.503840</td>\n",
       "      <td>0.989411</td>\n",
       "      <td>2025-02-21</td>\n",
       "    </tr>\n",
       "    <tr>\n",
       "      <th>16</th>\n",
       "      <td>0.891515</td>\n",
       "      <td>0.863333</td>\n",
       "      <td>0.864407</td>\n",
       "      <td>0.862656</td>\n",
       "      <td>0.508840</td>\n",
       "      <td>0.988529</td>\n",
       "      <td>2025-02-22</td>\n",
       "    </tr>\n",
       "    <tr>\n",
       "      <th>17</th>\n",
       "      <td>0.891515</td>\n",
       "      <td>0.863333</td>\n",
       "      <td>0.864407</td>\n",
       "      <td>0.862656</td>\n",
       "      <td>0.514389</td>\n",
       "      <td>0.988612</td>\n",
       "      <td>2025-02-23</td>\n",
       "    </tr>\n",
       "    <tr>\n",
       "      <th>18</th>\n",
       "      <td>0.881563</td>\n",
       "      <td>0.850000</td>\n",
       "      <td>0.847458</td>\n",
       "      <td>0.848297</td>\n",
       "      <td>0.526078</td>\n",
       "      <td>0.993677</td>\n",
       "      <td>2025-02-24</td>\n",
       "    </tr>\n",
       "    <tr>\n",
       "      <th>19</th>\n",
       "      <td>0.872222</td>\n",
       "      <td>0.836667</td>\n",
       "      <td>0.830508</td>\n",
       "      <td>0.833862</td>\n",
       "      <td>0.536336</td>\n",
       "      <td>0.993677</td>\n",
       "      <td>2025-02-25</td>\n",
       "    </tr>\n",
       "    <tr>\n",
       "      <th>20</th>\n",
       "      <td>0.880769</td>\n",
       "      <td>0.857500</td>\n",
       "      <td>0.847458</td>\n",
       "      <td>0.853059</td>\n",
       "      <td>0.561781</td>\n",
       "      <td>0.992960</td>\n",
       "      <td>2025-02-26</td>\n",
       "    </tr>\n",
       "    <tr>\n",
       "      <th>21</th>\n",
       "      <td>0.890000</td>\n",
       "      <td>0.878333</td>\n",
       "      <td>0.864407</td>\n",
       "      <td>0.871662</td>\n",
       "      <td>0.562063</td>\n",
       "      <td>0.992960</td>\n",
       "      <td>2025-02-27</td>\n",
       "    </tr>\n",
       "    <tr>\n",
       "      <th>22</th>\n",
       "      <td>0.879892</td>\n",
       "      <td>0.865000</td>\n",
       "      <td>0.847458</td>\n",
       "      <td>0.856566</td>\n",
       "      <td>0.568882</td>\n",
       "      <td>0.992561</td>\n",
       "      <td>2025-02-28</td>\n",
       "    </tr>\n",
       "    <tr>\n",
       "      <th>23</th>\n",
       "      <td>0.879892</td>\n",
       "      <td>0.865000</td>\n",
       "      <td>0.847458</td>\n",
       "      <td>0.856566</td>\n",
       "      <td>0.579128</td>\n",
       "      <td>0.992960</td>\n",
       "      <td>2025-03-01</td>\n",
       "    </tr>\n",
       "    <tr>\n",
       "      <th>24</th>\n",
       "      <td>0.879892</td>\n",
       "      <td>0.865000</td>\n",
       "      <td>0.847458</td>\n",
       "      <td>0.856566</td>\n",
       "      <td>0.580628</td>\n",
       "      <td>0.992960</td>\n",
       "      <td>2025-03-02</td>\n",
       "    </tr>\n",
       "    <tr>\n",
       "      <th>25</th>\n",
       "      <td>0.871345</td>\n",
       "      <td>0.844167</td>\n",
       "      <td>0.830508</td>\n",
       "      <td>0.838245</td>\n",
       "      <td>0.585754</td>\n",
       "      <td>0.991596</td>\n",
       "      <td>2025-03-03</td>\n",
       "    </tr>\n",
       "    <tr>\n",
       "      <th>26</th>\n",
       "      <td>0.871345</td>\n",
       "      <td>0.844167</td>\n",
       "      <td>0.830508</td>\n",
       "      <td>0.838245</td>\n",
       "      <td>0.586945</td>\n",
       "      <td>0.991596</td>\n",
       "      <td>2025-03-04</td>\n",
       "    </tr>\n",
       "    <tr>\n",
       "      <th>27</th>\n",
       "      <td>0.862434</td>\n",
       "      <td>0.830833</td>\n",
       "      <td>0.813559</td>\n",
       "      <td>0.823286</td>\n",
       "      <td>0.598802</td>\n",
       "      <td>0.993131</td>\n",
       "      <td>2025-03-05</td>\n",
       "    </tr>\n",
       "    <tr>\n",
       "      <th>28</th>\n",
       "      <td>0.835648</td>\n",
       "      <td>0.747500</td>\n",
       "      <td>0.745763</td>\n",
       "      <td>0.743566</td>\n",
       "      <td>0.619157</td>\n",
       "      <td>0.992735</td>\n",
       "      <td>2025-03-06</td>\n",
       "    </tr>\n",
       "    <tr>\n",
       "      <th>29</th>\n",
       "      <td>0.835648</td>\n",
       "      <td>0.747500</td>\n",
       "      <td>0.745763</td>\n",
       "      <td>0.743566</td>\n",
       "      <td>0.621906</td>\n",
       "      <td>0.992325</td>\n",
       "      <td>2025-03-07</td>\n",
       "    </tr>\n",
       "    <tr>\n",
       "      <th>30</th>\n",
       "      <td>0.835648</td>\n",
       "      <td>0.747500</td>\n",
       "      <td>0.745763</td>\n",
       "      <td>0.743566</td>\n",
       "      <td>0.625091</td>\n",
       "      <td>0.991283</td>\n",
       "      <td>2025-03-08</td>\n",
       "    </tr>\n",
       "  </tbody>\n",
       "</table>\n",
       "</div>"
      ],
      "text/plain": [
       "    precision    recall  accuracy  f1_score  log_loss   roc_auc   eval_date\n",
       "0    0.987179  0.979167  0.983051  0.982711  0.307707  0.994336  2025-02-06\n",
       "1    0.987179  0.979167  0.983051  0.982711  0.305303  0.993936  2025-02-07\n",
       "2    0.987179  0.979167  0.983051  0.982711  0.309474  0.990890  2025-02-08\n",
       "3    0.987179  0.979167  0.983051  0.982711  0.319644  0.989188  2025-02-09\n",
       "4    0.987179  0.979167  0.983051  0.982711  0.335180  0.989588  2025-02-10\n",
       "5    0.987179  0.979167  0.983051  0.982711  0.336852  0.989505  2025-02-11\n",
       "6    0.987179  0.979167  0.983051  0.982711  0.348023  0.993241  2025-02-12\n",
       "7    0.969123  0.965833  0.966102  0.966905  0.370705  0.990973  2025-02-13\n",
       "8    0.969123  0.965833  0.966102  0.966905  0.404082  0.988892  2025-02-14\n",
       "9    0.969123  0.965833  0.966102  0.966905  0.421449  0.989058  2025-02-15\n",
       "10   0.969123  0.965833  0.966102  0.966905  0.445415  0.988176  2025-02-16\n",
       "11   0.969123  0.965833  0.966102  0.966905  0.452717  0.989141  2025-02-17\n",
       "12   0.952778  0.952500  0.949153  0.951295  0.467423  0.988742  2025-02-18\n",
       "13   0.924901  0.918333  0.915254  0.916667  0.481504  0.990210  2025-02-19\n",
       "14   0.924901  0.918333  0.915254  0.916667  0.499081  0.988928  2025-02-20\n",
       "15   0.891515  0.863333  0.864407  0.862656  0.503840  0.989411  2025-02-21\n",
       "16   0.891515  0.863333  0.864407  0.862656  0.508840  0.988529  2025-02-22\n",
       "17   0.891515  0.863333  0.864407  0.862656  0.514389  0.988612  2025-02-23\n",
       "18   0.881563  0.850000  0.847458  0.848297  0.526078  0.993677  2025-02-24\n",
       "19   0.872222  0.836667  0.830508  0.833862  0.536336  0.993677  2025-02-25\n",
       "20   0.880769  0.857500  0.847458  0.853059  0.561781  0.992960  2025-02-26\n",
       "21   0.890000  0.878333  0.864407  0.871662  0.562063  0.992960  2025-02-27\n",
       "22   0.879892  0.865000  0.847458  0.856566  0.568882  0.992561  2025-02-28\n",
       "23   0.879892  0.865000  0.847458  0.856566  0.579128  0.992960  2025-03-01\n",
       "24   0.879892  0.865000  0.847458  0.856566  0.580628  0.992960  2025-03-02\n",
       "25   0.871345  0.844167  0.830508  0.838245  0.585754  0.991596  2025-03-03\n",
       "26   0.871345  0.844167  0.830508  0.838245  0.586945  0.991596  2025-03-04\n",
       "27   0.862434  0.830833  0.813559  0.823286  0.598802  0.993131  2025-03-05\n",
       "28   0.835648  0.747500  0.745763  0.743566  0.619157  0.992735  2025-03-06\n",
       "29   0.835648  0.747500  0.745763  0.743566  0.621906  0.992325  2025-03-07\n",
       "30   0.835648  0.747500  0.745763  0.743566  0.625091  0.991283  2025-03-08"
      ]
     },
     "execution_count": 33,
     "metadata": {},
     "output_type": "execute_result"
    }
   ],
   "source": [
    "evaluations"
   ]
  },
  {
   "cell_type": "code",
   "execution_count": 34,
   "metadata": {
    "tags": []
   },
   "outputs": [],
   "source": [
    "evaluations.set_index('eval_date', inplace = True)"
   ]
  },
  {
   "cell_type": "code",
   "execution_count": 35,
   "metadata": {
    "tags": []
   },
   "outputs": [
    {
     "data": {
      "text/plain": [
       "<Axes: title={'center': 'Evaluation Metrics Over Last 30 days'}, xlabel='eval_date'>"
      ]
     },
     "execution_count": 35,
     "metadata": {},
     "output_type": "execute_result"
    },
    {
     "data": {
      "image/png": "[encoded data removed]",
      "text/plain": [
       "<Figure size 800x300 with 1 Axes>"
      ]
     },
     "metadata": {},
     "output_type": "display_data"
    }
   ],
   "source": [
    "evaluations.plot(y = ['log_loss', 'f1_score', 'precision'], legend = True, title = 'Evaluation Metrics Over Last 30 days', figsize = (8, 3), grid = True)"
   ]
  },
  {
   "cell_type": "markdown",
   "metadata": {
    "tags": []
   },
   "source": [
    "---\n",
    "## **Model Monitoring**\n",
    "\n",
    "Reviewing model evaluations over time does show a pattern of deterioration in the example above.  But at what point is it actionable?  And what if each days evaluations are relying on actual values that took hours, days, weeks, or even months to be available?  \n",
    "\n",
    "Model monitoring takes a different approach.  It goes back to the source of the model, each input feature.  These features form a distribution at the input to the model (the training data) and this can be used to compare to over time.  By setting thresholds on these comparisons to the original training data, alerts can be used to notify that a models accuracy *could be* in question.  This comparison to the training data is called **skew** detection.\n",
    "\n",
    "Similarly, each days values could be compared to the previous days, or weeks values.  These comparisons are referred to as **drift** detection.  \n",
    "\n",
    "Both of these types of comparisons can be done directly in BigQuery with two functions built for these tasks:\n",
    "- [`ML.VALIDATE_DATA_SKEW`](https://cloud.google.com/bigquery/docs/reference/standard-sql/bigqueryml-syntax-validate-data-skew)\n",
    "- [`ML.VALIDATE_DATA_DRIFT`](https://cloud.google.com/bigquery/docs/reference/standard-sql/bigqueryml-syntax-validate-data-drift)"
   ]
  },
  {
   "cell_type": "markdown",
   "metadata": {},
   "source": [
    "### Monitoring Skew (Change from training) With `ML.VALIDATE_DATA_SKEW`\n",
    "\n",
    "Compare today, or any data, to the training data by directly comparing to the the model created in BigQuery."
   ]
  },
  {
   "cell_type": "code",
   "execution_count": 36,
   "metadata": {
    "tags": []
   },
   "outputs": [
    {
     "data": {
      "application/vnd.jupyter.widget-view+json": {
       "model_id": "f151cd938ed54172873df01bf480255c",
       "version_major": 2,
       "version_minor": 0
      },
      "text/plain": [
       "Query is running:   0%|          |"
      ]
     },
     "metadata": {},
     "output_type": "display_data"
    },
    {
     "data": {
      "application/vnd.jupyter.widget-view+json": {
       "model_id": "681f9a783b6b4878a68db2c5d467e6b6",
       "version_major": 2,
       "version_minor": 0
      },
      "text/plain": [
       "Downloading:   0%|          |"
      ]
     },
     "metadata": {},
     "output_type": "display_data"
    },
    {
     "data": {
      "text/html": [
       "<div>\n",
       "<style scoped>\n",
       "    .dataframe tbody tr th:only-of-type {\n",
       "        vertical-align: middle;\n",
       "    }\n",
       "\n",
       "    .dataframe tbody tr th {\n",
       "        vertical-align: top;\n",
       "    }\n",
       "\n",
       "    .dataframe thead th {\n",
       "        text-align: right;\n",
       "    }\n",
       "</style>\n",
       "<table border=\"1\" class=\"dataframe\">\n",
       "  <thead>\n",
       "    <tr style=\"text-align: right;\">\n",
       "      <th></th>\n",
       "      <th>input</th>\n",
       "      <th>metric</th>\n",
       "      <th>threshold</th>\n",
       "      <th>value</th>\n",
       "      <th>is_anomaly</th>\n",
       "    </tr>\n",
       "  </thead>\n",
       "  <tbody>\n",
       "    <tr>\n",
       "      <th>0</th>\n",
       "      <td>body_mass_g</td>\n",
       "      <td>JENSEN_SHANNON_DIVERGENCE</td>\n",
       "      <td>0.3</td>\n",
       "      <td>0.370903</td>\n",
       "      <td>True</td>\n",
       "    </tr>\n",
       "    <tr>\n",
       "      <th>1</th>\n",
       "      <td>culmen_depth_mm</td>\n",
       "      <td>JENSEN_SHANNON_DIVERGENCE</td>\n",
       "      <td>0.3</td>\n",
       "      <td>0.025924</td>\n",
       "      <td>False</td>\n",
       "    </tr>\n",
       "    <tr>\n",
       "      <th>2</th>\n",
       "      <td>culmen_length_mm</td>\n",
       "      <td>JENSEN_SHANNON_DIVERGENCE</td>\n",
       "      <td>0.3</td>\n",
       "      <td>0.058572</td>\n",
       "      <td>False</td>\n",
       "    </tr>\n",
       "    <tr>\n",
       "      <th>3</th>\n",
       "      <td>flipper_length_mm</td>\n",
       "      <td>JENSEN_SHANNON_DIVERGENCE</td>\n",
       "      <td>0.3</td>\n",
       "      <td>0.910632</td>\n",
       "      <td>True</td>\n",
       "    </tr>\n",
       "    <tr>\n",
       "      <th>4</th>\n",
       "      <td>island</td>\n",
       "      <td>L_INFTY</td>\n",
       "      <td>0.3</td>\n",
       "      <td>0.063666</td>\n",
       "      <td>False</td>\n",
       "    </tr>\n",
       "    <tr>\n",
       "      <th>5</th>\n",
       "      <td>sex</td>\n",
       "      <td>L_INFTY</td>\n",
       "      <td>0.3</td>\n",
       "      <td>0.051874</td>\n",
       "      <td>False</td>\n",
       "    </tr>\n",
       "  </tbody>\n",
       "</table>\n",
       "</div>"
      ],
      "text/plain": [
       "               input                     metric  threshold     value  \\\n",
       "0        body_mass_g  JENSEN_SHANNON_DIVERGENCE        0.3  0.370903   \n",
       "1    culmen_depth_mm  JENSEN_SHANNON_DIVERGENCE        0.3  0.025924   \n",
       "2   culmen_length_mm  JENSEN_SHANNON_DIVERGENCE        0.3  0.058572   \n",
       "3  flipper_length_mm  JENSEN_SHANNON_DIVERGENCE        0.3  0.910632   \n",
       "4             island                    L_INFTY        0.3  0.063666   \n",
       "5                sex                    L_INFTY        0.3  0.051874   \n",
       "\n",
       "   is_anomaly  \n",
       "0        True  \n",
       "1       False  \n",
       "2       False  \n",
       "3        True  \n",
       "4       False  \n",
       "5       False  "
      ]
     },
     "execution_count": 36,
     "metadata": {},
     "output_type": "execute_result"
    }
   ],
   "source": [
    "%%bigquery\n",
    "SELECT *\n",
    "FROM ML.VALIDATE_DATA_SKEW(\n",
    "    MODEL `statmike-mlops-349915.bqml_model_monitoring.classify_species_rf`,\n",
    "    (\n",
    "        SELECT *\n",
    "        FROM `statmike-mlops-349915.bqml_model_monitoring.serving`\n",
    "        WHERE DATE(instance_timestamp) >= CURRENT_DATE()\n",
    "    )\n",
    "    #,STRUCT(TRUE AS enable_visualization_link)\n",
    ");"
   ]
  },
  {
   "cell_type": "markdown",
   "metadata": {},
   "source": [
    "### Monitoring Drift (Change Over Time) With `ML.VALIDATE_DATA_DRIFT`\n",
    "\n",
    "Compare today to 5 days ago and set the a lower, more sensitive, threshold of `0.03` (default is `0.3`) for all features."
   ]
  },
  {
   "cell_type": "code",
   "execution_count": 37,
   "metadata": {
    "tags": []
   },
   "outputs": [
    {
     "data": {
      "application/vnd.jupyter.widget-view+json": {
       "model_id": "6ac7ed3e8f3949bbb6a9be9a4404ceff",
       "version_major": 2,
       "version_minor": 0
      },
      "text/plain": [
       "Query is running:   0%|          |"
      ]
     },
     "metadata": {},
     "output_type": "display_data"
    },
    {
     "data": {
      "application/vnd.jupyter.widget-view+json": {
       "model_id": "b2f3ecfdf9d4432baaa675161e1707f3",
       "version_major": 2,
       "version_minor": 0
      },
      "text/plain": [
       "Downloading:   0%|          |"
      ]
     },
     "metadata": {},
     "output_type": "display_data"
    },
    {
     "data": {
      "text/html": [
       "<div>\n",
       "<style scoped>\n",
       "    .dataframe tbody tr th:only-of-type {\n",
       "        vertical-align: middle;\n",
       "    }\n",
       "\n",
       "    .dataframe tbody tr th {\n",
       "        vertical-align: top;\n",
       "    }\n",
       "\n",
       "    .dataframe thead th {\n",
       "        text-align: right;\n",
       "    }\n",
       "</style>\n",
       "<table border=\"1\" class=\"dataframe\">\n",
       "  <thead>\n",
       "    <tr style=\"text-align: right;\">\n",
       "      <th></th>\n",
       "      <th>input</th>\n",
       "      <th>metric</th>\n",
       "      <th>threshold</th>\n",
       "      <th>value</th>\n",
       "      <th>is_anomaly</th>\n",
       "    </tr>\n",
       "  </thead>\n",
       "  <tbody>\n",
       "    <tr>\n",
       "      <th>0</th>\n",
       "      <td>body_mass_g</td>\n",
       "      <td>JENSEN_SHANNON_DIVERGENCE</td>\n",
       "      <td>0.03</td>\n",
       "      <td>0.047936</td>\n",
       "      <td>True</td>\n",
       "    </tr>\n",
       "    <tr>\n",
       "      <th>1</th>\n",
       "      <td>culmen_depth_mm</td>\n",
       "      <td>JENSEN_SHANNON_DIVERGENCE</td>\n",
       "      <td>0.03</td>\n",
       "      <td>0.000000</td>\n",
       "      <td>False</td>\n",
       "    </tr>\n",
       "    <tr>\n",
       "      <th>2</th>\n",
       "      <td>culmen_length_mm</td>\n",
       "      <td>JENSEN_SHANNON_DIVERGENCE</td>\n",
       "      <td>0.03</td>\n",
       "      <td>0.000000</td>\n",
       "      <td>False</td>\n",
       "    </tr>\n",
       "    <tr>\n",
       "      <th>3</th>\n",
       "      <td>flipper_length_mm</td>\n",
       "      <td>JENSEN_SHANNON_DIVERGENCE</td>\n",
       "      <td>0.03</td>\n",
       "      <td>0.100298</td>\n",
       "      <td>True</td>\n",
       "    </tr>\n",
       "    <tr>\n",
       "      <th>4</th>\n",
       "      <td>island</td>\n",
       "      <td>L_INFTY</td>\n",
       "      <td>0.03</td>\n",
       "      <td>0.000000</td>\n",
       "      <td>False</td>\n",
       "    </tr>\n",
       "    <tr>\n",
       "      <th>5</th>\n",
       "      <td>sex</td>\n",
       "      <td>L_INFTY</td>\n",
       "      <td>0.03</td>\n",
       "      <td>0.000000</td>\n",
       "      <td>False</td>\n",
       "    </tr>\n",
       "  </tbody>\n",
       "</table>\n",
       "</div>"
      ],
      "text/plain": [
       "               input                     metric  threshold     value  \\\n",
       "0        body_mass_g  JENSEN_SHANNON_DIVERGENCE       0.03  0.047936   \n",
       "1    culmen_depth_mm  JENSEN_SHANNON_DIVERGENCE       0.03  0.000000   \n",
       "2   culmen_length_mm  JENSEN_SHANNON_DIVERGENCE       0.03  0.000000   \n",
       "3  flipper_length_mm  JENSEN_SHANNON_DIVERGENCE       0.03  0.100298   \n",
       "4             island                    L_INFTY       0.03  0.000000   \n",
       "5                sex                    L_INFTY       0.03  0.000000   \n",
       "\n",
       "   is_anomaly  \n",
       "0        True  \n",
       "1       False  \n",
       "2       False  \n",
       "3        True  \n",
       "4       False  \n",
       "5       False  "
      ]
     },
     "execution_count": 37,
     "metadata": {},
     "output_type": "execute_result"
    }
   ],
   "source": [
    "%%bigquery\n",
    "SELECT *\n",
    "FROM ML.VALIDATE_DATA_DRIFT(\n",
    "    (\n",
    "        SELECT * EXCEPT(instance_timestamp, species)\n",
    "        FROM `statmike-mlops-349915.bqml_model_monitoring.serving`\n",
    "        WHERE DATE(instance_timestamp) = DATE_SUB(CURRENT_DATE(), INTERVAL 5 DAY)\n",
    "    ),\n",
    "    (\n",
    "        SELECT * EXCEPT(instance_timestamp, species)\n",
    "        FROM `statmike-mlops-349915.bqml_model_monitoring.serving`\n",
    "        WHERE DATE(instance_timestamp) = CURRENT_DATE() \n",
    "    ),\n",
    "    STRUCT(\n",
    "        0.03 AS categorical_default_threshold,\n",
    "        0.03 AS numerical_default_threshold\n",
    "    )\n",
    "    #, MODEL `statmike-mlops-349915.bqml_model_monitoring.classify_species_rf`\n",
    ");"
   ]
  },
  {
   "cell_type": "markdown",
   "metadata": {},
   "source": [
    "### Monitoring Skew (Manually) - As Drift from Training Data\n",
    "\n",
    "Since the `ML.VALIDATE_DATA_DRIFT` is comparing two tables, it could also be used for **skew** by comparing the training data to new data, like todays data:"
   ]
  },
  {
   "cell_type": "code",
   "execution_count": 38,
   "metadata": {
    "tags": []
   },
   "outputs": [
    {
     "data": {
      "application/vnd.jupyter.widget-view+json": {
       "model_id": "a3b91cc974e343b8a1f3984d5c7acdd0",
       "version_major": 2,
       "version_minor": 0
      },
      "text/plain": [
       "Query is running:   0%|          |"
      ]
     },
     "metadata": {},
     "output_type": "display_data"
    },
    {
     "data": {
      "application/vnd.jupyter.widget-view+json": {
       "model_id": "66a81a2e20e84ffabb5a4d4e87effe0d",
       "version_major": 2,
       "version_minor": 0
      },
      "text/plain": [
       "Downloading:   0%|          |"
      ]
     },
     "metadata": {},
     "output_type": "display_data"
    },
    {
     "data": {
      "text/html": [
       "<div>\n",
       "<style scoped>\n",
       "    .dataframe tbody tr th:only-of-type {\n",
       "        vertical-align: middle;\n",
       "    }\n",
       "\n",
       "    .dataframe tbody tr th {\n",
       "        vertical-align: top;\n",
       "    }\n",
       "\n",
       "    .dataframe thead th {\n",
       "        text-align: right;\n",
       "    }\n",
       "</style>\n",
       "<table border=\"1\" class=\"dataframe\">\n",
       "  <thead>\n",
       "    <tr style=\"text-align: right;\">\n",
       "      <th></th>\n",
       "      <th>input</th>\n",
       "      <th>metric</th>\n",
       "      <th>threshold</th>\n",
       "      <th>value</th>\n",
       "      <th>is_anomaly</th>\n",
       "    </tr>\n",
       "  </thead>\n",
       "  <tbody>\n",
       "    <tr>\n",
       "      <th>0</th>\n",
       "      <td>body_mass_g</td>\n",
       "      <td>JENSEN_SHANNON_DIVERGENCE</td>\n",
       "      <td>0.3</td>\n",
       "      <td>0.370903</td>\n",
       "      <td>True</td>\n",
       "    </tr>\n",
       "    <tr>\n",
       "      <th>1</th>\n",
       "      <td>culmen_depth_mm</td>\n",
       "      <td>JENSEN_SHANNON_DIVERGENCE</td>\n",
       "      <td>0.3</td>\n",
       "      <td>0.025924</td>\n",
       "      <td>False</td>\n",
       "    </tr>\n",
       "    <tr>\n",
       "      <th>2</th>\n",
       "      <td>culmen_length_mm</td>\n",
       "      <td>JENSEN_SHANNON_DIVERGENCE</td>\n",
       "      <td>0.3</td>\n",
       "      <td>0.058572</td>\n",
       "      <td>False</td>\n",
       "    </tr>\n",
       "    <tr>\n",
       "      <th>3</th>\n",
       "      <td>flipper_length_mm</td>\n",
       "      <td>JENSEN_SHANNON_DIVERGENCE</td>\n",
       "      <td>0.3</td>\n",
       "      <td>0.910632</td>\n",
       "      <td>True</td>\n",
       "    </tr>\n",
       "    <tr>\n",
       "      <th>4</th>\n",
       "      <td>island</td>\n",
       "      <td>L_INFTY</td>\n",
       "      <td>0.3</td>\n",
       "      <td>0.063666</td>\n",
       "      <td>False</td>\n",
       "    </tr>\n",
       "    <tr>\n",
       "      <th>5</th>\n",
       "      <td>sex</td>\n",
       "      <td>L_INFTY</td>\n",
       "      <td>0.3</td>\n",
       "      <td>0.051874</td>\n",
       "      <td>False</td>\n",
       "    </tr>\n",
       "  </tbody>\n",
       "</table>\n",
       "</div>"
      ],
      "text/plain": [
       "               input                     metric  threshold     value  \\\n",
       "0        body_mass_g  JENSEN_SHANNON_DIVERGENCE        0.3  0.370903   \n",
       "1    culmen_depth_mm  JENSEN_SHANNON_DIVERGENCE        0.3  0.025924   \n",
       "2   culmen_length_mm  JENSEN_SHANNON_DIVERGENCE        0.3  0.058572   \n",
       "3  flipper_length_mm  JENSEN_SHANNON_DIVERGENCE        0.3  0.910632   \n",
       "4             island                    L_INFTY        0.3  0.063666   \n",
       "5                sex                    L_INFTY        0.3  0.051874   \n",
       "\n",
       "   is_anomaly  \n",
       "0        True  \n",
       "1       False  \n",
       "2       False  \n",
       "3        True  \n",
       "4       False  \n",
       "5       False  "
      ]
     },
     "execution_count": 38,
     "metadata": {},
     "output_type": "execute_result"
    }
   ],
   "source": [
    "%%bigquery\n",
    "SELECT *\n",
    "FROM ML.VALIDATE_DATA_DRIFT(\n",
    "    (\n",
    "        SELECT *\n",
    "        FROM `statmike-mlops-349915.bqml_model_monitoring.training_split`\n",
    "        WHERE splits = 'TRAIN'\n",
    "    ),\n",
    "    (\n",
    "        SELECT * EXCEPT(instance_timestamp, species)\n",
    "        FROM `statmike-mlops-349915.bqml_model_monitoring.serving`\n",
    "        WHERE DATE(instance_timestamp) = CURRENT_DATE() \n",
    "    )\n",
    "    #, MODEL `statmike-mlops-349915.bqml_model_monitoring.classify_species_rf`\n",
    ");"
   ]
  },
  {
   "cell_type": "markdown",
   "metadata": {},
   "source": [
    "---\n",
    "### TensorFlow Data Validation (TFDV) In BigQuery\n",
    "\n",
    "BigQuery offers two functions that bring the power of the TensorFlow's [TFX platform](https://www.tensorflow.org/tfx) with built-in [TensorFlow Data Validation (TFDV)](https://www.tensorflow.org/tfx/data_validation/get_started) module directly inside of BigQuery.\n",
    "- [`ML.TFDV_DESCRIBE`](https://cloud.google.com/bigquery/docs/reference/standard-sql/bigqueryml-syntax-tfdv-describe) to generate descriptive statistics of any table\n",
    "- [`ML.TFDV_VALIDATE`](https://cloud.google.com/bigquery/docs/reference/standard-sql/bigqueryml-syntax-tfdv-validate) to compare statistics of two tables"
   ]
  },
  {
   "cell_type": "markdown",
   "metadata": {},
   "source": [
    "#### Generate Statistics with `ML.TFDV_DESCRIBE`\n",
    "\n",
    "Generate statistics for any table, in this case the training data features or a timespan of serving data features.  This is like using the TensorFlow's [TFX platform](https://www.tensorflow.org/tfx) with built-in [TensorFlow Data Validation (TFDV)](https://www.tensorflow.org/tfx/data_validation/get_started) module's [`tfdv.generate_statistics_from_csv()`](https://www.tensorflow.org/tfx/data_validation/api_docs/python/tfdv/generate_statistics_from_csv) method.\n",
    "\n",
    "The descriptions can be used in comparisons for skew or drift detection with the `ML.TFDV_VALIDATE` function, covered next, as well as in the visualization tool `tfdv.visualize_statistics` also covered below."
   ]
  },
  {
   "cell_type": "code",
   "execution_count": 39,
   "metadata": {
    "tags": []
   },
   "outputs": [
    {
     "data": {
      "application/vnd.jupyter.widget-view+json": {
       "model_id": "b595444c7acd4ff48359c68b85442673",
       "version_major": 2,
       "version_minor": 0
      },
      "text/plain": [
       "Query is running:   0%|          |"
      ]
     },
     "metadata": {},
     "output_type": "display_data"
    },
    {
     "data": {
      "application/vnd.jupyter.widget-view+json": {
       "model_id": "d76e6c6d53a149ad9f44780cb3567854",
       "version_major": 2,
       "version_minor": 0
      },
      "text/plain": [
       "Downloading:   0%|          |"
      ]
     },
     "metadata": {},
     "output_type": "display_data"
    }
   ],
   "source": [
    "%%bigquery train_describe\n",
    "SELECT *\n",
    "FROM ML.TFDV_DESCRIBE(\n",
    "    (\n",
    "        SELECT * EXCEPT(splits, species)\n",
    "        FROM `statmike-mlops-349915.bqml_model_monitoring.training_split`\n",
    "        WHERE splits = 'TRAIN'\n",
    "    )\n",
    ")"
   ]
  },
  {
   "cell_type": "code",
   "execution_count": 40,
   "metadata": {
    "tags": []
   },
   "outputs": [],
   "source": [
    "train_describe = json.loads(train_describe['dataset_feature_statistics_list'].iloc[0])"
   ]
  },
  {
   "cell_type": "code",
   "execution_count": 41,
   "metadata": {
    "tags": []
   },
   "outputs": [
    {
     "data": {
      "text/plain": [
       "{'name': 'body_mass_g',\n",
       " 'num_stats': {'common_stats': {'avg_num_values': 1,\n",
       "   'max_num_values': 1,\n",
       "   'min_num_values': 1,\n",
       "   'num_missing': 2,\n",
       "   'num_non_missing': 236,\n",
       "   'num_values_histogram': {'buckets': [{'high_value': 1,\n",
       "      'low_value': 1,\n",
       "      'sample_count': 23.6},\n",
       "     {'high_value': 1, 'low_value': 1, 'sample_count': 23.6},\n",
       "     {'high_value': 1, 'low_value': 1, 'sample_count': 23.6},\n",
       "     {'high_value': 1, 'low_value': 1, 'sample_count': 23.6},\n",
       "     {'high_value': 1, 'low_value': 1, 'sample_count': 23.6},\n",
       "     {'high_value': 1, 'low_value': 1, 'sample_count': 23.6},\n",
       "     {'high_value': 1, 'low_value': 1, 'sample_count': 23.6},\n",
       "     {'high_value': 1, 'low_value': 1, 'sample_count': 23.6},\n",
       "     {'high_value': 1, 'low_value': 1, 'sample_count': 23.6},\n",
       "     {'high_value': 1, 'low_value': 1, 'sample_count': 23.6}],\n",
       "    'type': 'QUANTILES'},\n",
       "   'tot_num_values': 236},\n",
       "  'histograms': [{'buckets': [{'high_value': 3300,\n",
       "      'low_value': 2700,\n",
       "      'sample_count': 23.6},\n",
       "     {'high_value': 3475, 'low_value': 3300, 'sample_count': 23.6},\n",
       "     {'high_value': 3650, 'low_value': 3475, 'sample_count': 23.6},\n",
       "     {'high_value': 3800, 'low_value': 3650, 'sample_count': 23.6},\n",
       "     {'high_value': 4000, 'low_value': 3800, 'sample_count': 23.6},\n",
       "     {'high_value': 4300, 'low_value': 4000, 'sample_count': 23.6},\n",
       "     {'high_value': 4650, 'low_value': 4300, 'sample_count': 23.6},\n",
       "     {'high_value': 4975, 'low_value': 4650, 'sample_count': 23.6},\n",
       "     {'high_value': 5350, 'low_value': 4975, 'sample_count': 23.6},\n",
       "     {'high_value': 6050, 'low_value': 5350, 'sample_count': 23.6}],\n",
       "    'type': 'QUANTILES'},\n",
       "   {'buckets': [{'high_value': 3035,\n",
       "      'low_value': 2700,\n",
       "      'sample_count': 7.0091999999999945},\n",
       "     {'high_value': 3370,\n",
       "      'low_value': 3035,\n",
       "      'sample_count': 24.94520000000004},\n",
       "     {'high_value': 3705, 'low_value': 3370, 'sample_count': 53.0527999999998},\n",
       "     {'high_value': 4040,\n",
       "      'low_value': 3705,\n",
       "      'sample_count': 34.125600000000034},\n",
       "     {'high_value': 4375,\n",
       "      'low_value': 4040,\n",
       "      'sample_count': 28.83920000000005},\n",
       "     {'high_value': 4710,\n",
       "      'low_value': 4375,\n",
       "      'sample_count': 23.930400000000038},\n",
       "     {'high_value': 5045,\n",
       "      'low_value': 4710,\n",
       "      'sample_count': 21.12200000000003},\n",
       "     {'high_value': 5380,\n",
       "      'low_value': 5045,\n",
       "      'sample_count': 19.989200000000025},\n",
       "     {'high_value': 5715,\n",
       "      'low_value': 5380,\n",
       "      'sample_count': 16.921200000000017},\n",
       "     {'high_value': 6050,\n",
       "      'low_value': 5715,\n",
       "      'sample_count': 6.065199999999996}]}],\n",
       "  'max': 6050,\n",
       "  'mean': 4185.699152542372,\n",
       "  'median': 4000,\n",
       "  'min': 2700,\n",
       "  'std_dev': 781.9294086864707},\n",
       " 'type': 'FLOAT'}"
      ]
     },
     "execution_count": 41,
     "metadata": {},
     "output_type": "execute_result"
    }
   ],
   "source": [
    "train_describe['datasets'][0]['features'][0]"
   ]
  },
  {
   "cell_type": "code",
   "execution_count": 42,
   "metadata": {
    "tags": []
   },
   "outputs": [
    {
     "data": {
      "application/vnd.jupyter.widget-view+json": {
       "model_id": "e8aa133be7364617925e5794327547d0",
       "version_major": 2,
       "version_minor": 0
      },
      "text/plain": [
       "Query is running:   0%|          |"
      ]
     },
     "metadata": {},
     "output_type": "display_data"
    },
    {
     "data": {
      "application/vnd.jupyter.widget-view+json": {
       "model_id": "9a4bbf2b469344778b8e3cadc82cc25a",
       "version_major": 2,
       "version_minor": 0
      },
      "text/plain": [
       "Downloading:   0%|          |"
      ]
     },
     "metadata": {},
     "output_type": "display_data"
    }
   ],
   "source": [
    "%%bigquery today_describe\n",
    "SELECT *\n",
    "FROM ML.TFDV_DESCRIBE(\n",
    "    (\n",
    "        SELECT * EXCEPT(instance_timestamp, species)\n",
    "        FROM `statmike-mlops-349915.bqml_model_monitoring.serving`\n",
    "        WHERE DATE(instance_timestamp) = CURRENT_DATE()\n",
    "    )\n",
    ")"
   ]
  },
  {
   "cell_type": "code",
   "execution_count": 43,
   "metadata": {
    "tags": []
   },
   "outputs": [],
   "source": [
    "today_describe = json.loads(today_describe['dataset_feature_statistics_list'].iloc[0])"
   ]
  },
  {
   "cell_type": "code",
   "execution_count": 44,
   "metadata": {
    "tags": []
   },
   "outputs": [],
   "source": [
    "#today_describe['datasets'][0]['features'][0]"
   ]
  },
  {
   "cell_type": "markdown",
   "metadata": {},
   "source": [
    "#### Visualize Statistics with `tfdv.visualize_statistics`\n",
    "\n",
    "Use the [`tfdv.visualize_statistics`](https://www.tensorflow.org/tfx/data_validation/api_docs/python/tfdv/visualize_statistics) tool to visualize the generated descriptions and directly compare them.  This presents visuals using [Facets Overview](https://pair-code.github.io/facets/)."
   ]
  },
  {
   "cell_type": "code",
   "execution_count": 45,
   "metadata": {
    "tags": []
   },
   "outputs": [],
   "source": [
    "import os\n",
    "os.environ['TF_CPP_MIN_LOG_LEVEL'] = '3'\n",
    "import tensorflow_data_validation as tfdv\n",
    "import tensorflow_metadata as tfmd\n",
    "from google.protobuf import json_format"
   ]
  },
  {
   "cell_type": "code",
   "execution_count": 46,
   "metadata": {
    "tags": []
   },
   "outputs": [
    {
     "data": {
      "text/html": [
       "<iframe id='facets-iframe' width=\"100%\" height=\"500px\"></iframe>\n",
       "        <script>\n",
       "        facets_iframe = document.getElementById('facets-iframe');\n",
       "        facets_html = '<script src=\"https://cdnjs.cloudflare.com/ajax/libs/webcomponentsjs/1.3.3/webcomponents-lite.js\"><\\/script><link rel=\"import\" href=\"https://raw.githubusercontent.com/PAIR-code/facets/master/facets-dist/facets-jupyter.html\"><facets-overview proto-input=\"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\"></facets-overview>';\n",
       "        facets_iframe.srcdoc = facets_html;\n",
       "         facets_iframe.id = \"\";\n",
       "         setTimeout(() => {\n",
       "           facets_iframe.setAttribute('height', facets_iframe.contentWindow.document.body.offsetHeight + 'px')\n",
       "         }, 1500)\n",
       "         </script>"
      ],
      "text/plain": [
       "<IPython.core.display.HTML object>"
      ]
     },
     "metadata": {},
     "output_type": "display_data"
    }
   ],
   "source": [
    "tfdv.visualize_statistics(\n",
    "    lhs_statistics = json_format.ParseDict(train_describe, tfmd.proto.statistics_pb2.DatasetFeatureStatisticsList()),\n",
    "    rhs_statistics = json_format.ParseDict(today_describe, tfmd.proto.statistics_pb2.DatasetFeatureStatisticsList()),\n",
    "    lhs_name = 'Training Data Stats',\n",
    "    rhs_name = 'Serving Data Stats - For Today'\n",
    ")"
   ]
  },
  {
   "cell_type": "markdown",
   "metadata": {},
   "source": [
    "#### Compare And Detect Anomalies with `ML.TFDV_VALIDATE`\n",
    "\n",
    "Compare the distribution of any table to a base table and compute distance statistics to detect anomalies.  This is like using the TensorFlow's [TFX platform](https://www.tensorflow.org/tfx) with built-in [TensorFlow Data Validation (TFDV)](https://www.tensorflow.org/tfx/data_validation/get_started) module's [validate_statistics api](https://www.tensorflow.org/tfx/data_validation/api_docs/python/tfdv/validate_statistics).\n",
    "\n",
    "These comparison can be made to training data for **skew** detection or previous serving data for **drift** detection."
   ]
  },
  {
   "cell_type": "code",
   "execution_count": 47,
   "metadata": {
    "tags": []
   },
   "outputs": [
    {
     "data": {
      "application/vnd.jupyter.widget-view+json": {
       "model_id": "c26d670897394a1f9f20073cc4b8a9d5",
       "version_major": 2,
       "version_minor": 0
      },
      "text/plain": [
       "Query is running:   0%|          |"
      ]
     },
     "metadata": {},
     "output_type": "display_data"
    },
    {
     "data": {
      "application/vnd.jupyter.widget-view+json": {
       "model_id": "d3d2302be9ad4522ae40a0b9e28c275f",
       "version_major": 2,
       "version_minor": 0
      },
      "text/plain": [
       "Downloading:   0%|          |"
      ]
     },
     "metadata": {},
     "output_type": "display_data"
    }
   ],
   "source": [
    "%%bigquery validate\n",
    "WITH\n",
    "    TRAIN AS (\n",
    "        SELECT * EXCEPT(splits, species)\n",
    "        FROM `statmike-mlops-349915.bqml_model_monitoring.training_split`\n",
    "        WHERE splits = 'TRAIN'\n",
    "    ),\n",
    "    SERVE AS (\n",
    "        SELECT * EXCEPT(instance_timestamp, species)\n",
    "        FROM `statmike-mlops-349915.bqml_model_monitoring.serving`\n",
    "        WHERE DATE(instance_timestamp) = CURRENT_DATE()\n",
    "    )\n",
    "SELECT ML.TFDV_VALIDATE(\n",
    "    (SELECT * FROM ML.TFDV_DESCRIBE(TABLE TRAIN)),\n",
    "    (SELECT * FROM ML.TFDV_DESCRIBE(TABLE SERVE)),\n",
    "    'SKEW'\n",
    ") as validate"
   ]
  },
  {
   "cell_type": "code",
   "execution_count": 48,
   "metadata": {
    "tags": []
   },
   "outputs": [],
   "source": [
    "validate = json.loads(validate['validate'].iloc[0])"
   ]
  },
  {
   "cell_type": "code",
   "execution_count": 49,
   "metadata": {
    "tags": []
   },
   "outputs": [],
   "source": [
    "#validate['anomaly_info']"
   ]
  },
  {
   "cell_type": "markdown",
   "metadata": {},
   "source": [
    "#### Display Anomalies with `tfdv.display_anomalies`\n",
    "\n",
    "Use the [`tfdv.display_anomalies`](https://www.tensorflow.org/tfx/data_validation/api_docs/python/tfdv/display_anomalies) tool to display a table of anomaly detections with descriptions."
   ]
  },
  {
   "cell_type": "code",
   "execution_count": 50,
   "metadata": {
    "tags": []
   },
   "outputs": [],
   "source": [
    "if 'generate_legacy_feature_spec' in validate['baseline'].keys():\n",
    "    del validate['baseline']['generate_legacy_feature_spec']"
   ]
  },
  {
   "cell_type": "code",
   "execution_count": 51,
   "metadata": {
    "tags": []
   },
   "outputs": [
    {
     "data": {
      "text/html": [
       "<div>\n",
       "<style scoped>\n",
       "    .dataframe tbody tr th:only-of-type {\n",
       "        vertical-align: middle;\n",
       "    }\n",
       "\n",
       "    .dataframe tbody tr th {\n",
       "        vertical-align: top;\n",
       "    }\n",
       "\n",
       "    .dataframe thead th {\n",
       "        text-align: right;\n",
       "    }\n",
       "</style>\n",
       "<table border=\"1\" class=\"dataframe\">\n",
       "  <thead>\n",
       "    <tr style=\"text-align: right;\">\n",
       "      <th></th>\n",
       "      <th>Anomaly short description</th>\n",
       "      <th>Anomaly long description</th>\n",
       "    </tr>\n",
       "    <tr>\n",
       "      <th>Feature name</th>\n",
       "      <th></th>\n",
       "      <th></th>\n",
       "    </tr>\n",
       "  </thead>\n",
       "  <tbody>\n",
       "    <tr>\n",
       "      <th>'flipper_length_mm'</th>\n",
       "      <td>High approximate Jensen-Shannon divergence between training and serving</td>\n",
       "      <td>The approximate Jensen-Shannon divergence between training and serving is 0.910632 (up to six significant digits), above the threshold 0.3.</td>\n",
       "    </tr>\n",
       "    <tr>\n",
       "      <th>'body_mass_g'</th>\n",
       "      <td>High approximate Jensen-Shannon divergence between training and serving</td>\n",
       "      <td>The approximate Jensen-Shannon divergence between training and serving is 0.370903 (up to six significant digits), above the threshold 0.3.</td>\n",
       "    </tr>\n",
       "  </tbody>\n",
       "</table>\n",
       "</div>"
      ],
      "text/plain": [
       "                                                                   Anomaly short description  \\\n",
       "Feature name                                                                                   \n",
       "'flipper_length_mm'  High approximate Jensen-Shannon divergence between training and serving   \n",
       "'body_mass_g'        High approximate Jensen-Shannon divergence between training and serving   \n",
       "\n",
       "                                                                                                                                        Anomaly long description  \n",
       "Feature name                                                                                                                                                      \n",
       "'flipper_length_mm'  The approximate Jensen-Shannon divergence between training and serving is 0.910632 (up to six significant digits), above the threshold 0.3.  \n",
       "'body_mass_g'        The approximate Jensen-Shannon divergence between training and serving is 0.370903 (up to six significant digits), above the threshold 0.3.  "
      ]
     },
     "metadata": {},
     "output_type": "display_data"
    }
   ],
   "source": [
    "tfdv.display_anomalies(\n",
    "    anomalies = json_format.ParseDict(validate, tfmd.proto.anomalies_pb2.Anomalies())\n",
    ")"
   ]
  },
  {
   "cell_type": "markdown",
   "metadata": {},
   "source": [
    "---\n",
    "## Understanding Monitoring Thresholds\n",
    "\n",
    "The `ML.VALIDATE_DATA_DRIFT`, `ML.VALIDATE_DATA_SKEW`, and `ML.TFDV_VALIDATE` functions use distance scores to quantify the change in the statistical distribution of features.  The methods of calculating the distance scores are:\n",
    "- [L-infinity distance](https://en.wikipedia.org/wiki/Chebyshev_distance) for categorical features\n",
    "- [Jensen-Shannon divergence](https://en.wikipedia.org/wiki/Jensen%E2%80%93Shannon_divergence) for numeric features.  Can also be use for categorical features.\n",
    "\n",
    "These methods are the same ones used by [TensorFlow Data Validation](https://www.tensorflow.org/tfx/guide/tfdv#training-serving_skew_detection) which is also used in [Vertex AI Model Monitoring](https://cloud.google.com/vertex-ai/docs/model-monitoring/overview#calculating-skew-and-drift).\n",
    "\n",
    "This section aims to provide intuition on how these two metrics work.  In the data used for this workflow the feature `island` has three possible values: `Biscoe`, `Dream`, and `Torgersen`.  The proportion of data in each of these categories forms a distribution.  This will be used to visually show how both methods of calculating distance scores work."
   ]
  },
  {
   "cell_type": "code",
   "execution_count": 52,
   "metadata": {
    "tags": []
   },
   "outputs": [],
   "source": [
    "import pandas as pd\n",
    "import numpy as np"
   ]
  },
  {
   "cell_type": "markdown",
   "metadata": {},
   "source": [
    "### Retrieve Distributions: Training & Serving\n",
    "\n",
    "Use the `ML.TFDV_DESCRIBE` function to get the statistics for the distribution of the `island` feature at both training and for serving."
   ]
  },
  {
   "cell_type": "code",
   "execution_count": 53,
   "metadata": {
    "tags": []
   },
   "outputs": [
    {
     "data": {
      "application/vnd.jupyter.widget-view+json": {
       "model_id": "22a84da6902a49ddbb2574e53ed71129",
       "version_major": 2,
       "version_minor": 0
      },
      "text/plain": [
       "Query is running:   0%|          |"
      ]
     },
     "metadata": {},
     "output_type": "display_data"
    },
    {
     "data": {
      "application/vnd.jupyter.widget-view+json": {
       "model_id": "71b1a12c55bf4931b2f4c45e621fd50f",
       "version_major": 2,
       "version_minor": 0
      },
      "text/plain": [
       "Downloading:   0%|          |"
      ]
     },
     "metadata": {},
     "output_type": "display_data"
    }
   ],
   "source": [
    "%%bigquery island_train\n",
    "SELECT *\n",
    "FROM ML.TFDV_DESCRIBE(\n",
    "    (\n",
    "        SELECT island\n",
    "        FROM `statmike-mlops-349915.bqml_model_monitoring.training_split`\n",
    "        WHERE splits = 'TRAIN'\n",
    "    )\n",
    ")"
   ]
  },
  {
   "cell_type": "code",
   "execution_count": 54,
   "metadata": {
    "tags": []
   },
   "outputs": [
    {
     "data": {
      "application/vnd.jupyter.widget-view+json": {
       "model_id": "c8ce2d93ddb14265914c350aa21be802",
       "version_major": 2,
       "version_minor": 0
      },
      "text/plain": [
       "Query is running:   0%|          |"
      ]
     },
     "metadata": {},
     "output_type": "display_data"
    },
    {
     "data": {
      "application/vnd.jupyter.widget-view+json": {
       "model_id": "80cc9d5119104e7496a28783d79b4a92",
       "version_major": 2,
       "version_minor": 0
      },
      "text/plain": [
       "Downloading:   0%|          |"
      ]
     },
     "metadata": {},
     "output_type": "display_data"
    }
   ],
   "source": [
    "%%bigquery island_serve\n",
    "SELECT *\n",
    "FROM ML.TFDV_DESCRIBE(\n",
    "    (\n",
    "        SELECT island\n",
    "        FROM `statmike-mlops-349915.bqml_model_monitoring.serving`\n",
    "    )\n",
    ")"
   ]
  },
  {
   "cell_type": "code",
   "execution_count": 55,
   "metadata": {
    "tags": []
   },
   "outputs": [],
   "source": [
    "island_train = json.loads(island_train['dataset_feature_statistics_list'].iloc[0])\n",
    "island_serve = json.loads(island_serve['dataset_feature_statistics_list'].iloc[0])"
   ]
  },
  {
   "cell_type": "code",
   "execution_count": 56,
   "metadata": {
    "tags": []
   },
   "outputs": [
    {
     "data": {
      "text/plain": [
       "{'avg_length': 6.092437,\n",
       " 'common_stats': {'avg_num_values': 1,\n",
       "  'max_num_values': 1,\n",
       "  'min_num_values': 1,\n",
       "  'num_non_missing': 238,\n",
       "  'num_values_histogram': {'buckets': [{'high_value': 1,\n",
       "     'low_value': 1,\n",
       "     'sample_count': 23.8},\n",
       "    {'high_value': 1, 'low_value': 1, 'sample_count': 23.8},\n",
       "    {'high_value': 1, 'low_value': 1, 'sample_count': 23.8},\n",
       "    {'high_value': 1, 'low_value': 1, 'sample_count': 23.8},\n",
       "    {'high_value': 1, 'low_value': 1, 'sample_count': 23.8},\n",
       "    {'high_value': 1, 'low_value': 1, 'sample_count': 23.8},\n",
       "    {'high_value': 1, 'low_value': 1, 'sample_count': 23.8},\n",
       "    {'high_value': 1, 'low_value': 1, 'sample_count': 23.8},\n",
       "    {'high_value': 1, 'low_value': 1, 'sample_count': 23.8},\n",
       "    {'high_value': 1, 'low_value': 1, 'sample_count': 23.8}],\n",
       "   'type': 'QUANTILES'},\n",
       "  'tot_num_values': 238},\n",
       " 'rank_histogram': {'buckets': [{'label': 'Biscoe', 'sample_count': 116},\n",
       "   {'high_rank': 1, 'label': 'Dream', 'low_rank': 1, 'sample_count': 86},\n",
       "   {'high_rank': 2, 'label': 'Torgersen', 'low_rank': 2, 'sample_count': 36}]},\n",
       " 'top_values': [{'frequency': 116, 'value': 'Biscoe'},\n",
       "  {'frequency': 86, 'value': 'Dream'},\n",
       "  {'frequency': 36, 'value': 'Torgersen'}],\n",
       " 'unique': 3}"
      ]
     },
     "execution_count": 56,
     "metadata": {},
     "output_type": "execute_result"
    }
   ],
   "source": [
    "island_train['datasets'][0]['features'][0]['string_stats']"
   ]
  },
  {
   "cell_type": "code",
   "execution_count": 57,
   "metadata": {
    "tags": []
   },
   "outputs": [
    {
     "data": {
      "text/plain": [
       "[{'label': 'Biscoe', 'sample_count': 116},\n",
       " {'high_rank': 1, 'label': 'Dream', 'low_rank': 1, 'sample_count': 86},\n",
       " {'high_rank': 2, 'label': 'Torgersen', 'low_rank': 2, 'sample_count': 36}]"
      ]
     },
     "execution_count": 57,
     "metadata": {},
     "output_type": "execute_result"
    }
   ],
   "source": [
    "island_train_stats = island_train['datasets'][0]['features'][0]['string_stats']['rank_histogram']['buckets']\n",
    "island_train_stats"
   ]
  },
  {
   "cell_type": "code",
   "execution_count": 58,
   "metadata": {
    "tags": []
   },
   "outputs": [
    {
     "data": {
      "text/plain": [
       "[{'label': 'Biscoe', 'sample_count': 775},\n",
       " {'high_rank': 1, 'label': 'Dream', 'low_rank': 1, 'sample_count': 775},\n",
       " {'high_rank': 2, 'label': 'Torgersen', 'low_rank': 2, 'sample_count': 279}]"
      ]
     },
     "execution_count": 58,
     "metadata": {},
     "output_type": "execute_result"
    }
   ],
   "source": [
    "island_serve_stats = island_serve['datasets'][0]['features'][0]['string_stats']['rank_histogram']['buckets']\n",
    "island_serve_stats"
   ]
  },
  {
   "cell_type": "markdown",
   "metadata": {},
   "source": [
    "### Combine Distributions In DataFrame"
   ]
  },
  {
   "cell_type": "code",
   "execution_count": 59,
   "metadata": {
    "tags": []
   },
   "outputs": [
    {
     "data": {
      "text/html": [
       "<div>\n",
       "<style scoped>\n",
       "    .dataframe tbody tr th:only-of-type {\n",
       "        vertical-align: middle;\n",
       "    }\n",
       "\n",
       "    .dataframe tbody tr th {\n",
       "        vertical-align: top;\n",
       "    }\n",
       "\n",
       "    .dataframe thead th {\n",
       "        text-align: right;\n",
       "    }\n",
       "</style>\n",
       "<table border=\"1\" class=\"dataframe\">\n",
       "  <thead>\n",
       "    <tr style=\"text-align: right;\">\n",
       "      <th></th>\n",
       "      <th>train_n</th>\n",
       "      <th>serve_n</th>\n",
       "      <th>train_pct</th>\n",
       "      <th>serve_pct</th>\n",
       "    </tr>\n",
       "  </thead>\n",
       "  <tbody>\n",
       "    <tr>\n",
       "      <th>Biscoe</th>\n",
       "      <td>116</td>\n",
       "      <td>775</td>\n",
       "      <td>0.487395</td>\n",
       "      <td>0.423729</td>\n",
       "    </tr>\n",
       "    <tr>\n",
       "      <th>Dream</th>\n",
       "      <td>86</td>\n",
       "      <td>775</td>\n",
       "      <td>0.361345</td>\n",
       "      <td>0.423729</td>\n",
       "    </tr>\n",
       "    <tr>\n",
       "      <th>Torgersen</th>\n",
       "      <td>36</td>\n",
       "      <td>279</td>\n",
       "      <td>0.151261</td>\n",
       "      <td>0.152542</td>\n",
       "    </tr>\n",
       "  </tbody>\n",
       "</table>\n",
       "</div>"
      ],
      "text/plain": [
       "           train_n  serve_n  train_pct  serve_pct\n",
       "Biscoe         116      775   0.487395   0.423729\n",
       "Dream           86      775   0.361345   0.423729\n",
       "Torgersen       36      279   0.151261   0.152542"
      ]
     },
     "execution_count": 59,
     "metadata": {},
     "output_type": "execute_result"
    }
   ],
   "source": [
    "index = [i['label'] for i in island_train_stats]\n",
    "train = [i['sample_count'] for i in island_train_stats]\n",
    "serve = [island_serve_stats[index.index(k)]['sample_count'] for k in [i['label'] for i in island_serve_stats]]\n",
    "stats = pd.DataFrame(\n",
    "    {\n",
    "        'train_n': train,\n",
    "        'serve_n': serve,\n",
    "        'train_pct': [x/sum(train) for x in train],\n",
    "        'serve_pct': [x/sum(serve) for x in serve]\n",
    "    },\n",
    "    index = index\n",
    ")\n",
    "stats"
   ]
  },
  {
   "cell_type": "markdown",
   "metadata": {},
   "source": [
    "### Visualize Distributions"
   ]
  },
  {
   "cell_type": "code",
   "execution_count": 60,
   "metadata": {
    "tags": []
   },
   "outputs": [
    {
     "data": {
      "image/png": "[encoded data removed]",
      "text/plain": [
       "<Figure size 640x480 with 1 Axes>"
      ]
     },
     "metadata": {},
     "output_type": "display_data"
    }
   ],
   "source": [
    "ax = stats[['train_pct', 'serve_pct']].plot.bar(rot=0)\n",
    "for container in ax.containers:\n",
    "    ax.bar_label(container)"
   ]
  },
  {
   "cell_type": "markdown",
   "metadata": {},
   "source": [
    "### L-Infinity Distance"
   ]
  },
  {
   "cell_type": "code",
   "execution_count": 61,
   "metadata": {
    "tags": []
   },
   "outputs": [
    {
     "data": {
      "text/html": [
       "<div>\n",
       "<style scoped>\n",
       "    .dataframe tbody tr th:only-of-type {\n",
       "        vertical-align: middle;\n",
       "    }\n",
       "\n",
       "    .dataframe tbody tr th {\n",
       "        vertical-align: top;\n",
       "    }\n",
       "\n",
       "    .dataframe thead th {\n",
       "        text-align: right;\n",
       "    }\n",
       "</style>\n",
       "<table border=\"1\" class=\"dataframe\">\n",
       "  <thead>\n",
       "    <tr style=\"text-align: right;\">\n",
       "      <th></th>\n",
       "      <th>train_n</th>\n",
       "      <th>serve_n</th>\n",
       "      <th>train_pct</th>\n",
       "      <th>serve_pct</th>\n",
       "      <th>abs_change_pct</th>\n",
       "    </tr>\n",
       "  </thead>\n",
       "  <tbody>\n",
       "    <tr>\n",
       "      <th>Biscoe</th>\n",
       "      <td>116</td>\n",
       "      <td>775</td>\n",
       "      <td>0.487395</td>\n",
       "      <td>0.423729</td>\n",
       "      <td>0.063666</td>\n",
       "    </tr>\n",
       "    <tr>\n",
       "      <th>Dream</th>\n",
       "      <td>86</td>\n",
       "      <td>775</td>\n",
       "      <td>0.361345</td>\n",
       "      <td>0.423729</td>\n",
       "      <td>0.062384</td>\n",
       "    </tr>\n",
       "    <tr>\n",
       "      <th>Torgersen</th>\n",
       "      <td>36</td>\n",
       "      <td>279</td>\n",
       "      <td>0.151261</td>\n",
       "      <td>0.152542</td>\n",
       "      <td>0.001282</td>\n",
       "    </tr>\n",
       "  </tbody>\n",
       "</table>\n",
       "</div>"
      ],
      "text/plain": [
       "           train_n  serve_n  train_pct  serve_pct  abs_change_pct\n",
       "Biscoe         116      775   0.487395   0.423729        0.063666\n",
       "Dream           86      775   0.361345   0.423729        0.062384\n",
       "Torgersen       36      279   0.151261   0.152542        0.001282"
      ]
     },
     "execution_count": 61,
     "metadata": {},
     "output_type": "execute_result"
    }
   ],
   "source": [
    "stats['abs_change_pct'] = abs(stats['train_pct'] - stats['serve_pct'])\n",
    "stats"
   ]
  },
  {
   "cell_type": "code",
   "execution_count": 62,
   "metadata": {
    "tags": []
   },
   "outputs": [
    {
     "data": {
      "text/plain": [
       "[Text(0, 0, '0.0636661'), Text(0, 0, '0.0623843'), Text(0, 0, '0.00128187')]"
      ]
     },
     "execution_count": 62,
     "metadata": {},
     "output_type": "execute_result"
    },
    {
     "data": {
      "image/png": "[encoded data removed]",
      "text/plain": [
       "<Figure size 640x480 with 1 Axes>"
      ]
     },
     "metadata": {},
     "output_type": "display_data"
    }
   ],
   "source": [
    "ax = stats['abs_change_pct'].plot.bar()\n",
    "ax.bar_label(ax.containers[0])"
   ]
  },
  {
   "cell_type": "code",
   "execution_count": 63,
   "metadata": {
    "tags": []
   },
   "outputs": [
    {
     "name": "stdout",
     "output_type": "stream",
     "text": [
      "The max change in percentage(L-Infinity Distance) is 0.06366614442387125\n"
     ]
    }
   ],
   "source": [
    "print(f\"The max change in percentage(L-Infinity Distance) is {max(stats['abs_change_pct'])}\")"
   ]
  },
  {
   "cell_type": "markdown",
   "metadata": {},
   "source": [
    "### Jensen-Shannon Divergence"
   ]
  },
  {
   "cell_type": "code",
   "execution_count": 64,
   "metadata": {
    "tags": []
   },
   "outputs": [
    {
     "data": {
      "text/html": [
       "<div>\n",
       "<style scoped>\n",
       "    .dataframe tbody tr th:only-of-type {\n",
       "        vertical-align: middle;\n",
       "    }\n",
       "\n",
       "    .dataframe tbody tr th {\n",
       "        vertical-align: top;\n",
       "    }\n",
       "\n",
       "    .dataframe thead th {\n",
       "        text-align: right;\n",
       "    }\n",
       "</style>\n",
       "<table border=\"1\" class=\"dataframe\">\n",
       "  <thead>\n",
       "    <tr style=\"text-align: right;\">\n",
       "      <th></th>\n",
       "      <th>train_n</th>\n",
       "      <th>serve_n</th>\n",
       "      <th>train_pct</th>\n",
       "      <th>serve_pct</th>\n",
       "      <th>abs_change_pct</th>\n",
       "      <th>mix</th>\n",
       "      <th>train_kl</th>\n",
       "      <th>serve_kl</th>\n",
       "      <th>JSD</th>\n",
       "    </tr>\n",
       "  </thead>\n",
       "  <tbody>\n",
       "    <tr>\n",
       "      <th>Biscoe</th>\n",
       "      <td>116</td>\n",
       "      <td>775</td>\n",
       "      <td>0.487395</td>\n",
       "      <td>0.423729</td>\n",
       "      <td>0.063666</td>\n",
       "      <td>0.455562</td>\n",
       "      <td>0.047494</td>\n",
       "      <td>-0.044282</td>\n",
       "      <td>0.001606</td>\n",
       "    </tr>\n",
       "    <tr>\n",
       "      <th>Dream</th>\n",
       "      <td>86</td>\n",
       "      <td>775</td>\n",
       "      <td>0.361345</td>\n",
       "      <td>0.423729</td>\n",
       "      <td>0.062384</td>\n",
       "      <td>0.392537</td>\n",
       "      <td>-0.043163</td>\n",
       "      <td>0.046743</td>\n",
       "      <td>0.001790</td>\n",
       "    </tr>\n",
       "    <tr>\n",
       "      <th>Torgersen</th>\n",
       "      <td>36</td>\n",
       "      <td>279</td>\n",
       "      <td>0.151261</td>\n",
       "      <td>0.152542</td>\n",
       "      <td>0.001282</td>\n",
       "      <td>0.151901</td>\n",
       "      <td>-0.000923</td>\n",
       "      <td>0.000927</td>\n",
       "      <td>0.000002</td>\n",
       "    </tr>\n",
       "  </tbody>\n",
       "</table>\n",
       "</div>"
      ],
      "text/plain": [
       "           train_n  serve_n  train_pct  serve_pct  abs_change_pct       mix  \\\n",
       "Biscoe         116      775   0.487395   0.423729        0.063666  0.455562   \n",
       "Dream           86      775   0.361345   0.423729        0.062384  0.392537   \n",
       "Torgersen       36      279   0.151261   0.152542        0.001282  0.151901   \n",
       "\n",
       "           train_kl  serve_kl       JSD  \n",
       "Biscoe     0.047494 -0.044282  0.001606  \n",
       "Dream     -0.043163  0.046743  0.001790  \n",
       "Torgersen -0.000923  0.000927  0.000002  "
      ]
     },
     "execution_count": 64,
     "metadata": {},
     "output_type": "execute_result"
    }
   ],
   "source": [
    "stats['mix'] = (stats['train_pct'] + stats['serve_pct']) / 2\n",
    "stats['train_kl'] = stats['train_pct'] * np.log2(stats['train_pct'] / stats['mix'])\n",
    "stats['serve_kl'] = stats['serve_pct'] * np.log2(stats['serve_pct'] / stats['mix'])\n",
    "stats['JSD'] = (stats['train_kl'] + stats['serve_kl']) / 2\n",
    "stats"
   ]
  },
  {
   "cell_type": "code",
   "execution_count": 65,
   "metadata": {
    "tags": []
   },
   "outputs": [
    {
     "name": "stdout",
     "output_type": "stream",
     "text": [
      "The total for the Jansen-Shannon Divergence is 0.003397646037186287\n"
     ]
    }
   ],
   "source": [
    "print(f\"The total for the Jansen-Shannon Divergence is {sum(stats['JSD'])}\")"
   ]
  },
  {
   "cell_type": "markdown",
   "metadata": {},
   "source": [
    "### Verify Calculations with `ML.VALIDATE_DATA_DRIFT`"
   ]
  },
  {
   "cell_type": "code",
   "execution_count": 66,
   "metadata": {
    "tags": []
   },
   "outputs": [
    {
     "data": {
      "application/vnd.jupyter.widget-view+json": {
       "model_id": "0efc3740ded04a55b84bcb22ac42ef49",
       "version_major": 2,
       "version_minor": 0
      },
      "text/plain": [
       "Query is running:   0%|          |"
      ]
     },
     "metadata": {},
     "output_type": "display_data"
    },
    {
     "data": {
      "application/vnd.jupyter.widget-view+json": {
       "model_id": "3095950f93a54ed4880782b1422735c2",
       "version_major": 2,
       "version_minor": 0
      },
      "text/plain": [
       "Downloading:   0%|          |"
      ]
     },
     "metadata": {},
     "output_type": "display_data"
    },
    {
     "data": {
      "text/html": [
       "<div>\n",
       "<style scoped>\n",
       "    .dataframe tbody tr th:only-of-type {\n",
       "        vertical-align: middle;\n",
       "    }\n",
       "\n",
       "    .dataframe tbody tr th {\n",
       "        vertical-align: top;\n",
       "    }\n",
       "\n",
       "    .dataframe thead th {\n",
       "        text-align: right;\n",
       "    }\n",
       "</style>\n",
       "<table border=\"1\" class=\"dataframe\">\n",
       "  <thead>\n",
       "    <tr style=\"text-align: right;\">\n",
       "      <th></th>\n",
       "      <th>input</th>\n",
       "      <th>metric</th>\n",
       "      <th>threshold</th>\n",
       "      <th>value</th>\n",
       "      <th>is_anomaly</th>\n",
       "    </tr>\n",
       "  </thead>\n",
       "  <tbody>\n",
       "    <tr>\n",
       "      <th>0</th>\n",
       "      <td>island</td>\n",
       "      <td>L_INFTY</td>\n",
       "      <td>0.3</td>\n",
       "      <td>0.063666</td>\n",
       "      <td>False</td>\n",
       "    </tr>\n",
       "  </tbody>\n",
       "</table>\n",
       "</div>"
      ],
      "text/plain": [
       "    input   metric  threshold     value  is_anomaly\n",
       "0  island  L_INFTY        0.3  0.063666       False"
      ]
     },
     "execution_count": 66,
     "metadata": {},
     "output_type": "execute_result"
    }
   ],
   "source": [
    "%%bigquery\n",
    "SELECT *\n",
    "FROM ML.VALIDATE_DATA_DRIFT(\n",
    "    (\n",
    "        SELECT island\n",
    "        FROM `statmike-mlops-349915.bqml_model_monitoring.training_split`\n",
    "        WHERE splits = 'TRAIN'\n",
    "    ),\n",
    "    (\n",
    "        SELECT island\n",
    "        FROM `statmike-mlops-349915.bqml_model_monitoring.serving`\n",
    "    ),\n",
    "    STRUCT('L_INFTY' AS categorical_metric_type)\n",
    "    #, MODEL `statmike-mlops-349915.bqml_model_monitoring.classify_species_rf`\n",
    ")"
   ]
  },
  {
   "cell_type": "code",
   "execution_count": 67,
   "metadata": {
    "tags": []
   },
   "outputs": [
    {
     "name": "stdout",
     "output_type": "stream",
     "text": [
      "The max change in percentage(L-Infinity Distance) is 0.06366614442387125\n"
     ]
    }
   ],
   "source": [
    "print(f\"The max change in percentage(L-Infinity Distance) is {max(stats['abs_change_pct'])}\")"
   ]
  },
  {
   "cell_type": "code",
   "execution_count": 68,
   "metadata": {
    "tags": []
   },
   "outputs": [
    {
     "data": {
      "application/vnd.jupyter.widget-view+json": {
       "model_id": "4016e78718b44923a52b64df508cf13c",
       "version_major": 2,
       "version_minor": 0
      },
      "text/plain": [
       "Query is running:   0%|          |"
      ]
     },
     "metadata": {},
     "output_type": "display_data"
    },
    {
     "data": {
      "application/vnd.jupyter.widget-view+json": {
       "model_id": "78fb8b86dad2402fac6fb9563d0af777",
       "version_major": 2,
       "version_minor": 0
      },
      "text/plain": [
       "Downloading:   0%|          |"
      ]
     },
     "metadata": {},
     "output_type": "display_data"
    },
    {
     "data": {
      "text/html": [
       "<div>\n",
       "<style scoped>\n",
       "    .dataframe tbody tr th:only-of-type {\n",
       "        vertical-align: middle;\n",
       "    }\n",
       "\n",
       "    .dataframe tbody tr th {\n",
       "        vertical-align: top;\n",
       "    }\n",
       "\n",
       "    .dataframe thead th {\n",
       "        text-align: right;\n",
       "    }\n",
       "</style>\n",
       "<table border=\"1\" class=\"dataframe\">\n",
       "  <thead>\n",
       "    <tr style=\"text-align: right;\">\n",
       "      <th></th>\n",
       "      <th>input</th>\n",
       "      <th>metric</th>\n",
       "      <th>threshold</th>\n",
       "      <th>value</th>\n",
       "      <th>is_anomaly</th>\n",
       "    </tr>\n",
       "  </thead>\n",
       "  <tbody>\n",
       "    <tr>\n",
       "      <th>0</th>\n",
       "      <td>island</td>\n",
       "      <td>JENSEN_SHANNON_DIVERGENCE</td>\n",
       "      <td>0.3</td>\n",
       "      <td>0.003398</td>\n",
       "      <td>False</td>\n",
       "    </tr>\n",
       "  </tbody>\n",
       "</table>\n",
       "</div>"
      ],
      "text/plain": [
       "    input                     metric  threshold     value  is_anomaly\n",
       "0  island  JENSEN_SHANNON_DIVERGENCE        0.3  0.003398       False"
      ]
     },
     "execution_count": 68,
     "metadata": {},
     "output_type": "execute_result"
    }
   ],
   "source": [
    "%%bigquery\n",
    "SELECT *\n",
    "FROM ML.VALIDATE_DATA_DRIFT(\n",
    "    (\n",
    "        SELECT island\n",
    "        FROM `statmike-mlops-349915.bqml_model_monitoring.training_split`\n",
    "        WHERE splits = 'TRAIN'\n",
    "    ),\n",
    "    (\n",
    "        SELECT island\n",
    "        FROM `statmike-mlops-349915.bqml_model_monitoring.serving`\n",
    "    ),\n",
    "    STRUCT('JENSEN_SHANNON_DIVERGENCE' AS categorical_metric_type)\n",
    "    #, MODEL `statmike-mlops-349915.bqml_model_monitoring.classify_species_rf`\n",
    ")"
   ]
  },
  {
   "cell_type": "code",
   "execution_count": 69,
   "metadata": {
    "tags": []
   },
   "outputs": [
    {
     "name": "stdout",
     "output_type": "stream",
     "text": [
      "The total for the Jansen-Shannon Divergence is 0.003397646037186287\n"
     ]
    }
   ],
   "source": [
    "print(f\"The total for the Jansen-Shannon Divergence is {sum(stats['JSD'])}\")"
   ]
  },
  {
   "cell_type": "markdown",
   "metadata": {},
   "source": [
    "---\n",
    "## More Applications For Model Monitoring"
   ]
  },
  {
   "cell_type": "markdown",
   "metadata": {},
   "source": [
    "---\n",
    "### Monitoring Transformed Features\n",
    "\n",
    "The [`CREATE MODEL`](https://cloud.google.com/bigquery/docs/reference/standard-sql/bigqueryml-syntax-create) statement included a [`TRANSFORM`](https://cloud.google.com/bigquery/docs/reference/standard-sql/bigqueryml-syntax-create#transform).  This is available to be called directly for input data with the [`ML.TRANSFORM`](https://cloud.google.com/bigquery/docs/reference/standard-sql/bigqueryml-syntax-transform) function.  This can be useful for considering monitoring the transformed features."
   ]
  },
  {
   "cell_type": "markdown",
   "metadata": {},
   "source": [
    "#### Transformations With `ML.TRANSFORM`"
   ]
  },
  {
   "cell_type": "code",
   "execution_count": 70,
   "metadata": {
    "tags": []
   },
   "outputs": [
    {
     "data": {
      "application/vnd.jupyter.widget-view+json": {
       "model_id": "8a7fb0df5b9342a3ab166b5470cf5637",
       "version_major": 2,
       "version_minor": 0
      },
      "text/plain": [
       "Query is running:   0%|          |"
      ]
     },
     "metadata": {},
     "output_type": "display_data"
    },
    {
     "data": {
      "application/vnd.jupyter.widget-view+json": {
       "model_id": "7261a74d259e4a928c87a51b56e82624",
       "version_major": 2,
       "version_minor": 0
      },
      "text/plain": [
       "Downloading:   0%|          |"
      ]
     },
     "metadata": {},
     "output_type": "display_data"
    },
    {
     "data": {
      "text/html": [
       "<div>\n",
       "<style scoped>\n",
       "    .dataframe tbody tr th:only-of-type {\n",
       "        vertical-align: middle;\n",
       "    }\n",
       "\n",
       "    .dataframe tbody tr th {\n",
       "        vertical-align: top;\n",
       "    }\n",
       "\n",
       "    .dataframe thead th {\n",
       "        text-align: right;\n",
       "    }\n",
       "</style>\n",
       "<table border=\"1\" class=\"dataframe\">\n",
       "  <thead>\n",
       "    <tr style=\"text-align: right;\">\n",
       "      <th></th>\n",
       "      <th>body_mass_g</th>\n",
       "      <th>culmen_length_mm</th>\n",
       "      <th>culmen_depth_mm</th>\n",
       "      <th>flipper_length_mm</th>\n",
       "      <th>sex</th>\n",
       "      <th>island</th>\n",
       "      <th>species</th>\n",
       "      <th>instance_timestamp</th>\n",
       "    </tr>\n",
       "  </thead>\n",
       "  <tbody>\n",
       "    <tr>\n",
       "      <th>0</th>\n",
       "      <td>0.532233</td>\n",
       "      <td>0.094817</td>\n",
       "      <td>-1.459731</td>\n",
       "      <td>bin_3</td>\n",
       "      <td>FEMALE</td>\n",
       "      <td>Biscoe</td>\n",
       "      <td>Gentoo penguin (Pygoscelis papua)</td>\n",
       "      <td>2025-02-19 00:00:00+00:00</td>\n",
       "    </tr>\n",
       "    <tr>\n",
       "      <th>1</th>\n",
       "      <td>-0.386502</td>\n",
       "      <td>-1.627776</td>\n",
       "      <td>-0.623838</td>\n",
       "      <td>bin_2</td>\n",
       "      <td>FEMALE</td>\n",
       "      <td>Torgersen</td>\n",
       "      <td>Adelie Penguin (Pygoscelis adeliae)</td>\n",
       "      <td>2025-02-19 00:00:00+00:00</td>\n",
       "    </tr>\n",
       "    <tr>\n",
       "      <th>2</th>\n",
       "      <td>-0.332031</td>\n",
       "      <td>-2.201973</td>\n",
       "      <td>-0.832811</td>\n",
       "      <td>bin_3</td>\n",
       "      <td>FEMALE</td>\n",
       "      <td>Dream</td>\n",
       "      <td>Adelie Penguin (Pygoscelis adeliae)</td>\n",
       "      <td>2025-02-19 00:00:00+00:00</td>\n",
       "    </tr>\n",
       "    <tr>\n",
       "      <th>3</th>\n",
       "      <td>-0.084418</td>\n",
       "      <td>-0.979488</td>\n",
       "      <td>0.995706</td>\n",
       "      <td>bin_3</td>\n",
       "      <td>FEMALE</td>\n",
       "      <td>Torgersen</td>\n",
       "      <td>Adelie Penguin (Pygoscelis adeliae)</td>\n",
       "      <td>2025-02-19 00:00:00+00:00</td>\n",
       "    </tr>\n",
       "    <tr>\n",
       "      <th>4</th>\n",
       "      <td>-0.503243</td>\n",
       "      <td>-1.405506</td>\n",
       "      <td>0.003082</td>\n",
       "      <td>bin_3</td>\n",
       "      <td>FEMALE</td>\n",
       "      <td>Biscoe</td>\n",
       "      <td>Adelie Penguin (Pygoscelis adeliae)</td>\n",
       "      <td>2025-02-19 00:00:00+00:00</td>\n",
       "    </tr>\n",
       "  </tbody>\n",
       "</table>\n",
       "</div>"
      ],
      "text/plain": [
       "   body_mass_g  culmen_length_mm  culmen_depth_mm flipper_length_mm     sex  \\\n",
       "0     0.532233          0.094817        -1.459731             bin_3  FEMALE   \n",
       "1    -0.386502         -1.627776        -0.623838             bin_2  FEMALE   \n",
       "2    -0.332031         -2.201973        -0.832811             bin_3  FEMALE   \n",
       "3    -0.084418         -0.979488         0.995706             bin_3  FEMALE   \n",
       "4    -0.503243         -1.405506         0.003082             bin_3  FEMALE   \n",
       "\n",
       "      island                              species        instance_timestamp  \n",
       "0     Biscoe    Gentoo penguin (Pygoscelis papua) 2025-02-19 00:00:00+00:00  \n",
       "1  Torgersen  Adelie Penguin (Pygoscelis adeliae) 2025-02-19 00:00:00+00:00  \n",
       "2      Dream  Adelie Penguin (Pygoscelis adeliae) 2025-02-19 00:00:00+00:00  \n",
       "3  Torgersen  Adelie Penguin (Pygoscelis adeliae) 2025-02-19 00:00:00+00:00  \n",
       "4     Biscoe  Adelie Penguin (Pygoscelis adeliae) 2025-02-19 00:00:00+00:00  "
      ]
     },
     "execution_count": 70,
     "metadata": {},
     "output_type": "execute_result"
    }
   ],
   "source": [
    "%%bigquery\n",
    "SELECT *\n",
    "FROM ML.TRANSFORM(\n",
    "    MODEL `statmike-mlops-349915.bqml_model_monitoring.classify_species_rf`,\n",
    "    (\n",
    "        SELECT *\n",
    "        FROM `statmike-mlops-349915.bqml_model_monitoring.serving`\n",
    "        LIMIT 5\n",
    "    )\n",
    ")"
   ]
  },
  {
   "cell_type": "markdown",
   "metadata": {},
   "source": [
    "#### Monitoring Skew (Manually) - As Drift from Training Data With `ML.VALIDATE_DATA_DRIFT`\n",
    "\n",
    "Compare today, or any data, to the training data by directly comparing to the the model created in BigQuery."
   ]
  },
  {
   "cell_type": "code",
   "execution_count": 71,
   "metadata": {
    "tags": []
   },
   "outputs": [
    {
     "data": {
      "application/vnd.jupyter.widget-view+json": {
       "model_id": "ebc74e01651c47d5be68f67bcfc6f249",
       "version_major": 2,
       "version_minor": 0
      },
      "text/plain": [
       "Query is running:   0%|          |"
      ]
     },
     "metadata": {},
     "output_type": "display_data"
    },
    {
     "data": {
      "application/vnd.jupyter.widget-view+json": {
       "model_id": "bc38feb9e6c24a1ba16d2dcd85f51bab",
       "version_major": 2,
       "version_minor": 0
      },
      "text/plain": [
       "Downloading:   0%|          |"
      ]
     },
     "metadata": {},
     "output_type": "display_data"
    },
    {
     "data": {
      "text/html": [
       "<div>\n",
       "<style scoped>\n",
       "    .dataframe tbody tr th:only-of-type {\n",
       "        vertical-align: middle;\n",
       "    }\n",
       "\n",
       "    .dataframe tbody tr th {\n",
       "        vertical-align: top;\n",
       "    }\n",
       "\n",
       "    .dataframe thead th {\n",
       "        text-align: right;\n",
       "    }\n",
       "</style>\n",
       "<table border=\"1\" class=\"dataframe\">\n",
       "  <thead>\n",
       "    <tr style=\"text-align: right;\">\n",
       "      <th></th>\n",
       "      <th>input</th>\n",
       "      <th>metric</th>\n",
       "      <th>threshold</th>\n",
       "      <th>value</th>\n",
       "      <th>is_anomaly</th>\n",
       "    </tr>\n",
       "  </thead>\n",
       "  <tbody>\n",
       "    <tr>\n",
       "      <th>0</th>\n",
       "      <td>body_mass_g</td>\n",
       "      <td>JENSEN_SHANNON_DIVERGENCE</td>\n",
       "      <td>0.3</td>\n",
       "      <td>0.370903</td>\n",
       "      <td>True</td>\n",
       "    </tr>\n",
       "    <tr>\n",
       "      <th>1</th>\n",
       "      <td>culmen_depth_mm</td>\n",
       "      <td>JENSEN_SHANNON_DIVERGENCE</td>\n",
       "      <td>0.3</td>\n",
       "      <td>0.029107</td>\n",
       "      <td>False</td>\n",
       "    </tr>\n",
       "    <tr>\n",
       "      <th>2</th>\n",
       "      <td>culmen_length_mm</td>\n",
       "      <td>JENSEN_SHANNON_DIVERGENCE</td>\n",
       "      <td>0.3</td>\n",
       "      <td>0.058572</td>\n",
       "      <td>False</td>\n",
       "    </tr>\n",
       "    <tr>\n",
       "      <th>3</th>\n",
       "      <td>flipper_length_mm</td>\n",
       "      <td>L_INFTY</td>\n",
       "      <td>0.3</td>\n",
       "      <td>0.652542</td>\n",
       "      <td>True</td>\n",
       "    </tr>\n",
       "    <tr>\n",
       "      <th>4</th>\n",
       "      <td>island</td>\n",
       "      <td>L_INFTY</td>\n",
       "      <td>0.3</td>\n",
       "      <td>0.063666</td>\n",
       "      <td>False</td>\n",
       "    </tr>\n",
       "    <tr>\n",
       "      <th>5</th>\n",
       "      <td>sex</td>\n",
       "      <td>L_INFTY</td>\n",
       "      <td>0.3</td>\n",
       "      <td>0.059037</td>\n",
       "      <td>False</td>\n",
       "    </tr>\n",
       "    <tr>\n",
       "      <th>6</th>\n",
       "      <td>species</td>\n",
       "      <td>L_INFTY</td>\n",
       "      <td>0.3</td>\n",
       "      <td>0.073707</td>\n",
       "      <td>False</td>\n",
       "    </tr>\n",
       "  </tbody>\n",
       "</table>\n",
       "</div>"
      ],
      "text/plain": [
       "               input                     metric  threshold     value  \\\n",
       "0        body_mass_g  JENSEN_SHANNON_DIVERGENCE        0.3  0.370903   \n",
       "1    culmen_depth_mm  JENSEN_SHANNON_DIVERGENCE        0.3  0.029107   \n",
       "2   culmen_length_mm  JENSEN_SHANNON_DIVERGENCE        0.3  0.058572   \n",
       "3  flipper_length_mm                    L_INFTY        0.3  0.652542   \n",
       "4             island                    L_INFTY        0.3  0.063666   \n",
       "5                sex                    L_INFTY        0.3  0.059037   \n",
       "6            species                    L_INFTY        0.3  0.073707   \n",
       "\n",
       "   is_anomaly  \n",
       "0        True  \n",
       "1       False  \n",
       "2       False  \n",
       "3        True  \n",
       "4       False  \n",
       "5       False  \n",
       "6       False  "
      ]
     },
     "execution_count": 71,
     "metadata": {},
     "output_type": "execute_result"
    }
   ],
   "source": [
    "%%bigquery\n",
    "SELECT *\n",
    "FROM ML.VALIDATE_DATA_DRIFT(\n",
    "    (\n",
    "        SELECT *\n",
    "        FROM ML.TRANSFORM(\n",
    "            MODEL `statmike-mlops-349915.bqml_model_monitoring.classify_species_rf`,\n",
    "            (\n",
    "                SELECT *\n",
    "                FROM `statmike-mlops-349915.bqml_model_monitoring.training_split`\n",
    "                WHERE splits = 'TRAIN'\n",
    "            )\n",
    "        )\n",
    "    ),\n",
    "    (\n",
    "        SELECT *\n",
    "        FROM ML.TRANSFORM(\n",
    "            MODEL `statmike-mlops-349915.bqml_model_monitoring.classify_species_rf`,\n",
    "            (\n",
    "                SELECT *\n",
    "                FROM `statmike-mlops-349915.bqml_model_monitoring.serving`\n",
    "                WHERE DATE(instance_timestamp) >= CURRENT_DATE()\n",
    "            )\n",
    "        )\n",
    "    )\n",
    "    #, MODEL `statmike-mlops-349915.bqml_model_monitoring.classify_species_rf`\n",
    ");"
   ]
  },
  {
   "cell_type": "markdown",
   "metadata": {},
   "source": [
    "#### Monitoring Drift (Change Over Time) With `ML.VALIDATE_DATA_DRIFT`\n",
    "\n",
    "Compare today to 5 days ago and set the a lower, more sensitive, threshold of `0.03` (default is `0.3`) for all features."
   ]
  },
  {
   "cell_type": "code",
   "execution_count": 72,
   "metadata": {
    "tags": []
   },
   "outputs": [
    {
     "data": {
      "application/vnd.jupyter.widget-view+json": {
       "model_id": "08cec873a99343ad86d83c0a6bb5b2df",
       "version_major": 2,
       "version_minor": 0
      },
      "text/plain": [
       "Query is running:   0%|          |"
      ]
     },
     "metadata": {},
     "output_type": "display_data"
    },
    {
     "data": {
      "application/vnd.jupyter.widget-view+json": {
       "model_id": "8c4dbd49c1d340328f84eb528130f99d",
       "version_major": 2,
       "version_minor": 0
      },
      "text/plain": [
       "Downloading:   0%|          |"
      ]
     },
     "metadata": {},
     "output_type": "display_data"
    },
    {
     "data": {
      "text/html": [
       "<div>\n",
       "<style scoped>\n",
       "    .dataframe tbody tr th:only-of-type {\n",
       "        vertical-align: middle;\n",
       "    }\n",
       "\n",
       "    .dataframe tbody tr th {\n",
       "        vertical-align: top;\n",
       "    }\n",
       "\n",
       "    .dataframe thead th {\n",
       "        text-align: right;\n",
       "    }\n",
       "</style>\n",
       "<table border=\"1\" class=\"dataframe\">\n",
       "  <thead>\n",
       "    <tr style=\"text-align: right;\">\n",
       "      <th></th>\n",
       "      <th>input</th>\n",
       "      <th>metric</th>\n",
       "      <th>threshold</th>\n",
       "      <th>value</th>\n",
       "      <th>is_anomaly</th>\n",
       "    </tr>\n",
       "  </thead>\n",
       "  <tbody>\n",
       "    <tr>\n",
       "      <th>0</th>\n",
       "      <td>body_mass_g</td>\n",
       "      <td>JENSEN_SHANNON_DIVERGENCE</td>\n",
       "      <td>0.03</td>\n",
       "      <td>0.047936</td>\n",
       "      <td>True</td>\n",
       "    </tr>\n",
       "    <tr>\n",
       "      <th>1</th>\n",
       "      <td>culmen_depth_mm</td>\n",
       "      <td>JENSEN_SHANNON_DIVERGENCE</td>\n",
       "      <td>0.03</td>\n",
       "      <td>0.000000</td>\n",
       "      <td>False</td>\n",
       "    </tr>\n",
       "    <tr>\n",
       "      <th>2</th>\n",
       "      <td>culmen_length_mm</td>\n",
       "      <td>JENSEN_SHANNON_DIVERGENCE</td>\n",
       "      <td>0.03</td>\n",
       "      <td>0.000000</td>\n",
       "      <td>False</td>\n",
       "    </tr>\n",
       "    <tr>\n",
       "      <th>3</th>\n",
       "      <td>flipper_length_mm</td>\n",
       "      <td>L_INFTY</td>\n",
       "      <td>0.03</td>\n",
       "      <td>0.000000</td>\n",
       "      <td>False</td>\n",
       "    </tr>\n",
       "    <tr>\n",
       "      <th>4</th>\n",
       "      <td>instance_timestamp</td>\n",
       "      <td>L_INFTY</td>\n",
       "      <td>0.03</td>\n",
       "      <td>1.000000</td>\n",
       "      <td>True</td>\n",
       "    </tr>\n",
       "    <tr>\n",
       "      <th>5</th>\n",
       "      <td>island</td>\n",
       "      <td>L_INFTY</td>\n",
       "      <td>0.03</td>\n",
       "      <td>0.000000</td>\n",
       "      <td>False</td>\n",
       "    </tr>\n",
       "    <tr>\n",
       "      <th>6</th>\n",
       "      <td>sex</td>\n",
       "      <td>L_INFTY</td>\n",
       "      <td>0.03</td>\n",
       "      <td>0.000000</td>\n",
       "      <td>False</td>\n",
       "    </tr>\n",
       "    <tr>\n",
       "      <th>7</th>\n",
       "      <td>species</td>\n",
       "      <td>L_INFTY</td>\n",
       "      <td>0.03</td>\n",
       "      <td>0.000000</td>\n",
       "      <td>False</td>\n",
       "    </tr>\n",
       "  </tbody>\n",
       "</table>\n",
       "</div>"
      ],
      "text/plain": [
       "                input                     metric  threshold     value  \\\n",
       "0         body_mass_g  JENSEN_SHANNON_DIVERGENCE       0.03  0.047936   \n",
       "1     culmen_depth_mm  JENSEN_SHANNON_DIVERGENCE       0.03  0.000000   \n",
       "2    culmen_length_mm  JENSEN_SHANNON_DIVERGENCE       0.03  0.000000   \n",
       "3   flipper_length_mm                    L_INFTY       0.03  0.000000   \n",
       "4  instance_timestamp                    L_INFTY       0.03  1.000000   \n",
       "5              island                    L_INFTY       0.03  0.000000   \n",
       "6                 sex                    L_INFTY       0.03  0.000000   \n",
       "7             species                    L_INFTY       0.03  0.000000   \n",
       "\n",
       "   is_anomaly  \n",
       "0        True  \n",
       "1       False  \n",
       "2       False  \n",
       "3       False  \n",
       "4        True  \n",
       "5       False  \n",
       "6       False  \n",
       "7       False  "
      ]
     },
     "execution_count": 72,
     "metadata": {},
     "output_type": "execute_result"
    }
   ],
   "source": [
    "%%bigquery\n",
    "SELECT *\n",
    "FROM ML.VALIDATE_DATA_DRIFT(\n",
    "    (\n",
    "        SELECT *\n",
    "        FROM ML.TRANSFORM(\n",
    "            MODEL `statmike-mlops-349915.bqml_model_monitoring.classify_species_rf`,\n",
    "            (\n",
    "                SELECT *\n",
    "                FROM `statmike-mlops-349915.bqml_model_monitoring.serving`\n",
    "                WHERE DATE(instance_timestamp) = DATE_SUB(CURRENT_DATE(), INTERVAL 5 DAY)\n",
    "            )\n",
    "        )\n",
    "    ),\n",
    "    (\n",
    "        SELECT *\n",
    "        FROM ML.TRANSFORM(\n",
    "            MODEL `statmike-mlops-349915.bqml_model_monitoring.classify_species_rf`,\n",
    "            (\n",
    "                SELECT *\n",
    "                FROM `statmike-mlops-349915.bqml_model_monitoring.serving`\n",
    "                WHERE DATE(instance_timestamp) >= CURRENT_DATE()\n",
    "            )\n",
    "        )\n",
    "    ),\n",
    "    STRUCT(\n",
    "        0.03 AS categorical_default_threshold,\n",
    "        0.03 AS numerical_default_threshold\n",
    "    )\n",
    "    #, MODEL `statmike-mlops-349915.bqml_model_monitoring.classify_species_rf`\n",
    ")"
   ]
  },
  {
   "cell_type": "markdown",
   "metadata": {
    "tags": []
   },
   "source": [
    "---\n",
    "### Monitoring Feature Attributions\n",
    "\n",
    "BigQuery ML models, like the deep neural network classifier (`model_type = 'DNN_CLASSIFIER'`) used above, can also serve explanations using the BigQuery function [`ML.EXPLAIN_PREDICT`](https://cloud.google.com/bigquery/docs/reference/standard-sql/bigqueryml-syntax-explain-predict).  This function returns feature attributions for each feature used in the model to explain how much contribution was made to the final prediction for a given instance.\n",
    "\n",
    "**Feature Attributions**\n",
    "\n",
    "The feature attributions from `ML.EXPLAIN_PREDICT` are [local explanations](https://cloud.google.com/bigquery/docs/xai-overview#local_versus_global_explainability), specific to the instance being predicted.  The attribution values are given for each feature and they add up to the `prediction_value`. In this case the model is a classifier and the `prediction_value` is the logit value (log-odds) of the predicted class.  "
   ]
  },
  {
   "cell_type": "markdown",
   "metadata": {},
   "source": [
    "#### Serving Feature Attributions\n",
    "\n",
    "As an example, the following cell gets the feature attributions for a single penguin with for the latest values of the features:"
   ]
  },
  {
   "cell_type": "code",
   "execution_count": 73,
   "metadata": {
    "tags": []
   },
   "outputs": [
    {
     "data": {
      "application/vnd.jupyter.widget-view+json": {
       "model_id": "43fbe9210d6e468fa0abd87515991194",
       "version_major": 2,
       "version_minor": 0
      },
      "text/plain": [
       "Query is running:   0%|          |"
      ]
     },
     "metadata": {},
     "output_type": "display_data"
    },
    {
     "data": {
      "application/vnd.jupyter.widget-view+json": {
       "model_id": "ae43c300ce434f37b7dd36733cc2a76f",
       "version_major": 2,
       "version_minor": 0
      },
      "text/plain": [
       "Downloading:   0%|          |"
      ]
     },
     "metadata": {},
     "output_type": "display_data"
    },
    {
     "data": {
      "text/html": [
       "<div>\n",
       "<style scoped>\n",
       "    .dataframe tbody tr th:only-of-type {\n",
       "        vertical-align: middle;\n",
       "    }\n",
       "\n",
       "    .dataframe tbody tr th {\n",
       "        vertical-align: top;\n",
       "    }\n",
       "\n",
       "    .dataframe thead th {\n",
       "        text-align: right;\n",
       "    }\n",
       "</style>\n",
       "<table border=\"1\" class=\"dataframe\">\n",
       "  <thead>\n",
       "    <tr style=\"text-align: right;\">\n",
       "      <th></th>\n",
       "      <th>predicted_species</th>\n",
       "      <th>probability</th>\n",
       "      <th>baseline_prediction_value</th>\n",
       "      <th>prediction_value</th>\n",
       "      <th>approximation_error</th>\n",
       "      <th>feature</th>\n",
       "      <th>attribution</th>\n",
       "    </tr>\n",
       "  </thead>\n",
       "  <tbody>\n",
       "    <tr>\n",
       "      <th>0</th>\n",
       "      <td>Gentoo penguin (Pygoscelis papua)</td>\n",
       "      <td>0.813519</td>\n",
       "      <td>0.550766</td>\n",
       "      <td>1.949614</td>\n",
       "      <td>0.0</td>\n",
       "      <td>culmen_depth_mm</td>\n",
       "      <td>0.575787</td>\n",
       "    </tr>\n",
       "    <tr>\n",
       "      <th>1</th>\n",
       "      <td>Gentoo penguin (Pygoscelis papua)</td>\n",
       "      <td>0.813519</td>\n",
       "      <td>0.550766</td>\n",
       "      <td>1.949614</td>\n",
       "      <td>0.0</td>\n",
       "      <td>flipper_length_mm</td>\n",
       "      <td>0.539715</td>\n",
       "    </tr>\n",
       "    <tr>\n",
       "      <th>2</th>\n",
       "      <td>Gentoo penguin (Pygoscelis papua)</td>\n",
       "      <td>0.813519</td>\n",
       "      <td>0.550766</td>\n",
       "      <td>1.949614</td>\n",
       "      <td>0.0</td>\n",
       "      <td>body_mass_g</td>\n",
       "      <td>0.232519</td>\n",
       "    </tr>\n",
       "    <tr>\n",
       "      <th>3</th>\n",
       "      <td>Gentoo penguin (Pygoscelis papua)</td>\n",
       "      <td>0.813519</td>\n",
       "      <td>0.550766</td>\n",
       "      <td>1.949614</td>\n",
       "      <td>0.0</td>\n",
       "      <td>island</td>\n",
       "      <td>0.028777</td>\n",
       "    </tr>\n",
       "    <tr>\n",
       "      <th>4</th>\n",
       "      <td>Gentoo penguin (Pygoscelis papua)</td>\n",
       "      <td>0.813519</td>\n",
       "      <td>0.550766</td>\n",
       "      <td>1.949614</td>\n",
       "      <td>0.0</td>\n",
       "      <td>culmen_length_mm</td>\n",
       "      <td>0.012357</td>\n",
       "    </tr>\n",
       "    <tr>\n",
       "      <th>5</th>\n",
       "      <td>Gentoo penguin (Pygoscelis papua)</td>\n",
       "      <td>0.813519</td>\n",
       "      <td>0.550766</td>\n",
       "      <td>1.949614</td>\n",
       "      <td>0.0</td>\n",
       "      <td>sex</td>\n",
       "      <td>0.009692</td>\n",
       "    </tr>\n",
       "  </tbody>\n",
       "</table>\n",
       "</div>"
      ],
      "text/plain": [
       "                   predicted_species  probability  baseline_prediction_value  \\\n",
       "0  Gentoo penguin (Pygoscelis papua)     0.813519                   0.550766   \n",
       "1  Gentoo penguin (Pygoscelis papua)     0.813519                   0.550766   \n",
       "2  Gentoo penguin (Pygoscelis papua)     0.813519                   0.550766   \n",
       "3  Gentoo penguin (Pygoscelis papua)     0.813519                   0.550766   \n",
       "4  Gentoo penguin (Pygoscelis papua)     0.813519                   0.550766   \n",
       "5  Gentoo penguin (Pygoscelis papua)     0.813519                   0.550766   \n",
       "\n",
       "   prediction_value  approximation_error            feature  attribution  \n",
       "0          1.949614                  0.0    culmen_depth_mm     0.575787  \n",
       "1          1.949614                  0.0  flipper_length_mm     0.539715  \n",
       "2          1.949614                  0.0        body_mass_g     0.232519  \n",
       "3          1.949614                  0.0             island     0.028777  \n",
       "4          1.949614                  0.0   culmen_length_mm     0.012357  \n",
       "5          1.949614                  0.0                sex     0.009692  "
      ]
     },
     "execution_count": 73,
     "metadata": {},
     "output_type": "execute_result"
    }
   ],
   "source": [
    "%%bigquery\n",
    "WITH\n",
    "    EXPLAIN AS (\n",
    "        SELECT * EXCEPT(body_mass_g, sex, island, flipper_length_mm, culmen_depth_mm, culmen_length_mm)\n",
    "        FROM ML.EXPLAIN_PREDICT(\n",
    "            MODEL `statmike-mlops-349915.bqml_model_monitoring.classify_species_rf`,\n",
    "            (\n",
    "                SELECT * EXCEPT(instance_timestamp, species)\n",
    "                FROM `statmike-mlops-349915.bqml_model_monitoring.serving`\n",
    "                WHERE DATE(instance_timestamp) = CURRENT_DATE()\n",
    "                LIMIT 1\n",
    "            ), \n",
    "            STRUCT(10 AS top_k_features)\n",
    "        )\n",
    "    ),\n",
    "    ATTRIBUTIONS AS (\n",
    "        SELECT * EXCEPT(top_feature_attributions),\n",
    "        FROM EXPLAIN\n",
    "        JOIN UNNEST(top_feature_attributions)\n",
    "    )\n",
    "SELECT * \n",
    "FROM ATTRIBUTIONS"
   ]
  },
  {
   "cell_type": "markdown",
   "metadata": {},
   "source": [
    "#### Reviewing Feature Attributions\n",
    "\n",
    "Get attributions for all penguins:"
   ]
  },
  {
   "cell_type": "code",
   "execution_count": 74,
   "metadata": {
    "tags": []
   },
   "outputs": [
    {
     "data": {
      "application/vnd.jupyter.widget-view+json": {
       "model_id": "5015f9f3ac7547c8a3636f1a047ef8ae",
       "version_major": 2,
       "version_minor": 0
      },
      "text/plain": [
       "Query is running:   0%|          |"
      ]
     },
     "metadata": {},
     "output_type": "display_data"
    },
    {
     "data": {
      "application/vnd.jupyter.widget-view+json": {
       "model_id": "7cb35420a5604f79b0fdb2685e862d10",
       "version_major": 2,
       "version_minor": 0
      },
      "text/plain": [
       "Downloading:   0%|          |"
      ]
     },
     "metadata": {},
     "output_type": "display_data"
    }
   ],
   "source": [
    "%%bigquery explain\n",
    "WITH\n",
    "    EXPLAIN AS (\n",
    "        SELECT * EXCEPT(body_mass_g, sex, island, flipper_length_mm, culmen_depth_mm, culmen_length_mm)\n",
    "        FROM ML.EXPLAIN_PREDICT(\n",
    "            MODEL `statmike-mlops-349915.bqml_model_monitoring.classify_species_rf`,\n",
    "            (\n",
    "                SELECT * EXCEPT(instance_timestamp, species)\n",
    "                FROM `statmike-mlops-349915.bqml_model_monitoring.serving`\n",
    "                WHERE DATE(instance_timestamp) = CURRENT_DATE()\n",
    "            ), \n",
    "            STRUCT(10 AS top_k_features)\n",
    "        )\n",
    "    ),\n",
    "    ATTRIBUTIONS AS (\n",
    "        SELECT * EXCEPT(top_feature_attributions),\n",
    "        FROM EXPLAIN\n",
    "        JOIN UNNEST(top_feature_attributions)\n",
    "    ),\n",
    "    PIVOT_ATTRIBUTION AS (\n",
    "        SELECT body_mass_g, sex, island, flipper_length_mm, culmen_depth_mm, culmen_length_mm\n",
    "        FROM ATTRIBUTIONS PIVOT(MAX(attribution) FOR feature IN ('body_mass_g', 'sex', 'island', 'flipper_length_mm', 'culmen_depth_mm', 'culmen_length_mm'))\n",
    "    )\n",
    "SELECT *\n",
    "FROM PIVOT_ATTRIBUTION"
   ]
  },
  {
   "cell_type": "code",
   "execution_count": 75,
   "metadata": {
    "tags": []
   },
   "outputs": [
    {
     "data": {
      "text/html": [
       "<div>\n",
       "<style scoped>\n",
       "    .dataframe tbody tr th:only-of-type {\n",
       "        vertical-align: middle;\n",
       "    }\n",
       "\n",
       "    .dataframe tbody tr th {\n",
       "        vertical-align: top;\n",
       "    }\n",
       "\n",
       "    .dataframe thead th {\n",
       "        text-align: right;\n",
       "    }\n",
       "</style>\n",
       "<table border=\"1\" class=\"dataframe\">\n",
       "  <thead>\n",
       "    <tr style=\"text-align: right;\">\n",
       "      <th></th>\n",
       "      <th>body_mass_g</th>\n",
       "      <th>sex</th>\n",
       "      <th>island</th>\n",
       "      <th>flipper_length_mm</th>\n",
       "      <th>culmen_depth_mm</th>\n",
       "      <th>culmen_length_mm</th>\n",
       "    </tr>\n",
       "  </thead>\n",
       "  <tbody>\n",
       "    <tr>\n",
       "      <th>0</th>\n",
       "      <td>0.232519</td>\n",
       "      <td>0.009692</td>\n",
       "      <td>0.028777</td>\n",
       "      <td>0.539715</td>\n",
       "      <td>0.575787</td>\n",
       "      <td>0.012357</td>\n",
       "    </tr>\n",
       "    <tr>\n",
       "      <th>1</th>\n",
       "      <td>0.068469</td>\n",
       "      <td>0.009692</td>\n",
       "      <td>0.026669</td>\n",
       "      <td>0.534876</td>\n",
       "      <td>0.750988</td>\n",
       "      <td>0.008155</td>\n",
       "    </tr>\n",
       "    <tr>\n",
       "      <th>2</th>\n",
       "      <td>0.230967</td>\n",
       "      <td>0.009692</td>\n",
       "      <td>0.028777</td>\n",
       "      <td>0.538591</td>\n",
       "      <td>0.578406</td>\n",
       "      <td>0.012415</td>\n",
       "    </tr>\n",
       "    <tr>\n",
       "      <th>3</th>\n",
       "      <td>0.224714</td>\n",
       "      <td>-0.004471</td>\n",
       "      <td>0.027133</td>\n",
       "      <td>0.564485</td>\n",
       "      <td>0.575787</td>\n",
       "      <td>0.011199</td>\n",
       "    </tr>\n",
       "    <tr>\n",
       "      <th>4</th>\n",
       "      <td>0.224714</td>\n",
       "      <td>-0.004471</td>\n",
       "      <td>0.027133</td>\n",
       "      <td>0.564485</td>\n",
       "      <td>0.575787</td>\n",
       "      <td>0.011199</td>\n",
       "    </tr>\n",
       "  </tbody>\n",
       "</table>\n",
       "</div>"
      ],
      "text/plain": [
       "   body_mass_g       sex    island  flipper_length_mm  culmen_depth_mm  \\\n",
       "0     0.232519  0.009692  0.028777           0.539715         0.575787   \n",
       "1     0.068469  0.009692  0.026669           0.534876         0.750988   \n",
       "2     0.230967  0.009692  0.028777           0.538591         0.578406   \n",
       "3     0.224714 -0.004471  0.027133           0.564485         0.575787   \n",
       "4     0.224714 -0.004471  0.027133           0.564485         0.575787   \n",
       "\n",
       "   culmen_length_mm  \n",
       "0          0.012357  \n",
       "1          0.008155  \n",
       "2          0.012415  \n",
       "3          0.011199  \n",
       "4          0.011199  "
      ]
     },
     "execution_count": 75,
     "metadata": {},
     "output_type": "execute_result"
    }
   ],
   "source": [
    "explain.head()"
   ]
  },
  {
   "cell_type": "markdown",
   "metadata": {},
   "source": [
    "#### Monitor Feature Attributions For Drift with `ML.VALIDATE_DATA_DRIFT`\n",
    "\n",
    "Compare yesterday to 25 days ago:"
   ]
  },
  {
   "cell_type": "code",
   "execution_count": 76,
   "metadata": {
    "tags": []
   },
   "outputs": [
    {
     "data": {
      "application/vnd.jupyter.widget-view+json": {
       "model_id": "d2eec4e43528437ab76a55a3dd505768",
       "version_major": 2,
       "version_minor": 0
      },
      "text/plain": [
       "Query is running:   0%|          |"
      ]
     },
     "metadata": {},
     "output_type": "display_data"
    },
    {
     "data": {
      "application/vnd.jupyter.widget-view+json": {
       "model_id": "12493bd4dc1c4b75a7106ecffb822ded",
       "version_major": 2,
       "version_minor": 0
      },
      "text/plain": [
       "Downloading:   0%|          |"
      ]
     },
     "metadata": {},
     "output_type": "display_data"
    },
    {
     "data": {
      "text/html": [
       "<div>\n",
       "<style scoped>\n",
       "    .dataframe tbody tr th:only-of-type {\n",
       "        vertical-align: middle;\n",
       "    }\n",
       "\n",
       "    .dataframe tbody tr th {\n",
       "        vertical-align: top;\n",
       "    }\n",
       "\n",
       "    .dataframe thead th {\n",
       "        text-align: right;\n",
       "    }\n",
       "</style>\n",
       "<table border=\"1\" class=\"dataframe\">\n",
       "  <thead>\n",
       "    <tr style=\"text-align: right;\">\n",
       "      <th></th>\n",
       "      <th>input</th>\n",
       "      <th>metric</th>\n",
       "      <th>threshold</th>\n",
       "      <th>value</th>\n",
       "      <th>is_anomaly</th>\n",
       "    </tr>\n",
       "  </thead>\n",
       "  <tbody>\n",
       "    <tr>\n",
       "      <th>0</th>\n",
       "      <td>body_mass_g</td>\n",
       "      <td>JENSEN_SHANNON_DIVERGENCE</td>\n",
       "      <td>0.3</td>\n",
       "      <td>0.268127</td>\n",
       "      <td>False</td>\n",
       "    </tr>\n",
       "    <tr>\n",
       "      <th>1</th>\n",
       "      <td>culmen_depth_mm</td>\n",
       "      <td>JENSEN_SHANNON_DIVERGENCE</td>\n",
       "      <td>0.3</td>\n",
       "      <td>0.303297</td>\n",
       "      <td>True</td>\n",
       "    </tr>\n",
       "    <tr>\n",
       "      <th>2</th>\n",
       "      <td>culmen_length_mm</td>\n",
       "      <td>JENSEN_SHANNON_DIVERGENCE</td>\n",
       "      <td>0.3</td>\n",
       "      <td>0.374839</td>\n",
       "      <td>True</td>\n",
       "    </tr>\n",
       "    <tr>\n",
       "      <th>3</th>\n",
       "      <td>flipper_length_mm</td>\n",
       "      <td>JENSEN_SHANNON_DIVERGENCE</td>\n",
       "      <td>0.3</td>\n",
       "      <td>0.541789</td>\n",
       "      <td>True</td>\n",
       "    </tr>\n",
       "    <tr>\n",
       "      <th>4</th>\n",
       "      <td>island</td>\n",
       "      <td>JENSEN_SHANNON_DIVERGENCE</td>\n",
       "      <td>0.3</td>\n",
       "      <td>0.375135</td>\n",
       "      <td>True</td>\n",
       "    </tr>\n",
       "    <tr>\n",
       "      <th>5</th>\n",
       "      <td>sex</td>\n",
       "      <td>JENSEN_SHANNON_DIVERGENCE</td>\n",
       "      <td>0.3</td>\n",
       "      <td>0.305167</td>\n",
       "      <td>True</td>\n",
       "    </tr>\n",
       "  </tbody>\n",
       "</table>\n",
       "</div>"
      ],
      "text/plain": [
       "               input                     metric  threshold     value  \\\n",
       "0        body_mass_g  JENSEN_SHANNON_DIVERGENCE        0.3  0.268127   \n",
       "1    culmen_depth_mm  JENSEN_SHANNON_DIVERGENCE        0.3  0.303297   \n",
       "2   culmen_length_mm  JENSEN_SHANNON_DIVERGENCE        0.3  0.374839   \n",
       "3  flipper_length_mm  JENSEN_SHANNON_DIVERGENCE        0.3  0.541789   \n",
       "4             island  JENSEN_SHANNON_DIVERGENCE        0.3  0.375135   \n",
       "5                sex  JENSEN_SHANNON_DIVERGENCE        0.3  0.305167   \n",
       "\n",
       "   is_anomaly  \n",
       "0       False  \n",
       "1        True  \n",
       "2        True  \n",
       "3        True  \n",
       "4        True  \n",
       "5        True  "
      ]
     },
     "execution_count": 76,
     "metadata": {},
     "output_type": "execute_result"
    }
   ],
   "source": [
    "%%bigquery\n",
    "WITH\n",
    "    EXPLAIN_BASE AS (\n",
    "        SELECT * EXCEPT(body_mass_g, sex, island, flipper_length_mm, culmen_depth_mm, culmen_length_mm)\n",
    "        FROM ML.EXPLAIN_PREDICT(\n",
    "            MODEL `statmike-mlops-349915.bqml_model_monitoring.classify_species_rf`,\n",
    "            (\n",
    "                SELECT * EXCEPT(instance_timestamp, species)\n",
    "                FROM `statmike-mlops-349915.bqml_model_monitoring.serving`\n",
    "                WHERE DATE(instance_timestamp) = DATE_SUB(CURRENT_DATE(), INTERVAL 25 DAY)\n",
    "            ), \n",
    "            STRUCT(10 AS top_k_features)\n",
    "        )\n",
    "    ),\n",
    "    ATTRIBUTIONS_BASE AS (\n",
    "        SELECT * EXCEPT(top_feature_attributions),\n",
    "        FROM EXPLAIN_BASE\n",
    "        JOIN UNNEST(top_feature_attributions)\n",
    "    ),\n",
    "    PIVOT_ATTRIBUTION_BASE AS (\n",
    "        SELECT body_mass_g, sex, island, flipper_length_mm, culmen_depth_mm, culmen_length_mm\n",
    "        FROM ATTRIBUTIONS_BASE PIVOT(MAX(attribution) FOR feature IN ('body_mass_g', 'sex', 'island', 'flipper_length_mm', 'culmen_depth_mm', 'culmen_length_mm'))\n",
    "    ),\n",
    "    EXPLAIN_COMP AS (\n",
    "        SELECT * EXCEPT(body_mass_g, sex, island, flipper_length_mm, culmen_depth_mm, culmen_length_mm)\n",
    "        FROM ML.EXPLAIN_PREDICT(\n",
    "            MODEL `statmike-mlops-349915.bqml_model_monitoring.classify_species_rf`,\n",
    "            (\n",
    "                SELECT * EXCEPT(instance_timestamp, species)\n",
    "                FROM `statmike-mlops-349915.bqml_model_monitoring.serving`\n",
    "                WHERE DATE(instance_timestamp) = DATE_SUB(CURRENT_DATE(), INTERVAL 1 DAY)\n",
    "            ), \n",
    "            STRUCT(10 AS top_k_features)\n",
    "        )\n",
    "    ),\n",
    "    ATTRIBUTIONS_COMP AS (\n",
    "        SELECT * EXCEPT(top_feature_attributions),\n",
    "        FROM EXPLAIN_COMP\n",
    "        JOIN UNNEST(top_feature_attributions)\n",
    "    ),\n",
    "    PIVOT_ATTRIBUTION_COMP AS (\n",
    "        SELECT body_mass_g, sex, island, flipper_length_mm, culmen_depth_mm, culmen_length_mm\n",
    "        FROM ATTRIBUTIONS_COMP PIVOT(MAX(attribution) FOR feature IN ('body_mass_g', 'sex', 'island', 'flipper_length_mm', 'culmen_depth_mm', 'culmen_length_mm'))\n",
    "    )\n",
    "SELECT *\n",
    "FROM ML.VALIDATE_DATA_DRIFT(\n",
    "    TABLE PIVOT_ATTRIBUTION_BASE,\n",
    "    TABLE PIVOT_ATTRIBUTION_COMP\n",
    "    #, MODEL `statmike-mlops-349915.bqml_model_monitoring.classify_species_rf`\n",
    ");"
   ]
  },
  {
   "cell_type": "markdown",
   "metadata": {},
   "source": [
    "---\n",
    "## Model Monitoring For Online Inference With Vertex AI\n",
    "\n",
    "The model trained above was trained using BigQuery ML's [`CREATE MODEL` statement](https://cloud.google.com/bigquery/docs/reference/standard-sql/bigqueryml-syntax-create) along with the training option `MODEL_REGISTRY = \"vertex_ai\"` which automatically registers the model in the [Vertex AI Model Registry](https://cloud.google.com/vertex-ai/docs/model-registry/introduction).  This means the BigQuery ML models can be managed directly in Vertex AI - [more information](https://cloud.google.com/bigquery/docs/managing-models-vertex).\n",
    "\n",
    "Models in the Vertex AI Model Registry can be used to [serve batch or online predictions](https://cloud.google.com/vertex-ai/docs/predictions/get-predictions).  In this section the [Vertex AI Python SDK](https://cloud.google.com/vertex-ai/docs/start/use-vertex-ai-python-sdk) is used to [deploy the model](https://cloud.google.com/vertex-ai/docs/general/deployment) created in this workflow and [get online predictions](https://cloud.google.com/vertex-ai/docs/predictions/get-online-predictions).\n",
    "\n",
    "The deployment of the model will include an extra setting to [setup logging of prediction request and responses to BigQuery](https://cloud.google.com/vertex-ai/docs/predictions/online-prediction-logging#enabling-and-disabling).  By logging the request and responses to BigQuery we can easily use the model monitoring functions covered in this tutorial."
   ]
  },
  {
   "cell_type": "markdown",
   "metadata": {},
   "source": [
    "### Setup Client"
   ]
  },
  {
   "cell_type": "code",
   "execution_count": 77,
   "metadata": {
    "tags": []
   },
   "outputs": [],
   "source": [
    "from google.cloud import aiplatform\n",
    "aiplatform.init(project = 'statmike-mlops-349915', location = 'us-central1')"
   ]
  },
  {
   "cell_type": "markdown",
   "metadata": {},
   "source": [
    "### Get Model From Vertex AI Model Registry"
   ]
  },
  {
   "cell_type": "code",
   "execution_count": 78,
   "metadata": {
    "tags": []
   },
   "outputs": [
    {
     "data": {
      "text/plain": [
       "'projects/1026793852137/locations/us-central1/models/classify_species_rf@63'"
      ]
     },
     "execution_count": 78,
     "metadata": {},
     "output_type": "execute_result"
    }
   ],
   "source": [
    "model = aiplatform.Model(model_name = 'classify_species_rf')\n",
    "model.versioned_resource_name"
   ]
  },
  {
   "cell_type": "markdown",
   "metadata": {},
   "source": [
    "### Deploy Model To Endpoint"
   ]
  },
  {
   "cell_type": "code",
   "execution_count": 79,
   "metadata": {
    "tags": []
   },
   "outputs": [
    {
     "name": "stdout",
     "output_type": "stream",
     "text": [
      "Creating Endpoint\n",
      "Create Endpoint backing LRO: projects/1026793852137/locations/us-central1/endpoints/5319952926133714944/operations/8706579684646715392\n",
      "Endpoint created. Resource name: projects/1026793852137/locations/us-central1/endpoints/5319952926133714944\n",
      "To use this Endpoint in another session:\n",
      "endpoint = aiplatform.Endpoint('projects/1026793852137/locations/us-central1/endpoints/5319952926133714944')\n",
      "Deploying model to Endpoint : projects/1026793852137/locations/us-central1/endpoints/5319952926133714944\n",
      "Using default machine_type: n1-standard-2\n",
      "Deploy Endpoint model backing LRO: projects/1026793852137/locations/us-central1/endpoints/5319952926133714944/operations/8346291714457075712\n",
      "Endpoint model deployed. Resource name: projects/1026793852137/locations/us-central1/endpoints/5319952926133714944\n"
     ]
    }
   ],
   "source": [
    "endpoint = model.deploy()"
   ]
  },
  {
   "cell_type": "code",
   "execution_count": 80,
   "metadata": {
    "tags": []
   },
   "outputs": [
    {
     "data": {
      "text/plain": [
       "'projects/1026793852137/locations/us-central1/endpoints/5319952926133714944'"
      ]
     },
     "execution_count": 80,
     "metadata": {},
     "output_type": "execute_result"
    }
   ],
   "source": [
    "endpoint.resource_name"
   ]
  },
  {
   "cell_type": "markdown",
   "metadata": {},
   "source": [
    "### Get Data For Predictions\n",
    "\n",
    "Get a sample of data from the serving table to use as online prediction requests."
   ]
  },
  {
   "cell_type": "code",
   "execution_count": 81,
   "metadata": {
    "tags": []
   },
   "outputs": [
    {
     "data": {
      "application/vnd.jupyter.widget-view+json": {
       "model_id": "2a7df3229c514ef4a748756ffc804317",
       "version_major": 2,
       "version_minor": 0
      },
      "text/plain": [
       "Query is running:   0%|          |"
      ]
     },
     "metadata": {},
     "output_type": "display_data"
    },
    {
     "data": {
      "application/vnd.jupyter.widget-view+json": {
       "model_id": "4b836f14d9c14f3788f349c9d309d71f",
       "version_major": 2,
       "version_minor": 0
      },
      "text/plain": [
       "Downloading:   0%|          |"
      ]
     },
     "metadata": {},
     "output_type": "display_data"
    }
   ],
   "source": [
    "%%bigquery online\n",
    "SELECT * EXCEPT(species, instance_timestamp)\n",
    "FROM statmike-mlops-349915.bqml_model_monitoring.serving\n",
    "WHERE RAND() < 0.1"
   ]
  },
  {
   "cell_type": "code",
   "execution_count": 82,
   "metadata": {
    "tags": []
   },
   "outputs": [
    {
     "data": {
      "text/plain": [
       "{'island': 'Biscoe',\n",
       " 'culmen_length_mm': 44.9,\n",
       " 'culmen_depth_mm': 13.3,\n",
       " 'sex': 'FEMALE',\n",
       " 'flipper_length_mm': 218.02685785145871,\n",
       " 'body_mass_g': 5176.888182285546}"
      ]
     },
     "execution_count": 82,
     "metadata": {},
     "output_type": "execute_result"
    }
   ],
   "source": [
    "import numpy as np\n",
    "online = online.dropna()\n",
    "online['sex'].replace(np.nan, '', inplace=True)\n",
    "online = online.to_dict(orient = 'records')\n",
    "online[0]"
   ]
  },
  {
   "cell_type": "markdown",
   "metadata": {
    "tags": []
   },
   "source": [
    "### Get Predictions"
   ]
  },
  {
   "cell_type": "code",
   "execution_count": 83,
   "metadata": {
    "tags": []
   },
   "outputs": [
    {
     "data": {
      "text/plain": [
       "Prediction(predictions=[{'species_values': ['Gentoo penguin (Pygoscelis papua)', 'Chinstrap penguin (Pygoscelis antarctica)', 'Adelie Penguin (Pygoscelis adeliae)'], 'predicted_species': 'Gentoo penguin (Pygoscelis papua)', 'species_probs': [0.8135186433792114, 0.09340284019708633, 0.09307850152254105]}], deployed_model_id='4696441872254500864', metadata=None, model_version_id='63', model_resource_name='projects/1026793852137/locations/us-central1/models/classify_species_rf', explanations=None)"
      ]
     },
     "execution_count": 83,
     "metadata": {},
     "output_type": "execute_result"
    }
   ],
   "source": [
    "endpoint.predict(instances = online[0:1])"
   ]
  },
  {
   "cell_type": "markdown",
   "metadata": {},
   "source": [
    "### Enable Prediction request-response logging To BigQuery\n",
    "\n",
    "The endpoint can be enabled for logging both the request and response for predictions.  These logs are directed to a BigQuery table.  This is enable throught the `gcloud ai endpoints update` command - [reference](https://cloud.google.com/sdk/gcloud/reference/ai/endpoints/update)."
   ]
  },
  {
   "cell_type": "code",
   "execution_count": 84,
   "metadata": {
    "tags": []
   },
   "outputs": [
    {
     "data": {
      "text/plain": [
       "'5319952926133714944'"
      ]
     },
     "execution_count": 84,
     "metadata": {},
     "output_type": "execute_result"
    }
   ],
   "source": [
    "endpoint.name"
   ]
  },
  {
   "cell_type": "code",
   "execution_count": 85,
   "metadata": {
    "tags": []
   },
   "outputs": [
    {
     "name": "stdout",
     "output_type": "stream",
     "text": [
      "Using endpoint [https://us-central1-aiplatform.googleapis.com/]\n",
      "Updated Vertex AI endpoint [projects/1026793852137/locations/us-central1/endpoints/5319952926133714944].\n"
     ]
    }
   ],
   "source": [
    "!gcloud ai endpoints update $endpoint.name \\\n",
    "--region=us-central1 \\\n",
    "--request-response-logging-table=bq://statmike-mlops-349915.bqml_model_monitoring.serving_online"
   ]
  },
  {
   "cell_type": "markdown",
   "metadata": {},
   "source": [
    "### Send Prediction Requests To Endpoint\n",
    "\n",
    "These will get logged to the BigQuery table specified above."
   ]
  },
  {
   "cell_type": "code",
   "execution_count": 86,
   "metadata": {
    "tags": []
   },
   "outputs": [],
   "source": [
    "for instance in online:\n",
    "    prediction = endpoint.predict(instances = [instance])"
   ]
  },
  {
   "cell_type": "code",
   "execution_count": 87,
   "metadata": {
    "tags": []
   },
   "outputs": [
    {
     "data": {
      "application/vnd.jupyter.widget-view+json": {
       "model_id": "bf1c8802352f43debb19026de654a034",
       "version_major": 2,
       "version_minor": 0
      },
      "text/plain": [
       "Query is running:   0%|          |"
      ]
     },
     "metadata": {},
     "output_type": "display_data"
    },
    {
     "data": {
      "application/vnd.jupyter.widget-view+json": {
       "model_id": "90239b0b75694ffba8dae7498ded505f",
       "version_major": 2,
       "version_minor": 0
      },
      "text/plain": [
       "Downloading:   0%|          |"
      ]
     },
     "metadata": {},
     "output_type": "display_data"
    },
    {
     "data": {
      "text/html": [
       "<div>\n",
       "<style scoped>\n",
       "    .dataframe tbody tr th:only-of-type {\n",
       "        vertical-align: middle;\n",
       "    }\n",
       "\n",
       "    .dataframe tbody tr th {\n",
       "        vertical-align: top;\n",
       "    }\n",
       "\n",
       "    .dataframe thead th {\n",
       "        text-align: right;\n",
       "    }\n",
       "</style>\n",
       "<table border=\"1\" class=\"dataframe\">\n",
       "  <thead>\n",
       "    <tr style=\"text-align: right;\">\n",
       "      <th></th>\n",
       "      <th>endpoint</th>\n",
       "      <th>deployed_model_id</th>\n",
       "      <th>logging_time</th>\n",
       "      <th>request_id</th>\n",
       "      <th>request_payload</th>\n",
       "      <th>response_payload</th>\n",
       "    </tr>\n",
       "  </thead>\n",
       "  <tbody>\n",
       "    <tr>\n",
       "      <th>0</th>\n",
       "      <td>projects/1026793852137/locations/us-central1/endpoints/8376174138397556736</td>\n",
       "      <td>679865422849245184</td>\n",
       "      <td>2024-04-18 12:18:11.485985+00:00</td>\n",
       "      <td>6467905174125477417.000000000</td>\n",
       "      <td>[{\"sex\":\"FEMALE\",\"flipper_length_mm\":252.61741067441787,\"body_mass_g\":5327.8972889361776,\"culmen_length_mm\":45.8,\"culmen_depth_mm\":14.2,\"island\":\"Biscoe\"}]</td>\n",
       "      <td>[{\"predicted_species\":\"Gentoo penguin (Pygoscelis papua)\",\"species_probs\":[0.81451046466827393,0.092201024293899536,0.093288503587245941],\"species_values\":[\"Gentoo penguin (Pygoscelis papua)\",\"Chinstrap penguin (Pygoscelis antarctica)\",\"Adelie Penguin (Pygoscelis adeliae)\"]}]</td>\n",
       "    </tr>\n",
       "    <tr>\n",
       "      <th>1</th>\n",
       "      <td>projects/1026793852137/locations/us-central1/endpoints/8376174138397556736</td>\n",
       "      <td>679865422849245184</td>\n",
       "      <td>2024-04-18 12:18:11.866995+00:00</td>\n",
       "      <td>1325655541157377859.000000000</td>\n",
       "      <td>[{\"culmen_depth_mm\":17.6,\"culmen_length_mm\":38.8,\"sex\":\"FEMALE\",\"island\":\"Torgersen\",\"flipper_length_mm\":205.03573074987068,\"body_mass_g\":3903.6941181164034}]</td>\n",
       "      <td>[{\"species_values\":[\"Gentoo penguin (Pygoscelis papua)\",\"Chinstrap penguin (Pygoscelis antarctica)\",\"Adelie Penguin (Pygoscelis adeliae)\"],\"predicted_species\":\"Adelie Penguin (Pygoscelis adeliae)\",\"species_probs\":[0.0941707044839859,0.09555942565202713,0.810269832611084]}]</td>\n",
       "    </tr>\n",
       "    <tr>\n",
       "      <th>2</th>\n",
       "      <td>projects/1026793852137/locations/us-central1/endpoints/8376174138397556736</td>\n",
       "      <td>679865422849245184</td>\n",
       "      <td>2024-04-18 12:18:11.950833+00:00</td>\n",
       "      <td>9188276010847305140.000000000</td>\n",
       "      <td>[{\"flipper_length_mm\":237.79425809410549,\"sex\":\"MALE\",\"island\":\"Biscoe\",\"culmen_length_mm\":49.6,\"culmen_depth_mm\":16,\"body_mass_g\":5820.0824065524284}]</td>\n",
       "      <td>[{\"species_values\":[\"Gentoo penguin (Pygoscelis papua)\",\"Chinstrap penguin (Pygoscelis antarctica)\",\"Adelie Penguin (Pygoscelis adeliae)\"],\"species_probs\":[0.8149685263633728,0.092498116195201874,0.092533379793167114],\"predicted_species\":\"Gentoo penguin (Pygoscelis papua)\"}]</td>\n",
       "    </tr>\n",
       "    <tr>\n",
       "      <th>3</th>\n",
       "      <td>projects/1026793852137/locations/us-central1/endpoints/8376174138397556736</td>\n",
       "      <td>679865422849245184</td>\n",
       "      <td>2024-04-18 12:18:12.014637+00:00</td>\n",
       "      <td>2274103248372210525.000000000</td>\n",
       "      <td>[{\"culmen_length_mm\":49.2,\"body_mass_g\":4534.9071161745578,\"sex\":\"MALE\",\"island\":\"Dream\",\"culmen_depth_mm\":18.2,\"flipper_length_mm\":206.69362272744124}]</td>\n",
       "      <td>[{\"species_probs\":[0.189538300037384,0.57480233907699585,0.23565936088562009],\"species_values\":[\"Gentoo penguin (Pygoscelis papua)\",\"Chinstrap penguin (Pygoscelis antarctica)\",\"Adelie Penguin (Pygoscelis adeliae)\"],\"predicted_species\":\"Chinstrap penguin (Pygoscelis antarctica)\"}]</td>\n",
       "    </tr>\n",
       "    <tr>\n",
       "      <th>4</th>\n",
       "      <td>projects/1026793852137/locations/us-central1/endpoints/8376174138397556736</td>\n",
       "      <td>679865422849245184</td>\n",
       "      <td>2024-04-18 12:18:12.115297+00:00</td>\n",
       "      <td>2554588133510864541.000000000</td>\n",
       "      <td>[{\"culmen_length_mm\":49.2,\"culmen_depth_mm\":15.2,\"sex\":\"MALE\",\"island\":\"Biscoe\",\"flipper_length_mm\":274.971420115928,\"body_mass_g\":7399.0534421212715}]</td>\n",
       "      <td>[{\"species_values\":[\"Gentoo penguin (Pygoscelis papua)\",\"Chinstrap penguin (Pygoscelis antarctica)\",\"Adelie Penguin (Pygoscelis adeliae)\"],\"predicted_species\":\"Gentoo penguin (Pygoscelis papua)\",\"species_probs\":[0.81516844034194946,0.092275507748126984,0.092556074261665344]}]</td>\n",
       "    </tr>\n",
       "  </tbody>\n",
       "</table>\n",
       "</div>"
      ],
      "text/plain": [
       "                                                                     endpoint  \\\n",
       "0  projects/1026793852137/locations/us-central1/endpoints/8376174138397556736   \n",
       "1  projects/1026793852137/locations/us-central1/endpoints/8376174138397556736   \n",
       "2  projects/1026793852137/locations/us-central1/endpoints/8376174138397556736   \n",
       "3  projects/1026793852137/locations/us-central1/endpoints/8376174138397556736   \n",
       "4  projects/1026793852137/locations/us-central1/endpoints/8376174138397556736   \n",
       "\n",
       "    deployed_model_id                     logging_time  \\\n",
       "0  679865422849245184 2024-04-18 12:18:11.485985+00:00   \n",
       "1  679865422849245184 2024-04-18 12:18:11.866995+00:00   \n",
       "2  679865422849245184 2024-04-18 12:18:11.950833+00:00   \n",
       "3  679865422849245184 2024-04-18 12:18:12.014637+00:00   \n",
       "4  679865422849245184 2024-04-18 12:18:12.115297+00:00   \n",
       "\n",
       "                      request_id  \\\n",
       "0  6467905174125477417.000000000   \n",
       "1  1325655541157377859.000000000   \n",
       "2  9188276010847305140.000000000   \n",
       "3  2274103248372210525.000000000   \n",
       "4  2554588133510864541.000000000   \n",
       "\n",
       "                                                                                                                                                  request_payload  \\\n",
       "0     [{\"sex\":\"FEMALE\",\"flipper_length_mm\":252.61741067441787,\"body_mass_g\":5327.8972889361776,\"culmen_length_mm\":45.8,\"culmen_depth_mm\":14.2,\"island\":\"Biscoe\"}]   \n",
       "1  [{\"culmen_depth_mm\":17.6,\"culmen_length_mm\":38.8,\"sex\":\"FEMALE\",\"island\":\"Torgersen\",\"flipper_length_mm\":205.03573074987068,\"body_mass_g\":3903.6941181164034}]   \n",
       "2         [{\"flipper_length_mm\":237.79425809410549,\"sex\":\"MALE\",\"island\":\"Biscoe\",\"culmen_length_mm\":49.6,\"culmen_depth_mm\":16,\"body_mass_g\":5820.0824065524284}]   \n",
       "3        [{\"culmen_length_mm\":49.2,\"body_mass_g\":4534.9071161745578,\"sex\":\"MALE\",\"island\":\"Dream\",\"culmen_depth_mm\":18.2,\"flipper_length_mm\":206.69362272744124}]   \n",
       "4         [{\"culmen_length_mm\":49.2,\"culmen_depth_mm\":15.2,\"sex\":\"MALE\",\"island\":\"Biscoe\",\"flipper_length_mm\":274.971420115928,\"body_mass_g\":7399.0534421212715}]   \n",
       "\n",
       "                                                                                                                                                                                                                                                                           response_payload  \n",
       "0      [{\"predicted_species\":\"Gentoo penguin (Pygoscelis papua)\",\"species_probs\":[0.81451046466827393,0.092201024293899536,0.093288503587245941],\"species_values\":[\"Gentoo penguin (Pygoscelis papua)\",\"Chinstrap penguin (Pygoscelis antarctica)\",\"Adelie Penguin (Pygoscelis adeliae)\"]}]  \n",
       "1         [{\"species_values\":[\"Gentoo penguin (Pygoscelis papua)\",\"Chinstrap penguin (Pygoscelis antarctica)\",\"Adelie Penguin (Pygoscelis adeliae)\"],\"predicted_species\":\"Adelie Penguin (Pygoscelis adeliae)\",\"species_probs\":[0.0941707044839859,0.09555942565202713,0.810269832611084]}]  \n",
       "2       [{\"species_values\":[\"Gentoo penguin (Pygoscelis papua)\",\"Chinstrap penguin (Pygoscelis antarctica)\",\"Adelie Penguin (Pygoscelis adeliae)\"],\"species_probs\":[0.8149685263633728,0.092498116195201874,0.092533379793167114],\"predicted_species\":\"Gentoo penguin (Pygoscelis papua)\"}]  \n",
       "3  [{\"species_probs\":[0.189538300037384,0.57480233907699585,0.23565936088562009],\"species_values\":[\"Gentoo penguin (Pygoscelis papua)\",\"Chinstrap penguin (Pygoscelis antarctica)\",\"Adelie Penguin (Pygoscelis adeliae)\"],\"predicted_species\":\"Chinstrap penguin (Pygoscelis antarctica)\"}]  \n",
       "4      [{\"species_values\":[\"Gentoo penguin (Pygoscelis papua)\",\"Chinstrap penguin (Pygoscelis antarctica)\",\"Adelie Penguin (Pygoscelis adeliae)\"],\"predicted_species\":\"Gentoo penguin (Pygoscelis papua)\",\"species_probs\":[0.81516844034194946,0.092275507748126984,0.092556074261665344]}]  "
      ]
     },
     "execution_count": 87,
     "metadata": {},
     "output_type": "execute_result"
    }
   ],
   "source": [
    "%%bigquery\n",
    "SELECT *\n",
    "FROM `statmike-mlops-349915.bqml_model_monitoring.serving_online`\n",
    "LIMIT 5"
   ]
  },
  {
   "cell_type": "markdown",
   "metadata": {},
   "source": [
    "### Create A View Of All Serving Data\n",
    "\n",
    "Combine the batch serving data with the online serving data in a view."
   ]
  },
  {
   "cell_type": "code",
   "execution_count": 88,
   "metadata": {
    "tags": []
   },
   "outputs": [
    {
     "data": {
      "application/vnd.jupyter.widget-view+json": {
       "model_id": "2d6e7ddbed2441fc9ef4f75b456b84d2",
       "version_major": 2,
       "version_minor": 0
      },
      "text/plain": [
       "Query is running:   0%|          |"
      ]
     },
     "metadata": {},
     "output_type": "display_data"
    },
    {
     "data": {
      "application/vnd.jupyter.widget-view+json": {
       "model_id": "62ef1d3616e24534b25ebaf4ef41838e",
       "version_major": 2,
       "version_minor": 0
      },
      "text/plain": [
       "Downloading:   0%|          |"
      ]
     },
     "metadata": {},
     "output_type": "display_data"
    },
    {
     "data": {
      "text/html": [
       "<div>\n",
       "<style scoped>\n",
       "    .dataframe tbody tr th:only-of-type {\n",
       "        vertical-align: middle;\n",
       "    }\n",
       "\n",
       "    .dataframe tbody tr th {\n",
       "        vertical-align: top;\n",
       "    }\n",
       "\n",
       "    .dataframe thead th {\n",
       "        text-align: right;\n",
       "    }\n",
       "</style>\n",
       "<table border=\"1\" class=\"dataframe\">\n",
       "  <thead>\n",
       "    <tr style=\"text-align: right;\">\n",
       "      <th></th>\n",
       "      <th>instance_timestamp</th>\n",
       "      <th>island</th>\n",
       "      <th>sex</th>\n",
       "      <th>flipper_length_mm</th>\n",
       "      <th>body_mass_g</th>\n",
       "      <th>culmen_length_mm</th>\n",
       "      <th>culmen_depth_mm</th>\n",
       "    </tr>\n",
       "  </thead>\n",
       "  <tbody>\n",
       "    <tr>\n",
       "      <th>0</th>\n",
       "      <td>2024-04-15 15:19:39.513116+00:00</td>\n",
       "      <td>Biscoe</td>\n",
       "      <td>FEMALE</td>\n",
       "      <td>231.834239</td>\n",
       "      <td>5356.272975</td>\n",
       "      <td>46.6</td>\n",
       "      <td>14.2</td>\n",
       "    </tr>\n",
       "    <tr>\n",
       "      <th>1</th>\n",
       "      <td>2024-04-15 15:19:39.749839+00:00</td>\n",
       "      <td>Dream</td>\n",
       "      <td>MALE</td>\n",
       "      <td>231.062765</td>\n",
       "      <td>4261.797542</td>\n",
       "      <td>49.5</td>\n",
       "      <td>19.0</td>\n",
       "    </tr>\n",
       "    <tr>\n",
       "      <th>2</th>\n",
       "      <td>2024-04-15 15:19:40.253447+00:00</td>\n",
       "      <td>Torgersen</td>\n",
       "      <td>FEMALE</td>\n",
       "      <td>181.267187</td>\n",
       "      <td>3916.623754</td>\n",
       "      <td>40.2</td>\n",
       "      <td>17.0</td>\n",
       "    </tr>\n",
       "    <tr>\n",
       "      <th>3</th>\n",
       "      <td>2024-04-15 15:19:40.302793+00:00</td>\n",
       "      <td>Dream</td>\n",
       "      <td>FEMALE</td>\n",
       "      <td>208.581623</td>\n",
       "      <td>4098.297323</td>\n",
       "      <td>49.8</td>\n",
       "      <td>17.3</td>\n",
       "    </tr>\n",
       "    <tr>\n",
       "      <th>4</th>\n",
       "      <td>2024-04-15 15:19:40.496291+00:00</td>\n",
       "      <td>Biscoe</td>\n",
       "      <td>MALE</td>\n",
       "      <td>240.949923</td>\n",
       "      <td>5686.898903</td>\n",
       "      <td>48.2</td>\n",
       "      <td>15.6</td>\n",
       "    </tr>\n",
       "  </tbody>\n",
       "</table>\n",
       "</div>"
      ],
      "text/plain": [
       "                instance_timestamp     island     sex  flipper_length_mm  \\\n",
       "0 2024-04-15 15:19:39.513116+00:00     Biscoe  FEMALE         231.834239   \n",
       "1 2024-04-15 15:19:39.749839+00:00      Dream    MALE         231.062765   \n",
       "2 2024-04-15 15:19:40.253447+00:00  Torgersen  FEMALE         181.267187   \n",
       "3 2024-04-15 15:19:40.302793+00:00      Dream  FEMALE         208.581623   \n",
       "4 2024-04-15 15:19:40.496291+00:00     Biscoe    MALE         240.949923   \n",
       "\n",
       "   body_mass_g  culmen_length_mm  culmen_depth_mm  \n",
       "0  5356.272975              46.6             14.2  \n",
       "1  4261.797542              49.5             19.0  \n",
       "2  3916.623754              40.2             17.0  \n",
       "3  4098.297323              49.8             17.3  \n",
       "4  5686.898903              48.2             15.6  "
      ]
     },
     "execution_count": 88,
     "metadata": {},
     "output_type": "execute_result"
    }
   ],
   "source": [
    "%%bigquery\n",
    "SELECT\n",
    "    logging_time as instance_timestamp,\n",
    "    JSON_VALUE(request, \"$.island\") as island,\n",
    "    JSON_VALUE(request, \"$.sex\") as sex,\n",
    "    CAST(JSON_VALUE(request, \"$.flipper_length_mm\") AS FLOAT64) as flipper_length_mm,\n",
    "    CAST(JSON_VALUE(request, \"$.body_mass_g\") AS FLOAT64) as body_mass_g,\n",
    "    CAST(JSON_VALUE(request, \"$.culmen_length_mm\") AS FLOAT64) as culmen_length_mm,\n",
    "    CAST(JSON_VALUE(request, \"$.culmen_depth_mm\") AS FLOAT64) as culmen_depth_mm\n",
    "FROM `statmike-mlops-349915.bqml_model_monitoring.serving_online`,\n",
    "UNNEST(request_payload) as request\n",
    "LIMIT 5"
   ]
  },
  {
   "cell_type": "code",
   "execution_count": 89,
   "metadata": {
    "tags": []
   },
   "outputs": [
    {
     "data": {
      "application/vnd.jupyter.widget-view+json": {
       "model_id": "cf570093d0f647949e35c36e811fe136",
       "version_major": 2,
       "version_minor": 0
      },
      "text/plain": [
       "Query is running:   0%|          |"
      ]
     },
     "metadata": {},
     "output_type": "display_data"
    },
    {
     "data": {
      "text/html": [
       "<div>\n",
       "<style scoped>\n",
       "    .dataframe tbody tr th:only-of-type {\n",
       "        vertical-align: middle;\n",
       "    }\n",
       "\n",
       "    .dataframe tbody tr th {\n",
       "        vertical-align: top;\n",
       "    }\n",
       "\n",
       "    .dataframe thead th {\n",
       "        text-align: right;\n",
       "    }\n",
       "</style>\n",
       "<table border=\"1\" class=\"dataframe\">\n",
       "  <thead>\n",
       "    <tr style=\"text-align: right;\">\n",
       "      <th></th>\n",
       "    </tr>\n",
       "  </thead>\n",
       "  <tbody>\n",
       "  </tbody>\n",
       "</table>\n",
       "</div>"
      ],
      "text/plain": [
       "Empty DataFrame\n",
       "Columns: []\n",
       "Index: []"
      ]
     },
     "execution_count": 89,
     "metadata": {},
     "output_type": "execute_result"
    }
   ],
   "source": [
    "%%bigquery\n",
    "CREATE OR REPLACE VIEW `statmike-mlops-349915.bqml_model_monitoring.serving_all` AS\n",
    "WITH\n",
    "    BATCH AS (\n",
    "        SELECT instance_timestamp, island, sex, flipper_length_mm, body_mass_g, culmen_length_mm, culmen_depth_mm\n",
    "        FROM `statmike-mlops-349915.bqml_model_monitoring.serving`\n",
    "    ),\n",
    "    ONLINE AS (\n",
    "        SELECT\n",
    "            logging_time as instance_timestamp,\n",
    "            JSON_VALUE(request, \"$.island\") as island,\n",
    "            JSON_VALUE(request, \"$.sex\") as sex,\n",
    "            CAST(JSON_VALUE(request, \"$.flipper_length_mm\") AS FLOAT64) as flipper_length_mm,\n",
    "            CAST(JSON_VALUE(request, \"$.body_mass_g\") AS FLOAT64) as body_mass_g,\n",
    "            CAST(JSON_VALUE(request, \"$.culmen_length_mm\") AS FLOAT64) as culmen_length_mm,\n",
    "            CAST(JSON_VALUE(request, \"$.culmen_depth_mm\") AS FLOAT64) as culmen_depth_mm\n",
    "        FROM `statmike-mlops-349915.bqml_model_monitoring.serving_online`,\n",
    "        UNNEST(request_payload) as request\n",
    "    )\n",
    "SELECT * FROM BATCH\n",
    "UNION ALL\n",
    "SELECT * FROM ONLINE\n"
   ]
  },
  {
   "cell_type": "markdown",
   "metadata": {},
   "source": [
    "### Monitoring Skew (Change from training) With `ML.VALIDATE_DATA_SKEW`\n",
    "\n",
    "Compare today, or any data, to the training data by directly comparing to the the model created in BigQuery."
   ]
  },
  {
   "cell_type": "code",
   "execution_count": 90,
   "metadata": {
    "tags": []
   },
   "outputs": [
    {
     "data": {
      "application/vnd.jupyter.widget-view+json": {
       "model_id": "86861dca160c49d881a48b4eb37338f0",
       "version_major": 2,
       "version_minor": 0
      },
      "text/plain": [
       "Query is running:   0%|          |"
      ]
     },
     "metadata": {},
     "output_type": "display_data"
    },
    {
     "data": {
      "application/vnd.jupyter.widget-view+json": {
       "model_id": "d0d160bb9f874b88b1744deaa7dced37",
       "version_major": 2,
       "version_minor": 0
      },
      "text/plain": [
       "Downloading:   0%|          |"
      ]
     },
     "metadata": {},
     "output_type": "display_data"
    },
    {
     "data": {
      "text/html": [
       "<div>\n",
       "<style scoped>\n",
       "    .dataframe tbody tr th:only-of-type {\n",
       "        vertical-align: middle;\n",
       "    }\n",
       "\n",
       "    .dataframe tbody tr th {\n",
       "        vertical-align: top;\n",
       "    }\n",
       "\n",
       "    .dataframe thead th {\n",
       "        text-align: right;\n",
       "    }\n",
       "</style>\n",
       "<table border=\"1\" class=\"dataframe\">\n",
       "  <thead>\n",
       "    <tr style=\"text-align: right;\">\n",
       "      <th></th>\n",
       "      <th>input</th>\n",
       "      <th>metric</th>\n",
       "      <th>threshold</th>\n",
       "      <th>value</th>\n",
       "      <th>is_anomaly</th>\n",
       "    </tr>\n",
       "  </thead>\n",
       "  <tbody>\n",
       "    <tr>\n",
       "      <th>0</th>\n",
       "      <td>body_mass_g</td>\n",
       "      <td>JENSEN_SHANNON_DIVERGENCE</td>\n",
       "      <td>0.3</td>\n",
       "      <td>0.370903</td>\n",
       "      <td>True</td>\n",
       "    </tr>\n",
       "    <tr>\n",
       "      <th>1</th>\n",
       "      <td>culmen_depth_mm</td>\n",
       "      <td>JENSEN_SHANNON_DIVERGENCE</td>\n",
       "      <td>0.3</td>\n",
       "      <td>0.025924</td>\n",
       "      <td>False</td>\n",
       "    </tr>\n",
       "    <tr>\n",
       "      <th>2</th>\n",
       "      <td>culmen_length_mm</td>\n",
       "      <td>JENSEN_SHANNON_DIVERGENCE</td>\n",
       "      <td>0.3</td>\n",
       "      <td>0.058572</td>\n",
       "      <td>False</td>\n",
       "    </tr>\n",
       "    <tr>\n",
       "      <th>3</th>\n",
       "      <td>flipper_length_mm</td>\n",
       "      <td>JENSEN_SHANNON_DIVERGENCE</td>\n",
       "      <td>0.3</td>\n",
       "      <td>0.910632</td>\n",
       "      <td>True</td>\n",
       "    </tr>\n",
       "    <tr>\n",
       "      <th>4</th>\n",
       "      <td>island</td>\n",
       "      <td>L_INFTY</td>\n",
       "      <td>0.3</td>\n",
       "      <td>0.063666</td>\n",
       "      <td>False</td>\n",
       "    </tr>\n",
       "    <tr>\n",
       "      <th>5</th>\n",
       "      <td>sex</td>\n",
       "      <td>L_INFTY</td>\n",
       "      <td>0.3</td>\n",
       "      <td>0.051874</td>\n",
       "      <td>False</td>\n",
       "    </tr>\n",
       "  </tbody>\n",
       "</table>\n",
       "</div>"
      ],
      "text/plain": [
       "               input                     metric  threshold     value  \\\n",
       "0        body_mass_g  JENSEN_SHANNON_DIVERGENCE        0.3  0.370903   \n",
       "1    culmen_depth_mm  JENSEN_SHANNON_DIVERGENCE        0.3  0.025924   \n",
       "2   culmen_length_mm  JENSEN_SHANNON_DIVERGENCE        0.3  0.058572   \n",
       "3  flipper_length_mm  JENSEN_SHANNON_DIVERGENCE        0.3  0.910632   \n",
       "4             island                    L_INFTY        0.3  0.063666   \n",
       "5                sex                    L_INFTY        0.3  0.051874   \n",
       "\n",
       "   is_anomaly  \n",
       "0        True  \n",
       "1       False  \n",
       "2       False  \n",
       "3        True  \n",
       "4       False  \n",
       "5       False  "
      ]
     },
     "execution_count": 90,
     "metadata": {},
     "output_type": "execute_result"
    }
   ],
   "source": [
    "%%bigquery\n",
    "SELECT *\n",
    "FROM ML.VALIDATE_DATA_SKEW(\n",
    "    MODEL `statmike-mlops-349915.bqml_model_monitoring.classify_species_rf`,\n",
    "    (\n",
    "        SELECT *\n",
    "        FROM `statmike-mlops-349915.bqml_model_monitoring.serving_all`\n",
    "        WHERE DATE(instance_timestamp) >= CURRENT_DATE()\n",
    "    )\n",
    "    #,STRUCT(TRUE AS enable_visualization_link)\n",
    ");"
   ]
  },
  {
   "cell_type": "markdown",
   "metadata": {},
   "source": [
    "### Monitoring Drift (Change Over Time) With `ML.VALIDATE_DATA_DRIFT`\n",
    "\n",
    "Compare today to 5 days ago and set the a lower, more sensitive, threshold of `0.03` (default is `0.3`) for all features."
   ]
  },
  {
   "cell_type": "code",
   "execution_count": 91,
   "metadata": {
    "tags": []
   },
   "outputs": [
    {
     "data": {
      "application/vnd.jupyter.widget-view+json": {
       "model_id": "001cff8953a24a498f123d9efe4e5018",
       "version_major": 2,
       "version_minor": 0
      },
      "text/plain": [
       "Query is running:   0%|          |"
      ]
     },
     "metadata": {},
     "output_type": "display_data"
    },
    {
     "data": {
      "application/vnd.jupyter.widget-view+json": {
       "model_id": "6ad8ff6f429c4c1f8bdedc8a9cc8fad5",
       "version_major": 2,
       "version_minor": 0
      },
      "text/plain": [
       "Downloading:   0%|          |"
      ]
     },
     "metadata": {},
     "output_type": "display_data"
    },
    {
     "data": {
      "text/html": [
       "<div>\n",
       "<style scoped>\n",
       "    .dataframe tbody tr th:only-of-type {\n",
       "        vertical-align: middle;\n",
       "    }\n",
       "\n",
       "    .dataframe tbody tr th {\n",
       "        vertical-align: top;\n",
       "    }\n",
       "\n",
       "    .dataframe thead th {\n",
       "        text-align: right;\n",
       "    }\n",
       "</style>\n",
       "<table border=\"1\" class=\"dataframe\">\n",
       "  <thead>\n",
       "    <tr style=\"text-align: right;\">\n",
       "      <th></th>\n",
       "      <th>input</th>\n",
       "      <th>metric</th>\n",
       "      <th>threshold</th>\n",
       "      <th>value</th>\n",
       "      <th>is_anomaly</th>\n",
       "    </tr>\n",
       "  </thead>\n",
       "  <tbody>\n",
       "    <tr>\n",
       "      <th>0</th>\n",
       "      <td>body_mass_g</td>\n",
       "      <td>JENSEN_SHANNON_DIVERGENCE</td>\n",
       "      <td>0.03</td>\n",
       "      <td>0.047936</td>\n",
       "      <td>True</td>\n",
       "    </tr>\n",
       "    <tr>\n",
       "      <th>1</th>\n",
       "      <td>culmen_depth_mm</td>\n",
       "      <td>JENSEN_SHANNON_DIVERGENCE</td>\n",
       "      <td>0.03</td>\n",
       "      <td>0.000000</td>\n",
       "      <td>False</td>\n",
       "    </tr>\n",
       "    <tr>\n",
       "      <th>2</th>\n",
       "      <td>culmen_length_mm</td>\n",
       "      <td>JENSEN_SHANNON_DIVERGENCE</td>\n",
       "      <td>0.03</td>\n",
       "      <td>0.000000</td>\n",
       "      <td>False</td>\n",
       "    </tr>\n",
       "    <tr>\n",
       "      <th>3</th>\n",
       "      <td>flipper_length_mm</td>\n",
       "      <td>JENSEN_SHANNON_DIVERGENCE</td>\n",
       "      <td>0.03</td>\n",
       "      <td>0.100298</td>\n",
       "      <td>True</td>\n",
       "    </tr>\n",
       "    <tr>\n",
       "      <th>4</th>\n",
       "      <td>island</td>\n",
       "      <td>L_INFTY</td>\n",
       "      <td>0.03</td>\n",
       "      <td>0.000000</td>\n",
       "      <td>False</td>\n",
       "    </tr>\n",
       "    <tr>\n",
       "      <th>5</th>\n",
       "      <td>sex</td>\n",
       "      <td>L_INFTY</td>\n",
       "      <td>0.03</td>\n",
       "      <td>0.000000</td>\n",
       "      <td>False</td>\n",
       "    </tr>\n",
       "  </tbody>\n",
       "</table>\n",
       "</div>"
      ],
      "text/plain": [
       "               input                     metric  threshold     value  \\\n",
       "0        body_mass_g  JENSEN_SHANNON_DIVERGENCE       0.03  0.047936   \n",
       "1    culmen_depth_mm  JENSEN_SHANNON_DIVERGENCE       0.03  0.000000   \n",
       "2   culmen_length_mm  JENSEN_SHANNON_DIVERGENCE       0.03  0.000000   \n",
       "3  flipper_length_mm  JENSEN_SHANNON_DIVERGENCE       0.03  0.100298   \n",
       "4             island                    L_INFTY       0.03  0.000000   \n",
       "5                sex                    L_INFTY       0.03  0.000000   \n",
       "\n",
       "   is_anomaly  \n",
       "0        True  \n",
       "1       False  \n",
       "2       False  \n",
       "3        True  \n",
       "4       False  \n",
       "5       False  "
      ]
     },
     "execution_count": 91,
     "metadata": {},
     "output_type": "execute_result"
    }
   ],
   "source": [
    "%%bigquery\n",
    "SELECT *\n",
    "FROM ML.VALIDATE_DATA_DRIFT(\n",
    "    (\n",
    "        SELECT * EXCEPT(instance_timestamp)\n",
    "        FROM `statmike-mlops-349915.bqml_model_monitoring.serving_all`\n",
    "        WHERE DATE(instance_timestamp) = DATE_SUB(CURRENT_DATE(), INTERVAL 5 DAY)\n",
    "    ),\n",
    "    (\n",
    "        SELECT * EXCEPT(instance_timestamp)\n",
    "        FROM `statmike-mlops-349915.bqml_model_monitoring.serving_all`\n",
    "        WHERE DATE(instance_timestamp) = CURRENT_DATE() \n",
    "    ),\n",
    "    STRUCT(\n",
    "        0.03 AS categorical_default_threshold,\n",
    "        0.03 AS numerical_default_threshold\n",
    "    )\n",
    "    #, MODEL `statmike-mlops-349915.bqml_model_monitoring.classify_species_logistic`\n",
    ");"
   ]
  },
  {
   "cell_type": "markdown",
   "metadata": {},
   "source": [
    "### Remove Endpoint \n",
    "To prevent ongoing cost for this demonstration, remove the endpoint.  "
   ]
  },
  {
   "cell_type": "code",
   "execution_count": 92,
   "metadata": {
    "tags": []
   },
   "outputs": [
    {
     "name": "stdout",
     "output_type": "stream",
     "text": [
      "Undeploying Endpoint model: projects/1026793852137/locations/us-central1/endpoints/5319952926133714944\n",
      "Undeploy Endpoint model backing LRO: projects/1026793852137/locations/us-central1/endpoints/5319952926133714944/operations/9038720157165289472\n",
      "Endpoint model undeployed. Resource name: projects/1026793852137/locations/us-central1/endpoints/5319952926133714944\n",
      "Deleting Endpoint : projects/1026793852137/locations/us-central1/endpoints/5319952926133714944\n",
      "Endpoint deleted. . Resource name: projects/1026793852137/locations/us-central1/endpoints/5319952926133714944\n",
      "Deleting Endpoint resource: projects/1026793852137/locations/us-central1/endpoints/5319952926133714944\n",
      "Delete Endpoint backing LRO: projects/1026793852137/locations/us-central1/operations/4030717371529297920\n",
      "Endpoint resource projects/1026793852137/locations/us-central1/endpoints/5319952926133714944 deleted.\n"
     ]
    }
   ],
   "source": [
    "endpoint.delete(force = True)"
   ]
  },
  {
   "cell_type": "markdown",
   "metadata": {},
   "source": [
    "---\n",
    "## Continous Monitoring\n",
    "\n",
    "The methods above can be combined into a job that runs both skew and drift detection.  The jobs can be scheduled or triggered to make the process of model monitoring continous - continous monitoring.  If the model quality can be evaluated with confidence then the automation can even be extended to retrain and update the model for continous training.   \n",
    "\n",
    "This section shows one of many ways to create a model monitoring job. For models created in BigQuery with BigQuery ML it also shows a retraining action as part of the job when alerts are detected.\n",
    "\n",
    "These types of jobs could be automated for continous monitoring with one of these methods:\n",
    "- [BigQuery Scheduled Queries](https://cloud.google.com/bigquery/docs/scheduling-queries)\n",
    "    - Featured below\n",
    "- [Dataform](https://cloud.google.com/dataform/docs/quickstart-create-workflow)\n",
    "- [Workflows](https://cloud.google.com/workflows/docs/tutorials/bigquery-parallel-jobs)\n",
    "- [Cloud Composer](https://cloud.google.com/composer/docs/data-analytics-googlecloud)\n",
    "- [Vertex AI Pipelines](https://cloud.google.com/vertex-ai/docs/pipelines/gcpc-list#bqml_components)\n",
    "\n",
    "This section will show how to:\n",
    "- Develop model monitoring jobs:\n",
    "    - with alterting and retraining\n",
    "- Build tables to capture continous monitoring results\n",
    "- Extend monitoring jobs to BigQuery Scheduled Queries\n",
    "- Backfill monitoring jobs for a past time period"
   ]
  },
  {
   "cell_type": "markdown",
   "metadata": {},
   "source": [
    "### Model Monitoring Job: With Alerting And Retraining\n",
    "\n",
    "A BigQuery SQL job that uses the [procedural language](https://cloud.google.com/bigquery/docs/reference/standard-sql/procedural-language) to execute multiple statements (steps) as a single query.  In this case, monitoring skew and drift, detecting any feature level anomalies in either and reporting back the anomalies via a log note with a forced error.\n",
    "\n",
    "This job also includes retraining of the BigQuery ML model:\n",
    "In this case the example is simplified to retrain the model and directly implement it as a replacement with `CREATE OR REPLACE MODEL`.  In a production enviornment additional pre/post steps might take place as part of this workflow:\n",
    "- on skew/drift detection:\n",
    "    - Prior to retraining:\n",
    "        - ensure detection is not due to data errors, schema changes, or system changes\n",
    "    - After retrainning:\n",
    "        - evaluate the model and compare to current production version\n",
    "        - conditionally deploy the new version if it is better in any/all key metrics\n",
    "        - consider rollout strategies for the retrained model\n",
    "        - trigger human review before deployment of the replacement"
   ]
  },
  {
   "cell_type": "code",
   "execution_count": 93,
   "metadata": {
    "tags": []
   },
   "outputs": [
    {
     "name": "stdout",
     "output_type": "stream",
     "text": [
      "Executing query with job ID: 14780c2a-42d5-4b2c-87fd-92499f300569\n",
      "Query executing: 0.28s"
     ]
    },
    {
     "name": "stderr",
     "output_type": "stream",
     "text": [
      "\n",
      "ERROR:\n",
      " 400 GET https://bigquery.googleapis.com/bigquery/v2/projects/statmike-mlops-349915/queries/14780c2a-42d5-4b2c-87fd-92499f300569?maxResults=0&location=US&prettyPrint=false: Query error: \n",
      "\n",
      "Monitoring Report:\n",
      "\tNo drift detected.\n",
      "\tNo skew detected.\n",
      "\n",
      " at [144:9]\n",
      "\n",
      "Location: US\n",
      "Job ID: 14780c2a-42d5-4b2c-87fd-92499f300569\n",
      "\n"
     ]
    }
   ],
   "source": [
    "%%bigquery\n",
    "DECLARE drift_anomalies ARRAY<STRING>;\n",
    "DECLARE drift STRING;\n",
    "DECLARE skew_anomalies ARRAY<STRING>;\n",
    "DECLARE skew STRING;\n",
    "\n",
    "# Monitor Drift:\n",
    "SET drift_anomalies = (\n",
    "    SELECT ARRAY_AGG(input)\n",
    "    FROM ML.VALIDATE_DATA_DRIFT(\n",
    "        (\n",
    "            SELECT * EXCEPT(species, instance_timestamp)\n",
    "            FROM `statmike-mlops-349915.bqml_model_monitoring.serving`\n",
    "            WHERE DATE(instance_timestamp) = DATE_SUB(CURRENT_DATE(), INTERVAL 30 DAY)\n",
    "        ),\n",
    "        (\n",
    "            SELECT * EXCEPT(species, instance_timestamp)\n",
    "            FROM `statmike-mlops-349915.bqml_model_monitoring.serving`\n",
    "            WHERE DATE(instance_timestamp) = DATE_SUB(CURRENT_DATE(), INTERVAL 29 DAY)\n",
    "        ),\n",
    "        STRUCT(\n",
    "            0.4 AS categorical_default_threshold,\n",
    "            0.4 AS numerical_default_threshold\n",
    "        )\n",
    "        #, MODEL `statmike-mlops-349915.bqml_model_monitoring.classify_species_logistic`\n",
    "    )\n",
    "    WHERE is_anomaly = True\n",
    ");\n",
    "IF(ARRAY_LENGTH(drift_anomalies) > 0) THEN\n",
    "    SET drift = CONCAT(\n",
    "        \"Found data drift (\", ARRAY_TO_STRING(drift_anomalies, \", \"), \")\"\n",
    "    );\n",
    "    ELSE SET drift = 'No drift detected.';\n",
    "END IF;\n",
    "\n",
    "# Monitor Skew\n",
    "SET skew_anomalies = (\n",
    "    SELECT ARRAY_AGG(input)\n",
    "    FROM ML.VALIDATE_DATA_SKEW(\n",
    "        MODEL `statmike-mlops-349915.bqml_model_monitoring.classify_species_rf`,\n",
    "        (\n",
    "            SELECT * EXCEPT(species, instance_timestamp)\n",
    "            FROM `statmike-mlops-349915.bqml_model_monitoring.serving`\n",
    "            WHERE DATE(instance_timestamp) = DATE_SUB(CURRENT_DATE(), INTERVAL 30 DAY)\n",
    "        )\n",
    "        #,STRUCT(TRUE AS enable_visualization_link)\n",
    "    )\n",
    "    WHERE is_anomaly = True\n",
    ");\n",
    "IF(ARRAY_LENGTH(skew_anomalies) > 0) THEN\n",
    "    SET skew = CONCAT(\n",
    "        \"Found data skew (\", ARRAY_TO_STRING(skew_anomalies, \", \"), \")\"\n",
    "    );\n",
    "    ELSE SET skew = 'No skew detected.';\n",
    "END IF;\n",
    "\n",
    "# Prepare Alert\n",
    "IF(ARRAY_LENGTH(drift_anomalies) > 0 OR ARRAY_LENGTH(skew_anomalies) > 0) THEN\n",
    "    BEGIN\n",
    "        DECLARE train_accuracy FLOAT64;\n",
    "        DECLARE recent_accuracy FLOAT64;\n",
    "        DECLARE retrain_accuracy FLOAT64;\n",
    "\n",
    "        # get current models evaluation metrics: accuracy\n",
    "        SET train_accuracy = (\n",
    "            SELECT accuracy\n",
    "            FROM ML.EVALUATE (\n",
    "                MODEL `statmike-mlops-349915.bqml_model_monitoring.classify_species_rf`\n",
    "            )\n",
    "        );\n",
    "\n",
    "        # get current models recent evaluation metrics: accuracy\n",
    "        SET recent_accuracy = (\n",
    "            SELECT accuracy\n",
    "            FROM ML.EVALUATE (\n",
    "                MODEL `statmike-mlops-349915.bqml_model_monitoring.classify_species_rf`,\n",
    "                (\n",
    "                    SELECT *\n",
    "                    FROM `statmike-mlops-349915.bqml_model_monitoring.serving`\n",
    "                    WHERE DATE(instance_timestamp) = DATE_SUB(CURRENT_DATE(), INTERVAL 30 DAY) \n",
    "                )\n",
    "            )\n",
    "        );\n",
    "\n",
    "        # retrain the model\n",
    "        CREATE OR REPLACE MODEL `statmike-mlops-349915.bqml_model_monitoring.classify_species_rf`\n",
    "            TRANSFORM(\n",
    "                ML.ROBUST_SCALER(body_mass_g) OVER() AS body_mass_g,\n",
    "                ML.STANDARD_SCALER(culmen_length_mm) OVER() AS culmen_length_mm,\n",
    "                ML.STANDARD_SCALER(culmen_depth_mm) OVER() AS culmen_depth_mm,\n",
    "                ML.QUANTILE_BUCKETIZE(flipper_length_mm, 3) OVER() AS flipper_length_mm,\n",
    "                ML.IMPUTER(sex, 'most_frequent') OVER() AS sex,\n",
    "                ML.IMPUTER(island, 'most_frequent') OVER() AS island,\n",
    "                species\n",
    "            )\n",
    "            OPTIONS(\n",
    "                MODEL_TYPE = 'RANDOM_FOREST_CLASSIFIER',\n",
    "                INPUT_LABEL_COLS = ['species'],\n",
    "\n",
    "                # data specifics\n",
    "                DATA_SPLIT_METHOD = 'AUTO_SPLIT',\n",
    "\n",
    "                # model specifics\n",
    "                AUTO_CLASS_WEIGHTS = FALSE,\n",
    "                NUM_PARALLEL_TREE= 150,\n",
    "                TREE_METHOD = 'HIST',\n",
    "                SUBSAMPLE = 0.85,\n",
    "                COLSAMPLE_BYTREE = 0.9,\n",
    "                ENABLE_GLOBAL_EXPLAIN = TRUE,\n",
    "\n",
    "                # register model in Vertex AI For Online Serving\n",
    "                MODEL_REGISTRY = 'VERTEX_AI'\n",
    "            )\n",
    "        AS\n",
    "            SELECT species, island, culmen_length_mm, culmen_depth_mm, sex, flipper_length_mm, body_mass_g\n",
    "            FROM `statmike-mlops-349915.bqml_model_monitoring.training`\n",
    "            UNION ALL\n",
    "            SELECT species, island, culmen_length_mm, culmen_depth_mm, sex, flipper_length_mm, body_mass_g\n",
    "            FROM `statmike-mlops-349915.bqml_model_monitoring.serving`\n",
    "            WHERE DATE(instance_timestamp) = DATE_SUB(CURRENT_DATE(), INTERVAL 30 DAY)\n",
    "        ;\n",
    "\n",
    "        # get retrained models evaluation metrics: accuracy\n",
    "        SET retrain_accuracy = (\n",
    "            SELECT accuracy\n",
    "            FROM ML.EVALUATE (\n",
    "                MODEL `statmike-mlops-349915.bqml_model_monitoring.classify_species_rf`\n",
    "            )\n",
    "        );\n",
    "\n",
    "        SELECT ERROR(\n",
    "            CONCAT(\n",
    "                \"\\n\\nMonitoring Report:\",\n",
    "                \"\\n\\t\", drift,\n",
    "                \"\\n\\t\", skew,\n",
    "                \"\\nThe Model was retrained:\",\n",
    "                \"\\n\\taccuracy of prior model: \", train_accuracy,\n",
    "                \"\\n\\trecent accuracy of prior model: \", recent_accuracy,\n",
    "                \"\\n\\taccuracy after retraining: \", retrain_accuracy,\n",
    "                \"\\n\\n\"\n",
    "            )\n",
    "        );\n",
    "    END;\n",
    "    ELSE\n",
    "        SELECT ERROR(\n",
    "            CONCAT(\n",
    "                \"\\n\\nMonitoring Report:\",\n",
    "                \"\\n\\t\", drift,\n",
    "                \"\\n\\t\", skew,\n",
    "                \"\\n\\n\"\n",
    "            )\n",
    "        );\n",
    "END IF;"
   ]
  },
  {
   "cell_type": "markdown",
   "metadata": {},
   "source": [
    "### From Job To Scheduled Query\n",
    "\n",
    "The model monitoring job created above can be modified and scheduled using [scheduled queries](https://cloud.google.com/bigquery/docs/scheduling-queries).  A key feature of the modification is making use of the parameter `@run_date` to parameterize the queries reference to dates (see [configuration options](https://cloud.google.com/bigquery/docs/scheduling-queries#configuration_options)).  This allows the query to run as though it is on different dates which will be helpful as we backfill the model monitoring runs after scheduling for today and forward.\n",
    "\n",
    "Note, the next cell is writing the content of the query to a file named `model_monitoring_job.sql`.\n",
    "Other modification to the job above:\n",
    "- Drift is set to compare the last weeks serving data to the prior week\n",
    "- Skew is set to compare the last weeks serving data to the baseline training data"
   ]
  },
  {
   "cell_type": "code",
   "execution_count": 94,
   "metadata": {
    "tags": []
   },
   "outputs": [
    {
     "name": "stdout",
     "output_type": "stream",
     "text": [
      "Overwriting model_monitoring_job.sql\n"
     ]
    }
   ],
   "source": [
    "%%writefile model_monitoring_job.sql\n",
    "DECLARE drift_anomalies ARRAY<STRING>;\n",
    "DECLARE drift STRING;\n",
    "DECLARE skew_anomalies ARRAY<STRING>;\n",
    "DECLARE skew STRING;\n",
    "\n",
    "# Monitor Drift\n",
    "SET drift_anomalies = (\n",
    "    SELECT ARRAY_AGG(input)\n",
    "    FROM ML.VALIDATE_DATA_DRIFT(\n",
    "        (\n",
    "            SELECT * EXCEPT(instance_timestamp)\n",
    "            FROM `statmike-mlops-349915.bqml_model_monitoring.serving_all`\n",
    "            WHERE\n",
    "                DATE(instance_timestamp) >= DATE_SUB(@run_date, INTERVAL 2 WEEK)\n",
    "                AND\n",
    "                DATE(instance_timestamp) < DATE_SUB(@run_date, INTERVAL 1 WEEK)\n",
    "        ),\n",
    "        (\n",
    "            SELECT * EXCEPT(instance_timestamp)\n",
    "            FROM `statmike-mlops-349915.bqml_model_monitoring.serving_all`\n",
    "            WHERE DATE(instance_timestamp) >= DATE_SUB(@run_date, INTERVAL 1 WEEK)\n",
    "        ),\n",
    "        STRUCT(\n",
    "            0.4 AS categorical_default_threshold,\n",
    "            0.4 AS numerical_default_threshold\n",
    "        )\n",
    "    )\n",
    "    WHERE is_anomaly = True\n",
    ");\n",
    "IF(ARRAY_LENGTH(drift_anomalies) > 0) THEN\n",
    "    SET drift = CONCAT(\n",
    "        \"Found data drift (\", ARRAY_TO_STRING(drift_anomalies, \", \"), \")\"\n",
    "    );\n",
    "    ELSE SET drift = 'No drift detected.';\n",
    "END IF;\n",
    "\n",
    "# Monitor Skew\n",
    "SET skew_anomalies = (\n",
    "    SELECT ARRAY_AGG(input)\n",
    "    FROM ML.VALIDATE_DATA_SKEW(\n",
    "        MODEL `statmike-mlops-349915.bqml_model_monitoring.classify_species_rf`,\n",
    "        (\n",
    "            SELECT * EXCEPT(instance_timestamp)\n",
    "            FROM `statmike-mlops-349915.bqml_model_monitoring.serving_all`\n",
    "            WHERE DATE(instance_timestamp) >= DATE_SUB(@run_date, INTERVAL 1 WEEK)\n",
    "        )\n",
    "    )\n",
    "    WHERE is_anomaly = True\n",
    ");\n",
    "IF(ARRAY_LENGTH(skew_anomalies) > 0) THEN\n",
    "    SET skew = CONCAT(\n",
    "        \"Found data skew (\", ARRAY_TO_STRING(skew_anomalies, \", \"), \")\"\n",
    "    );\n",
    "    ELSE SET skew = 'No skew detected.';\n",
    "END IF;\n",
    "\n",
    "# Prepare Alert\n",
    "IF(ARRAY_LENGTH(drift_anomalies) > 0 OR ARRAY_LENGTH(skew_anomalies) > 0) THEN\n",
    "    BEGIN\n",
    "        DECLARE train_accuracy FLOAT64;\n",
    "        DECLARE recent_accuracy FLOAT64;\n",
    "        DECLARE retrain_accuracy FLOAT64;\n",
    "\n",
    "        # get current models evaluation metrics: accuracy\n",
    "        SET train_accuracy = (\n",
    "            SELECT accuracy\n",
    "            FROM ML.EVALUATE (\n",
    "                MODEL `statmike-mlops-349915.bqml_model_monitoring.classify_species_rf`\n",
    "            )\n",
    "        );\n",
    "\n",
    "        # get current models recent evaluation metrics: accuracy\n",
    "        SET recent_accuracy = (\n",
    "            SELECT accuracy\n",
    "            FROM ML.EVALUATE (\n",
    "                MODEL `statmike-mlops-349915.bqml_model_monitoring.classify_species_rf`,\n",
    "                (\n",
    "                    SELECT *\n",
    "                    FROM `statmike-mlops-349915.bqml_model_monitoring.serving`\n",
    "                    WHERE DATE(instance_timestamp) >= DATE_SUB(@run_date, INTERVAL 1 WEEK) \n",
    "                )\n",
    "            )\n",
    "        );\n",
    "\n",
    "        # retrain the model\n",
    "        CREATE OR REPLACE MODEL `statmike-mlops-349915.bqml_model_monitoring.classify_species_rf`\n",
    "            TRANSFORM(\n",
    "                ML.ROBUST_SCALER(body_mass_g) OVER() AS body_mass_g,\n",
    "                ML.STANDARD_SCALER(culmen_length_mm) OVER() AS culmen_length_mm,\n",
    "                ML.STANDARD_SCALER(culmen_depth_mm) OVER() AS culmen_depth_mm,\n",
    "                ML.QUANTILE_BUCKETIZE(flipper_length_mm, 3) OVER() AS flipper_length_mm,\n",
    "                ML.IMPUTER(sex, 'most_frequent') OVER() AS sex,\n",
    "                ML.IMPUTER(island, 'most_frequent') OVER() AS island,\n",
    "                species\n",
    "            )\n",
    "            OPTIONS(\n",
    "                MODEL_TYPE = 'RANDOM_FOREST_CLASSIFIER',\n",
    "                INPUT_LABEL_COLS = ['species'],\n",
    "\n",
    "                # data specifics\n",
    "                DATA_SPLIT_METHOD = 'AUTO_SPLIT',\n",
    "\n",
    "                # model specifics\n",
    "                AUTO_CLASS_WEIGHTS = FALSE,\n",
    "                NUM_PARALLEL_TREE= 150,\n",
    "                TREE_METHOD = 'HIST',\n",
    "                SUBSAMPLE = 0.85,\n",
    "                COLSAMPLE_BYTREE = 0.9,\n",
    "                ENABLE_GLOBAL_EXPLAIN = TRUE,\n",
    "\n",
    "                # register model in Vertex AI For Online Serving\n",
    "                MODEL_REGISTRY = 'VERTEX_AI',\n",
    "                VERTEX_AI_MODEL_ID = 'classify_species_rf'\n",
    "            )\n",
    "        AS\n",
    "            SELECT species, island, culmen_length_mm, culmen_depth_mm, sex, flipper_length_mm, body_mass_g\n",
    "            FROM `statmike-mlops-349915.bqml_model_monitoring.training_split`\n",
    "            WHERE splits = 'TRAIN'\n",
    "            UNION ALL\n",
    "            SELECT species, island, culmen_length_mm, culmen_depth_mm, sex, flipper_length_mm, body_mass_g\n",
    "            FROM `statmike-mlops-349915.bqml_model_monitoring.serving`\n",
    "            WHERE DATE(instance_timestamp) < @run_date\n",
    "        ;\n",
    "\n",
    "        # get retrained models evaluation metrics: accuracy\n",
    "        SET retrain_accuracy = (\n",
    "            SELECT accuracy\n",
    "            FROM ML.EVALUATE (\n",
    "                MODEL `statmike-mlops-349915.bqml_model_monitoring.classify_species_rf`\n",
    "            )\n",
    "        );\n",
    "\n",
    "        SELECT ERROR(\n",
    "            CONCAT(\n",
    "                \"\\n\\nMonitoring Report for \", @run_date, \":\",\n",
    "                \"\\n\\t\", drift,\n",
    "                \"\\n\\t\", skew,\n",
    "                \"\\nThe Model was retrained:\",\n",
    "                \"\\n\\taccuracy of prior model: \", train_accuracy,\n",
    "                \"\\n\\trecent accuracy of prior model: \", recent_accuracy,\n",
    "                \"\\n\\taccuracy after retraining: \", retrain_accuracy,\n",
    "                \"\\n\\n\"\n",
    "            )\n",
    "        );\n",
    "    END;\n",
    "    # ELSE ... supressed alerts on runs without anomalies detected\n",
    "END IF;"
   ]
  },
  {
   "cell_type": "markdown",
   "metadata": {},
   "source": [
    "### Schedule The Query\n",
    "\n",
    "The query can be scheduled in [a number of ways](https://cloud.google.com/bigquery/docs/scheduling-queries#set_up_scheduled_queries) including the console, bq cli, and Python. Here, the Python client will be used.\n",
    "- **References**\n",
    "    - [Python Client For BigQuery Data Transfer](https://cloud.google.com/python/docs/reference/bigquerydatatransfer/latest)\n",
    "    - [Set up schedule queries with Python client](https://cloud.google.com/bigquery/docs/scheduling-queries#python)"
   ]
  },
  {
   "cell_type": "code",
   "execution_count": 95,
   "metadata": {
    "tags": []
   },
   "outputs": [],
   "source": [
    "from google.cloud import bigquery_datatransfer\n",
    "from datetime import datetime, timezone, timedelta\n",
    "import time\n",
    "transfer_client = bigquery_datatransfer.DataTransferServiceClient()"
   ]
  },
  {
   "cell_type": "code",
   "execution_count": 96,
   "metadata": {
    "tags": []
   },
   "outputs": [
    {
     "data": {
      "text/plain": [
       "datetime.datetime(2025, 3, 9, 19, 52, 7, 751683, tzinfo=datetime.timezone.utc)"
      ]
     },
     "execution_count": 96,
     "metadata": {},
     "output_type": "execute_result"
    }
   ],
   "source": [
    "start_time = datetime.now(timezone.utc) + timedelta(days=1) # start tomorrow\n",
    "start_time"
   ]
  },
  {
   "cell_type": "code",
   "execution_count": 97,
   "metadata": {
    "tags": []
   },
   "outputs": [],
   "source": [
    "with open('model_monitoring_job.sql', 'r') as file:\n",
    "    query = file.read()"
   ]
  },
  {
   "cell_type": "code",
   "execution_count": 98,
   "metadata": {
    "tags": []
   },
   "outputs": [
    {
     "data": {
      "text/plain": [
       "'projects/statmike-mlops-349915/locations/us'"
      ]
     },
     "execution_count": 98,
     "metadata": {},
     "output_type": "execute_result"
    }
   ],
   "source": [
    "transfer_client.common_location_path('statmike-mlops-349915', 'us')"
   ]
  },
  {
   "cell_type": "code",
   "execution_count": 99,
   "metadata": {
    "tags": []
   },
   "outputs": [],
   "source": [
    "scheduled_query = transfer_client.create_transfer_config(\n",
    "    #parent = transfer_client.common_project_path('statmike-mlops-349915'),\n",
    "    parent = transfer_client.common_location_path('statmike-mlops-349915', 'us'),\n",
    "    transfer_config = bigquery_datatransfer.TransferConfig(\n",
    "        display_name = 'Continous Model Monitoring',\n",
    "        data_source_id = 'scheduled_query',\n",
    "        params = {'query': query},\n",
    "        schedule = 'every 24 hours',\n",
    "        schedule_options = bigquery_datatransfer.ScheduleOptions(\n",
    "            start_time=start_time.strftime(\"%Y-%m-%dT%H:%M:%SZ\")\n",
    "        ),\n",
    "        email_preferences = bigquery_datatransfer.EmailPreferences(\n",
    "            enable_failure_email = True\n",
    "        )\n",
    "    )\n",
    ")"
   ]
  },
  {
   "cell_type": "code",
   "execution_count": 100,
   "metadata": {
    "tags": []
   },
   "outputs": [
    {
     "data": {
      "text/plain": [
       "('Continous Model Monitoring',\n",
       " 'projects/1026793852137/locations/us/transferConfigs/67d4ac0e-0000-2023-aae5-f4f5e80d77c0')"
      ]
     },
     "execution_count": 100,
     "metadata": {},
     "output_type": "execute_result"
    }
   ],
   "source": [
    "scheduled_query.display_name, scheduled_query.name"
   ]
  },
  {
   "cell_type": "code",
   "execution_count": 101,
   "metadata": {
    "tags": []
   },
   "outputs": [
    {
     "data": {
      "text/plain": [
       "'2025-03-10 19:52:00.000000'"
      ]
     },
     "execution_count": 101,
     "metadata": {},
     "output_type": "execute_result"
    }
   ],
   "source": [
    "scheduled_query.next_run_time.strftime(\"%Y-%m-%d %H:%M:%S.%f\")"
   ]
  },
  {
   "cell_type": "markdown",
   "metadata": {},
   "source": [
    "Take a moment to see the query in the console:\n",
    "- Console > BigQuery > Scheduled Queries"
   ]
  },
  {
   "cell_type": "markdown",
   "metadata": {},
   "source": [
    "### Backfill History With Scheduled Query\n",
    "\n",
    "While the client can use a start and end time to run a range of backfill dates, it will runs these backwards from most recent to the earliest time.  Due to the nature of the model monitoring job it is more desirable to run these in the order from earliest to most recent.  This is accomplished by launching each days job separately in the desired order."
   ]
  },
  {
   "cell_type": "code",
   "execution_count": 102,
   "metadata": {
    "tags": []
   },
   "outputs": [],
   "source": [
    "# -30 days\n",
    "start_time = datetime.now(timezone.utc) + timedelta(days = -30)\n",
    "backfill_job = transfer_client.start_manual_transfer_runs(\n",
    "    request = bigquery_datatransfer.StartManualTransferRunsRequest(\n",
    "        parent = scheduled_query.name,\n",
    "        requested_run_time = start_time \n",
    "    )\n",
    ")"
   ]
  },
  {
   "cell_type": "code",
   "execution_count": 103,
   "metadata": {
    "tags": []
   },
   "outputs": [
    {
     "data": {
      "text/plain": [
       "'projects/1026793852137/locations/us/transferConfigs/67d4ac0e-0000-2023-aae5-f4f5e80d77c0/runs/67d5993c-0000-282d-a901-f4f5e808bf04'"
      ]
     },
     "execution_count": 103,
     "metadata": {},
     "output_type": "execute_result"
    }
   ],
   "source": [
    "backfill_job.runs[0].name"
   ]
  },
  {
   "cell_type": "code",
   "execution_count": 104,
   "metadata": {
    "tags": []
   },
   "outputs": [
    {
     "data": {
      "text/plain": [
       "'PENDING'"
      ]
     },
     "execution_count": 104,
     "metadata": {},
     "output_type": "execute_result"
    }
   ],
   "source": [
    "transfer_client.get_transfer_run(\n",
    "    name = backfill_job.runs[0].name\n",
    ").state.name"
   ]
  },
  {
   "cell_type": "markdown",
   "metadata": {},
   "source": [
    "**NOTE:** A State of 'FAILED' is actually the correct end state as the method of using SQL ERRORS to pass the results and trigger notification emails was used. A State of 'SUCCEEDED' will represent runs without an anomaly detected.  [Read more about TrasferState](https://cloud.google.com/python/docs/reference/bigquerydatatransfer/latest/google.cloud.bigquery_datatransfer_v1.types.TransferState)."
   ]
  },
  {
   "cell_type": "code",
   "execution_count": 105,
   "metadata": {
    "tags": []
   },
   "outputs": [],
   "source": [
    "while True:\n",
    "    state = transfer_client.get_transfer_run(\n",
    "        name = backfill_job.runs[0].name\n",
    "    ).state.name\n",
    "    if state in ['FAILED', 'SUCCEEDED', 'CANCELLED']:\n",
    "        break\n",
    "    else:\n",
    "        time.sleep(30)"
   ]
  },
  {
   "cell_type": "code",
   "execution_count": 106,
   "metadata": {
    "tags": []
   },
   "outputs": [],
   "source": [
    "backfill_jobs =[backfill_job]"
   ]
  },
  {
   "cell_type": "code",
   "execution_count": null,
   "metadata": {
    "tags": []
   },
   "outputs": [
    {
     "name": "stdout",
     "output_type": "stream",
     "text": [
      "2025-02-07 19:58:39.279213+00:00\n",
      "2025-02-08 20:03:41.186953+00:00\n",
      "2025-02-10 20:16:25.458430+00:00\n",
      "2025-02-11 20:22:47.617833+00:00\n",
      "2025-02-12 20:29:09.794163+00:00\n",
      "2025-02-13 20:35:31.925427+00:00\n",
      "2025-02-14 20:36:52.551245+00:00\n",
      "2025-02-15 20:43:14.725343+00:00\n",
      "2025-02-16 20:50:47.178185+00:00\n",
      "2025-02-17 20:57:09.377281+00:00\n",
      "2025-02-18 21:03:31.764070+00:00\n",
      "2025-02-19 21:09:53.744461+00:00\n",
      "2025-02-20 21:16:16.041875+00:00\n",
      "2025-02-21 21:21:18.043773+00:00\n",
      "2025-02-22 21:27:40.169652+00:00\n",
      "2025-02-23 21:34:02.351906+00:00\n",
      "2025-02-24 21:40:24.416017+00:00\n",
      "2025-02-25 21:46:46.597099+00:00\n",
      "2025-02-26 21:53:08.723594+00:00\n",
      "2025-02-27 21:59:30.832365+00:00\n",
      "2025-02-28 22:05:53.102297+00:00\n",
      "2025-03-01 22:12:15.270465+00:00\n",
      "2025-03-02 22:13:35.911000+00:00\n",
      "2025-03-03 22:19:57.996158+00:00\n",
      "2025-03-04 22:21:18.603889+00:00\n",
      "2025-03-05 22:27:40.765862+00:00\n",
      "2025-03-06 22:29:01.330796+00:00\n",
      "2025-03-07 22:35:23.466018+00:00\n",
      "2025-03-08 22:36:44.026664+00:00\n"
     ]
    }
   ],
   "source": [
    "# Loop From -29 to -0 days\n",
    "for days in range(30)[::-1]:\n",
    "    start_time = datetime.now(timezone.utc) + timedelta(days = -1*days)\n",
    "    print(start_time)\n",
    "    # start job\n",
    "    backfill_jobs.append(\n",
    "        transfer_client.start_manual_transfer_runs(\n",
    "            request = bigquery_datatransfer.StartManualTransferRunsRequest(\n",
    "                parent = scheduled_query.name,\n",
    "                requested_run_time = start_time \n",
    "            )\n",
    "        )\n",
    "    )\n",
    "    # monitor job before continuing:\n",
    "    while True:\n",
    "        state = transfer_client.get_transfer_run(\n",
    "            name = backfill_jobs[-1].runs[0].name\n",
    "        ).state.name\n",
    "        if state in ['FAILED', 'SUCCEEDED', 'CANCELLED']:\n",
    "            break\n",
    "        else:\n",
    "            time.sleep(10)    "
   ]
  },
  {
   "cell_type": "code",
   "execution_count": null,
   "metadata": {
    "tags": []
   },
   "outputs": [],
   "source": [
    "backfill_results = [transfer_client.get_transfer_run(name = j.runs[0].name) for j in backfill_jobs]"
   ]
  },
  {
   "cell_type": "code",
   "execution_count": null,
   "metadata": {
    "tags": []
   },
   "outputs": [
    {
     "data": {
      "text/html": [
       "<style type=\"text/css\">\n",
       "#T_9a7ba_row0_col0, #T_9a7ba_row0_col1, #T_9a7ba_row1_col0, #T_9a7ba_row1_col1, #T_9a7ba_row2_col0, #T_9a7ba_row2_col1, #T_9a7ba_row3_col0, #T_9a7ba_row3_col1, #T_9a7ba_row4_col0, #T_9a7ba_row4_col1, #T_9a7ba_row5_col0, #T_9a7ba_row5_col1, #T_9a7ba_row6_col0, #T_9a7ba_row6_col1, #T_9a7ba_row7_col0, #T_9a7ba_row7_col1, #T_9a7ba_row8_col0, #T_9a7ba_row8_col1, #T_9a7ba_row9_col0, #T_9a7ba_row9_col1, #T_9a7ba_row10_col0, #T_9a7ba_row10_col1, #T_9a7ba_row11_col0, #T_9a7ba_row11_col1, #T_9a7ba_row12_col0, #T_9a7ba_row12_col1, #T_9a7ba_row13_col0, #T_9a7ba_row13_col1, #T_9a7ba_row14_col0, #T_9a7ba_row14_col1, #T_9a7ba_row15_col0, #T_9a7ba_row15_col1, #T_9a7ba_row16_col0, #T_9a7ba_row16_col1, #T_9a7ba_row17_col0, #T_9a7ba_row17_col1, #T_9a7ba_row18_col0, #T_9a7ba_row18_col1, #T_9a7ba_row19_col0, #T_9a7ba_row19_col1, #T_9a7ba_row20_col0, #T_9a7ba_row20_col1, #T_9a7ba_row21_col0, #T_9a7ba_row21_col1, #T_9a7ba_row22_col0, #T_9a7ba_row22_col1, #T_9a7ba_row23_col0, #T_9a7ba_row23_col1, #T_9a7ba_row24_col0, #T_9a7ba_row24_col1, #T_9a7ba_row25_col0, #T_9a7ba_row25_col1, #T_9a7ba_row26_col0, #T_9a7ba_row26_col1, #T_9a7ba_row27_col0, #T_9a7ba_row27_col1, #T_9a7ba_row28_col0, #T_9a7ba_row28_col1, #T_9a7ba_row29_col0, #T_9a7ba_row29_col1, #T_9a7ba_row30_col0, #T_9a7ba_row30_col1 {\n",
       "  text-align: left;\n",
       "  white-space: pre-wrap;\n",
       "}\n",
       "</style>\n",
       "<table id=\"T_9a7ba\">\n",
       "  <thead>\n",
       "    <tr>\n",
       "      <th class=\"blank level0\" >&nbsp;</th>\n",
       "      <th id=\"T_9a7ba_level0_col0\" class=\"col_heading level0 col0\" >Date</th>\n",
       "      <th id=\"T_9a7ba_level0_col1\" class=\"col_heading level0 col1\" >Result</th>\n",
       "    </tr>\n",
       "  </thead>\n",
       "  <tbody>\n",
       "    <tr>\n",
       "      <th id=\"T_9a7ba_level0_row0\" class=\"row_heading level0 row0\" >0</th>\n",
       "      <td id=\"T_9a7ba_row0_col0\" class=\"data row0 col0\" >2025-02-06 19:52:08.021875+00:00</td>\n",
       "      <td id=\"T_9a7ba_row0_col1\" class=\"data row0 col1\" >Query error: \n",
       "\n",
       "Monitoring Report for 2025-02-06:\n",
       "\tNo drift detected.\n",
       "\tFound data skew (flipper_length_mm)\n",
       "The Model was retrained:\n",
       "\taccuracy of prior model: 1\n",
       "\trecent accuracy of prior model: 0.89447785675232361\n",
       "\taccuracy after retraining: 0.99579831932773111\n",
       "\n",
       " at [133:9]; JobID: 1026793852137:scheduled_query_67d5993c-0000-282d-a901-f4f5e808bf04</td>\n",
       "    </tr>\n",
       "    <tr>\n",
       "      <th id=\"T_9a7ba_level0_row1\" class=\"row_heading level0 row1\" >1</th>\n",
       "      <td id=\"T_9a7ba_row1_col0\" class=\"data row1 col0\" >2025-02-07 19:58:39.279213+00:00</td>\n",
       "      <td id=\"T_9a7ba_row1_col1\" class=\"data row1 col1\" >Query error: \n",
       "\n",
       "Monitoring Report for 2025-02-07:\n",
       "\tNo drift detected.\n",
       "\tFound data skew (flipper_length_mm)\n",
       "The Model was retrained:\n",
       "\taccuracy of prior model: 1\n",
       "\trecent accuracy of prior model: 0.92345544013121916\n",
       "\taccuracy after retraining: 0.98989898989898983\n",
       "\n",
       " at [133:9]; JobID: 1026793852137:scheduled_query_67d7892b-0000-2bcc-9369-d4f547e6f41c</td>\n",
       "    </tr>\n",
       "    <tr>\n",
       "      <th id=\"T_9a7ba_level0_row2\" class=\"row_heading level0 row2\" >2</th>\n",
       "      <td id=\"T_9a7ba_row2_col0\" class=\"data row2 col0\" >2025-02-08 20:03:41.186953+00:00</td>\n",
       "      <td id=\"T_9a7ba_row2_col1\" class=\"data row2 col1\" >Query error: \n",
       "\n",
       "Monitoring Report for 2025-02-08:\n",
       "\tNo drift detected.\n",
       "\tFound data skew (flipper_length_mm)\n",
       "The Model was retrained:\n",
       "\taccuracy of prior model: 1\n",
       "\trecent accuracy of prior model: 0.93821760524876974\n",
       "\taccuracy after retraining: 0.9887640449438202\n",
       "\n",
       " at [133:9]; JobID: 1026793852137:scheduled_query_67d5229a-0000-200e-9f75-24058876e3d4</td>\n",
       "    </tr>\n",
       "    <tr>\n",
       "      <th id=\"T_9a7ba_level0_row3\" class=\"row_heading level0 row3\" >3</th>\n",
       "      <td id=\"T_9a7ba_row3_col0\" class=\"data row3 col0\" >2025-02-09 20:10:03.350049+00:00</td>\n",
       "      <td id=\"T_9a7ba_row3_col1\" class=\"data row3 col1\" >Query error: \n",
       "\n",
       "Monitoring Report for 2025-02-09:\n",
       "\tNo drift detected.\n",
       "\tFound data skew (flipper_length_mm)\n",
       "The Model was retrained:\n",
       "\taccuracy of prior model: 1\n",
       "\trecent accuracy of prior model: 0.93329688354291962\n",
       "\taccuracy after retraining: 0.99036144578313245\n",
       "\n",
       " at [133:9]; JobID: 1026793852137:scheduled_query_67d60475-0000-29ea-860a-f4f5e80cefb8</td>\n",
       "    </tr>\n",
       "    <tr>\n",
       "      <th id=\"T_9a7ba_level0_row4\" class=\"row_heading level0 row4\" >4</th>\n",
       "      <td id=\"T_9a7ba_row4_col0\" class=\"data row4 col0\" >2025-02-10 20:16:25.458430+00:00</td>\n",
       "      <td id=\"T_9a7ba_row4_col1\" class=\"data row4 col1\" >Query error: \n",
       "\n",
       "Monitoring Report for 2025-02-10:\n",
       "\tNo drift detected.\n",
       "\tFound data skew (flipper_length_mm)\n",
       "The Model was retrained:\n",
       "\taccuracy of prior model: 1\n",
       "\trecent accuracy of prior model: 0.91962821213778023\n",
       "\taccuracy after retraining: 0.98523206751054859\n",
       "\n",
       " at [133:9]; JobID: 1026793852137:scheduled_query_67d69609-0000-2209-993e-883d24f6a924</td>\n",
       "    </tr>\n",
       "    <tr>\n",
       "      <th id=\"T_9a7ba_level0_row5\" class=\"row_heading level0 row5\" >5</th>\n",
       "      <td id=\"T_9a7ba_row5_col0\" class=\"data row5 col0\" >2025-02-11 20:22:47.617833+00:00</td>\n",
       "      <td id=\"T_9a7ba_row5_col1\" class=\"data row5 col1\" >Query error: \n",
       "\n",
       "Monitoring Report for 2025-02-11:\n",
       "\tNo drift detected.\n",
       "\tFound data skew (flipper_length_mm)\n",
       "The Model was retrained:\n",
       "\taccuracy of prior model: 1\n",
       "\trecent accuracy of prior model: 0.9278294149808638\n",
       "\taccuracy after retraining: 0.98113207547169812\n",
       "\n",
       " at [133:9]; JobID: 1026793852137:scheduled_query_67d6ef15-0000-2001-b049-f4030437533c</td>\n",
       "    </tr>\n",
       "    <tr>\n",
       "      <th id=\"T_9a7ba_level0_row6\" class=\"row_heading level0 row6\" >6</th>\n",
       "      <td id=\"T_9a7ba_row6_col0\" class=\"data row6 col0\" >2025-02-12 20:29:09.794163+00:00</td>\n",
       "      <td id=\"T_9a7ba_row6_col1\" class=\"data row6 col1\" >Query error: \n",
       "\n",
       "Monitoring Report for 2025-02-12:\n",
       "\tNo drift detected.\n",
       "\tFound data skew (flipper_length_mm)\n",
       "The Model was retrained:\n",
       "\taccuracy of prior model: 1\n",
       "\trecent accuracy of prior model: 0.98031711317659931\n",
       "\taccuracy after retraining: 0.983050847457627\n",
       "\n",
       " at [133:9]; JobID: 1026793852137:scheduled_query_67dd29d8-0000-20a3-8728-f4f5e808bc90</td>\n",
       "    </tr>\n",
       "    <tr>\n",
       "      <th id=\"T_9a7ba_level0_row7\" class=\"row_heading level0 row7\" >7</th>\n",
       "      <td id=\"T_9a7ba_row7_col0\" class=\"data row7 col0\" >2025-02-13 20:35:31.925427+00:00</td>\n",
       "      <td id=\"T_9a7ba_row7_col1\" class=\"data row7 col1\" ></td>\n",
       "    </tr>\n",
       "    <tr>\n",
       "      <th id=\"T_9a7ba_level0_row8\" class=\"row_heading level0 row8\" >8</th>\n",
       "      <td id=\"T_9a7ba_row8_col0\" class=\"data row8 col0\" >2025-02-14 20:36:52.551245+00:00</td>\n",
       "      <td id=\"T_9a7ba_row8_col1\" class=\"data row8 col1\" >Query error: \n",
       "\n",
       "Monitoring Report for 2025-02-14:\n",
       "\tFound data drift (flipper_length_mm)\n",
       "\tFound data skew (flipper_length_mm)\n",
       "The Model was retrained:\n",
       "\taccuracy of prior model: 0.983050847457627\n",
       "\trecent accuracy of prior model: 0.983050847457627\n",
       "\taccuracy after retraining: 0.985611510791367\n",
       "\n",
       " at [133:9]; JobID: 1026793852137:scheduled_query_67d4d637-0000-26fa-bbf1-f4f5e80d6d90</td>\n",
       "    </tr>\n",
       "    <tr>\n",
       "      <th id=\"T_9a7ba_level0_row9\" class=\"row_heading level0 row9\" >9</th>\n",
       "      <td id=\"T_9a7ba_row9_col0\" class=\"data row9 col0\" >2025-02-15 20:43:14.725343+00:00</td>\n",
       "      <td id=\"T_9a7ba_row9_col1\" class=\"data row9 col1\" >Query error: \n",
       "\n",
       "Monitoring Report for 2025-02-15:\n",
       "\tFound data drift (flipper_length_mm)\n",
       "\tFound data skew (flipper_length_mm)\n",
       "The Model was retrained:\n",
       "\taccuracy of prior model: 0.983050847457627\n",
       "\trecent accuracy of prior model: 0.983050847457627\n",
       "\taccuracy after retraining: 0.985611510791367\n",
       "\n",
       " at [133:9]; JobID: 1026793852137:scheduled_query_67d55f93-0000-200e-9f75-24058876e3d4</td>\n",
       "    </tr>\n",
       "    <tr>\n",
       "      <th id=\"T_9a7ba_level0_row10\" class=\"row_heading level0 row10\" >10</th>\n",
       "      <td id=\"T_9a7ba_row10_col0\" class=\"data row10 col0\" >2025-02-16 20:50:47.178185+00:00</td>\n",
       "      <td id=\"T_9a7ba_row10_col1\" class=\"data row10 col1\" >Query error: \n",
       "\n",
       "Monitoring Report for 2025-02-16:\n",
       "\tFound data drift (flipper_length_mm)\n",
       "\tFound data skew (flipper_length_mm)\n",
       "The Model was retrained:\n",
       "\taccuracy of prior model: 0.983050847457627\n",
       "\trecent accuracy of prior model: 0.99818401937046\n",
       "\taccuracy after retraining: 0.98192771084337349\n",
       "\n",
       " at [133:9]; JobID: 1026793852137:scheduled_query_67d5ee55-0000-282d-a901-f4f5e808bf04</td>\n",
       "    </tr>\n",
       "    <tr>\n",
       "      <th id=\"T_9a7ba_level0_row11\" class=\"row_heading level0 row11\" >11</th>\n",
       "      <td id=\"T_9a7ba_row11_col0\" class=\"data row11 col0\" >2025-02-17 20:57:09.377281+00:00</td>\n",
       "      <td id=\"T_9a7ba_row11_col1\" class=\"data row11 col1\" >Query error: \n",
       "\n",
       "Monitoring Report for 2025-02-17:\n",
       "\tFound data drift (flipper_length_mm)\n",
       "\tFound data skew (flipper_length_mm)\n",
       "The Model was retrained:\n",
       "\taccuracy of prior model: 0.983050847457627\n",
       "\trecent accuracy of prior model: 0.97991211550533586\n",
       "\taccuracy after retraining: 1\n",
       "\n",
       " at [133:9]; JobID: 1026793852137:scheduled_query_67d6eb92-0000-229e-9325-f4f5e8094ff4</td>\n",
       "    </tr>\n",
       "    <tr>\n",
       "      <th id=\"T_9a7ba_level0_row12\" class=\"row_heading level0 row12\" >12</th>\n",
       "      <td id=\"T_9a7ba_row12_col0\" class=\"data row12 col0\" >2025-02-18 21:03:31.764070+00:00</td>\n",
       "      <td id=\"T_9a7ba_row12_col1\" class=\"data row12 col1\" >Query error: \n",
       "\n",
       "Monitoring Report for 2025-02-18:\n",
       "\tFound data drift (flipper_length_mm)\n",
       "\tFound data skew (flipper_length_mm)\n",
       "The Model was retrained:\n",
       "\taccuracy of prior model: 0.983050847457627\n",
       "\trecent accuracy of prior model: 1\n",
       "\taccuracy after retraining: 0.9780219780219781\n",
       "\n",
       " at [133:9]; JobID: 1026793852137:scheduled_query_67d48943-0000-2a98-af5f-f4f5e809148c</td>\n",
       "    </tr>\n",
       "    <tr>\n",
       "      <th id=\"T_9a7ba_level0_row13\" class=\"row_heading level0 row13\" >13</th>\n",
       "      <td id=\"T_9a7ba_row13_col0\" class=\"data row13 col0\" >2025-02-19 21:09:53.744461+00:00</td>\n",
       "      <td id=\"T_9a7ba_row13_col1\" class=\"data row13 col1\" >Query error: \n",
       "\n",
       "Monitoring Report for 2025-02-19:\n",
       "\tNo drift detected.\n",
       "\tFound data skew (flipper_length_mm)\n",
       "The Model was retrained:\n",
       "\taccuracy of prior model: 1\n",
       "\trecent accuracy of prior model: 0.983050847457627\n",
       "\taccuracy after retraining: 1\n",
       "\n",
       " at [133:9]; JobID: 1026793852137:scheduled_query_67d80db9-0000-2cb6-845e-883d24f0f6dc</td>\n",
       "    </tr>\n",
       "    <tr>\n",
       "      <th id=\"T_9a7ba_level0_row14\" class=\"row_heading level0 row14\" >14</th>\n",
       "      <td id=\"T_9a7ba_row14_col0\" class=\"data row14 col0\" >2025-02-20 21:16:16.041875+00:00</td>\n",
       "      <td id=\"T_9a7ba_row14_col1\" class=\"data row14 col1\" >Query error: \n",
       "\n",
       "Monitoring Report for 2025-02-20:\n",
       "\tNo drift detected.\n",
       "\tFound data skew (flipper_length_mm)\n",
       "The Model was retrained:\n",
       "\taccuracy of prior model: 1\n",
       "\trecent accuracy of prior model: 1\n",
       "\taccuracy after retraining: 1\n",
       "\n",
       " at [133:9]; JobID: 1026793852137:scheduled_query_67d44b94-0000-21d7-a0fb-f4f5e8070f58</td>\n",
       "    </tr>\n",
       "    <tr>\n",
       "      <th id=\"T_9a7ba_level0_row15\" class=\"row_heading level0 row15\" >15</th>\n",
       "      <td id=\"T_9a7ba_row15_col0\" class=\"data row15 col0\" >2025-02-21 21:21:18.043773+00:00</td>\n",
       "      <td id=\"T_9a7ba_row15_col1\" class=\"data row15 col1\" >Query error: \n",
       "\n",
       "Monitoring Report for 2025-02-21:\n",
       "\tNo drift detected.\n",
       "\tFound data skew (flipper_length_mm)\n",
       "The Model was retrained:\n",
       "\taccuracy of prior model: 1\n",
       "\trecent accuracy of prior model: 1\n",
       "\taccuracy after retraining: 1\n",
       "\n",
       " at [133:9]; JobID: 1026793852137:scheduled_query_67d5c032-0000-2055-ab8d-f403043cd190</td>\n",
       "    </tr>\n",
       "    <tr>\n",
       "      <th id=\"T_9a7ba_level0_row16\" class=\"row_heading level0 row16\" >16</th>\n",
       "      <td id=\"T_9a7ba_row16_col0\" class=\"data row16 col0\" >2025-02-22 21:27:40.169652+00:00</td>\n",
       "      <td id=\"T_9a7ba_row16_col1\" class=\"data row16 col1\" >Query error: \n",
       "\n",
       "Monitoring Report for 2025-02-22:\n",
       "\tNo drift detected.\n",
       "\tFound data skew (flipper_length_mm)\n",
       "The Model was retrained:\n",
       "\taccuracy of prior model: 1\n",
       "\trecent accuracy of prior model: 0.983050847457627\n",
       "\taccuracy after retraining: 1\n",
       "\n",
       " at [133:9]; JobID: 1026793852137:scheduled_query_67d7cccf-0000-2584-ac34-f403043cad6c</td>\n",
       "    </tr>\n",
       "    <tr>\n",
       "      <th id=\"T_9a7ba_level0_row17\" class=\"row_heading level0 row17\" >17</th>\n",
       "      <td id=\"T_9a7ba_row17_col0\" class=\"data row17 col0\" >2025-02-23 21:34:02.351906+00:00</td>\n",
       "      <td id=\"T_9a7ba_row17_col1\" class=\"data row17 col1\" >Query error: \n",
       "\n",
       "Monitoring Report for 2025-02-23:\n",
       "\tNo drift detected.\n",
       "\tFound data skew (flipper_length_mm)\n",
       "The Model was retrained:\n",
       "\taccuracy of prior model: 1\n",
       "\trecent accuracy of prior model: 1\n",
       "\taccuracy after retraining: 1\n",
       "\n",
       " at [133:9]; JobID: 1026793852137:scheduled_query_67d72f54-0000-2e13-add8-f4f5e80949c8</td>\n",
       "    </tr>\n",
       "    <tr>\n",
       "      <th id=\"T_9a7ba_level0_row18\" class=\"row_heading level0 row18\" >18</th>\n",
       "      <td id=\"T_9a7ba_row18_col0\" class=\"data row18 col0\" >2025-02-24 21:40:24.416017+00:00</td>\n",
       "      <td id=\"T_9a7ba_row18_col1\" class=\"data row18 col1\" >Query error: \n",
       "\n",
       "Monitoring Report for 2025-02-24:\n",
       "\tNo drift detected.\n",
       "\tFound data skew (flipper_length_mm)\n",
       "The Model was retrained:\n",
       "\taccuracy of prior model: 1\n",
       "\trecent accuracy of prior model: 0.983050847457627\n",
       "\taccuracy after retraining: 1\n",
       "\n",
       " at [133:9]; JobID: 1026793852137:scheduled_query_67d61e60-0000-26c1-ab8c-f4f5e8086c70</td>\n",
       "    </tr>\n",
       "    <tr>\n",
       "      <th id=\"T_9a7ba_level0_row19\" class=\"row_heading level0 row19\" >19</th>\n",
       "      <td id=\"T_9a7ba_row19_col0\" class=\"data row19 col0\" >2025-02-25 21:46:46.597099+00:00</td>\n",
       "      <td id=\"T_9a7ba_row19_col1\" class=\"data row19 col1\" >Query error: \n",
       "\n",
       "Monitoring Report for 2025-02-25:\n",
       "\tNo drift detected.\n",
       "\tFound data skew (flipper_length_mm)\n",
       "The Model was retrained:\n",
       "\taccuracy of prior model: 1\n",
       "\trecent accuracy of prior model: 1\n",
       "\taccuracy after retraining: 1\n",
       "\n",
       " at [133:9]; JobID: 1026793852137:scheduled_query_67dec52e-0000-23a0-b1df-582429ac890c</td>\n",
       "    </tr>\n",
       "    <tr>\n",
       "      <th id=\"T_9a7ba_level0_row20\" class=\"row_heading level0 row20\" >20</th>\n",
       "      <td id=\"T_9a7ba_row20_col0\" class=\"data row20 col0\" >2025-02-26 21:53:08.723594+00:00</td>\n",
       "      <td id=\"T_9a7ba_row20_col1\" class=\"data row20 col1\" >Query error: \n",
       "\n",
       "Monitoring Report for 2025-02-26:\n",
       "\tNo drift detected.\n",
       "\tFound data skew (flipper_length_mm)\n",
       "The Model was retrained:\n",
       "\taccuracy of prior model: 1\n",
       "\trecent accuracy of prior model: 1\n",
       "\taccuracy after retraining: 1\n",
       "\n",
       " at [133:9]; JobID: 1026793852137:scheduled_query_67d8876a-0000-22ce-af53-883d24f628dc</td>\n",
       "    </tr>\n",
       "    <tr>\n",
       "      <th id=\"T_9a7ba_level0_row21\" class=\"row_heading level0 row21\" >21</th>\n",
       "      <td id=\"T_9a7ba_row21_col0\" class=\"data row21 col0\" >2025-02-27 21:59:30.832365+00:00</td>\n",
       "      <td id=\"T_9a7ba_row21_col1\" class=\"data row21 col1\" >Query error: \n",
       "\n",
       "Monitoring Report for 2025-02-27:\n",
       "\tNo drift detected.\n",
       "\tFound data skew (flipper_length_mm)\n",
       "The Model was retrained:\n",
       "\taccuracy of prior model: 1\n",
       "\trecent accuracy of prior model: 1\n",
       "\taccuracy after retraining: 1\n",
       "\n",
       " at [133:9]; JobID: 1026793852137:scheduled_query_67d61027-0000-2a5a-89cf-94eb2c0494f2</td>\n",
       "    </tr>\n",
       "    <tr>\n",
       "      <th id=\"T_9a7ba_level0_row22\" class=\"row_heading level0 row22\" >22</th>\n",
       "      <td id=\"T_9a7ba_row22_col0\" class=\"data row22 col0\" >2025-02-28 22:05:53.102297+00:00</td>\n",
       "      <td id=\"T_9a7ba_row22_col1\" class=\"data row22 col1\" >Query error: \n",
       "\n",
       "Monitoring Report for 2025-02-28:\n",
       "\tNo drift detected.\n",
       "\tFound data skew (flipper_length_mm)\n",
       "The Model was retrained:\n",
       "\taccuracy of prior model: 1\n",
       "\trecent accuracy of prior model: 0.983050847457627\n",
       "\taccuracy after retraining: 1\n",
       "\n",
       " at [133:9]; JobID: 1026793852137:scheduled_query_67d5b16e-0000-209c-8468-14c14ef14fb8</td>\n",
       "    </tr>\n",
       "    <tr>\n",
       "      <th id=\"T_9a7ba_level0_row23\" class=\"row_heading level0 row23\" >23</th>\n",
       "      <td id=\"T_9a7ba_row23_col0\" class=\"data row23 col0\" >2025-03-01 22:12:15.270465+00:00</td>\n",
       "      <td id=\"T_9a7ba_row23_col1\" class=\"data row23 col1\" ></td>\n",
       "    </tr>\n",
       "    <tr>\n",
       "      <th id=\"T_9a7ba_level0_row24\" class=\"row_heading level0 row24\" >24</th>\n",
       "      <td id=\"T_9a7ba_row24_col0\" class=\"data row24 col0\" >2025-03-02 22:13:35.911000+00:00</td>\n",
       "      <td id=\"T_9a7ba_row24_col1\" class=\"data row24 col1\" >Query error: \n",
       "\n",
       "Monitoring Report for 2025-03-02:\n",
       "\tNo drift detected.\n",
       "\tFound data skew (flipper_length_mm)\n",
       "The Model was retrained:\n",
       "\taccuracy of prior model: 1\n",
       "\trecent accuracy of prior model: 0.983050847457627\n",
       "\taccuracy after retraining: 1\n",
       "\n",
       " at [133:9]; JobID: 1026793852137:scheduled_query_67d69cf0-0000-29ea-860a-f4f5e80cefb8</td>\n",
       "    </tr>\n",
       "    <tr>\n",
       "      <th id=\"T_9a7ba_level0_row25\" class=\"row_heading level0 row25\" >25</th>\n",
       "      <td id=\"T_9a7ba_row25_col0\" class=\"data row25 col0\" >2025-03-03 22:19:57.996158+00:00</td>\n",
       "      <td id=\"T_9a7ba_row25_col1\" class=\"data row25 col1\" ></td>\n",
       "    </tr>\n",
       "    <tr>\n",
       "      <th id=\"T_9a7ba_level0_row26\" class=\"row_heading level0 row26\" >26</th>\n",
       "      <td id=\"T_9a7ba_row26_col0\" class=\"data row26 col0\" >2025-03-04 22:21:18.603889+00:00</td>\n",
       "      <td id=\"T_9a7ba_row26_col1\" class=\"data row26 col1\" >Query error: \n",
       "\n",
       "Monitoring Report for 2025-03-04:\n",
       "\tNo drift detected.\n",
       "\tFound data skew (flipper_length_mm)\n",
       "The Model was retrained:\n",
       "\taccuracy of prior model: 1\n",
       "\trecent accuracy of prior model: 1\n",
       "\taccuracy after retraining: 1\n",
       "\n",
       " at [133:9]; JobID: 1026793852137:scheduled_query_67d5609d-0000-28a5-9bee-3c286d44c9b6</td>\n",
       "    </tr>\n",
       "    <tr>\n",
       "      <th id=\"T_9a7ba_level0_row27\" class=\"row_heading level0 row27\" >27</th>\n",
       "      <td id=\"T_9a7ba_row27_col0\" class=\"data row27 col0\" >2025-03-05 22:27:40.765862+00:00</td>\n",
       "      <td id=\"T_9a7ba_row27_col1\" class=\"data row27 col1\" ></td>\n",
       "    </tr>\n",
       "    <tr>\n",
       "      <th id=\"T_9a7ba_level0_row28\" class=\"row_heading level0 row28\" >28</th>\n",
       "      <td id=\"T_9a7ba_row28_col0\" class=\"data row28 col0\" >2025-03-06 22:29:01.330796+00:00</td>\n",
       "      <td id=\"T_9a7ba_row28_col1\" class=\"data row28 col1\" >Query error: \n",
       "\n",
       "Monitoring Report for 2025-03-06:\n",
       "\tNo drift detected.\n",
       "\tFound data skew (flipper_length_mm)\n",
       "The Model was retrained:\n",
       "\taccuracy of prior model: 1\n",
       "\trecent accuracy of prior model: 1\n",
       "\taccuracy after retraining: 1\n",
       "\n",
       " at [133:9]; JobID: 1026793852137:scheduled_query_67d6b0ea-0000-215d-a579-24058876f720</td>\n",
       "    </tr>\n",
       "    <tr>\n",
       "      <th id=\"T_9a7ba_level0_row29\" class=\"row_heading level0 row29\" >29</th>\n",
       "      <td id=\"T_9a7ba_row29_col0\" class=\"data row29 col0\" >2025-03-07 22:35:23.466018+00:00</td>\n",
       "      <td id=\"T_9a7ba_row29_col1\" class=\"data row29 col1\" ></td>\n",
       "    </tr>\n",
       "    <tr>\n",
       "      <th id=\"T_9a7ba_level0_row30\" class=\"row_heading level0 row30\" >30</th>\n",
       "      <td id=\"T_9a7ba_row30_col0\" class=\"data row30 col0\" >2025-03-08 22:36:44.026664+00:00</td>\n",
       "      <td id=\"T_9a7ba_row30_col1\" class=\"data row30 col1\" >Query error: \n",
       "\n",
       "Monitoring Report for 2025-03-08:\n",
       "\tNo drift detected.\n",
       "\tFound data skew (flipper_length_mm)\n",
       "The Model was retrained:\n",
       "\taccuracy of prior model: 1\n",
       "\trecent accuracy of prior model: 1\n",
       "\taccuracy after retraining: 1\n",
       "\n",
       " at [133:9]; JobID: 1026793852137:scheduled_query_67d829c4-0000-277b-8c3e-089e08324608</td>\n",
       "    </tr>\n",
       "  </tbody>\n",
       "</table>\n"
      ],
      "text/plain": [
       "<pandas.io.formats.style.Styler at 0x7ff41049a200>"
      ]
     },
     "execution_count": 109,
     "metadata": {},
     "output_type": "execute_result"
    }
   ],
   "source": [
    "pd.DataFrame(\n",
    "    {\n",
    "        'Date':[r.run_time for r in backfill_results],\n",
    "        'Result':[r.error_status.message for r in backfill_results]\n",
    "    }\n",
    ").style.set_properties(**{'text-align': 'left', 'white-space': 'pre-wrap'})"
   ]
  },
  {
   "cell_type": "markdown",
   "metadata": {},
   "source": [
    "---\n",
    "## More Resources\n",
    "\n",
    "Did you also check out the ['BigQuery ML (BQML) - Model Monitoring Introduction'](./bqml-model-monitoring-introduction.ipynb) for quick overview of model monitoring with BigQuery?  If not, try it out also. \n",
    "\n",
    "Read more about model monitoring in the documentation for the model monitoring functions:\n",
    "* [BigQuery ML Documentation](https://cloud.google.com/bigquery-ml/docs/)\n",
    "* [BigQuery ML Model Monitoring](https://cloud.google.com/bigquery/docs/model-monitoring-overview)\n",
    "    - [`ML.DESCRIBE_DATA`](https://cloud.google.com/bigquery/docs/reference/standard-sql/bigqueryml-syntax-describe-data)\n",
    "    - [`ML.VALIDATE_DATA_SKEW`](https://cloud.google.com/bigquery/docs/reference/standard-sql/bigqueryml-syntax-validate-data-skew)\n",
    "    - [`ML.VALIDATE_DATA_DRIFT`](https://cloud.google.com/bigquery/docs/reference/standard-sql/bigqueryml-syntax-validate-data-drift)\n",
    "    - [`ML.TFDV_DESCRIBE`](https://cloud.google.com/bigquery/docs/reference/standard-sql/bigqueryml-syntax-tfdv-describe)\n",
    "    - [`ML.TFDV_VALIDATE`](https://cloud.google.com/bigquery/docs/reference/standard-sql/bigqueryml-syntax-tfdv-validate)"
   ]
  },
  {
   "cell_type": "markdown",
   "metadata": {},
   "source": [
    "---\n",
    "## Remove Resources Created In This Notebook\n",
    "\n",
    "The content is contained within the BigQuery dataset named `bqml_model_monitoring` created above and Vertex AI (endpoint created above).\n",
    "\n",
    "The following will delete the Vertex AI and BigQuery resources created above and the BigQuery dataset if it is empty."
   ]
  },
  {
   "cell_type": "code",
   "execution_count": 145,
   "metadata": {
    "tags": []
   },
   "outputs": [],
   "source": [
    "# to remove resources change this flag to True:\n",
    "remove = False"
   ]
  },
  {
   "cell_type": "code",
   "execution_count": 148,
   "metadata": {},
   "outputs": [],
   "source": [
    "if remove:\n",
    "    # client for BigQuery\n",
    "    from google.cloud import bigquery\n",
    "    bq = bigquery.Client(project = 'statmike-mlops-349915')\n",
    "    \n",
    "    # delete BigQuery table(s) and model(s) created above\n",
    "    bq.delete_table('statmike-mlops-349915.bqml_model_monitoring.training_split')\n",
    "    bq.delete_table('statmike-mlops-349915.bqml_model_monitoring.serving')\n",
    "    bq.delete_table('statmike-mlops-349915.bqml_model_monitoring.serving_online')\n",
    "    bq.delete_table('statmike-mlops-349915.bqml_model_monitoring.serving_all')\n",
    "    bq.delete_model('statmike-mlops-349915.bqml_model_monitoring.classify_species_rf')\n",
    "    \n",
    "    # delete BigQuery dataset - fails if other content was in the dataset than what this notebook created\n",
    "    bq.delete_dataset('statmike-mlops-349915.bqml_model_monitoring', delete_contents = False)\n",
    "    \n",
    "    # delete the scheduled query\n",
    "    transfer_client.delete_transfer_config(\n",
    "        name = scheduled_query.name\n",
    "    )"
   ]
  }
 ],
 "metadata": {
  "colab": {
   "authorship_tag": "ABX9TyMy6GbowZC6hovxyAVQ0UWd",
   "provenance": []
  },
  "environment": {
   "kernel": "conda-base-py",
   "name": "workbench-notebooks.m125",
   "type": "gcloud",
   "uri": "us-docker.pkg.dev/deeplearning-platform-release/gcr.io/workbench-notebooks:m125"
  },
  "kernelspec": {
   "display_name": "Python 3 (ipykernel) (Local)",
   "language": "python",
   "name": "conda-base-py"
  },
  "language_info": {
   "codemirror_mode": {
    "name": "ipython",
    "version": 3
   },
   "file_extension": ".py",
   "mimetype": "text/x-python",
   "name": "python",
   "nbconvert_exporter": "python",
   "pygments_lexer": "ipython3",
   "version": "3.10.15"
  },
  "widgets": {
   "application/vnd.jupyter.widget-state+json": {
    "1109199e5b67477788dcf20b48558d41": {
     "model_module": "@jupyter-widgets/controls",
     "model_module_version": "1.5.0",
     "model_name": "HBoxModel",
     "state": {
      "_dom_classes": [],
      "_model_module": "@jupyter-widgets/controls",
      "_model_module_version": "1.5.0",
      "_model_name": "HBoxModel",
      "_view_count": null,
      "_view_module": "@jupyter-widgets/controls",
      "_view_module_version": "1.5.0",
      "_view_name": "HBoxView",
      "box_style": "",
      "children": [
       "IPY_MODEL_93f32edfd72e4a29ac69d2e202d6e14c",
       "IPY_MODEL_3da40e23ffbd47db8d1a250292255c32",
       "IPY_MODEL_bbd5c7d0941a458dbaee866da7e5366f"
      ],
      "layout": "IPY_MODEL_e2e3c77141c04fa7885bf4b4c0e314f4"
     }
    },
    "16d1acd4a3e94cf9bc3d683ff7eb1125": {
     "model_module": "@jupyter-widgets/base",
     "model_module_version": "1.2.0",
     "model_name": "LayoutModel",
     "state": {
      "_model_module": "@jupyter-widgets/base",
      "_model_module_version": "1.2.0",
      "_model_name": "LayoutModel",
      "_view_count": null,
      "_view_module": "@jupyter-widgets/base",
      "_view_module_version": "1.2.0",
      "_view_name": "LayoutView",
      "align_content": null,
      "align_items": null,
      "align_self": null,
      "border": null,
      "bottom": null,
      "display": null,
      "flex": null,
      "flex_flow": null,
      "grid_area": null,
      "grid_auto_columns": null,
      "grid_auto_flow": null,
      "grid_auto_rows": null,
      "grid_column": null,
      "grid_gap": null,
      "grid_row": null,
      "grid_template_areas": null,
      "grid_template_columns": null,
      "grid_template_rows": null,
      "height": null,
      "justify_content": null,
      "justify_items": null,
      "left": null,
      "margin": null,
      "max_height": null,
      "max_width": null,
      "min_height": null,
      "min_width": null,
      "object_fit": null,
      "object_position": null,
      "order": null,
      "overflow": null,
      "overflow_x": null,
      "overflow_y": null,
      "padding": null,
      "right": null,
      "top": null,
      "visibility": null,
      "width": null
     }
    },
    "1b76a7321f1e482e92b6725f5d120700": {
     "model_module": "@jupyter-widgets/base",
     "model_module_version": "1.2.0",
     "model_name": "LayoutModel",
     "state": {
      "_model_module": "@jupyter-widgets/base",
      "_model_module_version": "1.2.0",
      "_model_name": "LayoutModel",
      "_view_count": null,
      "_view_module": "@jupyter-widgets/base",
      "_view_module_version": "1.2.0",
      "_view_name": "LayoutView",
      "align_content": null,
      "align_items": null,
      "align_self": null,
      "border": null,
      "bottom": null,
      "display": null,
      "flex": null,
      "flex_flow": null,
      "grid_area": null,
      "grid_auto_columns": null,
      "grid_auto_flow": null,
      "grid_auto_rows": null,
      "grid_column": null,
      "grid_gap": null,
      "grid_row": null,
      "grid_template_areas": null,
      "grid_template_columns": null,
      "grid_template_rows": null,
      "height": null,
      "justify_content": null,
      "justify_items": null,
      "left": null,
      "margin": null,
      "max_height": null,
      "max_width": null,
      "min_height": null,
      "min_width": null,
      "object_fit": null,
      "object_position": null,
      "order": null,
      "overflow": null,
      "overflow_x": null,
      "overflow_y": null,
      "padding": null,
      "right": null,
      "top": null,
      "visibility": null,
      "width": null
     }
    },
    "2d65e5a9073f4b65b95c2c629255cac1": {
     "model_module": "@jupyter-widgets/controls",
     "model_module_version": "1.5.0",
     "model_name": "DescriptionStyleModel",
     "state": {
      "_model_module": "@jupyter-widgets/controls",
      "_model_module_version": "1.5.0",
      "_model_name": "DescriptionStyleModel",
      "_view_count": null,
      "_view_module": "@jupyter-widgets/base",
      "_view_module_version": "1.2.0",
      "_view_name": "StyleView",
      "description_width": ""
     }
    },
    "39a8f6a0c95342299729b62b7a818084": {
     "model_module": "@jupyter-widgets/base",
     "model_module_version": "1.2.0",
     "model_name": "LayoutModel",
     "state": {
      "_model_module": "@jupyter-widgets/base",
      "_model_module_version": "1.2.0",
      "_model_name": "LayoutModel",
      "_view_count": null,
      "_view_module": "@jupyter-widgets/base",
      "_view_module_version": "1.2.0",
      "_view_name": "LayoutView",
      "align_content": null,
      "align_items": null,
      "align_self": null,
      "border": null,
      "bottom": null,
      "display": null,
      "flex": null,
      "flex_flow": null,
      "grid_area": null,
      "grid_auto_columns": null,
      "grid_auto_flow": null,
      "grid_auto_rows": null,
      "grid_column": null,
      "grid_gap": null,
      "grid_row": null,
      "grid_template_areas": null,
      "grid_template_columns": null,
      "grid_template_rows": null,
      "height": null,
      "justify_content": null,
      "justify_items": null,
      "left": null,
      "margin": null,
      "max_height": null,
      "max_width": null,
      "min_height": null,
      "min_width": null,
      "object_fit": null,
      "object_position": null,
      "order": null,
      "overflow": null,
      "overflow_x": null,
      "overflow_y": null,
      "padding": null,
      "right": null,
      "top": null,
      "visibility": null,
      "width": null
     }
    },
    "3acd5dce7d1b4a84b1b5540ec8d37ed3": {
     "model_module": "@jupyter-widgets/controls",
     "model_module_version": "1.5.0",
     "model_name": "ProgressStyleModel",
     "state": {
      "_model_module": "@jupyter-widgets/controls",
      "_model_module_version": "1.5.0",
      "_model_name": "ProgressStyleModel",
      "_view_count": null,
      "_view_module": "@jupyter-widgets/base",
      "_view_module_version": "1.2.0",
      "_view_name": "StyleView",
      "bar_color": null,
      "description_width": ""
     }
    },
    "3da40e23ffbd47db8d1a250292255c32": {
     "model_module": "@jupyter-widgets/controls",
     "model_module_version": "1.5.0",
     "model_name": "FloatProgressModel",
     "state": {
      "_dom_classes": [],
      "_model_module": "@jupyter-widgets/controls",
      "_model_module_version": "1.5.0",
      "_model_name": "FloatProgressModel",
      "_view_count": null,
      "_view_module": "@jupyter-widgets/controls",
      "_view_module_version": "1.5.0",
      "_view_name": "ProgressView",
      "bar_style": "success",
      "description": "",
      "description_tooltip": null,
      "layout": "IPY_MODEL_1b76a7321f1e482e92b6725f5d120700",
      "max": 5,
      "min": 0,
      "orientation": "horizontal",
      "style": "IPY_MODEL_6827ef49075d48a1bb2582fb7fd52389",
      "value": 5
     }
    },
    "441b987af9044d1f9326f906d0f1d218": {
     "model_module": "@jupyter-widgets/controls",
     "model_module_version": "1.5.0",
     "model_name": "DescriptionStyleModel",
     "state": {
      "_model_module": "@jupyter-widgets/controls",
      "_model_module_version": "1.5.0",
      "_model_name": "DescriptionStyleModel",
      "_view_count": null,
      "_view_module": "@jupyter-widgets/base",
      "_view_module_version": "1.2.0",
      "_view_name": "StyleView",
      "description_width": ""
     }
    },
    "48543e1564664f73b553a0ae5bfb0843": {
     "model_module": "@jupyter-widgets/base",
     "model_module_version": "1.2.0",
     "model_name": "LayoutModel",
     "state": {
      "_model_module": "@jupyter-widgets/base",
      "_model_module_version": "1.2.0",
      "_model_name": "LayoutModel",
      "_view_count": null,
      "_view_module": "@jupyter-widgets/base",
      "_view_module_version": "1.2.0",
      "_view_name": "LayoutView",
      "align_content": null,
      "align_items": null,
      "align_self": null,
      "border": null,
      "bottom": null,
      "display": null,
      "flex": null,
      "flex_flow": null,
      "grid_area": null,
      "grid_auto_columns": null,
      "grid_auto_flow": null,
      "grid_auto_rows": null,
      "grid_column": null,
      "grid_gap": null,
      "grid_row": null,
      "grid_template_areas": null,
      "grid_template_columns": null,
      "grid_template_rows": null,
      "height": null,
      "justify_content": null,
      "justify_items": null,
      "left": null,
      "margin": null,
      "max_height": null,
      "max_width": null,
      "min_height": null,
      "min_width": null,
      "object_fit": null,
      "object_position": null,
      "order": null,
      "overflow": null,
      "overflow_x": null,
      "overflow_y": null,
      "padding": null,
      "right": null,
      "top": null,
      "visibility": null,
      "width": null
     }
    },
    "4e5a11ea456d49a8bd7563e9b2c35511": {
     "model_module": "@jupyter-widgets/controls",
     "model_module_version": "1.5.0",
     "model_name": "DescriptionStyleModel",
     "state": {
      "_model_module": "@jupyter-widgets/controls",
      "_model_module_version": "1.5.0",
      "_model_name": "DescriptionStyleModel",
      "_view_count": null,
      "_view_module": "@jupyter-widgets/base",
      "_view_module_version": "1.2.0",
      "_view_name": "StyleView",
      "description_width": ""
     }
    },
    "543a939bbf684e49ad83771418dfdd09": {
     "model_module": "@jupyter-widgets/base",
     "model_module_version": "1.2.0",
     "model_name": "LayoutModel",
     "state": {
      "_model_module": "@jupyter-widgets/base",
      "_model_module_version": "1.2.0",
      "_model_name": "LayoutModel",
      "_view_count": null,
      "_view_module": "@jupyter-widgets/base",
      "_view_module_version": "1.2.0",
      "_view_name": "LayoutView",
      "align_content": null,
      "align_items": null,
      "align_self": null,
      "border": null,
      "bottom": null,
      "display": null,
      "flex": null,
      "flex_flow": null,
      "grid_area": null,
      "grid_auto_columns": null,
      "grid_auto_flow": null,
      "grid_auto_rows": null,
      "grid_column": null,
      "grid_gap": null,
      "grid_row": null,
      "grid_template_areas": null,
      "grid_template_columns": null,
      "grid_template_rows": null,
      "height": null,
      "justify_content": null,
      "justify_items": null,
      "left": null,
      "margin": null,
      "max_height": null,
      "max_width": null,
      "min_height": null,
      "min_width": null,
      "object_fit": null,
      "object_position": null,
      "order": null,
      "overflow": null,
      "overflow_x": null,
      "overflow_y": null,
      "padding": null,
      "right": null,
      "top": null,
      "visibility": null,
      "width": null
     }
    },
    "549c9135cfbe467ebc3a60d6ad5750e6": {
     "model_module": "@jupyter-widgets/controls",
     "model_module_version": "1.5.0",
     "model_name": "HTMLModel",
     "state": {
      "_dom_classes": [],
      "_model_module": "@jupyter-widgets/controls",
      "_model_module_version": "1.5.0",
      "_model_name": "HTMLModel",
      "_view_count": null,
      "_view_module": "@jupyter-widgets/controls",
      "_view_module_version": "1.5.0",
      "_view_name": "HTMLView",
      "description": "",
      "description_tooltip": null,
      "layout": "IPY_MODEL_e0194e91019f4661a01322bbda67ac18",
      "placeholder": "​",
      "style": "IPY_MODEL_6b0ff87e15fd4ff684355a521e0f7a1f",
      "value": ""
     }
    },
    "5805c14443ec4d3ebf24ea8dda735a99": {
     "model_module": "@jupyter-widgets/base",
     "model_module_version": "1.2.0",
     "model_name": "LayoutModel",
     "state": {
      "_model_module": "@jupyter-widgets/base",
      "_model_module_version": "1.2.0",
      "_model_name": "LayoutModel",
      "_view_count": null,
      "_view_module": "@jupyter-widgets/base",
      "_view_module_version": "1.2.0",
      "_view_name": "LayoutView",
      "align_content": null,
      "align_items": null,
      "align_self": null,
      "border": null,
      "bottom": null,
      "display": null,
      "flex": null,
      "flex_flow": null,
      "grid_area": null,
      "grid_auto_columns": null,
      "grid_auto_flow": null,
      "grid_auto_rows": null,
      "grid_column": null,
      "grid_gap": null,
      "grid_row": null,
      "grid_template_areas": null,
      "grid_template_columns": null,
      "grid_template_rows": null,
      "height": null,
      "justify_content": null,
      "justify_items": null,
      "left": null,
      "margin": null,
      "max_height": null,
      "max_width": null,
      "min_height": null,
      "min_width": null,
      "object_fit": null,
      "object_position": null,
      "order": null,
      "overflow": null,
      "overflow_x": null,
      "overflow_y": null,
      "padding": null,
      "right": null,
      "top": null,
      "visibility": null,
      "width": null
     }
    },
    "6827ef49075d48a1bb2582fb7fd52389": {
     "model_module": "@jupyter-widgets/controls",
     "model_module_version": "1.5.0",
     "model_name": "ProgressStyleModel",
     "state": {
      "_model_module": "@jupyter-widgets/controls",
      "_model_module_version": "1.5.0",
      "_model_name": "ProgressStyleModel",
      "_view_count": null,
      "_view_module": "@jupyter-widgets/base",
      "_view_module_version": "1.2.0",
      "_view_name": "StyleView",
      "bar_color": null,
      "description_width": ""
     }
    },
    "6b0ff87e15fd4ff684355a521e0f7a1f": {
     "model_module": "@jupyter-widgets/controls",
     "model_module_version": "1.5.0",
     "model_name": "DescriptionStyleModel",
     "state": {
      "_model_module": "@jupyter-widgets/controls",
      "_model_module_version": "1.5.0",
      "_model_name": "DescriptionStyleModel",
      "_view_count": null,
      "_view_module": "@jupyter-widgets/base",
      "_view_module_version": "1.2.0",
      "_view_name": "StyleView",
      "description_width": ""
     }
    },
    "8930cc60223a4b56a70a17b1c5d03a93": {
     "model_module": "@jupyter-widgets/controls",
     "model_module_version": "1.5.0",
     "model_name": "FloatProgressModel",
     "state": {
      "_dom_classes": [],
      "_model_module": "@jupyter-widgets/controls",
      "_model_module_version": "1.5.0",
      "_model_name": "FloatProgressModel",
      "_view_count": null,
      "_view_module": "@jupyter-widgets/controls",
      "_view_module_version": "1.5.0",
      "_view_name": "ProgressView",
      "bar_style": "success",
      "description": "",
      "description_tooltip": null,
      "layout": "IPY_MODEL_48543e1564664f73b553a0ae5bfb0843",
      "max": 1,
      "min": 0,
      "orientation": "horizontal",
      "style": "IPY_MODEL_3acd5dce7d1b4a84b1b5540ec8d37ed3",
      "value": 1
     }
    },
    "93f32edfd72e4a29ac69d2e202d6e14c": {
     "model_module": "@jupyter-widgets/controls",
     "model_module_version": "1.5.0",
     "model_name": "HTMLModel",
     "state": {
      "_dom_classes": [],
      "_model_module": "@jupyter-widgets/controls",
      "_model_module_version": "1.5.0",
      "_model_name": "HTMLModel",
      "_view_count": null,
      "_view_module": "@jupyter-widgets/controls",
      "_view_module_version": "1.5.0",
      "_view_name": "HTMLView",
      "description": "",
      "description_tooltip": null,
      "layout": "IPY_MODEL_543a939bbf684e49ad83771418dfdd09",
      "placeholder": "​",
      "style": "IPY_MODEL_4e5a11ea456d49a8bd7563e9b2c35511",
      "value": "Downloading: 100%"
     }
    },
    "bbd5c7d0941a458dbaee866da7e5366f": {
     "model_module": "@jupyter-widgets/controls",
     "model_module_version": "1.5.0",
     "model_name": "HTMLModel",
     "state": {
      "_dom_classes": [],
      "_model_module": "@jupyter-widgets/controls",
      "_model_module_version": "1.5.0",
      "_model_name": "HTMLModel",
      "_view_count": null,
      "_view_module": "@jupyter-widgets/controls",
      "_view_module_version": "1.5.0",
      "_view_name": "HTMLView",
      "description": "",
      "description_tooltip": null,
      "layout": "IPY_MODEL_5805c14443ec4d3ebf24ea8dda735a99",
      "placeholder": "​",
      "style": "IPY_MODEL_441b987af9044d1f9326f906d0f1d218",
      "value": ""
     }
    },
    "c656f444dbc4405a915eaecde42707d5": {
     "model_module": "@jupyter-widgets/controls",
     "model_module_version": "1.5.0",
     "model_name": "HTMLModel",
     "state": {
      "_dom_classes": [],
      "_model_module": "@jupyter-widgets/controls",
      "_model_module_version": "1.5.0",
      "_model_name": "HTMLModel",
      "_view_count": null,
      "_view_module": "@jupyter-widgets/controls",
      "_view_module_version": "1.5.0",
      "_view_name": "HTMLView",
      "description": "",
      "description_tooltip": null,
      "layout": "IPY_MODEL_16d1acd4a3e94cf9bc3d683ff7eb1125",
      "placeholder": "​",
      "style": "IPY_MODEL_2d65e5a9073f4b65b95c2c629255cac1",
      "value": "Job ID a2f9486b-cfda-4aad-959b-b5485f8f5dd8 successfully executed: 100%"
     }
    },
    "ddb7ba0f48b24355b23492fcb1db5939": {
     "model_module": "@jupyter-widgets/controls",
     "model_module_version": "1.5.0",
     "model_name": "HBoxModel",
     "state": {
      "_dom_classes": [],
      "_model_module": "@jupyter-widgets/controls",
      "_model_module_version": "1.5.0",
      "_model_name": "HBoxModel",
      "_view_count": null,
      "_view_module": "@jupyter-widgets/controls",
      "_view_module_version": "1.5.0",
      "_view_name": "HBoxView",
      "box_style": "",
      "children": [
       "IPY_MODEL_c656f444dbc4405a915eaecde42707d5",
       "IPY_MODEL_8930cc60223a4b56a70a17b1c5d03a93",
       "IPY_MODEL_549c9135cfbe467ebc3a60d6ad5750e6"
      ],
      "layout": "IPY_MODEL_39a8f6a0c95342299729b62b7a818084"
     }
    },
    "e0194e91019f4661a01322bbda67ac18": {
     "model_module": "@jupyter-widgets/base",
     "model_module_version": "1.2.0",
     "model_name": "LayoutModel",
     "state": {
      "_model_module": "@jupyter-widgets/base",
      "_model_module_version": "1.2.0",
      "_model_name": "LayoutModel",
      "_view_count": null,
      "_view_module": "@jupyter-widgets/base",
      "_view_module_version": "1.2.0",
      "_view_name": "LayoutView",
      "align_content": null,
      "align_items": null,
      "align_self": null,
      "border": null,
      "bottom": null,
      "display": null,
      "flex": null,
      "flex_flow": null,
      "grid_area": null,
      "grid_auto_columns": null,
      "grid_auto_flow": null,
      "grid_auto_rows": null,
      "grid_column": null,
      "grid_gap": null,
      "grid_row": null,
      "grid_template_areas": null,
      "grid_template_columns": null,
      "grid_template_rows": null,
      "height": null,
      "justify_content": null,
      "justify_items": null,
      "left": null,
      "margin": null,
      "max_height": null,
      "max_width": null,
      "min_height": null,
      "min_width": null,
      "object_fit": null,
      "object_position": null,
      "order": null,
      "overflow": null,
      "overflow_x": null,
      "overflow_y": null,
      "padding": null,
      "right": null,
      "top": null,
      "visibility": null,
      "width": null
     }
    },
    "e2e3c77141c04fa7885bf4b4c0e314f4": {
     "model_module": "@jupyter-widgets/base",
     "model_module_version": "1.2.0",
     "model_name": "LayoutModel",
     "state": {
      "_model_module": "@jupyter-widgets/base",
      "_model_module_version": "1.2.0",
      "_model_name": "LayoutModel",
      "_view_count": null,
      "_view_module": "@jupyter-widgets/base",
      "_view_module_version": "1.2.0",
      "_view_name": "LayoutView",
      "align_content": null,
      "align_items": null,
      "align_self": null,
      "border": null,
      "bottom": null,
      "display": null,
      "flex": null,
      "flex_flow": null,
      "grid_area": null,
      "grid_auto_columns": null,
      "grid_auto_flow": null,
      "grid_auto_rows": null,
      "grid_column": null,
      "grid_gap": null,
      "grid_row": null,
      "grid_template_areas": null,
      "grid_template_columns": null,
      "grid_template_rows": null,
      "height": null,
      "justify_content": null,
      "justify_items": null,
      "left": null,
      "margin": null,
      "max_height": null,
      "max_width": null,
      "min_height": null,
      "min_width": null,
      "object_fit": null,
      "object_position": null,
      "order": null,
      "overflow": null,
      "overflow_x": null,
      "overflow_y": null,
      "padding": null,
      "right": null,
      "top": null,
      "visibility": null,
      "width": null
     }
    }
   }
  }
 },
 "nbformat": 4,
 "nbformat_minor": 4
}
